{
 "cells": [
  {
   "cell_type": "markdown",
   "id": "wound-aaron",
   "metadata": {},
   "source": [
    "# Calibration"
   ]
  },
  {
   "cell_type": "code",
   "execution_count": 15,
   "id": "serial-lebanon",
   "metadata": {},
   "outputs": [],
   "source": [
    "import numpy as np\n",
    "import pandas as pd\n",
    "import numpy as np\n",
    "from os.path import join\n",
    "import json\n",
    "\n",
    "import matplotlib.pyplot as plt\n",
    "from mpl_toolkits.axes_grid1 import make_axes_locatable\n",
    "import matplotlib.patches as patches\n",
    "\n",
    "# custom functions to run the calibration simulations\n",
    "import calibration_functions as cf\n",
    "\n",
    "# parallelisation functionality\n",
    "from multiprocess import Pool\n",
    "import psutil\n",
    "from tqdm import tqdm"
   ]
  },
  {
   "cell_type": "code",
   "execution_count": 7,
   "id": "eligible-kansas",
   "metadata": {},
   "outputs": [
    {
     "name": "stdout",
     "output_type": "stream",
     "text": [
      "calibration\t\t\t     sensitivity_analysis_old.zip\n",
      "contact_networks\t\t     sensitivity_analysis_prerevision.zip\n",
      "documents\t\t\t     sensitivity_analysis.zip\n",
      "intervention_measures_delta_old.zip  tables\n",
      "intervention_measures_delta.zip      vaccinations.zip\n",
      "intervention_measures_wild_type.zip  visualization\n",
      "plots\n"
     ]
    }
   ],
   "source": [
    "! ls ../../../COVID_schools/analysis/data"
   ]
  },
  {
   "cell_type": "code",
   "execution_count": 8,
   "id": "temporal-government",
   "metadata": {},
   "outputs": [],
   "source": [
    "empirical_data_src = '../../../COVID_schools/analysis/data/calibration/empirical_observations'\n",
    "\n",
    "# distribution of outbreak sizes by school type\n",
    "outbreak_sizes = pd.read_csv(\\\n",
    "            join(empirical_data_src, 'empirical_outbreak_sizes.csv'))\n",
    "# ratio of infections in the student and teacher groups\n",
    "group_distributions = pd.read_csv(\\\n",
    "            join(empirical_data_src, 'empirical_group_distributions.csv'))\n",
    "# ratio of index cases in the student and teacher groups\n",
    "agent_index_ratios = pd.read_csv(\\\n",
    "            join(empirical_data_src, 'empirical_index_case_ratios.csv'))\n",
    "agent_index_ratios.index = agent_index_ratios['school_type']\n",
    "# ratio of symptomatic cases in the student and teacher groups\n",
    "symptomatic_case_ratios = pd.read_csv(\\\n",
    "            join(empirical_data_src, 'empirical_symptomatic_case_ratios.csv'))"
   ]
  },
  {
   "cell_type": "code",
   "execution_count": 18,
   "id": "polish-title",
   "metadata": {},
   "outputs": [],
   "source": [
    "# note: these are the number of clusters per school type from the slightly older\n",
    "# data version (November 2020). For primary and lower secondary school types,\n",
    "# the counts are split evenly between schools with and without daycare. \n",
    "counts = pd.DataFrame({'type':['primary', 'primary_dc', \n",
    "                               'lower_secondary', 'lower_secondary_dc',\n",
    "                               'upper_secondary', 'secondary'],\n",
    "                      'count':[33.5, 33.5, 90, 90, 116, 70]})\n",
    "\n",
    "counts.index = counts['type']\n",
    "counts = counts.drop(columns=['type'])\n",
    "# The cluster counts are used to weigh the respective school type in the \n",
    "# calibration process.\n",
    "counts['weight'] = counts['count'] / counts['count'].sum()"
   ]
  },
  {
   "cell_type": "code",
   "execution_count": 10,
   "id": "rational-danger",
   "metadata": {},
   "outputs": [],
   "source": [
    "N_runs = 4000\n",
    "\n",
    "# school types over which the calibration us run\n",
    "school_types = ['upper_secondary', 'secondary']\n",
    "\n",
    "opt_contact_weight_coarse = 0.290\n",
    "\n",
    "# the contact weight is the modifier by which the base transmission risk (for\n",
    "# household transmissions) is multiplied for contacts of type \"intermediate\" \n",
    "# and of type \"far\". Parameter values are chosen around the optimum from the\n",
    "# previous random sampling search, passed to the script via the command line.\n",
    "contact_weights_fine = np.hstack([\n",
    "    np.arange(opt_contact_weight_coarse - 0.06, \n",
    "              opt_contact_weight_coarse, 0.01),\n",
    "    np.arange(opt_contact_weight_coarse, \n",
    "              opt_contact_weight_coarse + 0.061, 0.01)\n",
    "    ])\n",
    "\n",
    "# the age_transmission_discount sets the slope of the age-dependence of the \n",
    "# transmission risk. Transmission risk for adults (age 18+) is always base \n",
    "# transmission risk. For every year an agent is younger than 18 years, the\n",
    "# transmission risk is reduced. Parameter values are chosen around the optimum \n",
    "# from the previous random sampling search\n",
    "age_transmission_discounts_fine = [0.00, -0.0025, -0.005, -0.0075, -0.01,\n",
    "                                   -0.0125, -0.015, -0.0175, -0.02,\n",
    "                                   -0.0225, -0.025, -0.0275, -0.03]\n",
    "\n",
    "contact_weights_fine = np.asarray([round(i, 2) \\\n",
    "            for i in contact_weights_fine])\n",
    "\n",
    "# list of all possible parameter combinations from the grid\n",
    "screening_params = [(N_runs, i, j, j, k) for i in school_types \\\n",
    "                    for j in contact_weights_fine \\\n",
    "                    for k in age_transmission_discounts_fine]"
   ]
  },
  {
   "cell_type": "code",
   "execution_count": 16,
   "id": "abstract-publisher",
   "metadata": {},
   "outputs": [
    {
     "name": "stdout",
     "output_type": "stream",
     "text": [
      "0/338\n",
      "100/338\n",
      "200/338\n",
      "300/338\n"
     ]
    }
   ],
   "source": [
    "# calculate the various distribution distances between the simulated and\n",
    "# observed outbreak size distributions\n",
    "src = '../../../COVID_schools/analysis/data/calibration/simulation_results/ensembles_fine_ensemble_distributions'\n",
    "\n",
    "results_fine = pd.DataFrame()\n",
    "for i, ep in enumerate(screening_params):\n",
    "    _, school_type, icw, fcw, atd = ep\n",
    "    if i % 100 == 0:\n",
    "        print('{}/{}'.format(i, len(screening_params)))\n",
    "    fname = 'school_type-{}_icw-{:1.2f}_fcw-{:1.2f}_atd-{:1.4f}_infected.csv'\\\n",
    "        .format(school_type, icw, fcw, atd)\n",
    "    ensemble_results = pd.read_csv(join(src, fname), \n",
    "            dtype={'infected_students':int, 'infected_teachers':int,\n",
    "                   'infected_total':int, 'run':int})\n",
    "    row = cf.calculate_distances(ensemble_results, school_type, icw, fcw, atd,\n",
    "                       outbreak_sizes, group_distributions)\n",
    "    \n",
    "    results_fine = results_fine.append(row, ignore_index=True)"
   ]
  },
  {
   "cell_type": "code",
   "execution_count": 17,
   "id": "stretch-seating",
   "metadata": {},
   "outputs": [],
   "source": [
    "# collection of different distance metrics to try\n",
    "distance_cols = [\n",
    "    'sum_of_squares',\n",
    "    'chi2_distance',\n",
    "    'bhattacharyya_distance',\n",
    "    'spearmanr_difference',\n",
    "    'pearsonr_difference',\n",
    "    'pp_difference',\n",
    "    'qq_difference',\n",
    "]"
   ]
  },
  {
   "cell_type": "code",
   "execution_count": 19,
   "id": "neutral-camcorder",
   "metadata": {},
   "outputs": [],
   "source": [
    "results_fine = results_fine.sort_values(by=['school_type',\n",
    "                'intermediate_contact_weight', 'age_transmission_discount'])\n",
    "results_fine = results_fine.reset_index(drop=True)\n",
    "\n",
    "for col in distance_cols:\n",
    "    results_fine[col + '_total'] = results_fine[col + '_size'] + \\\n",
    "                    results_fine['sum_of_squares_distro']\n",
    "    results_fine[col + '_total_weighted'] = results_fine[col + '_total']\n",
    "    \n",
    "    for i, row in results_fine.iterrows():\n",
    "        st = row['school_type']\n",
    "        weight = counts.loc[st, 'weight']\n",
    "        error = row[col + '_total']\n",
    "        results_fine.loc[i, col + '_total_weighted'] = error * weight"
   ]
  },
  {
   "cell_type": "code",
   "execution_count": 20,
   "id": "shaped-there",
   "metadata": {},
   "outputs": [
    {
     "name": "stdout",
     "output_type": "stream",
     "text": [
      "sum_of_squares\n",
      "optimal grid search parameter combination:\n",
      "\t contact weight: 0.260\n",
      "\t age transmission discount: 0.0000\n",
      "\n",
      "chi2_distance\n",
      "optimal grid search parameter combination:\n",
      "\t contact weight: 0.260\n",
      "\t age transmission discount: 0.0000\n",
      "\n",
      "bhattacharyya_distance\n",
      "optimal grid search parameter combination:\n",
      "\t contact weight: 0.240\n",
      "\t age transmission discount: -0.0300\n",
      "\n",
      "spearmanr_difference\n",
      "optimal grid search parameter combination:\n",
      "\t contact weight: 0.230\n",
      "\t age transmission discount: -0.0075\n",
      "\n",
      "pearsonr_difference\n",
      "optimal grid search parameter combination:\n",
      "\t contact weight: 0.250\n",
      "\t age transmission discount: 0.0000\n",
      "\n",
      "pp_difference\n",
      "optimal grid search parameter combination:\n",
      "\t contact weight: 0.240\n",
      "\t age transmission discount: -0.0050\n",
      "\n",
      "qq_difference\n",
      "optimal grid search parameter combination:\n",
      "\t contact weight: 0.320\n",
      "\t age transmission discount: -0.0225\n",
      "\n"
     ]
    }
   ],
   "source": [
    "agg_results_fine = results_fine\\\n",
    "    .drop(columns=['far_contact_weight'])\\\n",
    "    .rename(columns={'intermediate_contact_weight':'contact_weight'})\\\n",
    "    .groupby(['contact_weight',\n",
    "              'age_transmission_discount'])\\\n",
    "    .sum()\n",
    "\n",
    "for col in distance_cols:\n",
    "    print(col)\n",
    "    opt_fine = agg_results_fine.loc[\\\n",
    "            agg_results_fine[col + '_total_weighted'].idxmin()].name\n",
    "    opt_contact_weight_fine = opt_fine[0]\n",
    "    opt_age_transmission_discount_fine = opt_fine[1]\n",
    "\n",
    "    print('optimal grid search parameter combination:')\n",
    "    print('\\t contact weight: {:1.3f}'\\\n",
    "          .format(opt_contact_weight_fine))\n",
    "    print('\\t age transmission discount: {:1.4f}'\\\n",
    "          .format(opt_age_transmission_discount_fine))\n",
    "    print()"
   ]
  },
  {
   "cell_type": "code",
   "execution_count": 21,
   "id": "hundred-supplier",
   "metadata": {},
   "outputs": [],
   "source": [
    "# compose matrices of the distance measurements for all different distance\n",
    "# metrics which are calculated as sum between the first component (ratio of\n",
    "# infected students and teachers) and the second component (outbreak size\n",
    "# distribution)\n",
    "distance_images = {}\n",
    "for col in distance_cols:\n",
    "    img_fine = np.zeros((len(contact_weights_fine),\n",
    "                    len(age_transmission_discounts_fine)))\n",
    "    for i, cw in enumerate(contact_weights_fine):\n",
    "        for j, atd in enumerate(age_transmission_discounts_fine):\n",
    "            cw = round(cw, 2)\n",
    "            atd = round(atd, 4)\n",
    "            try:\n",
    "                img_fine[i, j] = agg_results_fine\\\n",
    "                    .loc[cw, atd][col + '_total_weighted']\n",
    "            except KeyError:\n",
    "                print(atd)\n",
    "                img_fine[i, j] = np.nan\n",
    "    distance_images[col] = img_fine"
   ]
  },
  {
   "cell_type": "code",
   "execution_count": 24,
   "id": "cognitive-drink",
   "metadata": {},
   "outputs": [],
   "source": [
    "# qq and spearman are super noisy, exclude them for further analysis\n",
    "distance_col_names = {\n",
    "    'sum_of_squares':'Sum of squares',\n",
    "    'chi2_distance':'$\\\\chi^2$',\n",
    "    'bhattacharyya_distance':'Bhattacharyya',\n",
    "    'spearmanr_difference': 'Spearman correlation',\n",
    "    'pearsonr_difference':'Pearson correlation',\n",
    "    'pp_difference':'pp-slope',\n",
    "    'qq_difference':'qq-slope'\n",
    "}"
   ]
  },
  {
   "cell_type": "code",
   "execution_count": 26,
   "id": "downtown-manchester",
   "metadata": {},
   "outputs": [
    {
     "data": {
      "image/png": "[encoded data removed]",
      "text/plain": [
       "<Figure size 1080x432 with 15 Axes>"
      ]
     },
     "metadata": {
      "needs_background": "light"
     },
     "output_type": "display_data"
    }
   ],
   "source": [
    "fig, axes = plt.subplots(2, 4, figsize=(15, 6))\n",
    "\n",
    "for ax, col in zip(axes.flatten(), distance_col_names.keys()):\n",
    "    img_fine = distance_images[col]\n",
    "    im = ax.imshow(img_fine)\n",
    "    ax.set_yticks(range(len(contact_weights_fine))[::2])\n",
    "    ax.set_yticklabels(['{:1.2f}'.format(cw) for \\\n",
    "                        cw in contact_weights_fine[::2]])\n",
    "    #ax.set_xticks(range(len(age_transmission_discounts_fine))[::2])\n",
    "    ax.set_xticks([0, 4, 8, 12])\n",
    "    ax.set_xticklabels(['0.00', '-0.01', '-0.02', '-0.03'])\n",
    "    #ax.set_xticklabels(['{:1.4f}'.format(atd) for \\\n",
    "    #                    atd in age_transmission_discounts_fine[::2]],\n",
    "    #                    fontsize=8)\n",
    "    ax.set_title(distance_col_names[col], fontsize=16)\n",
    "\n",
    "    divider = make_axes_locatable(ax)\n",
    "    cax = divider.append_axes('right', size='5%', pad=0.05)\n",
    "    cbar = fig.colorbar(im, cax=cax, orientation='vertical', format='%.0e')\n",
    "    cbar.ax.tick_params(labelsize=8)\n",
    "    cbar.set_label('$E$', fontsize=12)\n",
    "\n",
    "    ax.spines['right'].set_visible(False)\n",
    "    ax.spines['top'].set_visible(False)\n",
    "\n",
    "    ax.set_ylabel('$c_\\\\mathrm{contact}$', fontsize=16)\n",
    "    ax.set_xlabel('$c_\\\\mathrm{age}$', fontsize=16)\n",
    "\n",
    "axes[1, 3].axis('off')\n",
    "\n",
    "fig.text(0.061, 0.875, 'A', color='w', fontsize=20)\n",
    "fig.text(0.312, 0.875, 'B', color='w', fontsize=20)\n",
    "fig.text(0.56, 0.875, 'C', color='w', fontsize=20)\n",
    "fig.text(0.808, 0.875, 'D', color='w', fontsize=20)\n",
    "fig.text(0.061, 0.395, 'E', color='w', fontsize=20)\n",
    "fig.text(0.312, 0.395, 'F', color='w', fontsize=20)\n",
    "fig.text(0.56, 0.395, 'G', color='w', fontsize=20)\n",
    "\n",
    "fig.tight_layout()\n",
    "#plt.savefig('../../data/plots/calibration/distances_heatmap.pdf')"
   ]
  },
  {
   "cell_type": "code",
   "execution_count": null,
   "id": "egyptian-groove",
   "metadata": {},
   "outputs": [],
   "source": []
  }
 ],
 "metadata": {
  "kernelspec": {
   "display_name": "Python 3",
   "language": "python",
   "name": "python3"
  },
  "language_info": {
   "codemirror_mode": {
    "name": "ipython",
    "version": 3
   },
   "file_extension": ".py",
   "mimetype": "text/x-python",
   "name": "python",
   "nbconvert_exporter": "python",
   "pygments_lexer": "ipython3",
   "version": "3.8.8"
  }
 },
 "nbformat": 4,
 "nbformat_minor": 5
}
