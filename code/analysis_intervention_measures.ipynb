{
 "cells": [
  {
   "cell_type": "markdown",
   "id": "sexual-columbus",
   "metadata": {},
   "source": [
    "# Analysis of intervention measures"
   ]
  },
  {
   "cell_type": "code",
   "execution_count": 21,
   "id": "unlikely-scheduling",
   "metadata": {},
   "outputs": [],
   "source": [
    "import pandas as pd\n",
    "import matplotlib.pyplot as plt\n",
    "from os.path import join\n",
    "from os import listdir\n",
    "import numpy as np\n",
    "import seaborn as sns"
   ]
  },
  {
   "cell_type": "code",
   "execution_count": 2,
   "id": "cognitive-system",
   "metadata": {},
   "outputs": [],
   "source": [
    "src = '../data/simulation_results/ensembles'"
   ]
  },
  {
   "cell_type": "code",
   "execution_count": 81,
   "id": "accurate-integrity",
   "metadata": {},
   "outputs": [],
   "source": [
    "results = pd.DataFrame()\n",
    "\n",
    "for f in listdir(src):\n",
    "    tmp = pd.read_csv(join(src, f))\n",
    "    results = pd.concat([results, tmp])\n",
    "    \n",
    "results = results.reset_index(drop=True)\n",
    "# subtract the index case\n",
    "results['infected_agents'] = results['infected_agents'] - 1\n",
    "results['Höhrsaalbelegung'] = results['presence_fraction'] * 100\n",
    "results['Höhrsaalbelegung'] = results['Höhrsaalbelegung'].astype(int)\n",
    "results['Höhrsaalbelegung'] = results['Höhrsaalbelegung'].apply(lambda x: '{}%'.format(x))\n",
    "results = results.set_index(['unistudent_mask', 'lecturer_mask', 'presence_fraction'])"
   ]
  },
  {
   "cell_type": "code",
   "execution_count": 82,
   "id": "virtual-sigma",
   "metadata": {},
   "outputs": [],
   "source": [
    "results['scenario'] = np.nan\n",
    "results.loc[(0, 0, slice(None)), 'scenario'] = 'keine Masken'\n",
    "results.loc[(1, 1, slice(None)), 'scenario'] = 'alle Masken'\n",
    "results.loc[(1, 0, slice(None)), 'scenario'] = 'nur Studierende Masken'\n",
    "results.loc[(0, 1, slice(None)), 'scenario'] = 'nur Lehrende Masken'\n",
    "results = results.reset_index()"
   ]
  },
  {
   "cell_type": "code",
   "execution_count": 113,
   "id": "cellular-helping",
   "metadata": {},
   "outputs": [
    {
     "data": {
      "image/png": "[encoded data removed]",
      "text/plain": [
       "<Figure size 648x360 with 1 Axes>"
      ]
     },
     "metadata": {
      "needs_background": "light"
     },
     "output_type": "display_data"
    }
   ],
   "source": [
    "import matplotlib.patches as mpatches\n",
    "green = '#229954'\n",
    "blue = '#2471A3'\n",
    "grey = '#7F8C8D'\n",
    "\n",
    "plt.rcParams['hatch.linewidth'] = 3\n",
    "order = ['keine Masken', 'nur Lehrende Masken', 'nur Studierende Masken', 'alle Masken']\n",
    "g = sns.catplot(x='scenario', y='infected_agents',\n",
    "                hue='Höhrsaalbelegung', data=results, kind=\"bar\", aspect=1.8,\n",
    "                order=order, legend=False, palette=[grey, green, green])\n",
    "ax = g.axes[0][0]\n",
    "ax.set_ylabel('mittlere Anzahl Folgefälle', fontsize=20)\n",
    "ax.set_xlabel('')\n",
    "ax.set_yticks([0, 0.1, 0.2, 0.3, 0.4])\n",
    "ax.set_yticklabels([0, 0.1, 0.2, 0.3, 0.4], fontsize=16)\n",
    "ax.set_xticklabels(['keine\\nMasken', 'nur Lehrende\\nMasken', \n",
    "                    'nur Studierende\\nMasken', 'alle\\nMasken'], fontsize=16)\n",
    "\n",
    "for i in [4, 5, 6, 7]:\n",
    "    bar = ax.patches[i]\n",
    "    hatch = '///'\n",
    "    bar.set_hatch(hatch)\n",
    "    bar.set_edgecolor(blue)\n",
    "    \n",
    "patch1 = mpatches.Patch(facecolor=grey,label='100%')\n",
    "patch2 = mpatches.Patch(facecolor=green, hatch='\\\\\\\\',label='50%', edgecolor=blue)\n",
    "patch3 = mpatches.Patch(facecolor=green, label='25%')\n",
    "\n",
    "legend = ax.legend(handles = [patch1, patch2, patch3], loc=1, fontsize=16, \n",
    "          title='Höhrsaalbelegung', handlelength=4)\n",
    "plt.setp(legend.get_title(),fontsize=16);"
   ]
  },
  {
   "cell_type": "code",
   "execution_count": 84,
   "id": "possible-sheep",
   "metadata": {},
   "outputs": [],
   "source": [
    "results = results.set_index(['unistudent_mask', 'lecturer_mask', 'presence_fraction'])"
   ]
  },
  {
   "cell_type": "code",
   "execution_count": 91,
   "id": "consolidated-hospital",
   "metadata": {},
   "outputs": [
    {
     "name": "stderr",
     "output_type": "stream",
     "text": [
      "<ipython-input-91-21b990a76895>:1: PerformanceWarning: indexing past lexsort depth may impact performance.\n",
      "  results.loc[0, 0, 1]['infected_agents'].quantile(0.90)\n"
     ]
    },
    {
     "data": {
      "text/plain": [
       "1.0"
      ]
     },
     "execution_count": 91,
     "metadata": {},
     "output_type": "execute_result"
    }
   ],
   "source": [
    "results.loc[0, 0, 1]['infected_agents'].quantile(0.90)"
   ]
  },
  {
   "cell_type": "code",
   "execution_count": 89,
   "id": "instant-portsmouth",
   "metadata": {},
   "outputs": [
    {
     "name": "stderr",
     "output_type": "stream",
     "text": [
      "<ipython-input-89-7f606fa50f44>:1: PerformanceWarning: indexing past lexsort depth may impact performance.\n",
      "  results.loc[0, 0, 1]['infected_agents'].quantile(0.99)\n"
     ]
    },
    {
     "data": {
      "text/plain": [
       "6.0"
      ]
     },
     "execution_count": 89,
     "metadata": {},
     "output_type": "execute_result"
    }
   ],
   "source": [
    "results.loc[0, 0, 1]['infected_agents'].quantile(0.99)"
   ]
  },
  {
   "cell_type": "code",
   "execution_count": 90,
   "id": "legitimate-literature",
   "metadata": {},
   "outputs": [
    {
     "name": "stderr",
     "output_type": "stream",
     "text": [
      "<ipython-input-90-bcc560fe58f8>:1: PerformanceWarning: indexing past lexsort depth may impact performance.\n",
      "  results.loc[0, 0, 1]['infected_agents'].max()\n"
     ]
    },
    {
     "data": {
      "text/plain": [
       "36.0"
      ]
     },
     "execution_count": 90,
     "metadata": {},
     "output_type": "execute_result"
    }
   ],
   "source": [
    "results.loc[0, 0, 1]['infected_agents'].max()"
   ]
  },
  {
   "cell_type": "code",
   "execution_count": 92,
   "id": "ahead-engagement",
   "metadata": {},
   "outputs": [
    {
     "name": "stderr",
     "output_type": "stream",
     "text": [
      "<ipython-input-92-eb7530ddb6cc>:2: PerformanceWarning: indexing past lexsort depth may impact performance.\n",
      "  ax.hist(results.loc[0, 0, 1]['infected_agents'], bins=range(0, 20, 2), rwidth=0.8)\n"
     ]
    },
    {
     "data": {
      "text/plain": [
       "(array([4.682e+03, 1.900e+02, 6.400e+01, 2.500e+01, 1.400e+01, 9.000e+00,\n",
       "        5.000e+00, 3.000e+00, 1.000e+00]),\n",
       " array([ 0,  2,  4,  6,  8, 10, 12, 14, 16, 18]),\n",
       " <BarContainer object of 9 artists>)"
      ]
     },
     "execution_count": 92,
     "metadata": {},
     "output_type": "execute_result"
    },
    {
     "data": {
      "image/png": "[encoded data removed]",
      "text/plain": [
       "<Figure size 432x288 with 1 Axes>"
      ]
     },
     "metadata": {
      "needs_background": "light"
     },
     "output_type": "display_data"
    }
   ],
   "source": [
    "fig, ax = plt.subplots()\n",
    "ax.hist(results.loc[0, 0, 1]['infected_agents'], bins=range(0, 20, 2), rwidth=0.8)"
   ]
  },
  {
   "cell_type": "code",
   "execution_count": null,
   "id": "breeding-mixture",
   "metadata": {},
   "outputs": [],
   "source": []
  }
 ],
 "metadata": {
  "kernelspec": {
   "display_name": "Python 3",
   "language": "python",
   "name": "python3"
  },
  "language_info": {
   "codemirror_mode": {
    "name": "ipython",
    "version": 3
   },
   "file_extension": ".py",
   "mimetype": "text/x-python",
   "name": "python",
   "nbconvert_exporter": "python",
   "pygments_lexer": "ipython3",
   "version": "3.8.8"
  }
 },
 "nbformat": 4,
 "nbformat_minor": 5
}
