{
 "cells": [
  {
   "cell_type": "markdown",
   "id": "medium-separation",
   "metadata": {},
   "source": [
    "# Analysis of intervention measures"
   ]
  },
  {
   "cell_type": "code",
   "execution_count": 7,
   "id": "naval-treat",
   "metadata": {},
   "outputs": [],
   "source": [
    "import pandas as pd\n",
    "import matplotlib.pyplot as plt\n",
    "import matplotlib.patches as mpatches\n",
    "from os.path import join\n",
    "from os import listdir\n",
    "import numpy as np\n",
    "import seaborn as sns"
   ]
  },
  {
   "cell_type": "markdown",
   "id": "conscious-opportunity",
   "metadata": {},
   "source": [
    "## Intervention measures"
   ]
  },
  {
   "cell_type": "code",
   "execution_count": 32,
   "id": "graduate-neutral",
   "metadata": {},
   "outputs": [],
   "source": [
    "src = '../data/simulation_results/ensembles_intervention_measures'\n",
    "\n",
    "results = pd.DataFrame()\n",
    "for f in listdir(src):\n",
    "    tmp = pd.read_csv(join(src, f))\n",
    "    results = pd.concat([results, tmp])\n",
    "    \n",
    "results = results.reset_index(drop=True)\n",
    "# subtract the index case\n",
    "results['infected_agents'] = results['infected_agents'] - 1\n",
    "results['occupancy'] = results['presence_fraction'] * 100\n",
    "results['occupancy'] = results['occupancy'].astype(int)\n",
    "results['occupancy'] = results['occupancy'].apply(lambda x: '{}%'.format(x))\n",
    "results = results.set_index(['unistudent_mask', 'lecturer_mask', 'presence_fraction'])"
   ]
  },
  {
   "cell_type": "code",
   "execution_count": 33,
   "id": "solid-millennium",
   "metadata": {},
   "outputs": [
    {
     "name": "stdout",
     "output_type": "stream",
     "text": [
      "91.8% of index cases to not lead to an outbreak\n"
     ]
    }
   ],
   "source": [
    "print('{:1.1f}% of index cases to not lead to an outbreak'\\\n",
    "      .format(len(results[results['infected_agents'] == 0]) / len(results) * 100))"
   ]
  },
  {
   "cell_type": "code",
   "execution_count": 34,
   "id": "devoted-cooperation",
   "metadata": {},
   "outputs": [],
   "source": [
    "results['scenario'] = np.nan\n",
    "results.loc[(0, 0, slice(None)), 'scenario'] = 'no masks'\n",
    "results.loc[(1, 1, slice(None)), 'scenario'] = 'universal masks'\n",
    "results.loc[(1, 0, slice(None)), 'scenario'] = 'masks students'\n",
    "results.loc[(0, 1, slice(None)), 'scenario'] = 'masks faculty'\n",
    "results = results.reset_index()"
   ]
  },
  {
   "cell_type": "code",
   "execution_count": 41,
   "id": "raised-monroe",
   "metadata": {},
   "outputs": [
    {
     "data": {
      "image/png": "[encoded data removed]",
      "text/plain": [
       "<Figure size 1080x360 with 1 Axes>"
      ]
     },
     "metadata": {
      "needs_background": "light"
     },
     "output_type": "display_data"
    }
   ],
   "source": [
    "green = '#229954'\n",
    "blue = '#2471A3'\n",
    "grey = '#7F8C8D'\n",
    "\n",
    "plt.rcParams['hatch.linewidth'] = 3\n",
    "order = ['no masks', 'masks faculty', 'masks students', 'universal masks']\n",
    "hue_order = ['100%', '50%', '25%']\n",
    "vacc_ratio = 0.8\n",
    "subset = results[results['unistudent_vaccination_ratio'] == vacc_ratio]\n",
    "g = sns.catplot(x='scenario', y='infected_agents',\n",
    "                hue='occupancy', data=subset, kind=\"bar\", aspect=3,\n",
    "                order=order, legend=False, palette=['w', 'w', 'w'],\n",
    "                row='unistudent_vaccination_ratio', hue_order=hue_order)\n",
    "\n",
    "ax = g.axes[0][0]\n",
    "#ax.set_title('vaccination coverage {:1.0f}%'.format(vacc_ratio * 100), fontsize=24)\n",
    "ax.set_title('')\n",
    "ax.set_ylabel('mean outbreak size - 1', fontsize=20)\n",
    "ax.set_xlabel('')\n",
    "ax.set_yticks([0, 0.1, 0.2, 0.3, 0.4])\n",
    "ax.set_yticklabels([0, 0.1, 0.2, 0.3, 0.4], fontsize=16)\n",
    "ax.set_xticklabels(['no\\nmasks', 'masks\\nfaculty', \n",
    "                    'masks\\nstudents', 'universal\\nmasks'], fontsize=16)\n",
    "\n",
    "for i in [0, 1, 2, 3]:\n",
    "    bar = ax.patches[i]\n",
    "    #hatch = '.'\n",
    "    #bar.set_hatch(hatch)\n",
    "    bar.set_edgecolor('k')\n",
    "\n",
    "for i in [4, 5, 6, 7]:\n",
    "    bar = ax.patches[i]\n",
    "    hatch = '/'\n",
    "    bar.set_hatch(hatch)\n",
    "    bar.set_edgecolor('k')\n",
    "    \n",
    "for i in [8, 9, 10, 11]:\n",
    "    bar = ax.patches[i]\n",
    "    hatch = '.'\n",
    "    bar.set_hatch(hatch)\n",
    "    bar.set_edgecolor('k')\n",
    "\n",
    "patch1 = mpatches.Patch(facecolor='w', label='100%', edgecolor='k')\n",
    "patch2 = mpatches.Patch(facecolor='w', hatch='/', label='50%', edgecolor='k')\n",
    "patch3 = mpatches.Patch(facecolor='w', hatch='.', label='25%', edgecolor='k')\n",
    "\n",
    "legend = ax.legend(handles = [patch1, patch2, patch3], loc=1, fontsize=16, \n",
    "          title='occupancy', handlelength=4)\n",
    "plt.setp(legend.get_title(),fontsize=16)\n",
    "plt.tight_layout()\n",
    "plt.savefig('../plots/outbreak_size.png', dpi=300)\n",
    "plt.savefig('../plots/outbreak_size.pdf')\n",
    "plt.savefig('../plots/outbreak_size.svg')"
   ]
  },
  {
   "cell_type": "code",
   "execution_count": 44,
   "id": "higher-cement",
   "metadata": {},
   "outputs": [],
   "source": [
    "results = results.set_index(['unistudent_mask', 'lecturer_mask', \n",
    "                             'presence_fraction', 'unistudent_vaccination_ratio'])"
   ]
  },
  {
   "cell_type": "markdown",
   "id": "verified-melbourne",
   "metadata": {},
   "source": [
    "### 80% vaccination coverage"
   ]
  },
  {
   "cell_type": "markdown",
   "id": "piano-frost",
   "metadata": {},
   "source": [
    "#### 100% occupancy"
   ]
  },
  {
   "cell_type": "code",
   "execution_count": 56,
   "id": "naked-whale",
   "metadata": {},
   "outputs": [
    {
     "name": "stderr",
     "output_type": "stream",
     "text": [
      "<ipython-input-56-9b738dc11118>:1: PerformanceWarning: indexing past lexsort depth may impact performance.\n",
      "  results.loc[0, 0, 1, 0.8]['R0'].mean()\n"
     ]
    },
    {
     "data": {
      "text/plain": [
       "0.1924"
      ]
     },
     "execution_count": 56,
     "metadata": {},
     "output_type": "execute_result"
    }
   ],
   "source": [
    "results.loc[0, 0, 1, 0.8]['R0'].mean()"
   ]
  },
  {
   "cell_type": "code",
   "execution_count": 57,
   "id": "stupid-prince",
   "metadata": {},
   "outputs": [
    {
     "name": "stderr",
     "output_type": "stream",
     "text": [
      "<ipython-input-57-0a33d1341c4e>:1: PerformanceWarning: indexing past lexsort depth may impact performance.\n",
      "  results.loc[0, 0, 1, 0.8]['R0'].quantile(0.025)\n"
     ]
    },
    {
     "data": {
      "text/plain": [
       "0.0"
      ]
     },
     "execution_count": 57,
     "metadata": {},
     "output_type": "execute_result"
    }
   ],
   "source": [
    "results.loc[0, 0, 1, 0.8]['R0'].quantile(0.025)"
   ]
  },
  {
   "cell_type": "code",
   "execution_count": 58,
   "id": "sunset-brief",
   "metadata": {},
   "outputs": [
    {
     "name": "stderr",
     "output_type": "stream",
     "text": [
      "<ipython-input-58-e8cc3c59df47>:1: PerformanceWarning: indexing past lexsort depth may impact performance.\n",
      "  results.loc[0, 0, 1, 0.8]['R0'].quantile(0.975)\n"
     ]
    },
    {
     "data": {
      "text/plain": [
       "2.0"
      ]
     },
     "execution_count": 58,
     "metadata": {},
     "output_type": "execute_result"
    }
   ],
   "source": [
    "results.loc[0, 0, 1, 0.8]['R0'].quantile(0.975)"
   ]
  },
  {
   "cell_type": "code",
   "execution_count": 45,
   "id": "structured-report",
   "metadata": {},
   "outputs": [
    {
     "name": "stderr",
     "output_type": "stream",
     "text": [
      "<ipython-input-45-542f45b1c0f0>:1: PerformanceWarning: indexing past lexsort depth may impact performance.\n",
      "  results.loc[0, 0, 1, 0.8]['infected_agents'].mean()\n"
     ]
    },
    {
     "data": {
      "text/plain": [
       "0.3452"
      ]
     },
     "execution_count": 45,
     "metadata": {},
     "output_type": "execute_result"
    }
   ],
   "source": [
    "results.loc[0, 0, 1, 0.8]['infected_agents'].mean()"
   ]
  },
  {
   "cell_type": "code",
   "execution_count": 50,
   "id": "turned-caribbean",
   "metadata": {},
   "outputs": [
    {
     "name": "stderr",
     "output_type": "stream",
     "text": [
      "<ipython-input-50-144054a9ef58>:1: PerformanceWarning: indexing past lexsort depth may impact performance.\n",
      "  results.loc[0, 0, 1, 0.8]['infected_agents'].quantile(0.025)\n"
     ]
    },
    {
     "data": {
      "text/plain": [
       "0.0"
      ]
     },
     "execution_count": 50,
     "metadata": {},
     "output_type": "execute_result"
    }
   ],
   "source": [
    "results.loc[0, 0, 1, 0.8]['infected_agents'].quantile(0.025)"
   ]
  },
  {
   "cell_type": "code",
   "execution_count": 46,
   "id": "placed-coral",
   "metadata": {},
   "outputs": [
    {
     "name": "stderr",
     "output_type": "stream",
     "text": [
      "<ipython-input-46-e1852cf0eaa0>:1: PerformanceWarning: indexing past lexsort depth may impact performance.\n",
      "  results.loc[0, 0, 1, 0.8]['infected_agents'].quantile(0.90)\n"
     ]
    },
    {
     "data": {
      "text/plain": [
       "1.0"
      ]
     },
     "execution_count": 46,
     "metadata": {},
     "output_type": "execute_result"
    }
   ],
   "source": [
    "results.loc[0, 0, 1, 0.8]['infected_agents'].quantile(0.90)"
   ]
  },
  {
   "cell_type": "code",
   "execution_count": 49,
   "id": "diagnostic-conclusion",
   "metadata": {},
   "outputs": [
    {
     "name": "stderr",
     "output_type": "stream",
     "text": [
      "<ipython-input-49-ad5d2611794f>:1: PerformanceWarning: indexing past lexsort depth may impact performance.\n",
      "  results.loc[0, 0, 1, 0.8]['infected_agents'].quantile(0.975)\n"
     ]
    },
    {
     "data": {
      "text/plain": [
       "3.0"
      ]
     },
     "execution_count": 49,
     "metadata": {},
     "output_type": "execute_result"
    }
   ],
   "source": [
    "results.loc[0, 0, 1, 0.8]['infected_agents'].quantile(0.975)"
   ]
  },
  {
   "cell_type": "code",
   "execution_count": 47,
   "id": "gentle-slovakia",
   "metadata": {},
   "outputs": [
    {
     "name": "stderr",
     "output_type": "stream",
     "text": [
      "<ipython-input-47-9a49b9936fb5>:1: PerformanceWarning: indexing past lexsort depth may impact performance.\n",
      "  results.loc[0, 0, 1, 0.8]['infected_agents'].quantile(0.99)\n"
     ]
    },
    {
     "data": {
      "text/plain": [
       "6.0"
      ]
     },
     "execution_count": 47,
     "metadata": {},
     "output_type": "execute_result"
    }
   ],
   "source": [
    "results.loc[0, 0, 1, 0.8]['infected_agents'].quantile(0.99)"
   ]
  },
  {
   "cell_type": "code",
   "execution_count": 48,
   "id": "lasting-faculty",
   "metadata": {},
   "outputs": [
    {
     "name": "stderr",
     "output_type": "stream",
     "text": [
      "<ipython-input-48-35c28ba601dc>:1: PerformanceWarning: indexing past lexsort depth may impact performance.\n",
      "  results.loc[0, 0, 1, 0.8]['infected_agents'].max()\n"
     ]
    },
    {
     "data": {
      "text/plain": [
       "36.0"
      ]
     },
     "execution_count": 48,
     "metadata": {},
     "output_type": "execute_result"
    }
   ],
   "source": [
    "results.loc[0, 0, 1, 0.8]['infected_agents'].max()"
   ]
  },
  {
   "cell_type": "markdown",
   "id": "enhanced-installation",
   "metadata": {},
   "source": [
    "#### 100% occupancy & masks"
   ]
  },
  {
   "cell_type": "code",
   "execution_count": 51,
   "id": "adolescent-train",
   "metadata": {},
   "outputs": [
    {
     "name": "stderr",
     "output_type": "stream",
     "text": [
      "<ipython-input-51-e4b011ee39ea>:1: PerformanceWarning: indexing past lexsort depth may impact performance.\n",
      "  results.loc[1, 1, 1, 0.8]['infected_agents'].mean()\n"
     ]
    },
    {
     "data": {
      "text/plain": [
       "0.077"
      ]
     },
     "execution_count": 51,
     "metadata": {},
     "output_type": "execute_result"
    }
   ],
   "source": [
    "results.loc[1, 1, 1, 0.8]['infected_agents'].mean()"
   ]
  },
  {
   "cell_type": "code",
   "execution_count": 54,
   "id": "confused-rabbit",
   "metadata": {},
   "outputs": [
    {
     "name": "stderr",
     "output_type": "stream",
     "text": [
      "<ipython-input-54-2b25276c5a2f>:1: PerformanceWarning: indexing past lexsort depth may impact performance.\n",
      "  results.loc[1, 1, 1, 0.8]['infected_agents'].quantile(0.025)\n"
     ]
    },
    {
     "data": {
      "text/plain": [
       "0.0"
      ]
     },
     "execution_count": 54,
     "metadata": {},
     "output_type": "execute_result"
    }
   ],
   "source": [
    "results.loc[1, 1, 1, 0.8]['infected_agents'].quantile(0.025)"
   ]
  },
  {
   "cell_type": "code",
   "execution_count": 55,
   "id": "lesbian-enemy",
   "metadata": {},
   "outputs": [
    {
     "name": "stderr",
     "output_type": "stream",
     "text": [
      "<ipython-input-55-2dd9d5e0d9bc>:1: PerformanceWarning: indexing past lexsort depth may impact performance.\n",
      "  results.loc[1, 1, 1, 0.8]['infected_agents'].quantile(0.975)\n"
     ]
    },
    {
     "data": {
      "text/plain": [
       "1.0"
      ]
     },
     "execution_count": 55,
     "metadata": {},
     "output_type": "execute_result"
    }
   ],
   "source": [
    "results.loc[1, 1, 1, 0.8]['infected_agents'].quantile(0.975)"
   ]
  },
  {
   "cell_type": "code",
   "execution_count": 52,
   "id": "typical-palace",
   "metadata": {},
   "outputs": [
    {
     "name": "stderr",
     "output_type": "stream",
     "text": [
      "<ipython-input-52-62769f1ec8df>:1: PerformanceWarning: indexing past lexsort depth may impact performance.\n",
      "  results.loc[1, 1, 1, 0.8]['infected_agents'].quantile(0.99)\n"
     ]
    },
    {
     "data": {
      "text/plain": [
       "2.0"
      ]
     },
     "execution_count": 52,
     "metadata": {},
     "output_type": "execute_result"
    }
   ],
   "source": [
    "results.loc[1, 1, 1, 0.8]['infected_agents'].quantile(0.99)"
   ]
  },
  {
   "cell_type": "code",
   "execution_count": 53,
   "id": "several-humanity",
   "metadata": {},
   "outputs": [
    {
     "name": "stderr",
     "output_type": "stream",
     "text": [
      "<ipython-input-53-d6072645daea>:1: PerformanceWarning: indexing past lexsort depth may impact performance.\n",
      "  results.loc[1, 1, 1, 0.8]['infected_agents'].max()\n"
     ]
    },
    {
     "data": {
      "text/plain": [
       "5.0"
      ]
     },
     "execution_count": 53,
     "metadata": {},
     "output_type": "execute_result"
    }
   ],
   "source": [
    "results.loc[1, 1, 1, 0.8]['infected_agents'].max()"
   ]
  },
  {
   "cell_type": "markdown",
   "id": "tracked-banking",
   "metadata": {},
   "source": [
    "### 70% vaccination coverage"
   ]
  },
  {
   "cell_type": "markdown",
   "id": "internal-panel",
   "metadata": {},
   "source": [
    "#### 100% occupancy"
   ]
  },
  {
   "cell_type": "code",
   "execution_count": 59,
   "id": "local-london",
   "metadata": {},
   "outputs": [
    {
     "name": "stderr",
     "output_type": "stream",
     "text": [
      "<ipython-input-59-fc2f04385da3>:1: PerformanceWarning: indexing past lexsort depth may impact performance.\n",
      "  results.loc[0, 0, 1, 0.7]['R0'].mean()\n"
     ]
    },
    {
     "data": {
      "text/plain": [
       "0.2694"
      ]
     },
     "execution_count": 59,
     "metadata": {},
     "output_type": "execute_result"
    }
   ],
   "source": [
    "results.loc[0, 0, 1, 0.7]['R0'].mean()"
   ]
  },
  {
   "cell_type": "code",
   "execution_count": 60,
   "id": "likely-advice",
   "metadata": {},
   "outputs": [
    {
     "name": "stderr",
     "output_type": "stream",
     "text": [
      "<ipython-input-60-d45fd551e6d4>:1: PerformanceWarning: indexing past lexsort depth may impact performance.\n",
      "  results.loc[0, 0, 1, 0.7]['R0'].quantile(0.025)\n"
     ]
    },
    {
     "data": {
      "text/plain": [
       "0.0"
      ]
     },
     "execution_count": 60,
     "metadata": {},
     "output_type": "execute_result"
    }
   ],
   "source": [
    "results.loc[0, 0, 1, 0.7]['R0'].quantile(0.025)"
   ]
  },
  {
   "cell_type": "code",
   "execution_count": 61,
   "id": "overall-communication",
   "metadata": {},
   "outputs": [
    {
     "name": "stderr",
     "output_type": "stream",
     "text": [
      "<ipython-input-61-24b11046c7c6>:1: PerformanceWarning: indexing past lexsort depth may impact performance.\n",
      "  results.loc[0, 0, 1, 0.7]['R0'].quantile(0.975)\n"
     ]
    },
    {
     "data": {
      "text/plain": [
       "2.0"
      ]
     },
     "execution_count": 61,
     "metadata": {},
     "output_type": "execute_result"
    }
   ],
   "source": [
    "results.loc[0, 0, 1, 0.7]['R0'].quantile(0.975)"
   ]
  },
  {
   "cell_type": "code",
   "execution_count": 62,
   "id": "clean-michael",
   "metadata": {},
   "outputs": [
    {
     "name": "stderr",
     "output_type": "stream",
     "text": [
      "<ipython-input-62-fc334ae367d6>:1: PerformanceWarning: indexing past lexsort depth may impact performance.\n",
      "  results.loc[0, 0, 1, 0.7]['infected_agents'].mean()\n"
     ]
    },
    {
     "data": {
      "text/plain": [
       "0.791"
      ]
     },
     "execution_count": 62,
     "metadata": {},
     "output_type": "execute_result"
    }
   ],
   "source": [
    "results.loc[0, 0, 1, 0.7]['infected_agents'].mean()"
   ]
  },
  {
   "cell_type": "code",
   "execution_count": 63,
   "id": "descending-sector",
   "metadata": {},
   "outputs": [
    {
     "name": "stderr",
     "output_type": "stream",
     "text": [
      "<ipython-input-63-d1ed4293bcc0>:1: PerformanceWarning: indexing past lexsort depth may impact performance.\n",
      "  results.loc[0, 0, 1, 0.7]['infected_agents'].quantile(0.025)\n"
     ]
    },
    {
     "data": {
      "text/plain": [
       "0.0"
      ]
     },
     "execution_count": 63,
     "metadata": {},
     "output_type": "execute_result"
    }
   ],
   "source": [
    "results.loc[0, 0, 1, 0.7]['infected_agents'].quantile(0.025)"
   ]
  },
  {
   "cell_type": "code",
   "execution_count": 64,
   "id": "respected-brazil",
   "metadata": {},
   "outputs": [
    {
     "name": "stderr",
     "output_type": "stream",
     "text": [
      "<ipython-input-64-cc7c114fb07c>:1: PerformanceWarning: indexing past lexsort depth may impact performance.\n",
      "  results.loc[0, 0, 1, 0.7]['infected_agents'].quantile(0.90)\n"
     ]
    },
    {
     "data": {
      "text/plain": [
       "1.0"
      ]
     },
     "execution_count": 64,
     "metadata": {},
     "output_type": "execute_result"
    }
   ],
   "source": [
    "results.loc[0, 0, 1, 0.7]['infected_agents'].quantile(0.90)"
   ]
  },
  {
   "cell_type": "code",
   "execution_count": 65,
   "id": "complex-canyon",
   "metadata": {},
   "outputs": [
    {
     "name": "stderr",
     "output_type": "stream",
     "text": [
      "<ipython-input-65-3d8b63aa9cdc>:1: PerformanceWarning: indexing past lexsort depth may impact performance.\n",
      "  results.loc[0, 0, 1, 0.7]['infected_agents'].quantile(0.975)\n"
     ]
    },
    {
     "data": {
      "text/plain": [
       "6.0"
      ]
     },
     "execution_count": 65,
     "metadata": {},
     "output_type": "execute_result"
    }
   ],
   "source": [
    "results.loc[0, 0, 1, 0.7]['infected_agents'].quantile(0.975)"
   ]
  },
  {
   "cell_type": "code",
   "execution_count": 66,
   "id": "intense-excerpt",
   "metadata": {},
   "outputs": [
    {
     "name": "stderr",
     "output_type": "stream",
     "text": [
      "<ipython-input-66-93af57092e45>:1: PerformanceWarning: indexing past lexsort depth may impact performance.\n",
      "  results.loc[0, 0, 1, 0.7]['infected_agents'].quantile(0.99)\n"
     ]
    },
    {
     "data": {
      "text/plain": [
       "15.0"
      ]
     },
     "execution_count": 66,
     "metadata": {},
     "output_type": "execute_result"
    }
   ],
   "source": [
    "results.loc[0, 0, 1, 0.7]['infected_agents'].quantile(0.99)"
   ]
  },
  {
   "cell_type": "code",
   "execution_count": 70,
   "id": "appointed-analyst",
   "metadata": {},
   "outputs": [
    {
     "name": "stderr",
     "output_type": "stream",
     "text": [
      "<ipython-input-70-b3f1a378c2f2>:1: PerformanceWarning: indexing past lexsort depth may impact performance.\n",
      "  results.loc[0, 0, 1, 0.7]['infected_agents'].quantile(0.9998)\n"
     ]
    },
    {
     "data": {
      "text/plain": [
       "100.00640000001295"
      ]
     },
     "execution_count": 70,
     "metadata": {},
     "output_type": "execute_result"
    }
   ],
   "source": [
    "results.loc[0, 0, 1, 0.7]['infected_agents'].quantile(0.9998)"
   ]
  },
  {
   "cell_type": "code",
   "execution_count": 67,
   "id": "perceived-hebrew",
   "metadata": {},
   "outputs": [
    {
     "name": "stderr",
     "output_type": "stream",
     "text": [
      "<ipython-input-67-ee6859c01e9b>:1: PerformanceWarning: indexing past lexsort depth may impact performance.\n",
      "  results.loc[0, 0, 1, 0.7]['infected_agents'].max()\n"
     ]
    },
    {
     "data": {
      "text/plain": [
       "132.0"
      ]
     },
     "execution_count": 67,
     "metadata": {},
     "output_type": "execute_result"
    }
   ],
   "source": [
    "results.loc[0, 0, 1, 0.7]['infected_agents'].max()"
   ]
  },
  {
   "cell_type": "code",
   "execution_count": 40,
   "id": "recreational-australian",
   "metadata": {},
   "outputs": [
    {
     "data": {
      "image/png": "[encoded data removed]",
      "text/plain": [
       "<Figure size 1080x360 with 1 Axes>"
      ]
     },
     "metadata": {
      "needs_background": "light"
     },
     "output_type": "display_data"
    }
   ],
   "source": [
    "green = '#229954'\n",
    "blue = '#2471A3'\n",
    "grey = '#7F8C8D'\n",
    "\n",
    "plt.rcParams['hatch.linewidth'] = 3\n",
    "order = ['no masks', 'masks faculty', 'masks students', 'universal masks']\n",
    "hue_order = ['100%', '50%', '25%']\n",
    "vacc_ratio = 0.8\n",
    "subset = results[results['unistudent_vaccination_ratio'] == vacc_ratio]\n",
    "g = sns.catplot(x='scenario', y='R0',\n",
    "                hue='occupancy', data=subset, kind=\"bar\", aspect=3,\n",
    "                order=order, legend=False, palette=['w', 'w', 'w'],\n",
    "                row='unistudent_vaccination_ratio', hue_order=hue_order)\n",
    "\n",
    "ax = g.axes[0][0]\n",
    "#ax.set_title('vaccination coverage {:1.0f}%'.format(vacc_ratio * 100), fontsize=24)\n",
    "ax.set_title('')\n",
    "ax.set_ylabel('$R_\\mathrm{eff}$', fontsize=20)\n",
    "ax.set_xlabel('')\n",
    "ax.set_yticks([0, 0.1, 0.2, 0.3, 0.4])\n",
    "ax.set_yticklabels([0, 0.1, 0.2, 0.3, 0.4], fontsize=16)\n",
    "ax.set_xticklabels(['no\\nmasks', 'masks\\nfaculty', \n",
    "                    'masks\\nstudents', 'universal\\nmasks'], fontsize=16)\n",
    "\n",
    "for i in [0, 1, 2, 3]:\n",
    "    bar = ax.patches[i]\n",
    "    #hatch = '.'\n",
    "    #bar.set_hatch(hatch)\n",
    "    bar.set_edgecolor('k')\n",
    "\n",
    "for i in [4, 5, 6, 7]:\n",
    "    bar = ax.patches[i]\n",
    "    hatch = '/'\n",
    "    bar.set_hatch(hatch)\n",
    "    bar.set_edgecolor('k')\n",
    "    \n",
    "for i in [8, 9, 10, 11]:\n",
    "    bar = ax.patches[i]\n",
    "    hatch = '.'\n",
    "    bar.set_hatch(hatch)\n",
    "    bar.set_edgecolor('k')\n",
    "\n",
    "patch1 = mpatches.Patch(facecolor='w', label='100%', edgecolor='k')\n",
    "patch2 = mpatches.Patch(facecolor='w', hatch='/', label='50%', edgecolor='k')\n",
    "patch3 = mpatches.Patch(facecolor='w', hatch='.', label='25%', edgecolor='k')\n",
    "\n",
    "legend = ax.legend(handles = [patch1, patch2, patch3], loc=1, fontsize=16, \n",
    "          title='occupancy', handlelength=4)\n",
    "plt.setp(legend.get_title(),fontsize=16)\n",
    "plt.tight_layout()\n",
    "plt.savefig('../plots/R_eff.png', dpi=300)\n",
    "plt.savefig('../plots/R_eff.pdf')\n",
    "plt.savefig('../plots/R_eff.svg')"
   ]
  },
  {
   "cell_type": "code",
   "execution_count": null,
   "id": "cross-alpha",
   "metadata": {},
   "outputs": [],
   "source": []
  }
 ],
 "metadata": {
  "kernelspec": {
   "display_name": "Python 3",
   "language": "python",
   "name": "python3"
  },
  "language_info": {
   "codemirror_mode": {
    "name": "ipython",
    "version": 3
   },
   "file_extension": ".py",
   "mimetype": "text/x-python",
   "name": "python",
   "nbconvert_exporter": "python",
   "pygments_lexer": "ipython3",
   "version": "3.8.8"
  }
 },
 "nbformat": 4,
 "nbformat_minor": 5
}
