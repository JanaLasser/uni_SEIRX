{
 "cells": [
  {
   "cell_type": "markdown",
   "metadata": {},
   "source": [
    "# Create the university network from student and lecturer data"
   ]
  },
  {
   "cell_type": "code",
   "execution_count": 3,
   "metadata": {},
   "outputs": [],
   "source": [
    "import pandas as pd\n",
    "import networkx as nx\n",
    "import numpy as np\n",
    "import matplotlib.pyplot as plt\n",
    "from os.path import join\n",
    "import os\n",
    "import datetime\n",
    "import string\n",
    "import network_creation_functions as ncf\n",
    "from importlib import reload\n",
    "\n",
    "\n",
    "# parallelisation functionality\n",
    "from multiprocess import Pool\n",
    "import psutil\n",
    "from tqdm import tqdm"
   ]
  },
  {
   "cell_type": "code",
   "execution_count": 4,
   "metadata": {},
   "outputs": [],
   "source": [
    "src = '../../data/clean'"
   ]
  },
  {
   "cell_type": "code",
   "execution_count": 5,
   "metadata": {},
   "outputs": [],
   "source": [
    "semester_start = ncf.semester_start # date of the semester start\n",
    "semester_end = ncf.semester_end # date of the semester end\n",
    "study_map = ncf.study_map # mapping of studies to degree levels"
   ]
  },
  {
   "cell_type": "markdown",
   "metadata": {},
   "source": [
    "## Load the relevant data"
   ]
  },
  {
   "cell_type": "code",
   "execution_count": 177,
   "metadata": {},
   "outputs": [],
   "source": [
    "enrollment = pd.read_csv(join(src, 'enrollment.csv'))\n",
    "supervision = pd.read_csv(join(src, 'supervision.csv'))\n",
    "event_dates = pd.read_csv(join(src, 'event_dates.csv'), parse_dates=[\"date\"])\n",
    "groups = pd.read_csv(join(src, 'groups.csv'))\n",
    "rooms = pd.read_csv(join(src, 'rooms.csv'))\n",
    "students = pd.read_csv(join(src, 'students.csv'))\n",
    "lecturers = pd.read_csv(join(src, 'lecturers.csv'))\n",
    "courses = pd.read_csv(join(src, 'courses.csv'))\n",
    "event_participation = pd.read_csv(join(src, 'event_participations.csv'),\n",
    "                        parse_dates=[\"date\"])\n",
    "event_supervision = pd.read_csv(join(src, 'event_supervisions.csv'),\n",
    "                        parse_dates=[\"date\"])"
   ]
  },
  {
   "cell_type": "code",
   "execution_count": 178,
   "metadata": {},
   "outputs": [],
   "source": [
    "# map hashed student and lecturer IDs to shorter IDs to save space\n",
    "student_keys = students[\"student_id\"].unique()\n",
    "student_keys = {hashed_id: f\"s{i}\" for i, hashed_id in enumerate(student_keys)}\n",
    "\n",
    "lecturer_keys = lecturers[\"lecturer_id\"].unique()\n",
    "lecturer_keys = {hashed_id: f\"s{i}\" for i, hashed_id in enumerate(lecturer_keys)}\n",
    "\n",
    "enrollment[\"student_id\"] = enrollment[\"student_id\"].map(student_keys)\n",
    "students[\"student_id\"] = students[\"student_id\"].map(student_keys)\n",
    "event_participation[\"student_id\"] = event_participation[\"student_id\"].map(student_keys)\n",
    "supervision[\"lecturer_id\"] = supervision[\"lecturer_id\"].map(lecturer_keys)\n",
    "lecturers[\"lecturer_id\"] = lecturers[\"lecturer_id\"].map(lecturer_keys)\n",
    "event_supervision[\"lecturer_id\"] = event_supervision[\"lecturer_id\"].map(lecturer_keys)"
   ]
  },
  {
   "cell_type": "markdown",
   "metadata": {},
   "source": [
    "## Create university networks with reduced lecture sizes"
   ]
  },
  {
   "cell_type": "markdown",
   "metadata": {},
   "source": [
    "### All students"
   ]
  },
  {
   "cell_type": "markdown",
   "metadata": {},
   "source": [
    "#### Lecture and exam network"
   ]
  },
  {
   "cell_type": "code",
   "execution_count": 188,
   "metadata": {},
   "outputs": [
    {
     "data": {
      "text/plain": [
       "<module 'network_creation_functions' from '/home/jana/Projects/COVID_uni/analysis/code/network/network_creation_functions.py'>"
      ]
     },
     "execution_count": 188,
     "metadata": {},
     "output_type": "execute_result"
    }
   ],
   "source": [
    "from importlib import reload\n",
    "reload(ncf)"
   ]
  },
  {
   "cell_type": "code",
   "execution_count": null,
   "metadata": {},
   "outputs": [
    {
     "name": "stdout",
     "output_type": "stream",
     "text": [
      "17 isolated nodes\n",
      "19 network components\n",
      "26 isolated nodes\n",
      "28 network components\n"
     ]
    }
   ],
   "source": [
    "reload(ncf)\n",
    "fractions = ['overbooked', 1.0, 0.5, 0.25]\n",
    "network_dst = '../../data/networks'\n",
    "all_days = list(event_dates['date'].unique())\n",
    "all_days = [pd.to_datetime(sd) for sd in all_days]\n",
    "all_days.sort()\n",
    "verbose = False\n",
    "\n",
    "contact_map = {\n",
    "    'student_lecturer':'far', \n",
    "    'student_student':'far',\n",
    "    'lecturer_lecturer':'far',\n",
    "}\n",
    "\n",
    "for frac in fractions:\n",
    "\n",
    "    # create the full contact network for the whole university with a given\n",
    "    # fraction of studence in presence\n",
    "    G = ncf.create_network(students, lecturers, event_dates, rooms, all_days,\n",
    "            event_participation, event_supervision, frac=frac, verbose=verbose)\n",
    "\n",
    "    # remove disconnected\n",
    "    #N = len(G.nodes())\n",
    "    #G.remove_nodes_from(list(nx.isolates(G)))\n",
    "    #print('removed {} disconnected nodes'.format(N - len(G.nodes())))\n",
    "    \n",
    "    N = len(list(nx.isolates(G)))\n",
    "    print(f\"{N} isolated nodes\")\n",
    "    \n",
    "    # keep only biggest connected component\n",
    "    #N = len(G.nodes())\n",
    "    Gcc = sorted(nx.connected_components(G), key=len, reverse=True)\n",
    "    #G = G.subgraph(Gcc[0])\n",
    "    #print('removed {} nodes which were not in the biggest component'\\\n",
    "    #      .format(N - len(G.nodes())))\n",
    "    N = len(Gcc)\n",
    "    print(f\"{N} network components\")\n",
    "\n",
    "    # map link types to contact strengths\n",
    "    ncf.map_contacts(G, contact_map, N_days=128)\n",
    "\n",
    "    # save the graph\n",
    "    nx.readwrite.gpickle.write_gpickle(G, join(network_dst,\n",
    "        'university_{}_to_{}_fraction-{}_all.bz2'\\\n",
    "        .format(str(all_days[0].date()), str(all_days[-1].date()), frac)),\n",
    "        protocol=4)"
   ]
  },
  {
   "cell_type": "code",
   "execution_count": 184,
   "metadata": {},
   "outputs": [],
   "source": [
    "ncf.map_contacts(G, contact_map, N_days=3)"
   ]
  },
  {
   "cell_type": "code",
   "execution_count": 185,
   "metadata": {},
   "outputs": [],
   "source": [
    "day_connections = {}\n",
    "all_edges = G.edges(keys=True, data='day')\n",
    "for i in range(1, 3 + 1):\n",
    "    day_edges = [(u, v, k) for (u, v, k, day) in all_edges if day == i]\n",
    "    day_connections[i] = G.edge_subgraph(day_edges).copy()"
   ]
  },
  {
   "cell_type": "code",
   "execution_count": 186,
   "metadata": {},
   "outputs": [],
   "source": [
    "areas = [e[2] for e in day_connections[1].edges(data=True)]"
   ]
  },
  {
   "cell_type": "code",
   "execution_count": 187,
   "metadata": {},
   "outputs": [
    {
     "data": {
      "text/plain": [
       "{'link_type': 'student_student',\n",
       " 'event_type': 'VO',\n",
       " 'date': '2019-10-02 00:00:00',\n",
       " 'day': 1,\n",
       " 'weekday': 4,\n",
       " 'duration': 105,\n",
       " 'contact_type': 'far'}"
      ]
     },
     "execution_count": 187,
     "metadata": {},
     "output_type": "execute_result"
    }
   ],
   "source": [
    "areas[0]"
   ]
  },
  {
   "cell_type": "markdown",
   "metadata": {},
   "source": [
    "#### Only exams and labs network"
   ]
  },
  {
   "cell_type": "code",
   "execution_count": null,
   "metadata": {},
   "outputs": [],
   "source": [
    "reload(ncf)\n",
    "fractions = [0.25, 0.5, 1.0, 'overbooked']\n",
    "network_dst = '../data/networks'\n",
    "all_days = list(dates['date'].unique())\n",
    "all_days = [pd.to_datetime(sd) for sd in all_days]\n",
    "all_days.sort()\n",
    "sample_days = all_days[13:20]\n",
    "\n",
    "contact_map = {\n",
    "    'student_lecturer':'far', \n",
    "    'student_student':'far',\n",
    "    'lecturer_lecturer':'far',\n",
    "}\n",
    "\n",
    "for frac in fractions:\n",
    "\n",
    "    # create the full contact network for the whole university with a given\n",
    "    # fraction of studence in presence\n",
    "    G = ncf.create_network(students, lecturers, studies, organisations, groups,\n",
    "                           dates, rooms, sample_days, estudents, electurers,\n",
    "                           exams, edates, frac=frac)\n",
    "    \n",
    "    # remove all edges that are not associated with exams or with lecture types\n",
    "    # that require presence\n",
    "    # see https://mibla-archiv.tugraz.at/08_09/Stk_5/06102008_LV_Typen.pdf\n",
    "    presence_lecture_types = [\n",
    "        \"LU\", # Laborübung\n",
    "        \"KU\", # Konstruktionsübung\n",
    "        \"EX\", # Exkursion\n",
    "    ]\n",
    "    edges_to_remove = [(e[0], e[1]) for e in G.edges(data=True) \\\n",
    "         if e[2][\"event_type\"] != \"exam\" \\\n",
    "         and e[2][\"lecture_type\"] not in presence_lecture_types]\n",
    "    G.remove_edges_from(edges_to_remove)\n",
    "    \n",
    "    # remove disconnected\n",
    "    N = len(G.nodes())\n",
    "    G.remove_nodes_from(list(nx.isolates(G)))\n",
    "    print(f'removed {N - len(G.nodes())} disconnected nodes')\n",
    "    \n",
    "    Gcc = sorted(nx.connected_components(G), key=len, reverse=True)\n",
    "    print(f'The graph now has {len(Gcc)} components')\n",
    "\n",
    "    # map link types to contact strengths\n",
    "    ncf.map_contacts(G, contact_map)\n",
    "\n",
    "    # save the graph\n",
    "    nx.readwrite.gpickle.write_gpickle(G, join(network_dst,\n",
    "        'university_{}_to_{}_fraction-{}_all_exams.bz2'\\\n",
    "        .format(str(sample_days[0].date()), str(sample_days[-1].date()), frac)),\n",
    "        protocol=4)"
   ]
  },
  {
   "cell_type": "markdown",
   "metadata": {},
   "source": [
    "### Separate data into TU and NaWi"
   ]
  },
  {
   "cell_type": "code",
   "execution_count": 126,
   "metadata": {},
   "outputs": [
    {
     "name": "stdout",
     "output_type": "stream",
     "text": [
      "there are 8660 TU students\n",
      "there are 3298 NaWi students\n"
     ]
    }
   ],
   "source": [
    "TU_students = students[students['study_label'] == 't']\n",
    "NaWi_students = students[students['study_label'] == 'n']\n",
    "\n",
    "print('there are {} TU students'\\\n",
    "        .format(len(TU_students['student_id'].unique())))\n",
    "print('there are {} NaWi students'\\\n",
    "      .format(len(NaWi_students['student_id'].unique())))"
   ]
  },
  {
   "cell_type": "code",
   "execution_count": 127,
   "metadata": {},
   "outputs": [
    {
     "name": "stdout",
     "output_type": "stream",
     "text": [
      "there are 8035 TU exam students\n",
      "there are 3030 NaWi exam students\n"
     ]
    }
   ],
   "source": [
    "TU_estudents = estudents[estudents['study_label'] == 't']\n",
    "NaWi_estudents = estudents[estudents['study_label'] == 'n']\n",
    "\n",
    "print('there are {} TU exam students'\\\n",
    "        .format(len(TU_estudents['student_id'].unique())))\n",
    "print('there are {} NaWi exam students'\\\n",
    "      .format(len(NaWi_estudents['student_id'].unique())))"
   ]
  },
  {
   "cell_type": "code",
   "execution_count": 128,
   "metadata": {},
   "outputs": [
    {
     "name": "stdout",
     "output_type": "stream",
     "text": [
      "there are 91 TU-only studies\n",
      "there are 82 NaWi-only studies\n"
     ]
    }
   ],
   "source": [
    "TU_studies = studies[studies['student_id'].isin(TU_students['student_id'])]\n",
    "NaWi_studies = studies[studies['student_id'].isin(NaWi_students['student_id'])]\n",
    "\n",
    "print('there are {} TU-only studies'\\\n",
    "        .format(len(TU_studies['study_id'].unique())))\n",
    "print('there are {} NaWi-only studies'\\\n",
    "      .format(len(NaWi_studies['study_id'].unique())))"
   ]
  },
  {
   "cell_type": "code",
   "execution_count": 129,
   "metadata": {},
   "outputs": [
    {
     "name": "stdout",
     "output_type": "stream",
     "text": [
      "there are 1453 TU-only lectures\n",
      "there are 790 NaWi-only lectures\n"
     ]
    }
   ],
   "source": [
    "TU_lectures = lectures[lectures['lecture_id'].isin(TU_students['lecture_id'])]\n",
    "NaWi_lectures = lectures[lectures['lecture_id'].isin(NaWi_students['lecture_id'])]\n",
    "\n",
    "print('there are {} TU-only lectures'\\\n",
    "        .format(len(TU_lectures['lecture_id'].unique())))\n",
    "print('there are {} NaWi-only lectures'\\\n",
    "      .format(len(NaWi_lectures['lecture_id'].unique())))"
   ]
  },
  {
   "cell_type": "code",
   "execution_count": 130,
   "metadata": {},
   "outputs": [
    {
     "name": "stdout",
     "output_type": "stream",
     "text": [
      "there are 1376 TU-only lecturers\n",
      "there are 901 NaWi-only lecturers\n"
     ]
    }
   ],
   "source": [
    "TU_lecturers = lecturers[lecturers['lecture_id'].isin(TU_lectures['lecture_id'])]\n",
    "NaWi_lecturers = lecturers[lecturers['lecture_id'].isin(NaWi_lectures['lecture_id'])]\n",
    "\n",
    "print('there are {} TU-only lecturers'\\\n",
    "        .format(len(TU_lecturers['lecturer_id'].unique())))\n",
    "print('there are {} NaWi-only lecturers'\\\n",
    "      .format(len(NaWi_lecturers['lecturer_id'].unique())))"
   ]
  },
  {
   "cell_type": "code",
   "execution_count": 131,
   "metadata": {},
   "outputs": [
    {
     "name": "stdout",
     "output_type": "stream",
     "text": [
      "there are 121 TU-only organisations\n",
      "there are 102 NaWi-only organisations\n"
     ]
    }
   ],
   "source": [
    "TU_organisations = organisations[organisations['lecturer_id'].isin(TU_lecturers['lecturer_id'])]\n",
    "NaWi_organisations = organisations[organisations['lecturer_id'].isin(NaWi_lecturers['lecturer_id'])]\n",
    "\n",
    "print('there are {} TU-only organisations'\\\n",
    "        .format(len(TU_organisations['organisation_id'].unique())))\n",
    "print('there are {} NaWi-only organisations'\\\n",
    "      .format(len(NaWi_organisations['organisation_id'].unique())))"
   ]
  },
  {
   "cell_type": "code",
   "execution_count": 132,
   "metadata": {},
   "outputs": [
    {
     "name": "stdout",
     "output_type": "stream",
     "text": [
      "there are 22436 TU-only dates\n",
      "there are 14035 NaWi-only dates\n"
     ]
    }
   ],
   "source": [
    "TU_dates = dates[dates['lecture_id'].isin(TU_lectures['lecture_id'])]\n",
    "NaWi_dates = dates[dates['lecture_id'].isin(NaWi_lectures['lecture_id'])]\n",
    "\n",
    "print('there are {} TU-only dates'.format(len(TU_dates)))\n",
    "print('there are {} NaWi-only dates'.format(len(NaWi_dates)))"
   ]
  },
  {
   "cell_type": "code",
   "execution_count": 133,
   "metadata": {},
   "outputs": [
    {
     "name": "stdout",
     "output_type": "stream",
     "text": [
      "there are 4308 TU-only exam dates\n",
      "there are 1686 NaWi-only exam dates\n"
     ]
    }
   ],
   "source": [
    "TU_edates = edates[edates['exam_id'].isin(TU_estudents['exam_id'])]\n",
    "NaWi_edates = edates[edates['exam_id'].isin(NaWi_estudents['exam_id'])]\n",
    "\n",
    "print('there are {} TU-only exam dates'.format(len(TU_edates)))\n",
    "print('there are {} NaWi-only exam dates'.format(len(NaWi_edates)))"
   ]
  },
  {
   "cell_type": "code",
   "execution_count": 134,
   "metadata": {},
   "outputs": [
    {
     "name": "stdout",
     "output_type": "stream",
     "text": [
      "there are 352 TU-only rooms\n",
      "there are 239 NaWi-only rooms\n"
     ]
    }
   ],
   "source": [
    "TU_rooms = rooms[rooms['room_id'].isin(TU_dates['room_id'])]\n",
    "NaWi_rooms = rooms[rooms['room_id'].isin(NaWi_dates['room_id'])]\n",
    "\n",
    "print('there are {} TU-only rooms'.format(len(TU_rooms)))\n",
    "print('there are {} NaWi-only rooms'.format(len(NaWi_rooms)))"
   ]
  },
  {
   "cell_type": "code",
   "execution_count": 135,
   "metadata": {},
   "outputs": [
    {
     "name": "stdout",
     "output_type": "stream",
     "text": [
      "there are 1850 TU-only groups\n",
      "there are 866 NaWi-only groups\n"
     ]
    }
   ],
   "source": [
    "TU_groups = groups[groups['group_id'].isin(TU_students['group_id'])]\n",
    "NaWi_groups = groups[groups['group_id'].isin(NaWi_students['group_id'])]\n",
    "\n",
    "print('there are {} TU-only groups'.format(len(TU_groups['group_id'].unique())))\n",
    "print('there are {} NaWi-only groups'.format(len(NaWi_groups['group_id'].unique())))"
   ]
  },
  {
   "cell_type": "code",
   "execution_count": 146,
   "metadata": {},
   "outputs": [
    {
     "name": "stdout",
     "output_type": "stream",
     "text": [
      "there are 4233 TU-only exams\n",
      "there are 1673 NaWi-only exams\n"
     ]
    }
   ],
   "source": [
    "TU_exams = TU_edates[['exam_id', 'lecture_id']].drop_duplicates()\n",
    "NaWi_exams = NaWi_edates[['exam_id', 'lecture_id']].drop_duplicates()\n",
    "\n",
    "print('there are {} TU-only exams'.format(len(TU_exams)))\n",
    "print('there are {} NaWi-only exams'.format(len(NaWi_exams)))\n",
    "\n",
    "lectures = lectures.set_index(\"lecture_id\")\n",
    "TU_exams = TU_exams.set_index(\"lecture_id\")\n",
    "NaWi_exams = NaWi_exams.set_index(\"lecture_id\")\n",
    "TU_exams = TU_exams.join(lectures[\"lecture_type\"]).reset_index()\n",
    "NaWi_exams = NaWi_exams.join(lectures[\"lecture_type\"]).reset_index()\n",
    "lectures = lectures.reset_index()"
   ]
  },
  {
   "cell_type": "code",
   "execution_count": 147,
   "metadata": {},
   "outputs": [
    {
     "name": "stdout",
     "output_type": "stream",
     "text": [
      "there are 789 TU-only exam lecturers\n",
      "there are 366 NaWi-only exam lecturers\n"
     ]
    }
   ],
   "source": [
    "TU_electurers = TU_edates[['exam_id', 'lecturer_id']].copy()\n",
    "NaWi_electurers = NaWi_edates[['exam_id', 'lecturer_id']].copy()\n",
    "\n",
    "print('there are {} TU-only exam lecturers'\\\n",
    "      .format(len(TU_electurers['lecturer_id'].unique())))\n",
    "print('there are {} NaWi-only exam lecturers'\\\n",
    "      .format(len(NaWi_electurers['lecturer_id'].unique())))"
   ]
  },
  {
   "cell_type": "markdown",
   "metadata": {},
   "source": [
    "### Create TU student only networks"
   ]
  },
  {
   "cell_type": "markdown",
   "metadata": {},
   "source": [
    "#### Lecture and exam network"
   ]
  },
  {
   "cell_type": "code",
   "execution_count": null,
   "metadata": {},
   "outputs": [],
   "source": [
    "reload(ncf)\n",
    "fractions = [0.25, 0.5, 1.0, 'overbooked']\n",
    "network_dst = '../data/networks'\n",
    "all_days = list(dates['date'].unique())\n",
    "all_days = [pd.to_datetime(sd) for sd in all_days]\n",
    "all_days.sort()\n",
    "sample_days = all_days[13:20]\n",
    "\n",
    "contact_map = {\n",
    "    'student_lecturer':'far', \n",
    "    'student_student':'far',\n",
    "    'lecturer_lecturer':'far',\n",
    "}\n",
    "\n",
    "for frac in fractions:\n",
    "\n",
    "    # create the full contact network for the whole university with a given\n",
    "    # fraction of studence in presence\n",
    "    G = ncf.create_network(TU_students, TU_lecturers, TU_studies, \n",
    "                           TU_organisations, TU_groups, TU_dates, \n",
    "                           TU_rooms, sample_days, TU_estudents, \n",
    "                           TU_electurers, TU_exams, TU_edates,\n",
    "                           frac=frac)\n",
    "\n",
    "    # remove disconnected\n",
    "    N = len(G.nodes())\n",
    "    G.remove_nodes_from(list(nx.isolates(G)))\n",
    "    print('removed {} disconnected nodes'.format(N - len(G.nodes())))\n",
    "    \n",
    "    # keep only biggest connected component\n",
    "    N = len(G.nodes())\n",
    "    Gcc = sorted(nx.connected_components(G), key=len, reverse=True)\n",
    "    G = G.subgraph(Gcc[0])\n",
    "    print('removed {} nodes which were not in the biggest component'\\\n",
    "          .format(N - len(G.nodes())))\n",
    "\n",
    "    # map link types to contact strengths\n",
    "    ncf.map_contacts(G, contact_map)\n",
    "\n",
    "    # save the graph\n",
    "    nx.readwrite.gpickle.write_gpickle(G, join(network_dst,\n",
    "        'university_{}_to_{}_fraction-{}_TU.bz2'\\\n",
    "        .format(str(sample_days[0].date()), str(sample_days[-1].date()), frac)),\n",
    "        protocol=4)"
   ]
  },
  {
   "cell_type": "markdown",
   "metadata": {},
   "source": [
    "#### Only exams and labs network"
   ]
  },
  {
   "cell_type": "code",
   "execution_count": null,
   "metadata": {},
   "outputs": [],
   "source": [
    "reload(ncf)\n",
    "fractions = [0.25, 0.5, 1.0, 'overbooked']\n",
    "network_dst = '../data/networks'\n",
    "all_days = list(dates['date'].unique())\n",
    "all_days = [pd.to_datetime(sd) for sd in all_days]\n",
    "all_days.sort()\n",
    "sample_days = all_days[13:20]\n",
    "\n",
    "contact_map = {\n",
    "    'student_lecturer':'far', \n",
    "    'student_student':'far',\n",
    "    'lecturer_lecturer':'far',\n",
    "}\n",
    "\n",
    "for frac in fractions:\n",
    "\n",
    "    # create the full contact network for the whole university with a given\n",
    "    # fraction of studence in presence\n",
    "    G = ncf.create_network(TU_students, TU_lecturers, TU_studies, \n",
    "                           TU_organisations, TU_groups, TU_dates, \n",
    "                           TU_rooms, sample_days, TU_estudents, \n",
    "                           TU_electurers, TU_exams, TU_edates,\n",
    "                           frac=frac)\n",
    "    \n",
    "    # remove all edges that are not associated with exams or with lecture types\n",
    "    # that require presence\n",
    "    # see https://mibla-archiv.tugraz.at/08_09/Stk_5/06102008_LV_Typen.pdf\n",
    "    presence_lecture_types = [\n",
    "        \"LU\", # Laborübung\n",
    "        \"KU\", # Konstruktionsübung\n",
    "        \"EX\", # Exkursion\n",
    "    ]\n",
    "    edges_to_remove = [(e[0], e[1]) for e in G.edges(data=True) \\\n",
    "         if e[2][\"event_type\"] != \"exam\" \\\n",
    "         and e[2][\"lecture_type\"] not in presence_lecture_types]\n",
    "    G.remove_edges_from(edges_to_remove)\n",
    "    \n",
    "    # remove disconnected\n",
    "    N = len(G.nodes())\n",
    "    G.remove_nodes_from(list(nx.isolates(G)))\n",
    "    print(f'removed {N - len(G.nodes())} disconnected nodes')\n",
    "    \n",
    "    Gcc = sorted(nx.connected_components(G), key=len, reverse=True)\n",
    "    print(f'The graph now has {len(Gcc)} components')\n",
    "\n",
    "    # map link types to contact strengths\n",
    "    ncf.map_contacts(G, contact_map)\n",
    "\n",
    "    # save the graph\n",
    "    nx.readwrite.gpickle.write_gpickle(G, join(network_dst,\n",
    "        'university_{}_to_{}_fraction-{}_TU_exams.bz2'\\\n",
    "        .format(str(sample_days[0].date()), str(sample_days[-1].date()), frac)),\n",
    "        protocol=4)"
   ]
  },
  {
   "cell_type": "markdown",
   "metadata": {},
   "source": [
    "### Create NaWi Students only network"
   ]
  },
  {
   "cell_type": "markdown",
   "metadata": {},
   "source": [
    "#### Lecture and exam network"
   ]
  },
  {
   "cell_type": "code",
   "execution_count": null,
   "metadata": {},
   "outputs": [],
   "source": [
    "reload(ncf)\n",
    "fractions = [0.25, 0.5, 1.0, 'overbooked']\n",
    "network_dst = '../data/networks'\n",
    "all_days = list(dates['date'].unique())\n",
    "all_days = [pd.to_datetime(sd) for sd in all_days]\n",
    "all_days.sort()\n",
    "sample_days = all_days[13:20]\n",
    "\n",
    "contact_map = {\n",
    "    'student_lecturer':'far', \n",
    "    'student_student':'far',\n",
    "    'lecturer_lecturer':'far',\n",
    "}\n",
    "\n",
    "for frac in fractions:\n",
    "\n",
    "    # create the full contact network for the whole university with a given\n",
    "    # fraction of studence in presence\n",
    "    G = ncf.create_network(NaWi_students, NaWi_lecturers, NaWi_studies,\n",
    "                           NaWi_organisations, NaWi_groups, NaWi_dates,\n",
    "                           NaWi_rooms, sample_days, NaWi_estudents,\n",
    "                           NaWi_electurers, NaWi_exams, NaWi_edates,\n",
    "                           frac=frac)\n",
    "\n",
    "    # remove disconnected\n",
    "    N = len(G.nodes())\n",
    "    G.remove_nodes_from(list(nx.isolates(G)))\n",
    "    print('removed {} disconnected nodes'.format(N - len(G.nodes())))\n",
    "    \n",
    "    # keep only biggest connected component\n",
    "    N = len(G.nodes())\n",
    "    Gcc = sorted(nx.connected_components(G), key=len, reverse=True)\n",
    "    G = G.subgraph(Gcc[0])\n",
    "    print('removed {} nodes which were not in the biggest component'\\\n",
    "          .format(N - len(G.nodes())))\n",
    "\n",
    "    # map link types to contact strengths\n",
    "    ncf.map_contacts(G, contact_map)\n",
    "\n",
    "    # save the graph\n",
    "    nx.readwrite.gpickle.write_gpickle(G, join(network_dst,\n",
    "        'university_{}_to_{}_fraction-{}_NaWi.bz2'\\\n",
    "        .format(str(sample_days[0].date()), str(sample_days[-1].date()), frac)),\n",
    "        protocol=4)"
   ]
  },
  {
   "cell_type": "markdown",
   "metadata": {},
   "source": [
    "#### Only exams and labs network"
   ]
  },
  {
   "cell_type": "code",
   "execution_count": null,
   "metadata": {},
   "outputs": [],
   "source": [
    "reload(ncf)\n",
    "fractions = [0.25, 0.5, 1.0, 'overbooked']\n",
    "network_dst = '../data/networks'\n",
    "all_days = list(dates['date'].unique())\n",
    "all_days = [pd.to_datetime(sd) for sd in all_days]\n",
    "all_days.sort()\n",
    "sample_days = all_days[13:20]\n",
    "\n",
    "contact_map = {\n",
    "    'student_lecturer':'far', \n",
    "    'student_student':'far',\n",
    "    'lecturer_lecturer':'far',\n",
    "}\n",
    "\n",
    "for frac in fractions:\n",
    "\n",
    "    # create the full contact network for the whole university with a given\n",
    "    # fraction of studence in presence\n",
    "    G = ncf.create_network(NaWi_students, NaWi_lecturers, NaWi_studies,\n",
    "                           NaWi_organisations, NaWi_groups, NaWi_dates,\n",
    "                           NaWi_rooms, sample_days, NaWi_estudents,\n",
    "                           NaWi_electurers, NaWi_exams, NaWi_edates,\n",
    "                           frac=frac)\n",
    "    \n",
    "    # remove all edges that are not associated with exams or with lecture types\n",
    "    # that require presence\n",
    "    # see https://mibla-archiv.tugraz.at/08_09/Stk_5/06102008_LV_Typen.pdf\n",
    "    presence_lecture_types = [\n",
    "        \"LU\", # Laborübung\n",
    "        \"KU\", # Konstruktionsübung\n",
    "        \"EX\", # Exkursion\n",
    "    ]\n",
    "    edges_to_remove = [(e[0], e[1]) for e in G.edges(data=True) \\\n",
    "         if e[2][\"event_type\"] != \"exam\" \\\n",
    "         and e[2][\"lecture_type\"] not in presence_lecture_types]\n",
    "    G.remove_edges_from(edges_to_remove)\n",
    "    \n",
    "    # remove disconnected\n",
    "    N = len(G.nodes())\n",
    "    G.remove_nodes_from(list(nx.isolates(G)))\n",
    "    print(f'removed {N - len(G.nodes())} disconnected nodes')\n",
    "    \n",
    "    Gcc = sorted(nx.connected_components(G), key=len, reverse=True)\n",
    "    print(f'The graph now has {len(Gcc)} components')\n",
    "\n",
    "    # map link types to contact strengths\n",
    "    ncf.map_contacts(G, contact_map)\n",
    "\n",
    "    # save the graph\n",
    "    nx.readwrite.gpickle.write_gpickle(G, join(network_dst,\n",
    "        'university_{}_to_{}_fraction-{}_NaWi_exams.bz2'\\\n",
    "        .format(str(sample_days[0].date()), str(sample_days[-1].date()), frac)),\n",
    "        protocol=4)"
   ]
  }
 ],
 "metadata": {
  "kernelspec": {
   "display_name": "Python 3",
   "language": "python",
   "name": "python3"
  },
  "language_info": {
   "codemirror_mode": {
    "name": "ipython",
    "version": 3
   },
   "file_extension": ".py",
   "mimetype": "text/x-python",
   "name": "python",
   "nbconvert_exporter": "python",
   "pygments_lexer": "ipython3",
   "version": "3.8.8"
  }
 },
 "nbformat": 4,
 "nbformat_minor": 4
}
