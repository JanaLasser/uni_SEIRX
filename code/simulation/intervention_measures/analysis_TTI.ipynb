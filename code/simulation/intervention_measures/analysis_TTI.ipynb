{
 "cells": [
  {
   "cell_type": "markdown",
   "id": "jewish-cheese",
   "metadata": {},
   "source": [
    "# Analysis test-trace-isolate"
   ]
  },
  {
   "cell_type": "markdown",
   "id": "dated-command",
   "metadata": {},
   "source": [
    "Scenario without vaccination (only isolation of symptomatic cases)."
   ]
  },
  {
   "cell_type": "code",
   "execution_count": 1,
   "id": "controlling-hometown",
   "metadata": {},
   "outputs": [],
   "source": [
    "import pandas as pd\n",
    "import matplotlib.pyplot as plt\n",
    "import matplotlib.patches as mpatches\n",
    "from os.path import join\n",
    "from os import listdir\n",
    "import numpy as np\n",
    "import seaborn as sns"
   ]
  },
  {
   "cell_type": "markdown",
   "id": "encouraging-newcastle",
   "metadata": {},
   "source": [
    "## Delta"
   ]
  },
  {
   "cell_type": "code",
   "execution_count": 2,
   "id": "aquatic-reducing",
   "metadata": {},
   "outputs": [],
   "source": [
    "src = '../../data/simulation_results/delta/ensembles_TTI_delta_all'\n",
    "\n",
    "results = pd.DataFrame()\n",
    "for f in listdir(src):\n",
    "    tmp = pd.read_csv(join(src, f))\n",
    "    results = pd.concat([results, tmp])\n",
    "    \n",
    "results = results.reset_index(drop=True)\n",
    "# subtract the index case\n",
    "results['infected_agents'] = results['infected_agents'] - 1"
   ]
  },
  {
   "cell_type": "code",
   "execution_count": 3,
   "id": "accessory-porter",
   "metadata": {},
   "outputs": [
    {
     "name": "stdout",
     "output_type": "stream",
     "text": [
      "36.3% of index cases do not lead to an outbreak\n"
     ]
    }
   ],
   "source": [
    "print('{:1.1f}% of index cases do not lead to an outbreak'\\\n",
    "      .format(len(results[results['infected_agents'] == 0]) / len(results) * 100))"
   ]
  },
  {
   "cell_type": "code",
   "execution_count": 5,
   "id": "personalized-subcommittee",
   "metadata": {},
   "outputs": [
    {
     "data": {
      "text/plain": [
       "5229.545"
      ]
     },
     "execution_count": 5,
     "metadata": {},
     "output_type": "execute_result"
    }
   ],
   "source": [
    "results['infected_agents'].mean()"
   ]
  },
  {
   "cell_type": "code",
   "execution_count": 6,
   "id": "executive-enzyme",
   "metadata": {},
   "outputs": [
    {
     "data": {
      "text/plain": [
       "9128.0"
      ]
     },
     "execution_count": 6,
     "metadata": {},
     "output_type": "execute_result"
    }
   ],
   "source": [
    "results['infected_agents'].quantile(0.90)"
   ]
  },
  {
   "cell_type": "code",
   "execution_count": 7,
   "id": "breeding-garden",
   "metadata": {},
   "outputs": [
    {
     "data": {
      "text/plain": [
       "9211.0"
      ]
     },
     "execution_count": 7,
     "metadata": {},
     "output_type": "execute_result"
    }
   ],
   "source": [
    "results['infected_agents'].quantile(0.99)"
   ]
  },
  {
   "cell_type": "code",
   "execution_count": 8,
   "id": "monetary-possible",
   "metadata": {},
   "outputs": [
    {
     "data": {
      "text/plain": [
       "9307.0"
      ]
     },
     "execution_count": 8,
     "metadata": {},
     "output_type": "execute_result"
    }
   ],
   "source": [
    "results['infected_agents'].max()"
   ]
  },
  {
   "cell_type": "code",
   "execution_count": 9,
   "id": "deluxe-vintage",
   "metadata": {},
   "outputs": [
    {
     "data": {
      "image/png": "[encoded data removed]",
      "text/plain": [
       "<Figure size 432x288 with 1 Axes>"
      ]
     },
     "metadata": {
      "needs_background": "light"
     },
     "output_type": "display_data"
    }
   ],
   "source": [
    "fig, ax = plt.subplots()\n",
    "ax.hist(results[results['infected_agents'] > 0]['infected_agents'], rwidth=0.8,\n",
    "        bins=range(8500, 9500, 10), density=True);"
   ]
  },
  {
   "cell_type": "markdown",
   "id": "asian-offense",
   "metadata": {},
   "source": [
    "## Omicron"
   ]
  },
  {
   "cell_type": "code",
   "execution_count": 13,
   "id": "impressed-bundle",
   "metadata": {},
   "outputs": [],
   "source": [
    "src = '../../data/simulation_results/omicron/ensembles_TTI_omicron_all'\n",
    "\n",
    "results = pd.DataFrame()\n",
    "for f in listdir(src):\n",
    "    tmp = pd.read_csv(join(src, f))\n",
    "    results = pd.concat([results, tmp])\n",
    "    \n",
    "results = results.reset_index(drop=True)\n",
    "# subtract the index case\n",
    "results['infected_agents'] = results['infected_agents'] - 1"
   ]
  },
  {
   "cell_type": "code",
   "execution_count": 14,
   "id": "executive-adoption",
   "metadata": {},
   "outputs": [
    {
     "name": "stdout",
     "output_type": "stream",
     "text": [
      "41.4% of index cases do not lead to an outbreak\n"
     ]
    }
   ],
   "source": [
    "print('{:1.1f}% of index cases do not lead to an outbreak'\\\n",
    "      .format(len(results[results['infected_agents'] == 0]) / len(results) * 100))"
   ]
  },
  {
   "cell_type": "code",
   "execution_count": 15,
   "id": "spiritual-feelings",
   "metadata": {},
   "outputs": [
    {
     "data": {
      "text/plain": [
       "4778.856666666667"
      ]
     },
     "execution_count": 15,
     "metadata": {},
     "output_type": "execute_result"
    }
   ],
   "source": [
    "results['infected_agents'].mean()"
   ]
  },
  {
   "cell_type": "code",
   "execution_count": 16,
   "id": "bizarre-remains",
   "metadata": {},
   "outputs": [
    {
     "data": {
      "text/plain": [
       "9120.0"
      ]
     },
     "execution_count": 16,
     "metadata": {},
     "output_type": "execute_result"
    }
   ],
   "source": [
    "results['infected_agents'].quantile(0.90)"
   ]
  },
  {
   "cell_type": "code",
   "execution_count": 17,
   "id": "interim-penny",
   "metadata": {},
   "outputs": [
    {
     "data": {
      "text/plain": [
       "9203.080000000002"
      ]
     },
     "execution_count": 17,
     "metadata": {},
     "output_type": "execute_result"
    }
   ],
   "source": [
    "results['infected_agents'].quantile(0.99)"
   ]
  },
  {
   "cell_type": "code",
   "execution_count": 18,
   "id": "tutorial-furniture",
   "metadata": {},
   "outputs": [
    {
     "data": {
      "text/plain": [
       "9277.0"
      ]
     },
     "execution_count": 18,
     "metadata": {},
     "output_type": "execute_result"
    }
   ],
   "source": [
    "results['infected_agents'].max()"
   ]
  },
  {
   "cell_type": "code",
   "execution_count": 19,
   "id": "pending-ballot",
   "metadata": {},
   "outputs": [
    {
     "data": {
      "image/png": "[encoded data removed]",
      "text/plain": [
       "<Figure size 432x288 with 1 Axes>"
      ]
     },
     "metadata": {
      "needs_background": "light"
     },
     "output_type": "display_data"
    }
   ],
   "source": [
    "fig, ax = plt.subplots()\n",
    "ax.hist(results[results['infected_agents'] > 0]['infected_agents'], rwidth=0.8,\n",
    "        bins=range(8500, 9500, 10), density=True);"
   ]
  }
 ],
 "metadata": {
  "kernelspec": {
   "display_name": "Python 3",
   "language": "python",
   "name": "python3"
  },
  "language_info": {
   "codemirror_mode": {
    "name": "ipython",
    "version": 3
   },
   "file_extension": ".py",
   "mimetype": "text/x-python",
   "name": "python",
   "nbconvert_exporter": "python",
   "pygments_lexer": "ipython3",
   "version": "3.8.8"
  }
 },
 "nbformat": 4,
 "nbformat_minor": 5
}
