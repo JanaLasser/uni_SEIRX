{
 "cells": [
  {
   "cell_type": "markdown",
   "id": "atomic-growth",
   "metadata": {},
   "source": [
    "# Calibration"
   ]
  },
  {
   "cell_type": "code",
   "execution_count": 1,
   "id": "minor-appliance",
   "metadata": {},
   "outputs": [],
   "source": [
    "import numpy as np\n",
    "import pandas as pd\n",
    "import numpy as np\n",
    "from os.path import join\n",
    "import json\n",
    "\n",
    "import matplotlib.pyplot as plt\n",
    "from mpl_toolkits.axes_grid1 import make_axes_locatable\n",
    "import matplotlib.patches as patches\n",
    "\n",
    "# custom functions to run the calibration simulations\n",
    "import calibration_functions as cf\n",
    "\n",
    "# parallelisation functionality\n",
    "from multiprocess import Pool\n",
    "import psutil\n",
    "from tqdm import tqdm"
   ]
  },
  {
   "cell_type": "markdown",
   "id": "saved-argentina",
   "metadata": {},
   "source": [
    "## Empirical outbreak data"
   ]
  },
  {
   "cell_type": "code",
   "execution_count": 3,
   "id": "competitive-medicine",
   "metadata": {},
   "outputs": [],
   "source": [
    "empirical_data_src = '../../data/school_data/empirical_observations/'\n",
    "\n",
    "# distribution of outbreak sizes by school type\n",
    "outbreak_sizes = pd.read_csv(\\\n",
    "            join(empirical_data_src, 'empirical_outbreak_sizes.csv'))\n",
    "# ratio of infections in the student and teacher groups\n",
    "group_distributions = pd.read_csv(\\\n",
    "            join(empirical_data_src, 'empirical_group_distributions.csv'))"
   ]
  },
  {
   "cell_type": "code",
   "execution_count": 4,
   "id": "actual-packet",
   "metadata": {},
   "outputs": [],
   "source": [
    "# note: these are the number of clusters per school type from the slightly older\n",
    "# data version (November 2020). \n",
    "counts = pd.DataFrame({'type':['upper_secondary', 'secondary'],\n",
    "                      'count':[116, 70]})\n",
    "\n",
    "counts.index = counts['type']\n",
    "counts = counts.drop(columns=['type'])\n",
    "# The cluster counts are used to weigh the respective school type in the \n",
    "# calibration process.\n",
    "counts['weight'] = counts['count'] / counts['count'].sum()"
   ]
  },
  {
   "cell_type": "markdown",
   "id": "66e6c504-0538-40e4-b33f-01e0f97f78b0",
   "metadata": {},
   "source": [
    "## Re-run the school calibration"
   ]
  },
  {
   "cell_type": "code",
   "execution_count": null,
   "id": "e36c6aa6-4b08-48ef-b594-253d324afb62",
   "metadata": {},
   "outputs": [],
   "source": [
    "# List of prevention measures that were in place in schools in the weeks 36-45\n",
    "# of the year 2020 in Austrian schools. This list was compiled from information\n",
    "# collected in interviews with teachers of different school types. NOTE: so far\n",
    "# there are no recorded differences between school types.\n",
    "with open('params/calibration_measures.json', 'r') as fp:\n",
    "    prevention_measures = json.load(fp)\n",
    "# simulation parameters, specifically the\n",
    "# - base transmission risk (calibrated from household transmissions)\n",
    "# - subclinical transmission modifier (literature value)\n",
    "# - exposure duration, time until symtpoms and infection duration (lit. values)\n",
    "# - age symptom discount (fit to empirical observations)\n",
    "with open('params/calibration_simulation_parameters.json', 'r') as fp:\n",
    "    simulation_params = json.load(fp)\n",
    "# characteristics (# classes, # students / class, # teachers) of the \"average\" \n",
    "# school, depending on school type. These characteristics were determined in \n",
    "# interviews with Austrian teachers and from statistics about Austrian schools \n",
    "# (year 2017/18, page 10: https://www.bmbwf.gv.at/Themen/schule/schulsystem/gd.html)\n",
    "# NOTE: \"students\" indicates the number of students per class\n",
    "with open('params/calibration_school_characteristics.json', 'r') as fp:\n",
    "    school_characteristics = json.load(fp)"
   ]
  },
  {
   "cell_type": "markdown",
   "id": "lightweight-bradford",
   "metadata": {},
   "source": [
    "## Simulation data"
   ]
  },
  {
   "cell_type": "markdown",
   "id": "assumed-collar",
   "metadata": {},
   "source": [
    "### Simulation parameters"
   ]
  },
  {
   "cell_type": "code",
   "execution_count": 17,
   "id": "express-branch",
   "metadata": {},
   "outputs": [
    {
     "name": "stdout",
     "output_type": "stream",
     "text": [
      "values for the base transmission risk rescaled by the modifier [%]:\n",
      "[3.81754 3.98352 4.1495  4.31548 4.48146 4.64744 4.81342 4.9794  5.14538\n",
      " 5.31136 5.47734 5.64332 5.8093 ]\n",
      "\n",
      "parameter value step rescaled by the modifier [%]: 0.17\n"
     ]
    }
   ],
   "source": [
    "# school types over which the calibration was run\n",
    "school_types = ['upper_secondary', 'secondary']\n",
    "\n",
    "# the way the simulation framework is set up, it works with a \"base transmission risk\"\n",
    "# for a household contact, that is then multiplied by a modifier for a different contact\n",
    "# setting. What we calibrate is this modifier.\n",
    "base_transmission_risk = 0.16598\n",
    "\n",
    "transmission_risk_modifier = np.asarray([0.23, 0.24, 0.25, 0.26, 0.27, 0.28, 0.29,\n",
    "                     0.30, 0.31, 0.32, 0.33, 0.34, 0.35])\n",
    "\n",
    "# For the school simulations, we also calibrated a modifier for student age\n",
    "# (the \"age transmission discount\"). The calibration showed no age dependence\n",
    "# but since we re-use data from the calibration that was done for the school\n",
    "# simulations, we carry these parameter values with us and use them to access\n",
    "# the simulation result files.\n",
    "\n",
    "# The age_transmission_discount sets the slope of the age-dependence of the \n",
    "# transmission risk. Transmission risk for adults (age 18+) is always base \n",
    "# transmission risk. For every year an agent is younger than 18 years, the\n",
    "# transmission risk is reduced. Parameter values are chosen around the optimum \n",
    "# from the previous random sampling search\n",
    "age_transmission_discounts = [0.00, -0.0025, -0.005, -0.0075, -0.01,\n",
    "                                   -0.0125, -0.015, -0.0175, -0.02,\n",
    "                                   -0.0225, -0.025, -0.0275, -0.03]\n",
    "\n",
    "# list of all possible parameter combinations from the grid\n",
    "screening_params = [(i, j, j, k) for i in school_types \\\n",
    "                    for j in transmission_risk_modifier \\\n",
    "                    for k in age_transmission_discounts]\n",
    "\n",
    "\n",
    "print('values for the base transmission risk rescaled by the modifier [%]:')\n",
    "print(transmission_risk_modifier * base_transmission_risk * 100)\n",
    "print()\n",
    "print('parameter value step rescaled by the modifier [%]: {:1.2f}'\\\n",
    "      .format(transmission_risk_modifier[1] * base_transmission_risk * 100 -\\\n",
    "              transmission_risk_modifier[0] * base_transmission_risk * 100))"
   ]
  },
  {
   "cell_type": "markdown",
   "id": "functioning-illinois",
   "metadata": {},
   "source": [
    "### Load data for upper secondary and secondary schools"
   ]
  },
  {
   "cell_type": "code",
   "execution_count": 18,
   "id": "sensitive-license",
   "metadata": {},
   "outputs": [
    {
     "name": "stdout",
     "output_type": "stream",
     "text": [
      "0/338\n",
      "100/338\n",
      "200/338\n",
      "300/338\n"
     ]
    }
   ],
   "source": [
    "# calculate the various distribution distances between the simulated and\n",
    "# observed outbreak size distributions\n",
    "src = '../../data/school_data/simulation_results'\n",
    "\n",
    "results_fine = pd.DataFrame()\n",
    "for i, ep in enumerate(screening_params):\n",
    "    school_type, icw, fcw, atd = ep\n",
    "    if i % 100 == 0:\n",
    "        print('{}/{}'.format(i, len(screening_params)))\n",
    "    fname = 'school_type-{}_icw-{:1.2f}_fcw-{:1.2f}_atd-{:1.4f}_infected.csv'\\\n",
    "        .format(school_type, icw, fcw, atd)\n",
    "    ensemble_results = pd.read_csv(join(src, fname), \n",
    "            dtype={'infected_students':int, 'infected_teachers':int,\n",
    "                   'infected_total':int, 'run':int})\n",
    "    row = cf.calculate_distances(ensemble_results, school_type, icw, fcw, atd,\n",
    "                       outbreak_sizes, group_distributions)\n",
    "    \n",
    "    results_fine = results_fine.append(row, ignore_index=True)"
   ]
  },
  {
   "cell_type": "code",
   "execution_count": 6,
   "id": "herbal-friendship",
   "metadata": {},
   "outputs": [
    {
     "name": "stdout",
     "output_type": "stream",
     "text": [
      "number of runs per ensemble: 4000\n"
     ]
    }
   ],
   "source": [
    "print('number of runs per ensemble: {}'.format(len(ensemble_results))) "
   ]
  },
  {
   "cell_type": "markdown",
   "id": "understanding-nutrition",
   "metadata": {},
   "source": [
    "## Calculate distances between empirical and simulated data"
   ]
  },
  {
   "cell_type": "code",
   "execution_count": 19,
   "id": "pleasant-argentina",
   "metadata": {},
   "outputs": [],
   "source": [
    "# collection of different distance metrics to try\n",
    "distance_cols = [\n",
    "    'sum_of_squares',\n",
    "    'chi2_distance',\n",
    "    'bhattacharyya_distance',\n",
    "    'spearmanr_difference',\n",
    "    'pearsonr_difference',\n",
    "    'pp_difference',\n",
    "    'qq_difference',\n",
    "]"
   ]
  },
  {
   "cell_type": "code",
   "execution_count": 20,
   "id": "beginning-bowling",
   "metadata": {},
   "outputs": [],
   "source": [
    "results_fine = results_fine.sort_values(by=['school_type',\n",
    "                'intermediate_contact_weight', 'age_transmission_discount'])\n",
    "results_fine = results_fine.reset_index(drop=True)\n",
    "\n",
    "for col in distance_cols:\n",
    "    results_fine[col + '_total'] = results_fine[col + '_size'] + \\\n",
    "                    results_fine['sum_of_squares_distro']\n",
    "    results_fine[col + '_total_weighted'] = results_fine[col + '_total']\n",
    "    \n",
    "    for i, row in results_fine.iterrows():\n",
    "        st = row['school_type']\n",
    "        weight = counts.loc[st, 'weight']\n",
    "        error = row[col + '_total']\n",
    "        results_fine.loc[i, col + '_total_weighted'] = error * weight"
   ]
  },
  {
   "cell_type": "markdown",
   "id": "choice-velvet",
   "metadata": {},
   "source": [
    "## Find optimal parameter values"
   ]
  },
  {
   "cell_type": "code",
   "execution_count": 21,
   "id": "better-terminal",
   "metadata": {},
   "outputs": [
    {
     "name": "stdout",
     "output_type": "stream",
     "text": [
      "sum_of_squares\n",
      "optimal grid search parameter combination:\n",
      "\t contact weight: 0.260\n",
      "\t age transmission discount: 0.0000\n",
      "\n",
      "chi2_distance\n",
      "optimal grid search parameter combination:\n",
      "\t contact weight: 0.260\n",
      "\t age transmission discount: 0.0000\n",
      "\n",
      "bhattacharyya_distance\n",
      "optimal grid search parameter combination:\n",
      "\t contact weight: 0.240\n",
      "\t age transmission discount: -0.0300\n",
      "\n",
      "spearmanr_difference\n",
      "optimal grid search parameter combination:\n",
      "\t contact weight: 0.230\n",
      "\t age transmission discount: -0.0075\n",
      "\n",
      "pearsonr_difference\n",
      "optimal grid search parameter combination:\n",
      "\t contact weight: 0.250\n",
      "\t age transmission discount: 0.0000\n",
      "\n",
      "pp_difference\n",
      "optimal grid search parameter combination:\n",
      "\t contact weight: 0.240\n",
      "\t age transmission discount: -0.0050\n",
      "\n",
      "qq_difference\n",
      "optimal grid search parameter combination:\n",
      "\t contact weight: 0.320\n",
      "\t age transmission discount: -0.0225\n",
      "\n"
     ]
    }
   ],
   "source": [
    "agg_results_fine = results_fine\\\n",
    "    .drop(columns=['far_contact_weight'])\\\n",
    "    .rename(columns={'intermediate_contact_weight':'contact_weight'})\\\n",
    "    .groupby(['contact_weight',\n",
    "              'age_transmission_discount'])\\\n",
    "    .sum()\n",
    "\n",
    "for col in distance_cols:\n",
    "    print(col)\n",
    "    opt_fine = agg_results_fine.loc[\\\n",
    "            agg_results_fine[col + '_total_weighted'].idxmin()].name\n",
    "    opt_contact_weight_fine = opt_fine[0]\n",
    "    opt_age_transmission_discount_fine = opt_fine[1]\n",
    "\n",
    "    print('optimal grid search parameter combination:')\n",
    "    print('\\t contact weight: {:1.3f}'\\\n",
    "          .format(opt_contact_weight_fine))\n",
    "    print('\\t age transmission discount: {:1.4f}'\\\n",
    "          .format(opt_age_transmission_discount_fine))\n",
    "    print()"
   ]
  },
  {
   "cell_type": "markdown",
   "id": "tutorial-beginning",
   "metadata": {},
   "source": [
    "## Visualise distances"
   ]
  },
  {
   "cell_type": "code",
   "execution_count": 22,
   "id": "packed-chinese",
   "metadata": {},
   "outputs": [],
   "source": [
    "# compose matrices of the distance measurements for all different distance\n",
    "# metrics which are calculated as sum between the first component (ratio of\n",
    "# infected students and teachers) and the second component (outbreak size\n",
    "# distribution)\n",
    "distance_images = {}\n",
    "for col in distance_cols:\n",
    "    img_fine = np.zeros((len(contact_weights_fine),\n",
    "                    len(age_transmission_discounts_fine)))\n",
    "    for i, cw in enumerate(contact_weights_fine):\n",
    "        for j, atd in enumerate(age_transmission_discounts_fine):\n",
    "            cw = round(cw, 2)\n",
    "            atd = round(atd, 4)\n",
    "            try:\n",
    "                img_fine[i, j] = agg_results_fine\\\n",
    "                    .loc[cw, atd][col + '_total_weighted']\n",
    "            except KeyError:\n",
    "                print(atd)\n",
    "                img_fine[i, j] = np.nan\n",
    "    distance_images[col] = img_fine"
   ]
  },
  {
   "cell_type": "code",
   "execution_count": 23,
   "id": "turkish-chuck",
   "metadata": {},
   "outputs": [],
   "source": [
    "# qq and spearman are super noisy, exclude them for further analysis\n",
    "distance_col_names = {\n",
    "    'sum_of_squares':'Sum of squares',\n",
    "    'chi2_distance':'$\\\\chi^2$',\n",
    "    'bhattacharyya_distance':'Bhattacharyya',\n",
    "    'spearmanr_difference': 'Spearman correlation',\n",
    "    'pearsonr_difference':'Pearson correlation',\n",
    "    'pp_difference':'pp-slope',\n",
    "    'qq_difference':'qq-slope'\n",
    "}"
   ]
  },
  {
   "cell_type": "code",
   "execution_count": 24,
   "id": "chinese-howard",
   "metadata": {},
   "outputs": [
    {
     "data": {
      "image/png": "[encoded data removed]",
      "text/plain": [
       "<Figure size 1080x432 with 15 Axes>"
      ]
     },
     "metadata": {
      "needs_background": "light"
     },
     "output_type": "display_data"
    }
   ],
   "source": [
    "fig, axes = plt.subplots(2, 4, figsize=(15, 6))\n",
    "\n",
    "for ax, col in zip(axes.flatten(), distance_col_names.keys()):\n",
    "    img_fine = distance_images[col]\n",
    "    im = ax.imshow(img_fine)\n",
    "    ax.set_yticks(range(len(contact_weights_fine))[::2])\n",
    "    ax.set_yticklabels(['{:1.2f}'.format(cw) for \\\n",
    "                        cw in contact_weights_fine[::2]])\n",
    "    #ax.set_xticks(range(len(age_transmission_discounts_fine))[::2])\n",
    "    ax.set_xticks([0, 4, 8, 12])\n",
    "    ax.set_xticklabels(['0.00', '-0.01', '-0.02', '-0.03'])\n",
    "    #ax.set_xticklabels(['{:1.4f}'.format(atd) for \\\n",
    "    #                    atd in age_transmission_discounts_fine[::2]],\n",
    "    #                    fontsize=8)\n",
    "    ax.set_title(distance_col_names[col], fontsize=16)\n",
    "\n",
    "    divider = make_axes_locatable(ax)\n",
    "    cax = divider.append_axes('right', size='5%', pad=0.05)\n",
    "    cbar = fig.colorbar(im, cax=cax, orientation='vertical', format='%.0e')\n",
    "    cbar.ax.tick_params(labelsize=8)\n",
    "    cbar.set_label('$E$', fontsize=12)\n",
    "\n",
    "    ax.spines['right'].set_visible(False)\n",
    "    ax.spines['top'].set_visible(False)\n",
    "\n",
    "    ax.set_ylabel('$c_\\\\mathrm{contact}$', fontsize=16)\n",
    "    ax.set_xlabel('$c_\\\\mathrm{age}$', fontsize=16)\n",
    "\n",
    "axes[1, 3].axis('off')\n",
    "\n",
    "fig.text(0.061, 0.875, 'A', color='w', fontsize=20)\n",
    "fig.text(0.312, 0.875, 'B', color='w', fontsize=20)\n",
    "fig.text(0.56, 0.875, 'C', color='w', fontsize=20)\n",
    "fig.text(0.808, 0.875, 'D', color='w', fontsize=20)\n",
    "fig.text(0.061, 0.395, 'E', color='w', fontsize=20)\n",
    "fig.text(0.312, 0.395, 'F', color='w', fontsize=20)\n",
    "fig.text(0.56, 0.395, 'G', color='w', fontsize=20)\n",
    "\n",
    "fig.tight_layout()"
   ]
  },
  {
   "cell_type": "markdown",
   "id": "thermal-firmware",
   "metadata": {},
   "source": [
    "## Confidence intervals for the optimum values"
   ]
  },
  {
   "cell_type": "code",
   "execution_count": 30,
   "id": "listed-moment",
   "metadata": {},
   "outputs": [],
   "source": [
    "def run_bootstrap(params):\n",
    "    src = '../../data/calibration/simulation_results/ensembles_fine_ensemble_distributions'\n",
    "    ensemble_results, st, icw, fcw, atd, outbreak_sizes, \\\n",
    "    group_distributions, bootstrap_run = params\n",
    "    \n",
    "    row = cf.calculate_distances(ensemble_results, st, icw, fcw, atd,\n",
    "                       outbreak_sizes, group_distributions)\n",
    "    \n",
    "    row.update({'bootstrap_run':bootstrap_run})\n",
    "    \n",
    "    return row"
   ]
  },
  {
   "cell_type": "code",
   "execution_count": null,
   "id": "earlier-australia",
   "metadata": {},
   "outputs": [],
   "source": [
    "# calculate the various distribution distances between the simulated and\n",
    "# observed outbreak size distributions. Note: \n",
    "\n",
    "dst = '../../data/school_data/simulation_results/'\n",
    "N_bootstrap = 1000 # number of subsamplings per parameter combination\n",
    "number_of_cores = 10\n",
    "\n",
    "bootstrapping_results = pd.DataFrame()\n",
    "for i, ep in enumerate(screening_params):\n",
    "    school_type, icw, fcw, atd = ep\n",
    "    if i % 100 == 0:\n",
    "        print('{}/{}'.format(i, len(screening_params)))\n",
    "        \n",
    "    fname = 'school_type-{}_icw-{:1.2f}_fcw-{:1.2f}_atd-{:1.4f}_infected.csv'\\\n",
    "        .format(school_type, icw, fcw, atd)\n",
    "    ensemble_results = pd.read_csv(join(src, fname), \n",
    "            dtype={'infected_students':int, 'infected_teachers':int,\n",
    "                   'infected_total':int, 'run':int})\n",
    "    \n",
    "    bootstrap_params = [(ensemble_results.sample(2000), school_type, icw, fcw, \\\n",
    "                        atd, outbreak_sizes, group_distributions, j) \\\n",
    "                        for j in range(N_bootstrap)]\n",
    "    \n",
    "    number_of_cores = number_of_cores = psutil.cpu_count(logical=True) - 2\n",
    "    pool = Pool(number_of_cores)\n",
    "\n",
    "    for res in tqdm(pool.imap_unordered(func=run_bootstrap,\n",
    "                    iterable=bootstrap_params), total=len(bootstrap_params)):\n",
    "        bootstrapping_results = bootstrapping_results\\\n",
    "            .append(res, ignore_index=True)\n",
    "    \n",
    "bootstrapping_results.to_csv(join(dst, 'bootstrapping_results_{}.csv'\\\n",
    "                                .format(N_bootstrap)), index=False)"
   ]
  },
  {
   "cell_type": "code",
   "execution_count": 32,
   "id": "capable-optimum",
   "metadata": {},
   "outputs": [],
   "source": [
    "dst = '../../data/school_data/simulation_results/'\n",
    "N_bootstrap = 1000\n",
    "bs_results = pd.read_csv(join(dst, 'bootstrapping_results_{}.csv'\\\n",
    "                                .format(N_bootstrap)))\n",
    "bs_results = bs_results\\\n",
    "    .rename(columns={'intermediate_contact_weight':'contact_weight'})\\\n",
    "    .drop(columns=['far_contact_weight'])\n",
    "\n",
    "# calculated the weighted sum of error terms for all distance measures\n",
    "for col in distance_cols:\n",
    "    bs_results[col + '_total'] = \\\n",
    "        bs_results[col + '_size'] + bs_results['sum_of_squares_distro']\n",
    "    bs_results[col + '_total_weighted'] = bs_results[col + '_total']\n",
    "        \n",
    "    for st in school_types:\n",
    "        weight = counts.loc[st, 'weight']\n",
    "        st_indices = bs_results[bs_results['school_type'] == st].index\n",
    "        bs_results.loc[st_indices, col + '_total_weighted'] = \\\n",
    "            bs_results.loc[st_indices, col + '_total'] * weight"
   ]
  },
  {
   "cell_type": "code",
   "execution_count": 33,
   "id": "graphic-vessel",
   "metadata": {},
   "outputs": [],
   "source": [
    "agg_bs_results = bs_results\\\n",
    "    .groupby(['contact_weight',\n",
    "              'age_transmission_discount',\n",
    "              'bootstrap_run'])\\\n",
    "    .sum()"
   ]
  },
  {
   "cell_type": "code",
   "execution_count": 34,
   "id": "genetic-territory",
   "metadata": {},
   "outputs": [],
   "source": [
    "opt_bs = pd.DataFrame()\n",
    "for i in range(N_bootstrap):\n",
    "    run_data = agg_bs_results.loc[:, :, i]\n",
    "    row = {'bootstrap_run':i}\n",
    "    for col in distance_cols:\n",
    "        opt = run_data.loc[\\\n",
    "                run_data[col + '_total_weighted'].idxmin()].name\n",
    "        opt_contact_weight_bs = opt[0]\n",
    "        opt_age_transmission_discount_bs = opt[1]\n",
    "        row.update({\n",
    "            'contact_weight_' + col:opt_contact_weight_bs,\n",
    "            'age_transmission_discount_' + col:opt_age_transmission_discount_bs\n",
    "        })\n",
    "\n",
    "    opt_bs = opt_bs.append(row, ignore_index=True)"
   ]
  },
  {
   "cell_type": "code",
   "execution_count": 39,
   "id": "according-sheriff",
   "metadata": {},
   "outputs": [
    {
     "name": "stdout",
     "output_type": "stream",
     "text": [
      "sum_of_squares: contact weight 0.041495 [0.0381754; 0.0464744] (mean 0.0416), atd -0.0025 [-0.0225; 0.0]\n",
      "chi2_distance: contact weight 0.0431548 [0.0381754; 0.0464744] (mean 0.0423), atd 0.0 [-0.015; 0.0]\n",
      "bhattacharyya_distance: contact weight 0.039835199999999994 [0.0381754; 0.0448146] (mean 0.0406), atd -0.02 [-0.03; 0.0]\n",
      "spearmanr_difference: contact weight 0.0381754 [0.0381754; 0.041495] (mean 0.0389), atd -0.025 [-0.03; -0.0025]\n",
      "pearsonr_difference: contact weight 0.0448146 [0.039835199999999994; 0.048134199999999995] (mean 0.0439), atd -0.005 [-0.025; 0.0]\n",
      "pp_difference: contact weight 0.039835199999999994 [0.0381754; 0.041495] (mean 0.0392), atd -0.0075 [-0.03; -0.0025]\n",
      "qq_difference: contact weight 0.0547734 [0.048134199999999995; 0.05809299999999999] (mean 0.0547), atd -0.0075 [-0.0225; 0.0]\n"
     ]
    }
   ],
   "source": [
    "uncertainties_cw = []\n",
    "medians_cw = []\n",
    "uncertainties_atd = []\n",
    "medians_atd = []\n",
    "for col in distance_cols:\n",
    "    median = opt_bs['contact_weight_' + col].median() * base_transmission_risk\n",
    "    mean = opt_bs['contact_weight_' + col].mean() * base_transmission_risk\n",
    "    low = opt_bs['contact_weight_' + col].quantile(0.025) * base_transmission_risk\n",
    "    high = opt_bs['contact_weight_' + col].quantile(0.975) * base_transmission_risk\n",
    "    \n",
    "    atd_median = opt_bs['age_transmission_discount_' + col].median()\n",
    "    atd_mean = opt_bs['age_transmission_discount_' + col].mean()\n",
    "    atd_low = opt_bs['age_transmission_discount_' + col].quantile(0.025)\n",
    "    atd_high = opt_bs['age_transmission_discount_' + col].quantile(0.975)\n",
    "    \n",
    "    print('{}: contact weight {} [{}; {}] (mean {:1.4f}), atd {} [{}; {}]'\\\n",
    "          .format(col, median, low, high, mean, atd_median, atd_low, atd_high, atd_mean))\n",
    "    \n",
    "    uncertainties_cw.append(high - low)\n",
    "    uncertainties_atd.append(atd_high - atd_low)\n",
    "    medians_cw.append(median)\n",
    "    medians_atd.append(atd_median)"
   ]
  }
 ],
 "metadata": {
  "kernelspec": {
   "display_name": "Python 3 (ipykernel)",
   "language": "python",
   "name": "python3"
  },
  "language_info": {
   "codemirror_mode": {
    "name": "ipython",
    "version": 3
   },
   "file_extension": ".py",
   "mimetype": "text/x-python",
   "name": "python",
   "nbconvert_exporter": "python",
   "pygments_lexer": "ipython3",
   "version": "3.9.7"
  }
 },
 "nbformat": 4,
 "nbformat_minor": 5
}
