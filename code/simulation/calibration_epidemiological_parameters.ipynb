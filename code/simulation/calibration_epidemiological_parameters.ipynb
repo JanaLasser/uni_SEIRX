{
 "cells": [
  {
   "cell_type": "markdown",
   "id": "correct-triumph",
   "metadata": {},
   "source": [
    "# Calibration of epidemiological parameters"
   ]
  },
  {
   "cell_type": "code",
   "execution_count": 1,
   "id": "jewish-batman",
   "metadata": {},
   "outputs": [],
   "source": [
    "import numpy as np\n",
    "import matplotlib.pyplot as plt\n",
    "import pandas as pd\n",
    "from os.path import join\n",
    "from scipy.optimize import root_scalar\n",
    "from math import gamma\n",
    "\n",
    "# parallelisation functionality\n",
    "from multiprocess import Pool\n",
    "import psutil\n",
    "from tqdm import tqdm"
   ]
  },
  {
   "cell_type": "markdown",
   "id": "5fe2d36d-b5cc-4a0f-a191-80bb7113a99b",
   "metadata": {},
   "source": [
    "**Note:** Somehow the parallelization does not work if the functions are imported from a home-brew library and not defined within the notebook."
   ]
  },
  {
   "cell_type": "code",
   "execution_count": 6,
   "id": "fdb7bff8-0e67-43e8-b8ec-1967edb5c0ae",
   "metadata": {},
   "outputs": [],
   "source": [
    "def weibull_two_param(shape, scale):\n",
    "    '''\n",
    "    A two-parameter Weibull distribution, based on numpy ramdon's single \n",
    "    parameter distribution. We use this distribution in the simulation to draw\n",
    "    random epidemiological parameters for agents from the given distribution\n",
    "    See https://numpy.org/doc/stable/reference/random/generated/numpy.random.weibull.html\n",
    "    '''\n",
    "    return scale * np.random.weibull(shape)\n",
    "\n",
    "\n",
    "def get_weibull_shape(k, mu, var):\n",
    "    '''\n",
    "    Calculates the shape parameter of a Weibull distribution, given its mean\n",
    "    mu and its variance var\n",
    "    '''\n",
    "    return var / mu**2 - gamma(1 + 2/k) / gamma(1+1/k)**2 + 1\n",
    "\n",
    "\n",
    "\n",
    "def get_weibull_scale(mu, k):\n",
    "    '''\n",
    "    Calculates the scale parameter of a Weibull distribution, given its mean\n",
    "    mu and its shape parameter k\n",
    "    '''\n",
    "    return mu / gamma(1 + 1/k)\n",
    "\n",
    "def get_true_epi_params(p):\n",
    "    N, e, t, i, e_std, t_std, i_std = p\n",
    "    curr_epi_params = {\n",
    "        \"exposure_duration\":{\"mean\":e, \"std\":e_std},\n",
    "        \"time_until_symptoms\":{\"mean\":t, \"std\":t_std},\n",
    "        \"infection_duration\":{\"mean\":i, \"std\":i_std}\n",
    "    }\n",
    "    for param_name in curr_epi_params.keys():\n",
    "        mu = curr_epi_params[param_name][\"mean\"]\n",
    "        var = curr_epi_params[param_name][\"std\"]**2\n",
    "        shape = root_scalar(get_weibull_shape, args=(mu, var),\n",
    "                    method='toms748', bracket=[0.2, 500]).root\n",
    "        scale = get_weibull_scale(mu, shape)\n",
    "        curr_epi_params[param_name][\"shape\"] = shape\n",
    "        curr_epi_params[param_name][\"scale\"] = scale\n",
    "    \n",
    "    exposure_duration = []\n",
    "    time_until_symptoms = []\n",
    "    infection_duration = []\n",
    "    for i in range(N):\n",
    "        tmp_epi_params = {}\n",
    "        while True:\n",
    "            for param_name in curr_epi_params.keys():\n",
    "                tmp_epi_params[param_name] = \\\n",
    "                    round(weibull_two_param(curr_epi_params[param_name][\"shape\"],\n",
    "                                            curr_epi_params[param_name][\"scale\"]))\n",
    "\n",
    "            if (tmp_epi_params['exposure_duration'] >= 1) and \\\n",
    "               (tmp_epi_params['time_until_symptoms'] >= \\\n",
    "               tmp_epi_params['exposure_duration']) and\\\n",
    "               (tmp_epi_params['infection_duration'] >= \\\n",
    "               tmp_epi_params['time_until_symptoms']):\n",
    "               break\n",
    "\n",
    "        exposure_duration.append(tmp_epi_params['exposure_duration'])\n",
    "        time_until_symptoms.append(tmp_epi_params['time_until_symptoms'])\n",
    "        infection_duration.append(tmp_epi_params['infection_duration'])\n",
    "\n",
    "    exposure_duration = np.asarray(exposure_duration)\n",
    "    time_until_symptoms = np.asarray(time_until_symptoms)\n",
    "    infection_duration = np.asarray(infection_duration)\n",
    "    \n",
    "    row = {\n",
    "        'e_mean':curr_epi_params[\"exposure_duration\"][\"mean\"],\n",
    "        'e_std':curr_epi_params[\"exposure_duration\"][\"std\"],\n",
    "        't_mean':curr_epi_params[\"time_until_symptoms\"][\"mean\"],\n",
    "        't_std':curr_epi_params[\"time_until_symptoms\"][\"std\"],\n",
    "        'i_mean':curr_epi_params[\"infection_duration\"][\"mean\"],\n",
    "        'i_std':curr_epi_params[\"infection_duration\"][\"std\"],\n",
    "        'true_e_mean':exposure_duration.mean(),\n",
    "        'true_e_std':exposure_duration.std(),\n",
    "        'true_t_mean':time_until_symptoms.mean(),\n",
    "        'true_t_std':time_until_symptoms.std(),\n",
    "        'true_i_mean':infection_duration.mean(),\n",
    "        'true_i_std':infection_duration.std()\n",
    "    }\n",
    "    return row"
   ]
  },
  {
   "cell_type": "markdown",
   "id": "expressed-moisture",
   "metadata": {},
   "source": [
    "## Wild type"
   ]
  },
  {
   "cell_type": "code",
   "execution_count": 7,
   "id": "infinite-switzerland",
   "metadata": {},
   "outputs": [],
   "source": [
    "expected_epi_params = {\n",
    "    \"exposure_duration\":{\"mean\":5.0, \"std\":1.9},\n",
    "    \"time_until_symptoms\":{\"mean\":6.4, \"std\":0.8},\n",
    "    \"infection_duration\":{\"mean\":10.91, \"std\":3.95}\n",
    "}"
   ]
  },
  {
   "cell_type": "markdown",
   "id": "sealed-count",
   "metadata": {},
   "source": [
    "### Coarse grid search"
   ]
  },
  {
   "cell_type": "code",
   "execution_count": 53,
   "id": "patient-wisconsin",
   "metadata": {},
   "outputs": [
    {
     "name": "stdout",
     "output_type": "stream",
     "text": [
      "194400 parameter combinations\n"
     ]
    }
   ],
   "source": [
    "N = 1000\n",
    "step = 0.2\n",
    "exposure_durations = np.arange(4.5, 7.5 + step, step)\n",
    "times_until_symtoms = np.arange(5.6, 7 + step, step)\n",
    "infection_durations = np.arange(8.5, 10.0 + step, step)\n",
    "\n",
    "step = 0.25\n",
    "exposure_duration_stds = np.arange(1.5, 2.4 + step, step)\n",
    "times_until_symtoms_stds = np.arange(0.2, 1.4 + step, step)\n",
    "infection_durations_stds = np.arange(3, 5 + step * 2, step * 2)\n",
    "\n",
    "param_combinations = [(N, e, t, i, e_std, t_std, i_std) \\\n",
    "                                for e in exposure_durations \\\n",
    "                                for t in times_until_symtoms \\\n",
    "                                for i in infection_durations \\\n",
    "                                for e_std in exposure_duration_stds \\\n",
    "                                for t_std in times_until_symtoms_stds \\\n",
    "                                for i_std in infection_durations_stds]\n",
    "print(f\"{len(param_combinations)} parameter combinations\")"
   ]
  },
  {
   "cell_type": "code",
   "execution_count": null,
   "id": "listed-intake",
   "metadata": {},
   "outputs": [
    {
     "name": "stderr",
     "output_type": "stream",
     "text": [
      "  0%|                                                                                                                                          | 0/194400 [00:00<?, ?it/s]\n"
     ]
    }
   ],
   "source": [
    "results = pd.DataFrame()\n",
    "\n",
    "pool = Pool(10)\n",
    "for row in tqdm(\n",
    "        pool.imap_unordered(\n",
    "            func=get_true_epi_params, \n",
    "            iterable=param_combinations),\n",
    "            total=len(param_combinations)\n",
    "    ):\n",
    "    results = results.append(row, ignore_index=True)\n",
    "pool.close()\n",
    "\n",
    "results[\"e_mean_diff\"] = results[\"true_e_mean\"]\\\n",
    "    .apply(lambda x: (x - expected_epi_params[\"exposure_duration\"][\"mean\"]) ** 2)\n",
    "results[\"e_std_diff\"] = results[\"true_e_std\"]\\\n",
    "    .apply(lambda x: (x - expected_epi_params[\"exposure_duration\"][\"std\"]) ** 2)\n",
    "results[\"t_mean_diff\"] = results[\"true_t_mean\"]\\\n",
    "    .apply(lambda x: (x - expected_epi_params[\"time_until_symptoms\"][\"mean\"]) ** 2)\n",
    "results[\"t_std_diff\"] = results[\"true_t_std\"]\\\n",
    "    .apply(lambda x: (x - expected_epi_params[\"time_until_symptoms\"][\"std\"]) ** 2)\n",
    "results[\"i_mean_diff\"] = results[\"true_i_mean\"]\\\n",
    "    .apply(lambda x: (x - expected_epi_params[\"infection_duration\"][\"mean\"]) ** 2)\n",
    "results[\"i_std_diff\"] = results[\"true_i_std\"]\\\n",
    "    .apply(lambda x: (x - expected_epi_params[\"infection_duration\"][\"std\"]) ** 2)\n",
    "\n",
    "results[\"mean_diff\"] = results[\"e_mean_diff\"] + results[\"t_mean_diff\"] + results[\"i_mean_diff\"]\n",
    "results[\"std_diff\"] = results[\"e_std_diff\"] + results[\"t_std_diff\"] + results[\"i_std_diff\"]\n",
    "results[\"diff\"] = results[\"mean_diff\"] + results[\"std_diff\"]\n",
    "\n",
    "results.to_csv(\"results_coarse_wt.csv\", index=False)"
   ]
  },
  {
   "cell_type": "code",
   "execution_count": 54,
   "id": "rubber-bahrain",
   "metadata": {},
   "outputs": [],
   "source": [
    "results = pd.read_csv(\"results_coarse_wt.csv\")\n",
    "\n",
    "round_cols = [\"e_mean\", \"e_std\", \"t_mean\", \"t_std\", \"i_mean\", \"i_std\"]\n",
    "for col in round_cols:\n",
    "    results[col] = results[col].apply(lambda x: round(x, 2))"
   ]
  },
  {
   "cell_type": "code",
   "execution_count": 55,
   "id": "remarkable-playback",
   "metadata": {},
   "outputs": [
    {
     "name": "stdout",
     "output_type": "stream",
     "text": [
      "best e: [(6.9, 2.5)]\n",
      "best t: [(6.2, 1.2)]\n",
      "best i: [(8.9, 4.5)]\n"
     ]
    }
   ],
   "source": [
    "idx_best = results[\"diff\"].idxmin()\n",
    "best_e_mean = results.loc[idx_best, \"e_mean\"]\n",
    "best_e_std = results.loc[idx_best, \"e_std\"]\n",
    "best_t_mean = results.loc[idx_best, \"t_mean\"]\n",
    "best_t_std = results.loc[idx_best, \"t_std\"]\n",
    "best_i_mean = results.loc[idx_best, \"i_mean\"]\n",
    "best_i_std = results.loc[idx_best, \"i_std\"]\n",
    "\n",
    "print(f\"best e: [{best_e_mean, best_e_std}]\")\n",
    "print(f\"best t: [{best_t_mean, best_t_std}]\")\n",
    "print(f\"best i: [{best_i_mean, best_i_std}]\")"
   ]
  },
  {
   "cell_type": "code",
   "execution_count": 56,
   "id": "according-producer",
   "metadata": {},
   "outputs": [],
   "source": [
    "exposure_durations = [round(e, 2) for e in exposure_durations]\n",
    "times_until_symtoms = [round(t, 2) for t in times_until_symtoms]\n",
    "\n",
    "selected_infection_durations = [ 8.5,  8.7,  8.9,  9.1,  9.3,  9.5,  9.7,  9.9, 10.1]\n",
    "images = {i:np.zeros((len(exposure_durations), len(times_until_symtoms))) \\\n",
    "          for i in selected_infection_durations}\n",
    "\n",
    "\n",
    "results = results.set_index([\"e_mean\", \"t_mean\", \"i_mean\", \"e_std\", \"t_std\", \"i_std\"])\n",
    "for infection_duration in selected_infection_durations:\n",
    "    for i, e in enumerate(exposure_durations):\n",
    "        for j, t in enumerate(times_until_symtoms):\n",
    "            images[infection_duration][i, j] = \\\n",
    "                results.loc[e, t, infection_duration, best_e_std, best_t_std, best_i_std][\"diff\"]\n",
    "results = results.reset_index()"
   ]
  },
  {
   "cell_type": "code",
   "execution_count": 57,
   "id": "e825020d-9f7a-4ec7-a23e-9c9acb1b2cbe",
   "metadata": {},
   "outputs": [
    {
     "data": {
      "text/plain": [
       "8.279124833476608"
      ]
     },
     "execution_count": 57,
     "metadata": {},
     "output_type": "execute_result"
    }
   ],
   "source": [
    "results[\"diff\"].max()"
   ]
  },
  {
   "cell_type": "code",
   "execution_count": 58,
   "id": "234f5c86-680c-4335-9594-9dc5b5dc1f3f",
   "metadata": {},
   "outputs": [
    {
     "data": {
      "text/plain": [
       "0.2031488097306147"
      ]
     },
     "execution_count": 58,
     "metadata": {},
     "output_type": "execute_result"
    }
   ],
   "source": [
    "results[\"diff\"].min()"
   ]
  },
  {
   "cell_type": "code",
   "execution_count": 59,
   "id": "pediatric-madness",
   "metadata": {},
   "outputs": [
    {
     "data": {
      "image/png": "[encoded data removed]",
      "text/plain": [
       "<Figure size 576x864 with 9 Axes>"
      ]
     },
     "metadata": {
      "needs_background": "light"
     },
     "output_type": "display_data"
    }
   ],
   "source": [
    "fig, axes = plt.subplots(3, 3, figsize=(8, 12))\n",
    "for ax, infection_duration in zip(axes.flatten(), selected_infection_durations):\n",
    "    ax.imshow(images[infection_duration], vmin=0, vmax=3)\n",
    "    ax.set_yticks(range(len(exposure_durations)))\n",
    "    ax.set_yticklabels(exposure_durations, fontsize=8)\n",
    "    ax.set_xticks(range(len(times_until_symtoms)))\n",
    "    ax.set_xticklabels(times_until_symtoms, fontsize=8)\n",
    "    ax.set_xlabel(\"time until symptoms\")\n",
    "    ax.set_ylabel(\"exposure duration\")\n",
    "    ax.set_title(f\"infection duration: {infection_duration}\")\n",
    "fig.tight_layout()"
   ]
  },
  {
   "cell_type": "markdown",
   "id": "fiscal-croatia",
   "metadata": {},
   "source": [
    "### Fine grid search"
   ]
  },
  {
   "cell_type": "code",
   "execution_count": 2,
   "id": "a67da38f-f289-4376-900c-e77adb0693d2",
   "metadata": {},
   "outputs": [],
   "source": [
    "results = pd.read_csv(\"results_coarse_wt.csv\")\n",
    "\n",
    "round_cols = [\"e_mean\", \"e_std\", \"t_mean\", \"t_std\", \"i_mean\", \"i_std\"]\n",
    "for col in round_cols:\n",
    "    results[col] = results[col].apply(lambda x: round(x, 2))"
   ]
  },
  {
   "cell_type": "code",
   "execution_count": 3,
   "id": "04a44d04-c0e4-4f39-9804-5bfe953e5f9b",
   "metadata": {},
   "outputs": [
    {
     "name": "stdout",
     "output_type": "stream",
     "text": [
      "best e: [(6.9, 2.5)]\n",
      "best t: [(6.2, 1.2)]\n",
      "best i: [(8.9, 4.5)]\n"
     ]
    }
   ],
   "source": [
    "idx_best = results[\"diff\"].idxmin()\n",
    "best_e_mean = results.loc[idx_best, \"e_mean\"]\n",
    "best_e_std = results.loc[idx_best, \"e_std\"]\n",
    "best_t_mean = results.loc[idx_best, \"t_mean\"]\n",
    "best_t_std = results.loc[idx_best, \"t_std\"]\n",
    "best_i_mean = results.loc[idx_best, \"i_mean\"]\n",
    "best_i_std = results.loc[idx_best, \"i_std\"]\n",
    "\n",
    "print(f\"best e: [{best_e_mean, best_e_std}]\")\n",
    "print(f\"best t: [{best_t_mean, best_t_std}]\")\n",
    "print(f\"best i: [{best_i_mean, best_i_std}]\")"
   ]
  },
  {
   "cell_type": "code",
   "execution_count": 4,
   "id": "north-insertion",
   "metadata": {},
   "outputs": [
    {
     "name": "stdout",
     "output_type": "stream",
     "text": [
      "426888 parameter combinations\n"
     ]
    }
   ],
   "source": [
    "N = 10000\n",
    "step = 0.05\n",
    "window = 0.25\n",
    "exposure_durations = np.arange(best_e_mean - window, best_e_mean + window + step, step)\n",
    "times_until_symtoms = np.arange(best_t_mean - window, best_t_mean + window + step, step)\n",
    "infection_durations = np.arange(best_i_mean - window, best_i_mean + window + step, step)\n",
    "\n",
    "step = 0.1\n",
    "exposure_duration_stds = np.arange(best_e_std - window, best_e_std + window + step, step)\n",
    "times_until_symtoms_stds = np.arange(best_t_std - window, best_t_std + window + step, step)\n",
    "infection_durations_stds = np.arange(best_i_std - window, best_i_std + window + step, step)\n",
    "\n",
    "param_combinations = [(N, e, t, i, e_std, t_std, i_std) \\\n",
    "                                for e in exposure_durations \\\n",
    "                                for t in times_until_symtoms \\\n",
    "                                for i in infection_durations \\\n",
    "                                for e_std in exposure_duration_stds \\\n",
    "                                for t_std in times_until_symtoms_stds \\\n",
    "                                for i_std in infection_durations_stds]\n",
    "print(f\"{len(param_combinations)} parameter combinations\")"
   ]
  },
  {
   "cell_type": "code",
   "execution_count": 8,
   "id": "rental-sacrifice",
   "metadata": {},
   "outputs": [
    {
     "name": "stderr",
     "output_type": "stream",
     "text": [
      "100%|████████████████████████████████████████████████████████████████████████████████████████████████████████████████████████████| 426888/426888 [51:52<00:00, 137.15it/s]\n"
     ]
    }
   ],
   "source": [
    "results_fine = pd.DataFrame()\n",
    "\n",
    "pool = Pool(250)\n",
    "for row in tqdm(\n",
    "        pool.imap_unordered(\n",
    "            func=get_true_epi_params, \n",
    "            iterable=param_combinations),\n",
    "            total=len(param_combinations)\n",
    "    ):\n",
    "    results_fine = results_fine.append(row, ignore_index=True)\n",
    "pool.close()\n",
    "\n",
    "results_fine[\"e_mean_diff\"] = results_fine[\"true_e_mean\"]\\\n",
    "    .apply(lambda x: (x - expected_epi_params[\"exposure_duration\"][\"mean\"]) ** 2)\n",
    "results_fine[\"e_std_diff\"] = results_fine[\"true_e_std\"]\\\n",
    "    .apply(lambda x: (x - expected_epi_params[\"exposure_duration\"][\"std\"]) ** 2)\n",
    "results_fine[\"t_mean_diff\"] = results_fine[\"true_t_mean\"]\\\n",
    "    .apply(lambda x: (x - expected_epi_params[\"time_until_symptoms\"][\"mean\"]) ** 2)\n",
    "results_fine[\"t_std_diff\"] = results_fine[\"true_t_std\"]\\\n",
    "    .apply(lambda x: (x - expected_epi_params[\"time_until_symptoms\"][\"std\"]) ** 2)\n",
    "results_fine[\"i_mean_diff\"] = results_fine[\"true_i_mean\"]\\\n",
    "    .apply(lambda x: (x - expected_epi_params[\"infection_duration\"][\"mean\"]) ** 2)\n",
    "results_fine[\"i_std_diff\"] = results_fine[\"true_i_std\"]\\\n",
    "    .apply(lambda x: (x - expected_epi_params[\"infection_duration\"][\"std\"]) ** 2)\n",
    "\n",
    "results_fine[\"mean_diff\"] = results_fine[\"e_mean_diff\"] + results_fine[\"t_mean_diff\"] + results_fine[\"i_mean_diff\"]\n",
    "results_fine[\"std_diff\"] = results_fine[\"e_std_diff\"] + results_fine[\"t_std_diff\"] + results_fine[\"i_std_diff\"]\n",
    "results_fine[\"diff\"] = results_fine[\"mean_diff\"] + results_fine[\"std_diff\"]\n",
    "\n",
    "results_fine.to_csv(\"results_fine_wt.csv\", index=False)"
   ]
  },
  {
   "cell_type": "code",
   "execution_count": 12,
   "id": "veterinary-lighting",
   "metadata": {},
   "outputs": [],
   "source": [
    "results_fine = pd.read_csv(\"results_fine_wt.csv\")\n",
    "\n",
    "round_cols = [\"e_mean\", \"e_std\", \"t_mean\", \"t_std\", \"i_mean\", \"i_std\"]\n",
    "for col in round_cols:\n",
    "    results_fine[col] = results_fine[col].apply(lambda x: round(x, 2))"
   ]
  },
  {
   "cell_type": "code",
   "execution_count": 13,
   "id": "roman-warren",
   "metadata": {},
   "outputs": [
    {
     "name": "stdout",
     "output_type": "stream",
     "text": [
      "best e: [(6.8, 2.75)]\n",
      "best t: [(6.3, 0.95)]\n",
      "best i: [(8.65, 4.75)]\n",
      "\n",
      "true e: [(4.8525, 1.559212541637605)]\n",
      "true t: [(6.476, 0.90951855396138)]\n",
      "true i: [(10.9887, 3.868691291638556)]\n"
     ]
    }
   ],
   "source": [
    "idx_best_fine = results_fine[\"diff\"].idxmin()\n",
    "best_e_mean_fine = results_fine.loc[idx_best, \"e_mean\"]\n",
    "best_e_std_fine = results_fine.loc[idx_best_fine, \"e_std\"]\n",
    "best_t_mean_fine = results_fine.loc[idx_best_fine, \"t_mean\"]\n",
    "best_t_std_fine = results_fine.loc[idx_best_fine, \"t_std\"]\n",
    "best_i_mean_fine = results_fine.loc[idx_best_fine, \"i_mean\"]\n",
    "best_i_std_fine = results_fine.loc[idx_best_fine, \"i_std\"]\n",
    "\n",
    "true_e_mean_fine = results_fine.loc[idx_best_fine, \"true_e_mean\"]\n",
    "true_e_std_fine = results_fine.loc[idx_best_fine, \"true_e_std\"]\n",
    "true_t_mean_fine = results_fine.loc[idx_best_fine, \"true_t_mean\"]\n",
    "true_t_std_fine = results_fine.loc[idx_best_fine, \"true_t_std\"]\n",
    "true_i_mean_fine = results_fine.loc[idx_best_fine, \"true_i_mean\"]\n",
    "true_i_std_fine = results_fine.loc[idx_best_fine, \"true_i_std\"]\n",
    "\n",
    "print(f\"best e: [{best_e_mean_fine, best_e_std_fine}]\")\n",
    "print(f\"best t: [{best_t_mean_fine, best_t_std_fine}]\")\n",
    "print(f\"best i: [{best_i_mean_fine, best_i_std_fine}]\")\n",
    "print()\n",
    "print(f\"true e: [{true_e_mean_fine, true_e_std_fine}]\")\n",
    "print(f\"true t: [{true_t_mean_fine, true_t_std_fine}]\")\n",
    "print(f\"true i: [{true_i_mean_fine, true_i_std_fine}]\")"
   ]
  },
  {
   "cell_type": "code",
   "execution_count": 29,
   "id": "98bd7cf3-b588-42a9-940d-42c0ae59e651",
   "metadata": {},
   "outputs": [
    {
     "name": "stdout",
     "output_type": "stream",
     "text": [
      "e: shape: 2.662794506920476, scale: 7.6501507255486025\n",
      "t: shape: 7.862375357983137, scale: 6.695392007737956\n",
      "i: shape: 1.8935596294478323, scale: 9.746904881250568\n"
     ]
    }
   ],
   "source": [
    "for param_name, param, param_std in zip([\"e\", \"t\", \"i\"], \\\n",
    "                [best_e_mean_fine, best_t_mean_fine, best_i_mean_fine],\\\n",
    "                [best_e_std_fine, best_t_std_fine, best_i_std_fine]):\n",
    "    mu = param\n",
    "    var = param_std**2\n",
    "    shape = root_scalar(get_weibull_shape, args=(mu, var),\n",
    "                method='toms748', bracket=[0.2, 500]).root\n",
    "    scale = get_weibull_scale(mu, shape)\n",
    "\n",
    "    print(f\"{param_name}: shape: {shape}, scale: {scale}\")"
   ]
  },
  {
   "cell_type": "code",
   "execution_count": 19,
   "id": "9e94a260-68fa-4563-8901-53261165f2eb",
   "metadata": {},
   "outputs": [],
   "source": [
    "exposure_durations = [round(e, 2) for e in exposure_durations]\n",
    "times_until_symtoms = [round(t, 2) for t in times_until_symtoms]\n",
    "\n",
    "selected_infection_durations = [round(i, 2) for i in infection_durations]\n",
    "images = {i:np.zeros((len(exposure_durations), len(times_until_symtoms))) \\\n",
    "          for i in selected_infection_durations}\n",
    "\n",
    "\n",
    "results_fine = results_fine.set_index([\"e_mean\", \"t_mean\", \"i_mean\", \"e_std\", \"t_std\", \"i_std\"])\n",
    "for infection_duration in selected_infection_durations:\n",
    "    for i, e in enumerate(exposure_durations):\n",
    "        for j, t in enumerate(times_until_symtoms):\n",
    "            images[infection_duration][i, j] = \\\n",
    "                results_fine.loc[e, t, infection_duration, best_e_std_fine, best_t_std_fine, best_i_std_fine][\"diff\"]\n",
    "results_fine = results_fine.reset_index()"
   ]
  },
  {
   "cell_type": "code",
   "execution_count": 20,
   "id": "7ee3db87-fa24-44eb-805f-dbf83ef01ae8",
   "metadata": {},
   "outputs": [
    {
     "data": {
      "text/plain": [
       "1.4394534184114165"
      ]
     },
     "execution_count": 20,
     "metadata": {},
     "output_type": "execute_result"
    }
   ],
   "source": [
    "results_fine[\"diff\"].max()"
   ]
  },
  {
   "cell_type": "code",
   "execution_count": 21,
   "id": "0b911ded-5f8f-4713-b7af-cb3b64c2d72b",
   "metadata": {},
   "outputs": [
    {
     "data": {
      "text/plain": [
       "0.1684674514942989"
      ]
     },
     "execution_count": 21,
     "metadata": {},
     "output_type": "execute_result"
    }
   ],
   "source": [
    "results_fine[\"diff\"].min()"
   ]
  },
  {
   "cell_type": "code",
   "execution_count": 24,
   "id": "85ff7a5d-203e-4a23-b98f-c7e696b73f64",
   "metadata": {},
   "outputs": [
    {
     "data": {
      "image/png": "[encoded data removed]",
      "text/plain": [
       "<Figure size 576x864 with 12 Axes>"
      ]
     },
     "metadata": {
      "needs_background": "light"
     },
     "output_type": "display_data"
    }
   ],
   "source": [
    "fig, axes = plt.subplots(4, 3, figsize=(8, 12))\n",
    "for ax, infection_duration in zip(axes.flatten(), selected_infection_durations):\n",
    "    ax.imshow(images[infection_duration], vmin=0.15, vmax=0.5)\n",
    "    ax.set_yticks(range(len(exposure_durations)))\n",
    "    ax.set_yticklabels(exposure_durations, fontsize=8)\n",
    "    ax.set_xticks(range(len(times_until_symtoms)))\n",
    "    ax.set_xticklabels(times_until_symtoms, fontsize=8)\n",
    "    ax.set_xlabel(\"time until symptoms\")\n",
    "    ax.set_ylabel(\"exposure duration\")\n",
    "    ax.set_title(f\"infection duration: {infection_duration}\")\n",
    "fig.tight_layout()"
   ]
  },
  {
   "cell_type": "markdown",
   "id": "boxed-gibson",
   "metadata": {},
   "source": [
    "### Epi parameter distribution plot"
   ]
  },
  {
   "cell_type": "code",
   "execution_count": 25,
   "id": "short-dragon",
   "metadata": {},
   "outputs": [],
   "source": [
    "curr_epi_params = {\n",
    "        \"exposure_duration\":{\"mean\":best_e_mean, \"std\":best_e_std},\n",
    "        \"time_until_symptoms\":{\"mean\":best_t_mean, \"std\":best_t_std},\n",
    "        \"infection_duration\":{\"mean\":best_i_mean, \"std\":best_i_std}\n",
    "    }\n",
    "for param_name in curr_epi_params.keys():\n",
    "    mu = curr_epi_params[param_name][\"mean\"]\n",
    "    var = curr_epi_params[param_name][\"std\"]**2\n",
    "    shape = root_scalar(get_weibull_shape, args=(mu, var),\n",
    "                method='toms748', bracket=[0.2, 500]).root\n",
    "    scale = get_weibull_scale(mu, shape)\n",
    "    curr_epi_params[param_name][\"shape\"] = shape\n",
    "    curr_epi_params[param_name][\"scale\"] = scale\n",
    "\n",
    "exposure_duration = []\n",
    "time_until_symptoms = []\n",
    "infection_duration = []\n",
    "for i in range(10000):\n",
    "    tmp_epi_params = {}\n",
    "    while True:\n",
    "        for param_name in curr_epi_params.keys():\n",
    "            tmp_epi_params[param_name] = \\\n",
    "                round(weibull_two_param(curr_epi_params[param_name][\"shape\"],\n",
    "                                        curr_epi_params[param_name][\"scale\"]))\n",
    "\n",
    "        if (tmp_epi_params['exposure_duration'] >= 1) and \\\n",
    "           (tmp_epi_params['time_until_symptoms'] >= \\\n",
    "           tmp_epi_params['exposure_duration']) and\\\n",
    "           (tmp_epi_params['infection_duration'] >= \\\n",
    "           tmp_epi_params['time_until_symptoms']):\n",
    "           break\n",
    "\n",
    "    exposure_duration.append(tmp_epi_params['exposure_duration'])\n",
    "    time_until_symptoms.append(tmp_epi_params['time_until_symptoms'])\n",
    "    infection_duration.append(tmp_epi_params['infection_duration'])\n",
    "\n",
    "exposure_duration = np.asarray(exposure_duration)\n",
    "time_until_symptoms = np.asarray(time_until_symptoms)\n",
    "infection_duration = np.asarray(infection_duration)"
   ]
  },
  {
   "cell_type": "code",
   "execution_count": 26,
   "id": "adult-fault",
   "metadata": {},
   "outputs": [
    {
     "data": {
      "text/plain": [
       "Text(0.7162, 0.9, 'C')"
      ]
     },
     "execution_count": 26,
     "metadata": {},
     "output_type": "execute_result"
    },
    {
     "data": {
      "image/png": "[encoded data removed]",
      "text/plain": [
       "<Figure size 792x216 with 3 Axes>"
      ]
     },
     "metadata": {
      "needs_background": "light"
     },
     "output_type": "display_data"
    }
   ],
   "source": [
    "fig, axes = plt.subplots(1, 3, figsize=(11, 3))\n",
    "fig.subplots_adjust(wspace=0.3)\n",
    "max_bins = [11, 11, 26]\n",
    "steps = [1, 1, 2]\n",
    "colors = ['#2471A3', '#C0392B', '#909497']\n",
    "xticks = [range(0, 11, 2), range(0, 11, 2), range(0, 26, 5)]\n",
    "labels = ['exposure duration\\n', 'incubation time\\n', 'infection duration\\n']\n",
    "ymaxes = [0.25, 0.5, 0.12]\n",
    "\n",
    "for ax, max_bin, step, color, xtick, label, ymax, param in zip(axes, max_bins, steps, colors,\\\n",
    "    xticks, labels, ymaxes, [exposure_duration, time_until_symptoms, infection_duration]):\n",
    "    ax.hist(param, bins=range(0, max_bin, step), rwidth=0.8, color=color,\n",
    "            density=True, align='left')\n",
    "    ax.set_xticks(xtick)\n",
    "    ax.spines['right'].set_visible(False)\n",
    "    ax.spines['top'].set_visible(False)\n",
    "    ax.set_title(label)\n",
    "    ax.set_ylabel('pdf')\n",
    "    ax.set_xlabel('days')\n",
    "    ax.set_ylim(0, ymax)\n",
    "\n",
    "fig.tight_layout()\n",
    "fig.text(0.062, 0.9, 'A', fontsize=12, fontweight='bold')\n",
    "fig.text(0.39, 0.9, 'B', fontsize=12, fontweight='bold')\n",
    "fig.text(0.7162, 0.9, 'C', fontsize=12, fontweight='bold')"
   ]
  },
  {
   "cell_type": "markdown",
   "id": "continent-drove",
   "metadata": {},
   "source": [
    "## Omicron"
   ]
  },
  {
   "cell_type": "code",
   "execution_count": 4,
   "id": "featured-bearing",
   "metadata": {},
   "outputs": [],
   "source": [
    "expected_epi_params = {\n",
    "    \"exposure_duration\":{\"mean\":2, \"std\":1.9},\n",
    "    \"time_until_symptoms\":{\"mean\":3, \"std\":1.9},\n",
    "    \"infection_duration\":{\"mean\":10.91, \"std\":3.95}\n",
    "}"
   ]
  },
  {
   "cell_type": "markdown",
   "id": "median-collect",
   "metadata": {},
   "source": [
    "### Coarse grid search"
   ]
  },
  {
   "cell_type": "code",
   "execution_count": 5,
   "id": "under-mayor",
   "metadata": {},
   "outputs": [
    {
     "name": "stdout",
     "output_type": "stream",
     "text": [
      "166375 parameter combinations\n"
     ]
    }
   ],
   "source": [
    "step = 0.2\n",
    "exposure_durations = np.arange(1, 3 + step, step)\n",
    "times_until_symtoms = np.arange(1, 3 + step, step)\n",
    "infection_durations = np.arange(9, 11 + step, step)\n",
    "\n",
    "step = 0.25\n",
    "exposure_duration_stds = np.arange(1.5, 2.4 + step, step)\n",
    "times_until_symtoms_stds = np.arange(1.5, 2.4 + step, step)\n",
    "infection_durations_stds = np.arange(3, 5 + step * 2, step * 2)\n",
    "\n",
    "param_combinations = [(e, t, i, e_std, t_std, i_std) \\\n",
    "                                for e in exposure_durations \\\n",
    "                                for t in times_until_symtoms \\\n",
    "                                for i in infection_durations \\\n",
    "                                for e_std in exposure_duration_stds \\\n",
    "                                for t_std in times_until_symtoms_stds \\\n",
    "                                for i_std in infection_durations_stds]\n",
    "print(f\"{len(param_combinations)} parameter combinations\")"
   ]
  },
  {
   "cell_type": "code",
   "execution_count": null,
   "id": "accurate-bailey",
   "metadata": {},
   "outputs": [],
   "source": [
    "results = pd.DataFrame()\n",
    "\n",
    "pool = Pool(200)\n",
    "for row in tqdm(\n",
    "        pool.imap_unordered(\n",
    "            func=get_true_epi_params, \n",
    "            iterable=param_combinations),\n",
    "            total=len(param_combinations)\n",
    "    ):\n",
    "    results = results.append(row, ignore_index=True)\n",
    "pool.close()"
   ]
  },
  {
   "cell_type": "code",
   "execution_count": 7,
   "id": "matched-balloon",
   "metadata": {},
   "outputs": [],
   "source": [
    "results[\"e_mean_diff\"] = results[\"true_e_mean\"]\\\n",
    "    .apply(lambda x: (x - expected_epi_params[\"exposure_duration\"][\"mean\"]) ** 2)\n",
    "results[\"e_std_diff\"] = results[\"true_e_std\"]\\\n",
    "    .apply(lambda x: (x - expected_epi_params[\"exposure_duration\"][\"std\"]) ** 2)\n",
    "results[\"t_mean_diff\"] = results[\"true_t_mean\"]\\\n",
    "    .apply(lambda x: (x - expected_epi_params[\"time_until_symptoms\"][\"mean\"]) ** 2)\n",
    "results[\"t_std_diff\"] = results[\"true_t_std\"]\\\n",
    "    .apply(lambda x: (x - expected_epi_params[\"time_until_symptoms\"][\"std\"]) ** 2)\n",
    "results[\"i_mean_diff\"] = results[\"true_i_mean\"]\\\n",
    "    .apply(lambda x: (x - expected_epi_params[\"infection_duration\"][\"mean\"]) ** 2)\n",
    "results[\"i_std_diff\"] = results[\"true_i_std\"]\\\n",
    "    .apply(lambda x: (x - expected_epi_params[\"infection_duration\"][\"std\"]) ** 2)\n",
    "\n",
    "results[\"mean_diff\"] = results[\"e_mean_diff\"] + results[\"t_mean_diff\"] + results[\"i_mean_diff\"]\n",
    "results[\"std_diff\"] = results[\"e_std_diff\"] + results[\"t_std_diff\"] + results[\"i_std_diff\"]\n",
    "results[\"diff\"] = results[\"mean_diff\"] + results[\"std_diff\"]\n",
    "\n",
    "results.to_csv(\"results_coarse.csv\", index=False)"
   ]
  },
  {
   "cell_type": "code",
   "execution_count": 6,
   "id": "unable-hearts",
   "metadata": {},
   "outputs": [],
   "source": [
    "results = pd.read_csv(\"results_coarse.csv\")"
   ]
  },
  {
   "cell_type": "code",
   "execution_count": 7,
   "id": "reduced-metallic",
   "metadata": {},
   "outputs": [],
   "source": [
    "exposure_durations = [round(e, 2) for e in exposure_durations]\n",
    "times_until_symtoms = [round(t, 2) for t in times_until_symtoms]\n",
    "\n",
    "round_cols = [\"e_mean\", \"e_std\", \"t_mean\", \"t_std\", \"i_mean\", \"i_std\"]\n",
    "for col in round_cols:\n",
    "    results[col] = results[col].apply(lambda x: round(x, 2))\n",
    "    \n",
    "img = np.zeros((len(exposure_durations), len(times_until_symtoms)))\n",
    "\n",
    "results = results.set_index([\"e_mean\", \"t_mean\", \"i_mean\", \"e_std\", \"t_std\", \"i_std\"])\n",
    "for i, e in enumerate(exposure_durations):\n",
    "    for j, t in enumerate(times_until_symtoms):\n",
    "        img[i, j] = results.loc[e, t, 10, 2.5, 2.25, 4][\"diff\"]\n",
    "results = results.reset_index()"
   ]
  },
  {
   "cell_type": "code",
   "execution_count": 8,
   "id": "expired-glance",
   "metadata": {},
   "outputs": [
    {
     "data": {
      "image/png": "[encoded data removed]",
      "text/plain": [
       "<Figure size 432x288 with 1 Axes>"
      ]
     },
     "metadata": {
      "needs_background": "light"
     },
     "output_type": "display_data"
    }
   ],
   "source": [
    "fig, ax = plt.subplots()\n",
    "ax.imshow(img)\n",
    "ax.set_yticks(range(len(exposure_durations)))\n",
    "ax.set_yticklabels(exposure_durations)\n",
    "ax.set_xticks(range(len(times_until_symtoms)))\n",
    "ax.set_xticklabels(times_until_symtoms);"
   ]
  },
  {
   "cell_type": "code",
   "execution_count": 9,
   "id": "familiar-sound",
   "metadata": {},
   "outputs": [
    {
     "name": "stdout",
     "output_type": "stream",
     "text": [
      "best e: [(3.0, 2.5)]\n",
      "best t: [(2.2, 2.0)]\n",
      "best i: [(10.6, 4.0)]\n"
     ]
    }
   ],
   "source": [
    "idx_best = results[\"diff\"].idxmin()\n",
    "best_e_mean = results.loc[idx_best, \"e_mean\"]\n",
    "best_e_std = results.loc[idx_best, \"e_std\"]\n",
    "best_t_mean = results.loc[idx_best, \"t_mean\"]\n",
    "best_t_std = results.loc[idx_best, \"t_std\"]\n",
    "best_i_mean = results.loc[idx_best, \"i_mean\"]\n",
    "best_i_std = results.loc[idx_best, \"i_std\"]\n",
    "\n",
    "print(f\"best e: [{best_e_mean, best_e_std}]\")\n",
    "print(f\"best t: [{best_t_mean, best_t_std}]\")\n",
    "print(f\"best i: [{best_i_mean, best_i_std}]\")"
   ]
  },
  {
   "cell_type": "code",
   "execution_count": 10,
   "id": "filled-hartford",
   "metadata": {},
   "outputs": [
    {
     "data": {
      "text/html": [
       "<div>\n",
       "<style scoped>\n",
       "    .dataframe tbody tr th:only-of-type {\n",
       "        vertical-align: middle;\n",
       "    }\n",
       "\n",
       "    .dataframe tbody tr th {\n",
       "        vertical-align: top;\n",
       "    }\n",
       "\n",
       "    .dataframe thead th {\n",
       "        text-align: right;\n",
       "    }\n",
       "</style>\n",
       "<table border=\"1\" class=\"dataframe\">\n",
       "  <thead>\n",
       "    <tr style=\"text-align: right;\">\n",
       "      <th></th>\n",
       "      <th>e_mean</th>\n",
       "      <th>t_mean</th>\n",
       "      <th>i_mean</th>\n",
       "      <th>e_std</th>\n",
       "      <th>t_std</th>\n",
       "      <th>i_std</th>\n",
       "      <th>true_e_mean</th>\n",
       "      <th>true_e_std</th>\n",
       "      <th>true_t_mean</th>\n",
       "      <th>true_t_std</th>\n",
       "      <th>...</th>\n",
       "      <th>true_i_std</th>\n",
       "      <th>e_mean_diff</th>\n",
       "      <th>e_std_diff</th>\n",
       "      <th>t_mean_diff</th>\n",
       "      <th>t_std_diff</th>\n",
       "      <th>i_mean_diff</th>\n",
       "      <th>i_std_diff</th>\n",
       "      <th>mean_diff</th>\n",
       "      <th>std_diff</th>\n",
       "      <th>diff</th>\n",
       "    </tr>\n",
       "  </thead>\n",
       "  <tbody>\n",
       "    <tr>\n",
       "      <th>153821</th>\n",
       "      <td>3.0</td>\n",
       "      <td>1.2</td>\n",
       "      <td>10.8</td>\n",
       "      <td>2.25</td>\n",
       "      <td>2.00</td>\n",
       "      <td>4.0</td>\n",
       "      <td>1.844</td>\n",
       "      <td>1.244855</td>\n",
       "      <td>3.039</td>\n",
       "      <td>2.235951</td>\n",
       "      <td>...</td>\n",
       "      <td>3.821115</td>\n",
       "      <td>0.024336</td>\n",
       "      <td>0.429215</td>\n",
       "      <td>0.001521</td>\n",
       "      <td>0.112863</td>\n",
       "      <td>0.006561</td>\n",
       "      <td>0.016611</td>\n",
       "      <td>0.032418</td>\n",
       "      <td>0.558690</td>\n",
       "      <td>0.591108</td>\n",
       "    </tr>\n",
       "    <tr>\n",
       "      <th>156614</th>\n",
       "      <td>3.0</td>\n",
       "      <td>1.6</td>\n",
       "      <td>10.8</td>\n",
       "      <td>2.50</td>\n",
       "      <td>2.00</td>\n",
       "      <td>4.0</td>\n",
       "      <td>1.805</td>\n",
       "      <td>1.189527</td>\n",
       "      <td>2.992</td>\n",
       "      <td>2.073629</td>\n",
       "      <td>...</td>\n",
       "      <td>3.874239</td>\n",
       "      <td>0.038025</td>\n",
       "      <td>0.504772</td>\n",
       "      <td>0.000064</td>\n",
       "      <td>0.030147</td>\n",
       "      <td>0.007056</td>\n",
       "      <td>0.005740</td>\n",
       "      <td>0.045145</td>\n",
       "      <td>0.540658</td>\n",
       "      <td>0.585803</td>\n",
       "    </tr>\n",
       "    <tr>\n",
       "      <th>157967</th>\n",
       "      <td>3.0</td>\n",
       "      <td>1.8</td>\n",
       "      <td>10.8</td>\n",
       "      <td>2.25</td>\n",
       "      <td>2.00</td>\n",
       "      <td>4.0</td>\n",
       "      <td>1.862</td>\n",
       "      <td>1.199565</td>\n",
       "      <td>3.181</td>\n",
       "      <td>2.085723</td>\n",
       "      <td>...</td>\n",
       "      <td>3.974665</td>\n",
       "      <td>0.019044</td>\n",
       "      <td>0.490609</td>\n",
       "      <td>0.032761</td>\n",
       "      <td>0.034493</td>\n",
       "      <td>0.000361</td>\n",
       "      <td>0.000608</td>\n",
       "      <td>0.052166</td>\n",
       "      <td>0.525711</td>\n",
       "      <td>0.577877</td>\n",
       "    </tr>\n",
       "    <tr>\n",
       "      <th>160608</th>\n",
       "      <td>3.0</td>\n",
       "      <td>2.2</td>\n",
       "      <td>10.6</td>\n",
       "      <td>2.50</td>\n",
       "      <td>2.00</td>\n",
       "      <td>4.0</td>\n",
       "      <td>1.921</td>\n",
       "      <td>1.234811</td>\n",
       "      <td>3.247</td>\n",
       "      <td>1.931836</td>\n",
       "      <td>...</td>\n",
       "      <td>3.768070</td>\n",
       "      <td>0.006241</td>\n",
       "      <td>0.442476</td>\n",
       "      <td>0.061009</td>\n",
       "      <td>0.001014</td>\n",
       "      <td>0.004489</td>\n",
       "      <td>0.033099</td>\n",
       "      <td>0.071739</td>\n",
       "      <td>0.476588</td>\n",
       "      <td>0.548327</td>\n",
       "    </tr>\n",
       "    <tr>\n",
       "      <th>160699</th>\n",
       "      <td>3.0</td>\n",
       "      <td>2.2</td>\n",
       "      <td>10.8</td>\n",
       "      <td>2.25</td>\n",
       "      <td>1.75</td>\n",
       "      <td>4.0</td>\n",
       "      <td>1.898</td>\n",
       "      <td>1.196493</td>\n",
       "      <td>3.197</td>\n",
       "      <td>1.791142</td>\n",
       "      <td>...</td>\n",
       "      <td>3.898593</td>\n",
       "      <td>0.010404</td>\n",
       "      <td>0.494922</td>\n",
       "      <td>0.038809</td>\n",
       "      <td>0.011850</td>\n",
       "      <td>0.000729</td>\n",
       "      <td>0.002643</td>\n",
       "      <td>0.049942</td>\n",
       "      <td>0.509414</td>\n",
       "      <td>0.559356</td>\n",
       "    </tr>\n",
       "  </tbody>\n",
       "</table>\n",
       "<p>5 rows × 21 columns</p>\n",
       "</div>"
      ],
      "text/plain": [
       "        e_mean  t_mean  i_mean  e_std  t_std  i_std  true_e_mean  true_e_std  \\\n",
       "153821     3.0     1.2    10.8   2.25   2.00    4.0        1.844    1.244855   \n",
       "156614     3.0     1.6    10.8   2.50   2.00    4.0        1.805    1.189527   \n",
       "157967     3.0     1.8    10.8   2.25   2.00    4.0        1.862    1.199565   \n",
       "160608     3.0     2.2    10.6   2.50   2.00    4.0        1.921    1.234811   \n",
       "160699     3.0     2.2    10.8   2.25   1.75    4.0        1.898    1.196493   \n",
       "\n",
       "        true_t_mean  true_t_std  ...  true_i_std  e_mean_diff  e_std_diff  \\\n",
       "153821        3.039    2.235951  ...    3.821115     0.024336    0.429215   \n",
       "156614        2.992    2.073629  ...    3.874239     0.038025    0.504772   \n",
       "157967        3.181    2.085723  ...    3.974665     0.019044    0.490609   \n",
       "160608        3.247    1.931836  ...    3.768070     0.006241    0.442476   \n",
       "160699        3.197    1.791142  ...    3.898593     0.010404    0.494922   \n",
       "\n",
       "        t_mean_diff  t_std_diff  i_mean_diff  i_std_diff  mean_diff  std_diff  \\\n",
       "153821     0.001521    0.112863     0.006561    0.016611   0.032418  0.558690   \n",
       "156614     0.000064    0.030147     0.007056    0.005740   0.045145  0.540658   \n",
       "157967     0.032761    0.034493     0.000361    0.000608   0.052166  0.525711   \n",
       "160608     0.061009    0.001014     0.004489    0.033099   0.071739  0.476588   \n",
       "160699     0.038809    0.011850     0.000729    0.002643   0.049942  0.509414   \n",
       "\n",
       "            diff  \n",
       "153821  0.591108  \n",
       "156614  0.585803  \n",
       "157967  0.577877  \n",
       "160608  0.548327  \n",
       "160699  0.559356  \n",
       "\n",
       "[5 rows x 21 columns]"
      ]
     },
     "execution_count": 10,
     "metadata": {},
     "output_type": "execute_result"
    }
   ],
   "source": [
    "results[results[\"diff\"] < 0.6]"
   ]
  },
  {
   "cell_type": "markdown",
   "id": "critical-travel",
   "metadata": {},
   "source": [
    "### Fine grid search"
   ]
  },
  {
   "cell_type": "code",
   "execution_count": 22,
   "id": "wound-redhead",
   "metadata": {},
   "outputs": [
    {
     "name": "stdout",
     "output_type": "stream",
     "text": [
      "426888 parameter combinations\n"
     ]
    }
   ],
   "source": [
    "step = 0.05\n",
    "window = 0.25\n",
    "exposure_durations = np.arange(best_e_mean - window, best_e_mean + window + step, step)\n",
    "times_until_symtoms = np.arange(best_t_mean - window, best_t_mean + window + step, step)\n",
    "infection_durations = np.arange(best_i_mean - window, best_i_mean + window + step, step)\n",
    "\n",
    "step = 0.1\n",
    "exposure_duration_stds = np.arange(best_e_std - window, best_e_std + window + step, step)\n",
    "times_until_symtoms_stds = np.arange(best_t_std - window, best_t_std + window + step, step)\n",
    "infection_durations_stds = np.arange(best_i_std - window, best_i_std + window + step, step)\n",
    "\n",
    "param_combinations = [(e, t, i, e_std, t_std, i_std) \\\n",
    "                                for e in exposure_durations \\\n",
    "                                for t in times_until_symtoms \\\n",
    "                                for i in infection_durations \\\n",
    "                                for e_std in exposure_duration_stds \\\n",
    "                                for t_std in times_until_symtoms_stds \\\n",
    "                                for i_std in infection_durations_stds]\n",
    "print(f\"{len(param_combinations)} parameter combinations\")"
   ]
  },
  {
   "cell_type": "code",
   "execution_count": 12,
   "id": "suffering-charger",
   "metadata": {},
   "outputs": [
    {
     "name": "stderr",
     "output_type": "stream",
     "text": [
      "100%|███████████████████████████████████████████████████████████████████████████| 426888/426888 [41:06<00:00, 173.04it/s]\n"
     ]
    }
   ],
   "source": [
    "results_fine = pd.DataFrame()\n",
    "\n",
    "pool = Pool(200)\n",
    "for row in tqdm(\n",
    "        pool.imap_unordered(\n",
    "            func=get_true_epi_params, \n",
    "            iterable=param_combinations),\n",
    "            total=len(param_combinations)\n",
    "    ):\n",
    "    results_fine = results_fine.append(row, ignore_index=True)\n",
    "pool.close()"
   ]
  },
  {
   "cell_type": "code",
   "execution_count": 14,
   "id": "stuck-extent",
   "metadata": {},
   "outputs": [],
   "source": [
    "results_fine[\"e_mean_diff\"] = results_fine[\"true_e_mean\"]\\\n",
    "    .apply(lambda x: (x - expected_epi_params[\"exposure_duration\"][\"mean\"]) ** 2)\n",
    "results_fine[\"e_std_diff\"] = results_fine[\"true_e_std\"]\\\n",
    "    .apply(lambda x: (x - expected_epi_params[\"exposure_duration\"][\"std\"]) ** 2)\n",
    "results_fine[\"t_mean_diff\"] = results_fine[\"true_t_mean\"]\\\n",
    "    .apply(lambda x: (x - expected_epi_params[\"time_until_symptoms\"][\"mean\"]) ** 2)\n",
    "results_fine[\"t_std_diff\"] = results_fine[\"true_t_std\"]\\\n",
    "    .apply(lambda x: (x - expected_epi_params[\"time_until_symptoms\"][\"std\"]) ** 2)\n",
    "results_fine[\"i_mean_diff\"] = results_fine[\"true_i_mean\"]\\\n",
    "    .apply(lambda x: (x - expected_epi_params[\"infection_duration\"][\"mean\"]) ** 2)\n",
    "results_fine[\"i_std_diff\"] = results_fine[\"true_i_std\"]\\\n",
    "    .apply(lambda x: (x - expected_epi_params[\"infection_duration\"][\"std\"]) ** 2)\n",
    "\n",
    "results_fine[\"mean_diff\"] = results_fine[\"e_mean_diff\"] + results_fine[\"t_mean_diff\"] + results_fine[\"i_mean_diff\"]\n",
    "results_fine[\"std_diff\"] = results_fine[\"e_std_diff\"] + results_fine[\"t_std_diff\"] + results_fine[\"i_std_diff\"]\n",
    "results_fine[\"diff\"] = results_fine[\"mean_diff\"] + results_fine[\"std_diff\"]\n",
    "\n",
    "results_fine.to_csv(\"results_fine.csv\", index=False)"
   ]
  },
  {
   "cell_type": "code",
   "execution_count": 39,
   "id": "assumed-influence",
   "metadata": {},
   "outputs": [],
   "source": [
    "results_fine = results_fine.reset_index()"
   ]
  },
  {
   "cell_type": "code",
   "execution_count": 40,
   "id": "heavy-vinyl",
   "metadata": {},
   "outputs": [],
   "source": [
    "exposure_durations = [round(e, 3) for e in exposure_durations]\n",
    "times_until_symtoms = [round(t, 3) for t in times_until_symtoms]\n",
    "\n",
    "round_cols = [\"e_mean\", \"e_std\", \"t_mean\", \"t_std\", \"i_mean\", \"i_std\"]\n",
    "for col in round_cols:\n",
    "    results_fine[col] = results_fine[col].apply(lambda x: round(x, 3))\n",
    "    \n",
    "img = np.zeros((len(exposure_durations), len(times_until_symtoms)))\n",
    "\n",
    "results_fine = results_fine.set_index([\"e_mean\", \"t_mean\", \"i_mean\", \"e_std\", \"t_std\", \"i_std\"])\n",
    "for i, e in enumerate(exposure_durations):\n",
    "    for j, t in enumerate(times_until_symtoms):\n",
    "        img[i, j] = results_fine.loc[e, t, 10.6, 2.65, 1.85, 3.75][\"diff\"]\n",
    "results_fine = results_fine.reset_index()"
   ]
  },
  {
   "cell_type": "code",
   "execution_count": 41,
   "id": "humanitarian-particular",
   "metadata": {},
   "outputs": [
    {
     "data": {
      "image/png": "[encoded data removed]",
      "text/plain": [
       "<Figure size 432x288 with 1 Axes>"
      ]
     },
     "metadata": {
      "needs_background": "light"
     },
     "output_type": "display_data"
    }
   ],
   "source": [
    "fig, ax = plt.subplots()\n",
    "ax.imshow(img)\n",
    "ax.set_yticks(range(len(exposure_durations)))\n",
    "ax.set_yticklabels(exposure_durations)\n",
    "ax.set_xticks(range(len(times_until_symtoms)))\n",
    "ax.set_xticklabels(times_until_symtoms);"
   ]
  },
  {
   "cell_type": "code",
   "execution_count": 42,
   "id": "dietary-grove",
   "metadata": {},
   "outputs": [
    {
     "name": "stdout",
     "output_type": "stream",
     "text": [
      "best e: [(3.1, 2.65)]\n",
      "best t: [(2.05, 1.85)]\n",
      "best i: [(10.6, 3.75)]\n",
      "\n",
      "true e: [(1.89, 1.2906974858579372)]\n",
      "true t: [(3.147, 1.9691091894559836)]\n",
      "true i: [(10.935, 3.754300867005733)]\n"
     ]
    }
   ],
   "source": [
    "idx_best = results_fine[\"diff\"].idxmin()\n",
    "best_e_mean = results_fine.loc[idx_best, \"e_mean\"]\n",
    "best_e_std = results_fine.loc[idx_best, \"e_std\"]\n",
    "best_t_mean = results_fine.loc[idx_best, \"t_mean\"]\n",
    "best_t_std = results_fine.loc[idx_best, \"t_std\"]\n",
    "best_i_mean = results_fine.loc[idx_best, \"i_mean\"]\n",
    "best_i_std = results_fine.loc[idx_best, \"i_std\"]\n",
    "\n",
    "true_e_mean = results_fine.loc[idx_best, \"true_e_mean\"]\n",
    "true_e_std = results_fine.loc[idx_best, \"true_e_std\"]\n",
    "true_t_mean = results_fine.loc[idx_best, \"true_t_mean\"]\n",
    "true_t_std = results_fine.loc[idx_best, \"true_t_std\"]\n",
    "true_i_mean = results_fine.loc[idx_best, \"true_i_mean\"]\n",
    "true_i_std = results_fine.loc[idx_best, \"true_i_std\"]\n",
    "\n",
    "print(f\"best e: [{best_e_mean, best_e_std}]\")\n",
    "print(f\"best t: [{best_t_mean, best_t_std}]\")\n",
    "print(f\"best i: [{best_i_mean, best_i_std}]\")\n",
    "print()\n",
    "print(f\"true e: [{true_e_mean, true_e_std}]\")\n",
    "print(f\"true t: [{true_t_mean, true_t_std}]\")\n",
    "print(f\"true i: [{true_i_mean, true_i_std}]\")"
   ]
  },
  {
   "cell_type": "markdown",
   "id": "coordinated-decade",
   "metadata": {},
   "source": [
    "### Epi parameter distribution plot"
   ]
  },
  {
   "cell_type": "code",
   "execution_count": 44,
   "id": "limited-canon",
   "metadata": {},
   "outputs": [],
   "source": [
    "curr_epi_params = {\n",
    "        \"exposure_duration\":{\"mean\":best_e_mean, \"std\":best_e_std},\n",
    "        \"time_until_symptoms\":{\"mean\":best_t_mean, \"std\":best_t_std},\n",
    "        \"infection_duration\":{\"mean\":best_i_mean, \"std\":best_i_std}\n",
    "    }\n",
    "for param_name in curr_epi_params.keys():\n",
    "    mu = curr_epi_params[param_name][\"mean\"]\n",
    "    var = curr_epi_params[param_name][\"std\"]**2\n",
    "    shape = root_scalar(get_weibull_shape, args=(mu, var),\n",
    "                method='toms748', bracket=[0.2, 500]).root\n",
    "    scale = get_weibull_scale(mu, shape)\n",
    "    curr_epi_params[param_name][\"shape\"] = shape\n",
    "    curr_epi_params[param_name][\"scale\"] = scale\n",
    "\n",
    "exposure_duration = []\n",
    "time_until_symptoms = []\n",
    "infection_duration = []\n",
    "for i in range(10000):\n",
    "    tmp_epi_params = {}\n",
    "    while True:\n",
    "        for param_name in curr_epi_params.keys():\n",
    "            tmp_epi_params[param_name] = \\\n",
    "                round(weibull_two_param(curr_epi_params[param_name][\"shape\"],\n",
    "                                        curr_epi_params[param_name][\"scale\"]))\n",
    "\n",
    "        if (tmp_epi_params['exposure_duration'] >= 1) and \\\n",
    "           (tmp_epi_params['time_until_symptoms'] >= \\\n",
    "           tmp_epi_params['exposure_duration']) and\\\n",
    "           (tmp_epi_params['infection_duration'] >= \\\n",
    "           tmp_epi_params['time_until_symptoms']):\n",
    "           break\n",
    "\n",
    "    exposure_duration.append(tmp_epi_params['exposure_duration'])\n",
    "    time_until_symptoms.append(tmp_epi_params['time_until_symptoms'])\n",
    "    infection_duration.append(tmp_epi_params['infection_duration'])\n",
    "\n",
    "exposure_duration = np.asarray(exposure_duration)\n",
    "time_until_symptoms = np.asarray(time_until_symptoms)\n",
    "infection_duration = np.asarray(infection_duration)"
   ]
  },
  {
   "cell_type": "code",
   "execution_count": 46,
   "id": "bizarre-oxide",
   "metadata": {},
   "outputs": [
    {
     "data": {
      "image/png": "[encoded data removed]",
      "text/plain": [
       "<Figure size 792x216 with 3 Axes>"
      ]
     },
     "metadata": {
      "needs_background": "light"
     },
     "output_type": "display_data"
    }
   ],
   "source": [
    "fig, axes = plt.subplots(1, 3, figsize=(11, 3))\n",
    "fig.subplots_adjust(wspace=0.3)\n",
    "max_bins = [11, 11, 26]\n",
    "steps = [1, 1, 2]\n",
    "colors = ['#2471A3', '#C0392B', '#909497']\n",
    "xticks = [range(0, 11, 2), range(0, 11, 2), range(0, 26, 5)]\n",
    "labels = ['exposure duration\\n', 'incubation time\\n', 'infection duration\\n']\n",
    "ymaxes = [0.25, 0.5, 0.12]\n",
    "\n",
    "for ax, max_bin, step, color, xtick, label, ymax, param in zip(axes, max_bins, steps, colors,\\\n",
    "    xticks, labels, ymaxes, [exposure_duration, time_until_symptoms, infection_duration]):\n",
    "    ax.hist(param, bins=range(0, max_bin, step), rwidth=0.8, color=color,\n",
    "            density=True, align='left')\n",
    "    ax.set_xticks(xtick)\n",
    "    ax.spines['right'].set_visible(False)\n",
    "    ax.spines['top'].set_visible(False)\n",
    "    ax.set_title(label)\n",
    "    ax.set_ylabel('pdf')\n",
    "    ax.set_xlabel('days')\n",
    "    ax.set_ylim(0, ymax)\n",
    "\n",
    "fig.tight_layout()\n",
    "fig.text(0.062, 0.9, 'A', fontsize=12, fontweight='bold')\n",
    "fig.text(0.39, 0.9, 'B', fontsize=12, fontweight='bold')\n",
    "fig.text(0.7162, 0.9, 'C', fontsize=12, fontweight='bold')"
   ]
  }
 ],
 "metadata": {
  "kernelspec": {
   "display_name": "Python 3 (ipykernel)",
   "language": "python",
   "name": "python3"
  },
  "language_info": {
   "codemirror_mode": {
    "name": "ipython",
    "version": 3
   },
   "file_extension": ".py",
   "mimetype": "text/x-python",
   "name": "python",
   "nbconvert_exporter": "python",
   "pygments_lexer": "ipython3",
   "version": "3.9.7"
  }
 },
 "nbformat": 4,
 "nbformat_minor": 5
}
