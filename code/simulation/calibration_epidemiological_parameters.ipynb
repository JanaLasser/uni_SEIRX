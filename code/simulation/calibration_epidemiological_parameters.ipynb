{
 "cells": [
  {
   "cell_type": "markdown",
   "id": "correct-triumph",
   "metadata": {},
   "source": [
    "# Calibration of epidemiological parameters"
   ]
  },
  {
   "cell_type": "code",
   "execution_count": 1,
   "id": "jewish-batman",
   "metadata": {},
   "outputs": [],
   "source": [
    "import numpy as np\n",
    "import matplotlib.pyplot as plt\n",
    "import pandas as pd\n",
    "from os.path import join\n",
    "from scipy.optimize import root_scalar\n",
    "from math import gamma\n",
    "\n",
    "# parallelisation functionality\n",
    "from multiprocess import Pool\n",
    "import psutil\n",
    "from tqdm import tqdm"
   ]
  },
  {
   "cell_type": "markdown",
   "id": "5fe2d36d-b5cc-4a0f-a191-80bb7113a99b",
   "metadata": {},
   "source": [
    "**Note:** Somehow the parallelization does not work if the functions are imported from a home-brew library and not defined within the notebook."
   ]
  },
  {
   "cell_type": "code",
   "execution_count": 6,
   "id": "fdb7bff8-0e67-43e8-b8ec-1967edb5c0ae",
   "metadata": {},
   "outputs": [],
   "source": [
    "def weibull_two_param(shape, scale):\n",
    "    '''\n",
    "    A two-parameter Weibull distribution, based on numpy ramdon's single \n",
    "    parameter distribution. We use this distribution in the simulation to draw\n",
    "    random epidemiological parameters for agents from the given distribution\n",
    "    See https://numpy.org/doc/stable/reference/random/generated/numpy.random.weibull.html\n",
    "    '''\n",
    "    return scale * np.random.weibull(shape)\n",
    "\n",
    "\n",
    "def get_weibull_shape(k, mu, var):\n",
    "    '''\n",
    "    Calculates the shape parameter of a Weibull distribution, given its mean\n",
    "    mu and its variance var\n",
    "    '''\n",
    "    return var / mu**2 - gamma(1 + 2/k) / gamma(1+1/k)**2 + 1\n",
    "\n",
    "\n",
    "\n",
    "def get_weibull_scale(mu, k):\n",
    "    '''\n",
    "    Calculates the scale parameter of a Weibull distribution, given its mean\n",
    "    mu and its shape parameter k\n",
    "    '''\n",
    "    return mu / gamma(1 + 1/k)\n",
    "\n",
    "def get_true_epi_params(p):\n",
    "    N, e, t, i, e_std, t_std, i_std = p\n",
    "    curr_epi_params = {\n",
    "        \"exposure_duration\":{\"mean\":e, \"std\":e_std},\n",
    "        \"time_until_symptoms\":{\"mean\":t, \"std\":t_std},\n",
    "        \"infection_duration\":{\"mean\":i, \"std\":i_std}\n",
    "    }\n",
    "    for param_name in curr_epi_params.keys():\n",
    "        mu = curr_epi_params[param_name][\"mean\"]\n",
    "        var = curr_epi_params[param_name][\"std\"]**2\n",
    "        shape = root_scalar(get_weibull_shape, args=(mu, var),\n",
    "                    method='toms748', bracket=[0.2, 500]).root\n",
    "        scale = get_weibull_scale(mu, shape)\n",
    "        curr_epi_params[param_name][\"shape\"] = shape\n",
    "        curr_epi_params[param_name][\"scale\"] = scale\n",
    "    \n",
    "    exposure_duration = []\n",
    "    time_until_symptoms = []\n",
    "    infection_duration = []\n",
    "    for i in range(N):\n",
    "        tmp_epi_params = {}\n",
    "        while True:\n",
    "            for param_name in curr_epi_params.keys():\n",
    "                tmp_epi_params[param_name] = \\\n",
    "                    round(weibull_two_param(curr_epi_params[param_name][\"shape\"],\n",
    "                                            curr_epi_params[param_name][\"scale\"]))\n",
    "\n",
    "            if (tmp_epi_params['exposure_duration'] >= 1) and \\\n",
    "               (tmp_epi_params['time_until_symptoms'] >= \\\n",
    "               tmp_epi_params['exposure_duration']) and\\\n",
    "               (tmp_epi_params['infection_duration'] >= \\\n",
    "               tmp_epi_params['time_until_symptoms']):\n",
    "               break\n",
    "\n",
    "        exposure_duration.append(tmp_epi_params['exposure_duration'])\n",
    "        time_until_symptoms.append(tmp_epi_params['time_until_symptoms'])\n",
    "        infection_duration.append(tmp_epi_params['infection_duration'])\n",
    "\n",
    "    exposure_duration = np.asarray(exposure_duration)\n",
    "    time_until_symptoms = np.asarray(time_until_symptoms)\n",
    "    infection_duration = np.asarray(infection_duration)\n",
    "    \n",
    "    row = {\n",
    "        'e_mean':curr_epi_params[\"exposure_duration\"][\"mean\"],\n",
    "        'e_std':curr_epi_params[\"exposure_duration\"][\"std\"],\n",
    "        't_mean':curr_epi_params[\"time_until_symptoms\"][\"mean\"],\n",
    "        't_std':curr_epi_params[\"time_until_symptoms\"][\"std\"],\n",
    "        'i_mean':curr_epi_params[\"infection_duration\"][\"mean\"],\n",
    "        'i_std':curr_epi_params[\"infection_duration\"][\"std\"],\n",
    "        'true_e_mean':exposure_duration.mean(),\n",
    "        'true_e_std':exposure_duration.std(),\n",
    "        'true_t_mean':time_until_symptoms.mean(),\n",
    "        'true_t_std':time_until_symptoms.std(),\n",
    "        'true_i_mean':infection_duration.mean(),\n",
    "        'true_i_std':infection_duration.std()\n",
    "    }\n",
    "    return row"
   ]
  },
  {
   "cell_type": "markdown",
   "id": "expressed-moisture",
   "metadata": {},
   "source": [
    "## Wild type"
   ]
  },
  {
   "cell_type": "code",
   "execution_count": 7,
   "id": "infinite-switzerland",
   "metadata": {},
   "outputs": [],
   "source": [
    "expected_epi_params = {\n",
    "    \"exposure_duration\":{\"mean\":5.0, \"std\":1.9},\n",
    "    \"time_until_symptoms\":{\"mean\":6.4, \"std\":0.8},\n",
    "    \"infection_duration\":{\"mean\":10.91, \"std\":3.95}\n",
    "}"
   ]
  },
  {
   "cell_type": "markdown",
   "id": "sealed-count",
   "metadata": {},
   "source": [
    "### Coarse grid search"
   ]
  },
  {
   "cell_type": "code",
   "execution_count": 53,
   "id": "patient-wisconsin",
   "metadata": {},
   "outputs": [
    {
     "name": "stdout",
     "output_type": "stream",
     "text": [
      "194400 parameter combinations\n"
     ]
    }
   ],
   "source": [
    "N = 1000\n",
    "step = 0.2\n",
    "exposure_durations = np.arange(4.5, 7.5 + step, step)\n",
    "times_until_symtoms = np.arange(5.6, 7 + step, step)\n",
    "infection_durations = np.arange(8.5, 10.0 + step, step)\n",
    "\n",
    "step = 0.25\n",
    "exposure_duration_stds = np.arange(1.5, 2.4 + step, step)\n",
    "times_until_symtoms_stds = np.arange(0.2, 1.4 + step, step)\n",
    "infection_durations_stds = np.arange(3, 5 + step * 2, step * 2)\n",
    "\n",
    "param_combinations = [(N, e, t, i, e_std, t_std, i_std) \\\n",
    "                                for e in exposure_durations \\\n",
    "                                for t in times_until_symtoms \\\n",
    "                                for i in infection_durations \\\n",
    "                                for e_std in exposure_duration_stds \\\n",
    "                                for t_std in times_until_symtoms_stds \\\n",
    "                                for i_std in infection_durations_stds]\n",
    "print(f\"{len(param_combinations)} parameter combinations\")"
   ]
  },
  {
   "cell_type": "code",
   "execution_count": null,
   "id": "listed-intake",
   "metadata": {},
   "outputs": [
    {
     "name": "stderr",
     "output_type": "stream",
     "text": [
      "  0%|                                                                                                                                          | 0/194400 [00:00<?, ?it/s]\n"
     ]
    }
   ],
   "source": [
    "results = pd.DataFrame()\n",
    "\n",
    "pool = Pool(10)\n",
    "for row in tqdm(\n",
    "        pool.imap_unordered(\n",
    "            func=get_true_epi_params, \n",
    "            iterable=param_combinations),\n",
    "            total=len(param_combinations)\n",
    "    ):\n",
    "    results = results.append(row, ignore_index=True)\n",
    "pool.close()\n",
    "\n",
    "results[\"e_mean_diff\"] = results[\"true_e_mean\"]\\\n",
    "    .apply(lambda x: (x - expected_epi_params[\"exposure_duration\"][\"mean\"]) ** 2)\n",
    "results[\"e_std_diff\"] = results[\"true_e_std\"]\\\n",
    "    .apply(lambda x: (x - expected_epi_params[\"exposure_duration\"][\"std\"]) ** 2)\n",
    "results[\"t_mean_diff\"] = results[\"true_t_mean\"]\\\n",
    "    .apply(lambda x: (x - expected_epi_params[\"time_until_symptoms\"][\"mean\"]) ** 2)\n",
    "results[\"t_std_diff\"] = results[\"true_t_std\"]\\\n",
    "    .apply(lambda x: (x - expected_epi_params[\"time_until_symptoms\"][\"std\"]) ** 2)\n",
    "results[\"i_mean_diff\"] = results[\"true_i_mean\"]\\\n",
    "    .apply(lambda x: (x - expected_epi_params[\"infection_duration\"][\"mean\"]) ** 2)\n",
    "results[\"i_std_diff\"] = results[\"true_i_std\"]\\\n",
    "    .apply(lambda x: (x - expected_epi_params[\"infection_duration\"][\"std\"]) ** 2)\n",
    "\n",
    "results[\"mean_diff\"] = results[\"e_mean_diff\"] + results[\"t_mean_diff\"] + results[\"i_mean_diff\"]\n",
    "results[\"std_diff\"] = results[\"e_std_diff\"] + results[\"t_std_diff\"] + results[\"i_std_diff\"]\n",
    "results[\"diff\"] = results[\"mean_diff\"] + results[\"std_diff\"]\n",
    "\n",
    "results.to_csv(\"results_coarse_wt.csv\", index=False)"
   ]
  },
  {
   "cell_type": "code",
   "execution_count": 54,
   "id": "rubber-bahrain",
   "metadata": {},
   "outputs": [],
   "source": [
    "results = pd.read_csv(\"results_coarse_wt.csv\")\n",
    "\n",
    "round_cols = [\"e_mean\", \"e_std\", \"t_mean\", \"t_std\", \"i_mean\", \"i_std\"]\n",
    "for col in round_cols:\n",
    "    results[col] = results[col].apply(lambda x: round(x, 2))"
   ]
  },
  {
   "cell_type": "code",
   "execution_count": 55,
   "id": "remarkable-playback",
   "metadata": {},
   "outputs": [
    {
     "name": "stdout",
     "output_type": "stream",
     "text": [
      "best e: [(6.9, 2.5)]\n",
      "best t: [(6.2, 1.2)]\n",
      "best i: [(8.9, 4.5)]\n"
     ]
    }
   ],
   "source": [
    "idx_best = results[\"diff\"].idxmin()\n",
    "best_e_mean = results.loc[idx_best, \"e_mean\"]\n",
    "best_e_std = results.loc[idx_best, \"e_std\"]\n",
    "best_t_mean = results.loc[idx_best, \"t_mean\"]\n",
    "best_t_std = results.loc[idx_best, \"t_std\"]\n",
    "best_i_mean = results.loc[idx_best, \"i_mean\"]\n",
    "best_i_std = results.loc[idx_best, \"i_std\"]\n",
    "\n",
    "print(f\"best e: [{best_e_mean, best_e_std}]\")\n",
    "print(f\"best t: [{best_t_mean, best_t_std}]\")\n",
    "print(f\"best i: [{best_i_mean, best_i_std}]\")"
   ]
  },
  {
   "cell_type": "code",
   "execution_count": 56,
   "id": "according-producer",
   "metadata": {},
   "outputs": [],
   "source": [
    "exposure_durations = [round(e, 2) for e in exposure_durations]\n",
    "times_until_symtoms = [round(t, 2) for t in times_until_symtoms]\n",
    "\n",
    "selected_infection_durations = [ 8.5,  8.7,  8.9,  9.1,  9.3,  9.5,  9.7,  9.9, 10.1]\n",
    "images = {i:np.zeros((len(exposure_durations), len(times_until_symtoms))) \\\n",
    "          for i in selected_infection_durations}\n",
    "\n",
    "\n",
    "results = results.set_index([\"e_mean\", \"t_mean\", \"i_mean\", \"e_std\", \"t_std\", \"i_std\"])\n",
    "for infection_duration in selected_infection_durations:\n",
    "    for i, e in enumerate(exposure_durations):\n",
    "        for j, t in enumerate(times_until_symtoms):\n",
    "            images[infection_duration][i, j] = \\\n",
    "                results.loc[e, t, infection_duration, best_e_std, best_t_std, best_i_std][\"diff\"]\n",
    "results = results.reset_index()"
   ]
  },
  {
   "cell_type": "code",
   "execution_count": 57,
   "id": "e825020d-9f7a-4ec7-a23e-9c9acb1b2cbe",
   "metadata": {},
   "outputs": [
    {
     "data": {
      "text/plain": [
       "8.279124833476608"
      ]
     },
     "execution_count": 57,
     "metadata": {},
     "output_type": "execute_result"
    }
   ],
   "source": [
    "results[\"diff\"].max()"
   ]
  },
  {
   "cell_type": "code",
   "execution_count": 58,
   "id": "234f5c86-680c-4335-9594-9dc5b5dc1f3f",
   "metadata": {},
   "outputs": [
    {
     "data": {
      "text/plain": [
       "0.2031488097306147"
      ]
     },
     "execution_count": 58,
     "metadata": {},
     "output_type": "execute_result"
    }
   ],
   "source": [
    "results[\"diff\"].min()"
   ]
  },
  {
   "cell_type": "code",
   "execution_count": 59,
   "id": "pediatric-madness",
   "metadata": {},
   "outputs": [
    {
     "data": {
      "image/png": "[encoded data removed]",
      "text/plain": [
       "<Figure size 576x864 with 9 Axes>"
      ]
     },
     "metadata": {
      "needs_background": "light"
     },
     "output_type": "display_data"
    }
   ],
   "source": [
    "fig, axes = plt.subplots(3, 3, figsize=(8, 12))\n",
    "for ax, infection_duration in zip(axes.flatten(), selected_infection_durations):\n",
    "    ax.imshow(images[infection_duration], vmin=0, vmax=3)\n",
    "    ax.set_yticks(range(len(exposure_durations)))\n",
    "    ax.set_yticklabels(exposure_durations, fontsize=8)\n",
    "    ax.set_xticks(range(len(times_until_symtoms)))\n",
    "    ax.set_xticklabels(times_until_symtoms, fontsize=8)\n",
    "    ax.set_xlabel(\"time until symptoms\")\n",
    "    ax.set_ylabel(\"exposure duration\")\n",
    "    ax.set_title(f\"infection duration: {infection_duration}\")\n",
    "fig.tight_layout()"
   ]
  },
  {
   "cell_type": "markdown",
   "id": "fiscal-croatia",
   "metadata": {},
   "source": [
    "### Fine grid search"
   ]
  },
  {
   "cell_type": "code",
   "execution_count": 2,
   "id": "a67da38f-f289-4376-900c-e77adb0693d2",
   "metadata": {},
   "outputs": [],
   "source": [
    "results = pd.read_csv(\"results_coarse_wt.csv\")\n",
    "\n",
    "round_cols = [\"e_mean\", \"e_std\", \"t_mean\", \"t_std\", \"i_mean\", \"i_std\"]\n",
    "for col in round_cols:\n",
    "    results[col] = results[col].apply(lambda x: round(x, 2))"
   ]
  },
  {
   "cell_type": "code",
   "execution_count": 3,
   "id": "04a44d04-c0e4-4f39-9804-5bfe953e5f9b",
   "metadata": {},
   "outputs": [
    {
     "name": "stdout",
     "output_type": "stream",
     "text": [
      "best e: [(6.9, 2.5)]\n",
      "best t: [(6.2, 1.2)]\n",
      "best i: [(8.9, 4.5)]\n"
     ]
    }
   ],
   "source": [
    "idx_best = results[\"diff\"].idxmin()\n",
    "best_e_mean = results.loc[idx_best, \"e_mean\"]\n",
    "best_e_std = results.loc[idx_best, \"e_std\"]\n",
    "best_t_mean = results.loc[idx_best, \"t_mean\"]\n",
    "best_t_std = results.loc[idx_best, \"t_std\"]\n",
    "best_i_mean = results.loc[idx_best, \"i_mean\"]\n",
    "best_i_std = results.loc[idx_best, \"i_std\"]\n",
    "\n",
    "print(f\"best e: [{best_e_mean, best_e_std}]\")\n",
    "print(f\"best t: [{best_t_mean, best_t_std}]\")\n",
    "print(f\"best i: [{best_i_mean, best_i_std}]\")"
   ]
  },
  {
   "cell_type": "code",
   "execution_count": 4,
   "id": "north-insertion",
   "metadata": {},
   "outputs": [
    {
     "name": "stdout",
     "output_type": "stream",
     "text": [
      "426888 parameter combinations\n"
     ]
    }
   ],
   "source": [
    "N = 10000\n",
    "step = 0.05\n",
    "window = 0.25\n",
    "exposure_durations = np.arange(best_e_mean - window, best_e_mean + window + step, step)\n",
    "times_until_symtoms = np.arange(best_t_mean - window, best_t_mean + window + step, step)\n",
    "infection_durations = np.arange(best_i_mean - window, best_i_mean + window + step, step)\n",
    "\n",
    "step = 0.1\n",
    "exposure_duration_stds = np.arange(best_e_std - window, best_e_std + window + step, step)\n",
    "times_until_symtoms_stds = np.arange(best_t_std - window, best_t_std + window + step, step)\n",
    "infection_durations_stds = np.arange(best_i_std - window, best_i_std + window + step, step)\n",
    "\n",
    "param_combinations = [(N, e, t, i, e_std, t_std, i_std) \\\n",
    "                                for e in exposure_durations \\\n",
    "                                for t in times_until_symtoms \\\n",
    "                                for i in infection_durations \\\n",
    "                                for e_std in exposure_duration_stds \\\n",
    "                                for t_std in times_until_symtoms_stds \\\n",
    "                                for i_std in infection_durations_stds]\n",
    "print(f\"{len(param_combinations)} parameter combinations\")"
   ]
  },
  {
   "cell_type": "code",
   "execution_count": null,
   "id": "rental-sacrifice",
   "metadata": {},
   "outputs": [
    {
     "name": "stderr",
     "output_type": "stream",
     "text": [
      " 24%|█████████████████████████████                                                                                              | 100707/426888 [17:03<1:37:05, 55.99it/s]"
     ]
    }
   ],
   "source": [
    "results_fine = pd.DataFrame()\n",
    "\n",
    "pool = Pool(250)\n",
    "for row in tqdm(\n",
    "        pool.imap_unordered(\n",
    "            func=get_true_epi_params, \n",
    "            iterable=param_combinations),\n",
    "            total=len(param_combinations)\n",
    "    ):\n",
    "    results_fine = results_fine.append(row, ignore_index=True)\n",
    "pool.close()\n",
    "\n",
    "results_fine[\"e_mean_diff\"] = results_fine[\"true_e_mean\"]\\\n",
    "    .apply(lambda x: (x - expected_epi_params[\"exposure_duration\"][\"mean\"]) ** 2)\n",
    "results_fine[\"e_std_diff\"] = results_fine[\"true_e_std\"]\\\n",
    "    .apply(lambda x: (x - expected_epi_params[\"exposure_duration\"][\"std\"]) ** 2)\n",
    "results_fine[\"t_mean_diff\"] = results_fine[\"true_t_mean\"]\\\n",
    "    .apply(lambda x: (x - expected_epi_params[\"time_until_symptoms\"][\"mean\"]) ** 2)\n",
    "results_fine[\"t_std_diff\"] = results_fine[\"true_t_std\"]\\\n",
    "    .apply(lambda x: (x - expected_epi_params[\"time_until_symptoms\"][\"std\"]) ** 2)\n",
    "results_fine[\"i_mean_diff\"] = results_fine[\"true_i_mean\"]\\\n",
    "    .apply(lambda x: (x - expected_epi_params[\"infection_duration\"][\"mean\"]) ** 2)\n",
    "results_fine[\"i_std_diff\"] = results_fine[\"true_i_std\"]\\\n",
    "    .apply(lambda x: (x - expected_epi_params[\"infection_duration\"][\"std\"]) ** 2)\n",
    "\n",
    "results_fine[\"mean_diff\"] = results_fine[\"e_mean_diff\"] + results_fine[\"t_mean_diff\"] + results_fine[\"i_mean_diff\"]\n",
    "results_fine[\"std_diff\"] = results_fine[\"e_std_diff\"] + results_fine[\"t_std_diff\"] + results_fine[\"i_std_diff\"]\n",
    "results_fine[\"diff\"] = results_fine[\"mean_diff\"] + results_fine[\"std_diff\"]\n",
    "\n",
    "results_fine.to_csv(\"results_fine_wt.csv\", index=False)"
   ]
  },
  {
   "cell_type": "code",
   "execution_count": 61,
   "id": "veterinary-lighting",
   "metadata": {},
   "outputs": [],
   "source": [
    "results_fine = pd.read_csv(\"results_fine_wt.csv\")\n",
    "\n",
    "round_cols = [\"e_mean\", \"e_std\", \"t_mean\", \"t_std\", \"i_mean\", \"i_std\"]\n",
    "for col in round_cols:\n",
    "    results_fine[col] = results_fine[col].apply(lambda x: round(x, 2))"
   ]
  },
  {
   "cell_type": "code",
   "execution_count": 62,
   "id": "roman-warren",
   "metadata": {},
   "outputs": [
    {
     "name": "stdout",
     "output_type": "stream",
     "text": [
      "best e: [(6.95, 2.8)]\n",
      "best t: [(6.35, 0.9)]\n",
      "best i: [(8.4, 4.7)]\n",
      "\n",
      "true e: [(4.8449, 1.5724643048412896)]\n",
      "true t: [(6.4957, 0.8625436278820916)]\n",
      "true i: [(10.924, 3.898464313034044)]\n"
     ]
    }
   ],
   "source": [
    "idx_best_fine = results_fine[\"diff\"].idxmin()\n",
    "best_e_mean_fine = results_fine.loc[idx_best, \"e_mean\"]\n",
    "best_e_std_fine = results_fine.loc[idx_best_fine, \"e_std\"]\n",
    "best_t_mean_fine = results_fine.loc[idx_best_fine, \"t_mean\"]\n",
    "best_t_std_fine = results_fine.loc[idx_best_fine, \"t_std\"]\n",
    "best_i_mean_fine = results_fine.loc[idx_best_fine, \"i_mean\"]\n",
    "best_i_std_fine = results_fine.loc[idx_best_fine, \"i_std\"]\n",
    "\n",
    "true_e_mean_fine = results_fine.loc[idx_best_fine, \"true_e_mean\"]\n",
    "true_e_std_fine = results_fine.loc[idx_best_fine, \"true_e_std\"]\n",
    "true_t_mean_fine = results_fine.loc[idx_best_fine, \"true_t_mean\"]\n",
    "true_t_std_fine = results_fine.loc[idx_best_fine, \"true_t_std\"]\n",
    "true_i_mean_fine = results_fine.loc[idx_best_fine, \"true_i_mean\"]\n",
    "true_i_std_fine = results_fine.loc[idx_best_fine, \"true_i_std\"]\n",
    "\n",
    "print(f\"best e: [{best_e_mean_fine, best_e_std_fine}]\")\n",
    "print(f\"best t: [{best_t_mean_fine, best_t_std_fine}]\")\n",
    "print(f\"best i: [{best_i_mean_fine, best_i_std_fine}]\")\n",
    "print()\n",
    "print(f\"true e: [{true_e_mean_fine, true_e_std_fine}]\")\n",
    "print(f\"true t: [{true_t_mean_fine, true_t_std_fine}]\")\n",
    "print(f\"true i: [{true_i_mean_fine, true_i_std_fine}]\")"
   ]
  },
  {
   "cell_type": "code",
   "execution_count": 38,
   "id": "36a4b44f-f47a-4a1d-bcb1-22add884acb2",
   "metadata": {},
   "outputs": [],
   "source": [
    "results_fine = results_fine.reset_index()"
   ]
  },
  {
   "cell_type": "code",
   "execution_count": 63,
   "id": "5f12d3d4-ba1d-4d99-a936-69c145a7037f",
   "metadata": {},
   "outputs": [
    {
     "data": {
      "text/plain": [
       "array([8.65, 8.7 , 8.75, 8.8 , 8.85, 8.9 , 8.95, 9.  , 9.05, 9.1 , 9.15,\n",
       "       9.2 ])"
      ]
     },
     "execution_count": 63,
     "metadata": {},
     "output_type": "execute_result"
    }
   ],
   "source": [
    "infection_durations"
   ]
  },
  {
   "cell_type": "code",
   "execution_count": 65,
   "id": "5172d2b1-6a5e-4fd4-a351-524f7526483c",
   "metadata": {},
   "outputs": [
    {
     "data": {
      "text/html": [
       "<div>\n",
       "<style scoped>\n",
       "    .dataframe tbody tr th:only-of-type {\n",
       "        vertical-align: middle;\n",
       "    }\n",
       "\n",
       "    .dataframe tbody tr th {\n",
       "        vertical-align: top;\n",
       "    }\n",
       "\n",
       "    .dataframe thead th {\n",
       "        text-align: right;\n",
       "    }\n",
       "</style>\n",
       "<table border=\"1\" class=\"dataframe\">\n",
       "  <thead>\n",
       "    <tr style=\"text-align: right;\">\n",
       "      <th></th>\n",
       "      <th></th>\n",
       "      <th></th>\n",
       "      <th></th>\n",
       "      <th></th>\n",
       "      <th></th>\n",
       "      <th>true_e_mean</th>\n",
       "      <th>true_e_std</th>\n",
       "      <th>true_t_mean</th>\n",
       "      <th>true_t_std</th>\n",
       "      <th>true_i_mean</th>\n",
       "      <th>true_i_std</th>\n",
       "      <th>e_mean_diff</th>\n",
       "      <th>e_std_diff</th>\n",
       "      <th>t_mean_diff</th>\n",
       "      <th>t_std_diff</th>\n",
       "      <th>i_mean_diff</th>\n",
       "      <th>i_std_diff</th>\n",
       "      <th>mean_diff</th>\n",
       "      <th>std_diff</th>\n",
       "      <th>diff</th>\n",
       "    </tr>\n",
       "    <tr>\n",
       "      <th>e_mean</th>\n",
       "      <th>t_mean</th>\n",
       "      <th>i_mean</th>\n",
       "      <th>e_std</th>\n",
       "      <th>t_std</th>\n",
       "      <th>i_std</th>\n",
       "      <th></th>\n",
       "      <th></th>\n",
       "      <th></th>\n",
       "      <th></th>\n",
       "      <th></th>\n",
       "      <th></th>\n",
       "      <th></th>\n",
       "      <th></th>\n",
       "      <th></th>\n",
       "      <th></th>\n",
       "      <th></th>\n",
       "      <th></th>\n",
       "      <th></th>\n",
       "      <th></th>\n",
       "      <th></th>\n",
       "    </tr>\n",
       "  </thead>\n",
       "  <tbody>\n",
       "    <tr>\n",
       "      <th rowspan=\"5\" valign=\"top\">6.8</th>\n",
       "      <th rowspan=\"5\" valign=\"top\">6.0</th>\n",
       "      <th rowspan=\"5\" valign=\"top\">8.40</th>\n",
       "      <th>2.4</th>\n",
       "      <th>1.0</th>\n",
       "      <th>4.8</th>\n",
       "      <td>4.7852</td>\n",
       "      <td>1.467672</td>\n",
       "      <td>6.2354</td>\n",
       "      <td>0.951728</td>\n",
       "      <td>10.7813</td>\n",
       "      <td>3.967628</td>\n",
       "      <td>0.046139</td>\n",
       "      <td>0.186908</td>\n",
       "      <td>0.027093</td>\n",
       "      <td>0.023021</td>\n",
       "      <td>0.016564</td>\n",
       "      <td>0.000311</td>\n",
       "      <td>0.089796</td>\n",
       "      <td>0.210240</td>\n",
       "      <td>0.300036</td>\n",
       "    </tr>\n",
       "    <tr>\n",
       "      <th rowspan=\"2\" valign=\"top\">2.5</th>\n",
       "      <th>1.0</th>\n",
       "      <th>4.9</th>\n",
       "      <td>4.7124</td>\n",
       "      <td>1.493347</td>\n",
       "      <td>6.2199</td>\n",
       "      <td>0.956004</td>\n",
       "      <td>10.8484</td>\n",
       "      <td>4.073085</td>\n",
       "      <td>0.082714</td>\n",
       "      <td>0.165366</td>\n",
       "      <td>0.032436</td>\n",
       "      <td>0.024337</td>\n",
       "      <td>0.003795</td>\n",
       "      <td>0.015150</td>\n",
       "      <td>0.118944</td>\n",
       "      <td>0.204853</td>\n",
       "      <td>0.323798</td>\n",
       "    </tr>\n",
       "    <tr>\n",
       "      <th>0.9</th>\n",
       "      <th>4.5</th>\n",
       "      <td>4.6913</td>\n",
       "      <td>1.465129</td>\n",
       "      <td>6.1835</td>\n",
       "      <td>0.872598</td>\n",
       "      <td>10.5213</td>\n",
       "      <td>3.679449</td>\n",
       "      <td>0.095296</td>\n",
       "      <td>0.189112</td>\n",
       "      <td>0.046872</td>\n",
       "      <td>0.005271</td>\n",
       "      <td>0.151088</td>\n",
       "      <td>0.073198</td>\n",
       "      <td>0.293256</td>\n",
       "      <td>0.267581</td>\n",
       "      <td>0.560836</td>\n",
       "    </tr>\n",
       "    <tr>\n",
       "      <th>2.7</th>\n",
       "      <th>1.1</th>\n",
       "      <th>4.8</th>\n",
       "      <td>4.5889</td>\n",
       "      <td>1.566045</td>\n",
       "      <td>6.2227</td>\n",
       "      <td>1.041972</td>\n",
       "      <td>10.7828</td>\n",
       "      <td>3.978797</td>\n",
       "      <td>0.169003</td>\n",
       "      <td>0.111526</td>\n",
       "      <td>0.031435</td>\n",
       "      <td>0.058550</td>\n",
       "      <td>0.016180</td>\n",
       "      <td>0.000829</td>\n",
       "      <td>0.216618</td>\n",
       "      <td>0.170905</td>\n",
       "      <td>0.387524</td>\n",
       "    </tr>\n",
       "    <tr>\n",
       "      <th>2.4</th>\n",
       "      <th>0.9</th>\n",
       "      <th>4.9</th>\n",
       "      <td>4.7665</td>\n",
       "      <td>1.438186</td>\n",
       "      <td>6.1948</td>\n",
       "      <td>0.868708</td>\n",
       "      <td>10.8347</td>\n",
       "      <td>4.067404</td>\n",
       "      <td>0.054522</td>\n",
       "      <td>0.213273</td>\n",
       "      <td>0.042107</td>\n",
       "      <td>0.004721</td>\n",
       "      <td>0.005670</td>\n",
       "      <td>0.013784</td>\n",
       "      <td>0.102299</td>\n",
       "      <td>0.231777</td>\n",
       "      <td>0.334076</td>\n",
       "    </tr>\n",
       "    <tr>\n",
       "      <th>...</th>\n",
       "      <th>...</th>\n",
       "      <th>...</th>\n",
       "      <th>...</th>\n",
       "      <th>...</th>\n",
       "      <th>...</th>\n",
       "      <td>...</td>\n",
       "      <td>...</td>\n",
       "      <td>...</td>\n",
       "      <td>...</td>\n",
       "      <td>...</td>\n",
       "      <td>...</td>\n",
       "      <td>...</td>\n",
       "      <td>...</td>\n",
       "      <td>...</td>\n",
       "      <td>...</td>\n",
       "      <td>...</td>\n",
       "      <td>...</td>\n",
       "      <td>...</td>\n",
       "      <td>...</td>\n",
       "      <td>...</td>\n",
       "    </tr>\n",
       "    <tr>\n",
       "      <th rowspan=\"5\" valign=\"top\">7.3</th>\n",
       "      <th rowspan=\"5\" valign=\"top\">6.5</th>\n",
       "      <th rowspan=\"5\" valign=\"top\">8.95</th>\n",
       "      <th rowspan=\"5\" valign=\"top\">3.0</th>\n",
       "      <th>1.2</th>\n",
       "      <th>4.9</th>\n",
       "      <td>4.8753</td>\n",
       "      <td>1.707908</td>\n",
       "      <td>6.7386</td>\n",
       "      <td>1.104477</td>\n",
       "      <td>11.5335</td>\n",
       "      <td>4.051429</td>\n",
       "      <td>0.015550</td>\n",
       "      <td>0.036899</td>\n",
       "      <td>0.114650</td>\n",
       "      <td>0.092706</td>\n",
       "      <td>0.388752</td>\n",
       "      <td>0.010288</td>\n",
       "      <td>0.518952</td>\n",
       "      <td>0.139894</td>\n",
       "      <td>0.658846</td>\n",
       "    </tr>\n",
       "    <tr>\n",
       "      <th>1.3</th>\n",
       "      <th>4.9</th>\n",
       "      <td>4.8955</td>\n",
       "      <td>1.712419</td>\n",
       "      <td>6.7652</td>\n",
       "      <td>1.198111</td>\n",
       "      <td>11.5025</td>\n",
       "      <td>4.048653</td>\n",
       "      <td>0.010920</td>\n",
       "      <td>0.035187</td>\n",
       "      <td>0.133371</td>\n",
       "      <td>0.158492</td>\n",
       "      <td>0.351056</td>\n",
       "      <td>0.009732</td>\n",
       "      <td>0.495348</td>\n",
       "      <td>0.203411</td>\n",
       "      <td>0.698759</td>\n",
       "    </tr>\n",
       "    <tr>\n",
       "      <th>1.1</th>\n",
       "      <th>4.6</th>\n",
       "      <td>4.8438</td>\n",
       "      <td>1.677081</td>\n",
       "      <td>6.6970</td>\n",
       "      <td>1.037589</td>\n",
       "      <td>11.2660</td>\n",
       "      <td>3.785531</td>\n",
       "      <td>0.024398</td>\n",
       "      <td>0.049693</td>\n",
       "      <td>0.088209</td>\n",
       "      <td>0.056449</td>\n",
       "      <td>0.126736</td>\n",
       "      <td>0.027050</td>\n",
       "      <td>0.239343</td>\n",
       "      <td>0.133191</td>\n",
       "      <td>0.372535</td>\n",
       "    </tr>\n",
       "    <tr>\n",
       "      <th>0.9</th>\n",
       "      <th>4.9</th>\n",
       "      <td>4.8246</td>\n",
       "      <td>1.640620</td>\n",
       "      <td>6.6359</td>\n",
       "      <td>0.879393</td>\n",
       "      <td>11.3717</td>\n",
       "      <td>4.035336</td>\n",
       "      <td>0.030765</td>\n",
       "      <td>0.067278</td>\n",
       "      <td>0.055649</td>\n",
       "      <td>0.006303</td>\n",
       "      <td>0.213167</td>\n",
       "      <td>0.007282</td>\n",
       "      <td>0.299581</td>\n",
       "      <td>0.080863</td>\n",
       "      <td>0.380444</td>\n",
       "    </tr>\n",
       "    <tr>\n",
       "      <th>1.3</th>\n",
       "      <th>4.7</th>\n",
       "      <td>4.8838</td>\n",
       "      <td>1.731733</td>\n",
       "      <td>6.7770</td>\n",
       "      <td>1.188390</td>\n",
       "      <td>11.3937</td>\n",
       "      <td>3.851974</td>\n",
       "      <td>0.013502</td>\n",
       "      <td>0.028314</td>\n",
       "      <td>0.142129</td>\n",
       "      <td>0.150847</td>\n",
       "      <td>0.233966</td>\n",
       "      <td>0.009609</td>\n",
       "      <td>0.389597</td>\n",
       "      <td>0.188770</td>\n",
       "      <td>0.578367</td>\n",
       "    </tr>\n",
       "  </tbody>\n",
       "</table>\n",
       "<p>426888 rows × 15 columns</p>\n",
       "</div>"
      ],
      "text/plain": [
       "                                        true_e_mean  true_e_std  true_t_mean  \\\n",
       "e_mean t_mean i_mean e_std t_std i_std                                         \n",
       "6.8    6.0    8.40   2.4   1.0   4.8         4.7852    1.467672       6.2354   \n",
       "                     2.5   1.0   4.9         4.7124    1.493347       6.2199   \n",
       "                           0.9   4.5         4.6913    1.465129       6.1835   \n",
       "                     2.7   1.1   4.8         4.5889    1.566045       6.2227   \n",
       "                     2.4   0.9   4.9         4.7665    1.438186       6.1948   \n",
       "...                                             ...         ...          ...   \n",
       "7.3    6.5    8.95   3.0   1.2   4.9         4.8753    1.707908       6.7386   \n",
       "                           1.3   4.9         4.8955    1.712419       6.7652   \n",
       "                           1.1   4.6         4.8438    1.677081       6.6970   \n",
       "                           0.9   4.9         4.8246    1.640620       6.6359   \n",
       "                           1.3   4.7         4.8838    1.731733       6.7770   \n",
       "\n",
       "                                        true_t_std  true_i_mean  true_i_std  \\\n",
       "e_mean t_mean i_mean e_std t_std i_std                                        \n",
       "6.8    6.0    8.40   2.4   1.0   4.8      0.951728      10.7813    3.967628   \n",
       "                     2.5   1.0   4.9      0.956004      10.8484    4.073085   \n",
       "                           0.9   4.5      0.872598      10.5213    3.679449   \n",
       "                     2.7   1.1   4.8      1.041972      10.7828    3.978797   \n",
       "                     2.4   0.9   4.9      0.868708      10.8347    4.067404   \n",
       "...                                            ...          ...         ...   \n",
       "7.3    6.5    8.95   3.0   1.2   4.9      1.104477      11.5335    4.051429   \n",
       "                           1.3   4.9      1.198111      11.5025    4.048653   \n",
       "                           1.1   4.6      1.037589      11.2660    3.785531   \n",
       "                           0.9   4.9      0.879393      11.3717    4.035336   \n",
       "                           1.3   4.7      1.188390      11.3937    3.851974   \n",
       "\n",
       "                                        e_mean_diff  e_std_diff  t_mean_diff  \\\n",
       "e_mean t_mean i_mean e_std t_std i_std                                         \n",
       "6.8    6.0    8.40   2.4   1.0   4.8       0.046139    0.186908     0.027093   \n",
       "                     2.5   1.0   4.9       0.082714    0.165366     0.032436   \n",
       "                           0.9   4.5       0.095296    0.189112     0.046872   \n",
       "                     2.7   1.1   4.8       0.169003    0.111526     0.031435   \n",
       "                     2.4   0.9   4.9       0.054522    0.213273     0.042107   \n",
       "...                                             ...         ...          ...   \n",
       "7.3    6.5    8.95   3.0   1.2   4.9       0.015550    0.036899     0.114650   \n",
       "                           1.3   4.9       0.010920    0.035187     0.133371   \n",
       "                           1.1   4.6       0.024398    0.049693     0.088209   \n",
       "                           0.9   4.9       0.030765    0.067278     0.055649   \n",
       "                           1.3   4.7       0.013502    0.028314     0.142129   \n",
       "\n",
       "                                        t_std_diff  i_mean_diff  i_std_diff  \\\n",
       "e_mean t_mean i_mean e_std t_std i_std                                        \n",
       "6.8    6.0    8.40   2.4   1.0   4.8      0.023021     0.016564    0.000311   \n",
       "                     2.5   1.0   4.9      0.024337     0.003795    0.015150   \n",
       "                           0.9   4.5      0.005271     0.151088    0.073198   \n",
       "                     2.7   1.1   4.8      0.058550     0.016180    0.000829   \n",
       "                     2.4   0.9   4.9      0.004721     0.005670    0.013784   \n",
       "...                                            ...          ...         ...   \n",
       "7.3    6.5    8.95   3.0   1.2   4.9      0.092706     0.388752    0.010288   \n",
       "                           1.3   4.9      0.158492     0.351056    0.009732   \n",
       "                           1.1   4.6      0.056449     0.126736    0.027050   \n",
       "                           0.9   4.9      0.006303     0.213167    0.007282   \n",
       "                           1.3   4.7      0.150847     0.233966    0.009609   \n",
       "\n",
       "                                        mean_diff  std_diff      diff  \n",
       "e_mean t_mean i_mean e_std t_std i_std                                 \n",
       "6.8    6.0    8.40   2.4   1.0   4.8     0.089796  0.210240  0.300036  \n",
       "                     2.5   1.0   4.9     0.118944  0.204853  0.323798  \n",
       "                           0.9   4.5     0.293256  0.267581  0.560836  \n",
       "                     2.7   1.1   4.8     0.216618  0.170905  0.387524  \n",
       "                     2.4   0.9   4.9     0.102299  0.231777  0.334076  \n",
       "...                                           ...       ...       ...  \n",
       "7.3    6.5    8.95   3.0   1.2   4.9     0.518952  0.139894  0.658846  \n",
       "                           1.3   4.9     0.495348  0.203411  0.698759  \n",
       "                           1.1   4.6     0.239343  0.133191  0.372535  \n",
       "                           0.9   4.9     0.299581  0.080863  0.380444  \n",
       "                           1.3   4.7     0.389597  0.188770  0.578367  \n",
       "\n",
       "[426888 rows x 15 columns]"
      ]
     },
     "execution_count": 65,
     "metadata": {},
     "output_type": "execute_result"
    }
   ],
   "source": [
    "results_fine"
   ]
  },
  {
   "cell_type": "code",
   "execution_count": 66,
   "id": "14275b02-18b4-453a-bd6c-92c082d63e0c",
   "metadata": {},
   "outputs": [
    {
     "data": {
      "text/plain": [
       "[6.65, 6.7, 6.75, 6.8, 6.85, 6.9, 6.95, 7.0, 7.05, 7.1, 7.15]"
      ]
     },
     "execution_count": 66,
     "metadata": {},
     "output_type": "execute_result"
    }
   ],
   "source": [
    "exposure_durations"
   ]
  },
  {
   "cell_type": "code",
   "execution_count": 64,
   "id": "9e94a260-68fa-4563-8901-53261165f2eb",
   "metadata": {},
   "outputs": [
    {
     "ename": "KeyError",
     "evalue": "(6.65, 5.95, 8.65, 2.8, 0.9, 4.7)",
     "output_type": "error",
     "traceback": [
      "\u001b[0;31m---------------------------------------------------------------------------\u001b[0m",
      "\u001b[0;31mKeyError\u001b[0m                                  Traceback (most recent call last)",
      "File \u001b[0;32m~/.conda/envs/covid/lib/python3.9/site-packages/pandas/core/indexes/base.py:3361\u001b[0m, in \u001b[0;36mIndex.get_loc\u001b[0;34m(self, key, method, tolerance)\u001b[0m\n\u001b[1;32m   3360\u001b[0m \u001b[38;5;28;01mtry\u001b[39;00m:\n\u001b[0;32m-> 3361\u001b[0m     \u001b[38;5;28;01mreturn\u001b[39;00m \u001b[38;5;28;43mself\u001b[39;49m\u001b[38;5;241;43m.\u001b[39;49m\u001b[43m_engine\u001b[49m\u001b[38;5;241;43m.\u001b[39;49m\u001b[43mget_loc\u001b[49m\u001b[43m(\u001b[49m\u001b[43mcasted_key\u001b[49m\u001b[43m)\u001b[49m\n\u001b[1;32m   3362\u001b[0m \u001b[38;5;28;01mexcept\u001b[39;00m \u001b[38;5;167;01mKeyError\u001b[39;00m \u001b[38;5;28;01mas\u001b[39;00m err:\n",
      "File \u001b[0;32m~/.conda/envs/covid/lib/python3.9/site-packages/pandas/_libs/index.pyx:76\u001b[0m, in \u001b[0;36mpandas._libs.index.IndexEngine.get_loc\u001b[0;34m()\u001b[0m\n",
      "File \u001b[0;32m~/.conda/envs/covid/lib/python3.9/site-packages/pandas/_libs/index.pyx:108\u001b[0m, in \u001b[0;36mpandas._libs.index.IndexEngine.get_loc\u001b[0;34m()\u001b[0m\n",
      "File \u001b[0;32mpandas/_libs/hashtable_class_helper.pxi:1533\u001b[0m, in \u001b[0;36mpandas._libs.hashtable.Float64HashTable.get_item\u001b[0;34m()\u001b[0m\n",
      "File \u001b[0;32mpandas/_libs/hashtable_class_helper.pxi:1542\u001b[0m, in \u001b[0;36mpandas._libs.hashtable.Float64HashTable.get_item\u001b[0;34m()\u001b[0m\n",
      "\u001b[0;31mKeyError\u001b[0m: 6.65",
      "\nThe above exception was the direct cause of the following exception:\n",
      "\u001b[0;31mKeyError\u001b[0m                                  Traceback (most recent call last)",
      "File \u001b[0;32m~/.conda/envs/covid/lib/python3.9/site-packages/pandas/_libs/index.pyx:717\u001b[0m, in \u001b[0;36mpandas._libs.index.BaseMultiIndexCodesEngine.get_loc\u001b[0;34m()\u001b[0m\n",
      "File \u001b[0;32m~/.conda/envs/covid/lib/python3.9/site-packages/pandas/core/indexes/base.py:3363\u001b[0m, in \u001b[0;36mIndex.get_loc\u001b[0;34m(self, key, method, tolerance)\u001b[0m\n\u001b[1;32m   3362\u001b[0m     \u001b[38;5;28;01mexcept\u001b[39;00m \u001b[38;5;167;01mKeyError\u001b[39;00m \u001b[38;5;28;01mas\u001b[39;00m err:\n\u001b[0;32m-> 3363\u001b[0m         \u001b[38;5;28;01mraise\u001b[39;00m \u001b[38;5;167;01mKeyError\u001b[39;00m(key) \u001b[38;5;28;01mfrom\u001b[39;00m \u001b[38;5;21;01merr\u001b[39;00m\n\u001b[1;32m   3365\u001b[0m \u001b[38;5;28;01mif\u001b[39;00m is_scalar(key) \u001b[38;5;129;01mand\u001b[39;00m isna(key) \u001b[38;5;129;01mand\u001b[39;00m \u001b[38;5;129;01mnot\u001b[39;00m \u001b[38;5;28mself\u001b[39m\u001b[38;5;241m.\u001b[39mhasnans:\n",
      "\u001b[0;31mKeyError\u001b[0m: 6.65",
      "\nDuring handling of the above exception, another exception occurred:\n",
      "\u001b[0;31mKeyError\u001b[0m                                  Traceback (most recent call last)",
      "File \u001b[0;32m~/.conda/envs/covid/lib/python3.9/site-packages/pandas/core/indexes/multi.py:3080\u001b[0m, in \u001b[0;36mMultiIndex._get_loc_level\u001b[0;34m(self, key, level, drop_level)\u001b[0m\n\u001b[1;32m   3079\u001b[0m \u001b[38;5;28;01mtry\u001b[39;00m:\n\u001b[0;32m-> 3080\u001b[0m     \u001b[38;5;28;01mreturn\u001b[39;00m (\u001b[38;5;28;43mself\u001b[39;49m\u001b[38;5;241;43m.\u001b[39;49m\u001b[43m_engine\u001b[49m\u001b[38;5;241;43m.\u001b[39;49m\u001b[43mget_loc\u001b[49m\u001b[43m(\u001b[49m\u001b[43mkey\u001b[49m\u001b[43m)\u001b[49m, \u001b[38;5;28;01mNone\u001b[39;00m)\n\u001b[1;32m   3081\u001b[0m \u001b[38;5;28;01mexcept\u001b[39;00m \u001b[38;5;167;01mKeyError\u001b[39;00m \u001b[38;5;28;01mas\u001b[39;00m e:\n",
      "File \u001b[0;32m~/.conda/envs/covid/lib/python3.9/site-packages/pandas/_libs/index.pyx:720\u001b[0m, in \u001b[0;36mpandas._libs.index.BaseMultiIndexCodesEngine.get_loc\u001b[0;34m()\u001b[0m\n",
      "\u001b[0;31mKeyError\u001b[0m: (6.65, 5.95, 8.65, 2.8, 0.9, 4.7)",
      "\nThe above exception was the direct cause of the following exception:\n",
      "\u001b[0;31mKeyError\u001b[0m                                  Traceback (most recent call last)",
      "Input \u001b[0;32mIn [64]\u001b[0m, in \u001b[0;36m<cell line: 10>\u001b[0;34m()\u001b[0m\n\u001b[1;32m     11\u001b[0m     \u001b[38;5;28;01mfor\u001b[39;00m i, e \u001b[38;5;129;01min\u001b[39;00m \u001b[38;5;28menumerate\u001b[39m(exposure_durations):\n\u001b[1;32m     12\u001b[0m         \u001b[38;5;28;01mfor\u001b[39;00m j, t \u001b[38;5;129;01min\u001b[39;00m \u001b[38;5;28menumerate\u001b[39m(times_until_symtoms):\n\u001b[1;32m     13\u001b[0m             images[infection_duration][i, j] \u001b[38;5;241m=\u001b[39m \\\n\u001b[0;32m---> 14\u001b[0m                 \u001b[43mresults_fine\u001b[49m\u001b[38;5;241;43m.\u001b[39;49m\u001b[43mloc\u001b[49m\u001b[43m[\u001b[49m\u001b[43me\u001b[49m\u001b[43m,\u001b[49m\u001b[43m \u001b[49m\u001b[43mt\u001b[49m\u001b[43m,\u001b[49m\u001b[43m \u001b[49m\u001b[43minfection_duration\u001b[49m\u001b[43m,\u001b[49m\u001b[43m \u001b[49m\u001b[43mbest_e_std_fine\u001b[49m\u001b[43m,\u001b[49m\u001b[43m \u001b[49m\u001b[43mbest_t_std_fine\u001b[49m\u001b[43m,\u001b[49m\u001b[43m \u001b[49m\u001b[43mbest_i_std_fine\u001b[49m\u001b[43m]\u001b[49m[\u001b[38;5;124m\"\u001b[39m\u001b[38;5;124mdiff\u001b[39m\u001b[38;5;124m\"\u001b[39m]\n\u001b[1;32m     15\u001b[0m results_fine \u001b[38;5;241m=\u001b[39m results_fine\u001b[38;5;241m.\u001b[39mreset_index()\n",
      "File \u001b[0;32m~/.conda/envs/covid/lib/python3.9/site-packages/pandas/core/indexing.py:925\u001b[0m, in \u001b[0;36m_LocationIndexer.__getitem__\u001b[0;34m(self, key)\u001b[0m\n\u001b[1;32m    923\u001b[0m         \u001b[38;5;28;01mwith\u001b[39;00m suppress(\u001b[38;5;167;01mKeyError\u001b[39;00m, \u001b[38;5;167;01mIndexError\u001b[39;00m):\n\u001b[1;32m    924\u001b[0m             \u001b[38;5;28;01mreturn\u001b[39;00m \u001b[38;5;28mself\u001b[39m\u001b[38;5;241m.\u001b[39mobj\u001b[38;5;241m.\u001b[39m_get_value(\u001b[38;5;241m*\u001b[39mkey, takeable\u001b[38;5;241m=\u001b[39m\u001b[38;5;28mself\u001b[39m\u001b[38;5;241m.\u001b[39m_takeable)\n\u001b[0;32m--> 925\u001b[0m     \u001b[38;5;28;01mreturn\u001b[39;00m \u001b[38;5;28;43mself\u001b[39;49m\u001b[38;5;241;43m.\u001b[39;49m\u001b[43m_getitem_tuple\u001b[49m\u001b[43m(\u001b[49m\u001b[43mkey\u001b[49m\u001b[43m)\u001b[49m\n\u001b[1;32m    926\u001b[0m \u001b[38;5;28;01melse\u001b[39;00m:\n\u001b[1;32m    927\u001b[0m     \u001b[38;5;66;03m# we by definition only have the 0th axis\u001b[39;00m\n\u001b[1;32m    928\u001b[0m     axis \u001b[38;5;241m=\u001b[39m \u001b[38;5;28mself\u001b[39m\u001b[38;5;241m.\u001b[39maxis \u001b[38;5;129;01mor\u001b[39;00m \u001b[38;5;241m0\u001b[39m\n",
      "File \u001b[0;32m~/.conda/envs/covid/lib/python3.9/site-packages/pandas/core/indexing.py:1100\u001b[0m, in \u001b[0;36m_LocIndexer._getitem_tuple\u001b[0;34m(self, tup)\u001b[0m\n\u001b[1;32m   1098\u001b[0m \u001b[38;5;28;01mdef\u001b[39;00m \u001b[38;5;21m_getitem_tuple\u001b[39m(\u001b[38;5;28mself\u001b[39m, tup: \u001b[38;5;28mtuple\u001b[39m):\n\u001b[1;32m   1099\u001b[0m     \u001b[38;5;28;01mwith\u001b[39;00m suppress(IndexingError):\n\u001b[0;32m-> 1100\u001b[0m         \u001b[38;5;28;01mreturn\u001b[39;00m \u001b[38;5;28;43mself\u001b[39;49m\u001b[38;5;241;43m.\u001b[39;49m\u001b[43m_getitem_lowerdim\u001b[49m\u001b[43m(\u001b[49m\u001b[43mtup\u001b[49m\u001b[43m)\u001b[49m\n\u001b[1;32m   1102\u001b[0m     \u001b[38;5;66;03m# no multi-index, so validate all of the indexers\u001b[39;00m\n\u001b[1;32m   1103\u001b[0m     \u001b[38;5;28mself\u001b[39m\u001b[38;5;241m.\u001b[39m_has_valid_tuple(tup)\n",
      "File \u001b[0;32m~/.conda/envs/covid/lib/python3.9/site-packages/pandas/core/indexing.py:830\u001b[0m, in \u001b[0;36m_LocationIndexer._getitem_lowerdim\u001b[0;34m(self, tup)\u001b[0m\n\u001b[1;32m    828\u001b[0m \u001b[38;5;28;01mif\u001b[39;00m \u001b[38;5;28misinstance\u001b[39m(ax0, MultiIndex) \u001b[38;5;129;01mand\u001b[39;00m \u001b[38;5;28mself\u001b[39m\u001b[38;5;241m.\u001b[39mname \u001b[38;5;241m!=\u001b[39m \u001b[38;5;124m\"\u001b[39m\u001b[38;5;124miloc\u001b[39m\u001b[38;5;124m\"\u001b[39m:\n\u001b[1;32m    829\u001b[0m     \u001b[38;5;28;01mwith\u001b[39;00m suppress(IndexingError):\n\u001b[0;32m--> 830\u001b[0m         \u001b[38;5;28;01mreturn\u001b[39;00m \u001b[38;5;28;43mself\u001b[39;49m\u001b[38;5;241;43m.\u001b[39;49m\u001b[43m_handle_lowerdim_multi_index_axis0\u001b[49m\u001b[43m(\u001b[49m\u001b[43mtup\u001b[49m\u001b[43m)\u001b[49m\n\u001b[1;32m    832\u001b[0m \u001b[38;5;28mself\u001b[39m\u001b[38;5;241m.\u001b[39m_validate_key_length(tup)\n\u001b[1;32m    834\u001b[0m \u001b[38;5;28;01mfor\u001b[39;00m i, key \u001b[38;5;129;01min\u001b[39;00m \u001b[38;5;28menumerate\u001b[39m(tup):\n",
      "File \u001b[0;32m~/.conda/envs/covid/lib/python3.9/site-packages/pandas/core/indexing.py:1128\u001b[0m, in \u001b[0;36m_LocIndexer._handle_lowerdim_multi_index_axis0\u001b[0;34m(self, tup)\u001b[0m\n\u001b[1;32m   1124\u001b[0m \u001b[38;5;28;01mexcept\u001b[39;00m \u001b[38;5;167;01mKeyError\u001b[39;00m \u001b[38;5;28;01mas\u001b[39;00m ek:\n\u001b[1;32m   1125\u001b[0m     \u001b[38;5;66;03m# raise KeyError if number of indexers match\u001b[39;00m\n\u001b[1;32m   1126\u001b[0m     \u001b[38;5;66;03m# else IndexingError will be raised\u001b[39;00m\n\u001b[1;32m   1127\u001b[0m     \u001b[38;5;28;01mif\u001b[39;00m \u001b[38;5;28mself\u001b[39m\u001b[38;5;241m.\u001b[39mndim \u001b[38;5;241m<\u001b[39m \u001b[38;5;28mlen\u001b[39m(tup) \u001b[38;5;241m<\u001b[39m\u001b[38;5;241m=\u001b[39m \u001b[38;5;28mself\u001b[39m\u001b[38;5;241m.\u001b[39mobj\u001b[38;5;241m.\u001b[39mindex\u001b[38;5;241m.\u001b[39mnlevels:\n\u001b[0;32m-> 1128\u001b[0m         \u001b[38;5;28;01mraise\u001b[39;00m ek\n\u001b[1;32m   1130\u001b[0m \u001b[38;5;28;01mraise\u001b[39;00m IndexingError(\u001b[38;5;124m\"\u001b[39m\u001b[38;5;124mNo label returned\u001b[39m\u001b[38;5;124m\"\u001b[39m)\n",
      "File \u001b[0;32m~/.conda/envs/covid/lib/python3.9/site-packages/pandas/core/indexing.py:1120\u001b[0m, in \u001b[0;36m_LocIndexer._handle_lowerdim_multi_index_axis0\u001b[0;34m(self, tup)\u001b[0m\n\u001b[1;32m   1117\u001b[0m axis \u001b[38;5;241m=\u001b[39m \u001b[38;5;28mself\u001b[39m\u001b[38;5;241m.\u001b[39maxis \u001b[38;5;129;01mor\u001b[39;00m \u001b[38;5;241m0\u001b[39m\n\u001b[1;32m   1118\u001b[0m \u001b[38;5;28;01mtry\u001b[39;00m:\n\u001b[1;32m   1119\u001b[0m     \u001b[38;5;66;03m# fast path for series or for tup devoid of slices\u001b[39;00m\n\u001b[0;32m-> 1120\u001b[0m     \u001b[38;5;28;01mreturn\u001b[39;00m \u001b[38;5;28;43mself\u001b[39;49m\u001b[38;5;241;43m.\u001b[39;49m\u001b[43m_get_label\u001b[49m\u001b[43m(\u001b[49m\u001b[43mtup\u001b[49m\u001b[43m,\u001b[49m\u001b[43m \u001b[49m\u001b[43maxis\u001b[49m\u001b[38;5;241;43m=\u001b[39;49m\u001b[43maxis\u001b[49m\u001b[43m)\u001b[49m\n\u001b[1;32m   1121\u001b[0m \u001b[38;5;28;01mexcept\u001b[39;00m (\u001b[38;5;167;01mTypeError\u001b[39;00m, InvalidIndexError):\n\u001b[1;32m   1122\u001b[0m     \u001b[38;5;66;03m# slices are unhashable\u001b[39;00m\n\u001b[1;32m   1123\u001b[0m     \u001b[38;5;28;01mpass\u001b[39;00m\n",
      "File \u001b[0;32m~/.conda/envs/covid/lib/python3.9/site-packages/pandas/core/indexing.py:1113\u001b[0m, in \u001b[0;36m_LocIndexer._get_label\u001b[0;34m(self, label, axis)\u001b[0m\n\u001b[1;32m   1111\u001b[0m \u001b[38;5;28;01mdef\u001b[39;00m \u001b[38;5;21m_get_label\u001b[39m(\u001b[38;5;28mself\u001b[39m, label, axis: \u001b[38;5;28mint\u001b[39m):\n\u001b[1;32m   1112\u001b[0m     \u001b[38;5;66;03m# GH#5667 this will fail if the label is not present in the axis.\u001b[39;00m\n\u001b[0;32m-> 1113\u001b[0m     \u001b[38;5;28;01mreturn\u001b[39;00m \u001b[38;5;28;43mself\u001b[39;49m\u001b[38;5;241;43m.\u001b[39;49m\u001b[43mobj\u001b[49m\u001b[38;5;241;43m.\u001b[39;49m\u001b[43mxs\u001b[49m\u001b[43m(\u001b[49m\u001b[43mlabel\u001b[49m\u001b[43m,\u001b[49m\u001b[43m \u001b[49m\u001b[43maxis\u001b[49m\u001b[38;5;241;43m=\u001b[39;49m\u001b[43maxis\u001b[49m\u001b[43m)\u001b[49m\n",
      "File \u001b[0;32m~/.conda/envs/covid/lib/python3.9/site-packages/pandas/core/generic.py:3770\u001b[0m, in \u001b[0;36mNDFrame.xs\u001b[0;34m(self, key, axis, level, drop_level)\u001b[0m\n\u001b[1;32m   3768\u001b[0m \u001b[38;5;28;01mif\u001b[39;00m \u001b[38;5;28misinstance\u001b[39m(index, MultiIndex):\n\u001b[1;32m   3769\u001b[0m     \u001b[38;5;28;01mtry\u001b[39;00m:\n\u001b[0;32m-> 3770\u001b[0m         loc, new_index \u001b[38;5;241m=\u001b[39m \u001b[43mindex\u001b[49m\u001b[38;5;241;43m.\u001b[39;49m\u001b[43m_get_loc_level\u001b[49m\u001b[43m(\u001b[49m\n\u001b[1;32m   3771\u001b[0m \u001b[43m            \u001b[49m\u001b[43mkey\u001b[49m\u001b[43m,\u001b[49m\u001b[43m \u001b[49m\u001b[43mlevel\u001b[49m\u001b[38;5;241;43m=\u001b[39;49m\u001b[38;5;241;43m0\u001b[39;49m\u001b[43m,\u001b[49m\u001b[43m \u001b[49m\u001b[43mdrop_level\u001b[49m\u001b[38;5;241;43m=\u001b[39;49m\u001b[43mdrop_level\u001b[49m\n\u001b[1;32m   3772\u001b[0m \u001b[43m        \u001b[49m\u001b[43m)\u001b[49m\n\u001b[1;32m   3773\u001b[0m     \u001b[38;5;28;01mexcept\u001b[39;00m \u001b[38;5;167;01mTypeError\u001b[39;00m \u001b[38;5;28;01mas\u001b[39;00m e:\n\u001b[1;32m   3774\u001b[0m         \u001b[38;5;28;01mraise\u001b[39;00m \u001b[38;5;167;01mTypeError\u001b[39;00m(\u001b[38;5;124mf\u001b[39m\u001b[38;5;124m\"\u001b[39m\u001b[38;5;124mExpected label or tuple of labels, got \u001b[39m\u001b[38;5;132;01m{\u001b[39;00mkey\u001b[38;5;132;01m}\u001b[39;00m\u001b[38;5;124m\"\u001b[39m) \u001b[38;5;28;01mfrom\u001b[39;00m \u001b[38;5;21;01me\u001b[39;00m\n",
      "File \u001b[0;32m~/.conda/envs/covid/lib/python3.9/site-packages/pandas/core/indexes/multi.py:3082\u001b[0m, in \u001b[0;36mMultiIndex._get_loc_level\u001b[0;34m(self, key, level, drop_level)\u001b[0m\n\u001b[1;32m   3080\u001b[0m         \u001b[38;5;28;01mreturn\u001b[39;00m (\u001b[38;5;28mself\u001b[39m\u001b[38;5;241m.\u001b[39m_engine\u001b[38;5;241m.\u001b[39mget_loc(key), \u001b[38;5;28;01mNone\u001b[39;00m)\n\u001b[1;32m   3081\u001b[0m     \u001b[38;5;28;01mexcept\u001b[39;00m \u001b[38;5;167;01mKeyError\u001b[39;00m \u001b[38;5;28;01mas\u001b[39;00m e:\n\u001b[0;32m-> 3082\u001b[0m         \u001b[38;5;28;01mraise\u001b[39;00m \u001b[38;5;167;01mKeyError\u001b[39;00m(key) \u001b[38;5;28;01mfrom\u001b[39;00m \u001b[38;5;21;01me\u001b[39;00m\n\u001b[1;32m   3083\u001b[0m \u001b[38;5;28;01melse\u001b[39;00m:\n\u001b[1;32m   3084\u001b[0m     \u001b[38;5;28;01mreturn\u001b[39;00m partial_selection(key)\n",
      "\u001b[0;31mKeyError\u001b[0m: (6.65, 5.95, 8.65, 2.8, 0.9, 4.7)"
     ]
    }
   ],
   "source": [
    "exposure_durations = [round(e, 2) for e in exposure_durations]\n",
    "times_until_symtoms = [round(t, 2) for t in times_until_symtoms]\n",
    "\n",
    "selected_infection_durations = infection_durations\n",
    "images = {i:np.zeros((len(exposure_durations), len(times_until_symtoms))) \\\n",
    "          for i in selected_infection_durations}\n",
    "\n",
    "\n",
    "results_fine = results_fine.set_index([\"e_mean\", \"t_mean\", \"i_mean\", \"e_std\", \"t_std\", \"i_std\"])\n",
    "for infection_duration in selected_infection_durations:\n",
    "    for i, e in enumerate(exposure_durations):\n",
    "        for j, t in enumerate(times_until_symtoms):\n",
    "            images[infection_duration][i, j] = \\\n",
    "                results_fine.loc[e, t, infection_duration, best_e_std_fine, best_t_std_fine, best_i_std_fine][\"diff\"]\n",
    "results_fine = results_fine.reset_index()"
   ]
  },
  {
   "cell_type": "code",
   "execution_count": 44,
   "id": "7ee3db87-fa24-44eb-805f-dbf83ef01ae8",
   "metadata": {},
   "outputs": [
    {
     "data": {
      "text/plain": [
       "1.3107437633628718"
      ]
     },
     "execution_count": 44,
     "metadata": {},
     "output_type": "execute_result"
    }
   ],
   "source": [
    "results_fine[\"diff\"].max()"
   ]
  },
  {
   "cell_type": "code",
   "execution_count": 45,
   "id": "0b911ded-5f8f-4713-b7af-cb3b64c2d72b",
   "metadata": {},
   "outputs": [
    {
     "data": {
      "text/plain": [
       "0.1472577640228061"
      ]
     },
     "execution_count": 45,
     "metadata": {},
     "output_type": "execute_result"
    }
   ],
   "source": [
    "results_fine[\"diff\"].min()"
   ]
  },
  {
   "cell_type": "code",
   "execution_count": 50,
   "id": "85ff7a5d-203e-4a23-b98f-c7e696b73f64",
   "metadata": {},
   "outputs": [
    {
     "data": {
      "image/png": "[encoded data removed]",
      "text/plain": [
       "<Figure size 576x864 with 12 Axes>"
      ]
     },
     "metadata": {
      "needs_background": "light"
     },
     "output_type": "display_data"
    }
   ],
   "source": [
    "fig, axes = plt.subplots(4, 3, figsize=(8, 12))\n",
    "for ax, infection_duration in zip(axes.flatten(), selected_infection_durations):\n",
    "    ax.imshow(images[infection_duration], vmin=0.1, vmax=0.3)\n",
    "    ax.set_yticks(range(len(exposure_durations)))\n",
    "    ax.set_yticklabels(exposure_durations, fontsize=8)\n",
    "    ax.set_xticks(range(len(times_until_symtoms)))\n",
    "    ax.set_xticklabels(times_until_symtoms, fontsize=8)\n",
    "    ax.set_xlabel(\"time until symptoms\")\n",
    "    ax.set_ylabel(\"exposure duration\")\n",
    "    ax.set_title(f\"infection duration: {infection_duration}\")\n",
    "fig.tight_layout()"
   ]
  },
  {
   "cell_type": "markdown",
   "id": "boxed-gibson",
   "metadata": {},
   "source": [
    "### Epi parameter distribution plot"
   ]
  },
  {
   "cell_type": "code",
   "execution_count": 52,
   "id": "short-dragon",
   "metadata": {},
   "outputs": [],
   "source": [
    "curr_epi_params = {\n",
    "        \"exposure_duration\":{\"mean\":best_e_mean, \"std\":best_e_std},\n",
    "        \"time_until_symptoms\":{\"mean\":best_t_mean, \"std\":best_t_std},\n",
    "        \"infection_duration\":{\"mean\":best_i_mean, \"std\":best_i_std}\n",
    "    }\n",
    "for param_name in curr_epi_params.keys():\n",
    "    mu = curr_epi_params[param_name][\"mean\"]\n",
    "    var = curr_epi_params[param_name][\"std\"]**2\n",
    "    shape = root_scalar(get_weibull_shape, args=(mu, var),\n",
    "                method='toms748', bracket=[0.2, 500]).root\n",
    "    scale = get_weibull_scale(mu, shape)\n",
    "    curr_epi_params[param_name][\"shape\"] = shape\n",
    "    curr_epi_params[param_name][\"scale\"] = scale\n",
    "\n",
    "exposure_duration = []\n",
    "time_until_symptoms = []\n",
    "infection_duration = []\n",
    "for i in range(10000):\n",
    "    tmp_epi_params = {}\n",
    "    while True:\n",
    "        for param_name in curr_epi_params.keys():\n",
    "            tmp_epi_params[param_name] = \\\n",
    "                round(weibull_two_param(curr_epi_params[param_name][\"shape\"],\n",
    "                                        curr_epi_params[param_name][\"scale\"]))\n",
    "\n",
    "        if (tmp_epi_params['exposure_duration'] >= 1) and \\\n",
    "           (tmp_epi_params['time_until_symptoms'] >= \\\n",
    "           tmp_epi_params['exposure_duration']) and\\\n",
    "           (tmp_epi_params['infection_duration'] >= \\\n",
    "           tmp_epi_params['time_until_symptoms']):\n",
    "           break\n",
    "\n",
    "    exposure_duration.append(tmp_epi_params['exposure_duration'])\n",
    "    time_until_symptoms.append(tmp_epi_params['time_until_symptoms'])\n",
    "    infection_duration.append(tmp_epi_params['infection_duration'])\n",
    "\n",
    "exposure_duration = np.asarray(exposure_duration)\n",
    "time_until_symptoms = np.asarray(time_until_symptoms)\n",
    "infection_duration = np.asarray(infection_duration)"
   ]
  },
  {
   "cell_type": "code",
   "execution_count": 56,
   "id": "adult-fault",
   "metadata": {},
   "outputs": [
    {
     "data": {
      "text/plain": [
       "Text(0.7162, 0.9, 'C')"
      ]
     },
     "execution_count": 56,
     "metadata": {},
     "output_type": "execute_result"
    },
    {
     "data": {
      "image/png": "[encoded data removed]",
      "text/plain": [
       "<Figure size 792x216 with 3 Axes>"
      ]
     },
     "metadata": {
      "needs_background": "light"
     },
     "output_type": "display_data"
    }
   ],
   "source": [
    "fig, axes = plt.subplots(1, 3, figsize=(11, 3))\n",
    "fig.subplots_adjust(wspace=0.3)\n",
    "max_bins = [11, 11, 26]\n",
    "steps = [1, 1, 2]\n",
    "colors = ['#2471A3', '#C0392B', '#909497']\n",
    "xticks = [range(0, 11, 2), range(0, 11, 2), range(0, 26, 5)]\n",
    "labels = ['exposure duration\\n', 'incubation time\\n', 'infection duration\\n']\n",
    "ymaxes = [0.25, 0.5, 0.12]\n",
    "\n",
    "for ax, max_bin, step, color, xtick, label, ymax, param in zip(axes, max_bins, steps, colors,\\\n",
    "    xticks, labels, ymaxes, [exposure_duration, time_until_symptoms, infection_duration]):\n",
    "    ax.hist(param, bins=range(0, max_bin, step), rwidth=0.8, color=color,\n",
    "            density=True, align='left')\n",
    "    ax.set_xticks(xtick)\n",
    "    ax.spines['right'].set_visible(False)\n",
    "    ax.spines['top'].set_visible(False)\n",
    "    ax.set_title(label)\n",
    "    ax.set_ylabel('pdf')\n",
    "    ax.set_xlabel('days')\n",
    "    ax.set_ylim(0, ymax)\n",
    "\n",
    "fig.tight_layout()\n",
    "fig.text(0.062, 0.9, 'A', fontsize=12, fontweight='bold')\n",
    "fig.text(0.39, 0.9, 'B', fontsize=12, fontweight='bold')\n",
    "fig.text(0.7162, 0.9, 'C', fontsize=12, fontweight='bold')"
   ]
  },
  {
   "cell_type": "markdown",
   "id": "continent-drove",
   "metadata": {},
   "source": [
    "## Omicron"
   ]
  },
  {
   "cell_type": "code",
   "execution_count": 4,
   "id": "featured-bearing",
   "metadata": {},
   "outputs": [],
   "source": [
    "expected_epi_params = {\n",
    "    \"exposure_duration\":{\"mean\":2, \"std\":1.9},\n",
    "    \"time_until_symptoms\":{\"mean\":3, \"std\":1.9},\n",
    "    \"infection_duration\":{\"mean\":10.91, \"std\":3.95}\n",
    "}"
   ]
  },
  {
   "cell_type": "markdown",
   "id": "median-collect",
   "metadata": {},
   "source": [
    "### Coarse grid search"
   ]
  },
  {
   "cell_type": "code",
   "execution_count": 5,
   "id": "under-mayor",
   "metadata": {},
   "outputs": [
    {
     "name": "stdout",
     "output_type": "stream",
     "text": [
      "166375 parameter combinations\n"
     ]
    }
   ],
   "source": [
    "step = 0.2\n",
    "exposure_durations = np.arange(1, 3 + step, step)\n",
    "times_until_symtoms = np.arange(1, 3 + step, step)\n",
    "infection_durations = np.arange(9, 11 + step, step)\n",
    "\n",
    "step = 0.25\n",
    "exposure_duration_stds = np.arange(1.5, 2.4 + step, step)\n",
    "times_until_symtoms_stds = np.arange(1.5, 2.4 + step, step)\n",
    "infection_durations_stds = np.arange(3, 5 + step * 2, step * 2)\n",
    "\n",
    "param_combinations = [(e, t, i, e_std, t_std, i_std) \\\n",
    "                                for e in exposure_durations \\\n",
    "                                for t in times_until_symtoms \\\n",
    "                                for i in infection_durations \\\n",
    "                                for e_std in exposure_duration_stds \\\n",
    "                                for t_std in times_until_symtoms_stds \\\n",
    "                                for i_std in infection_durations_stds]\n",
    "print(f\"{len(param_combinations)} parameter combinations\")"
   ]
  },
  {
   "cell_type": "code",
   "execution_count": null,
   "id": "accurate-bailey",
   "metadata": {},
   "outputs": [],
   "source": [
    "results = pd.DataFrame()\n",
    "\n",
    "pool = Pool(200)\n",
    "for row in tqdm(\n",
    "        pool.imap_unordered(\n",
    "            func=get_true_epi_params, \n",
    "            iterable=param_combinations),\n",
    "            total=len(param_combinations)\n",
    "    ):\n",
    "    results = results.append(row, ignore_index=True)\n",
    "pool.close()"
   ]
  },
  {
   "cell_type": "code",
   "execution_count": 7,
   "id": "matched-balloon",
   "metadata": {},
   "outputs": [],
   "source": [
    "results[\"e_mean_diff\"] = results[\"true_e_mean\"]\\\n",
    "    .apply(lambda x: (x - expected_epi_params[\"exposure_duration\"][\"mean\"]) ** 2)\n",
    "results[\"e_std_diff\"] = results[\"true_e_std\"]\\\n",
    "    .apply(lambda x: (x - expected_epi_params[\"exposure_duration\"][\"std\"]) ** 2)\n",
    "results[\"t_mean_diff\"] = results[\"true_t_mean\"]\\\n",
    "    .apply(lambda x: (x - expected_epi_params[\"time_until_symptoms\"][\"mean\"]) ** 2)\n",
    "results[\"t_std_diff\"] = results[\"true_t_std\"]\\\n",
    "    .apply(lambda x: (x - expected_epi_params[\"time_until_symptoms\"][\"std\"]) ** 2)\n",
    "results[\"i_mean_diff\"] = results[\"true_i_mean\"]\\\n",
    "    .apply(lambda x: (x - expected_epi_params[\"infection_duration\"][\"mean\"]) ** 2)\n",
    "results[\"i_std_diff\"] = results[\"true_i_std\"]\\\n",
    "    .apply(lambda x: (x - expected_epi_params[\"infection_duration\"][\"std\"]) ** 2)\n",
    "\n",
    "results[\"mean_diff\"] = results[\"e_mean_diff\"] + results[\"t_mean_diff\"] + results[\"i_mean_diff\"]\n",
    "results[\"std_diff\"] = results[\"e_std_diff\"] + results[\"t_std_diff\"] + results[\"i_std_diff\"]\n",
    "results[\"diff\"] = results[\"mean_diff\"] + results[\"std_diff\"]\n",
    "\n",
    "results.to_csv(\"results_coarse.csv\", index=False)"
   ]
  },
  {
   "cell_type": "code",
   "execution_count": 6,
   "id": "unable-hearts",
   "metadata": {},
   "outputs": [],
   "source": [
    "results = pd.read_csv(\"results_coarse.csv\")"
   ]
  },
  {
   "cell_type": "code",
   "execution_count": 7,
   "id": "reduced-metallic",
   "metadata": {},
   "outputs": [],
   "source": [
    "exposure_durations = [round(e, 2) for e in exposure_durations]\n",
    "times_until_symtoms = [round(t, 2) for t in times_until_symtoms]\n",
    "\n",
    "round_cols = [\"e_mean\", \"e_std\", \"t_mean\", \"t_std\", \"i_mean\", \"i_std\"]\n",
    "for col in round_cols:\n",
    "    results[col] = results[col].apply(lambda x: round(x, 2))\n",
    "    \n",
    "img = np.zeros((len(exposure_durations), len(times_until_symtoms)))\n",
    "\n",
    "results = results.set_index([\"e_mean\", \"t_mean\", \"i_mean\", \"e_std\", \"t_std\", \"i_std\"])\n",
    "for i, e in enumerate(exposure_durations):\n",
    "    for j, t in enumerate(times_until_symtoms):\n",
    "        img[i, j] = results.loc[e, t, 10, 2.5, 2.25, 4][\"diff\"]\n",
    "results = results.reset_index()"
   ]
  },
  {
   "cell_type": "code",
   "execution_count": 8,
   "id": "expired-glance",
   "metadata": {},
   "outputs": [
    {
     "data": {
      "image/png": "[encoded data removed]",
      "text/plain": [
       "<Figure size 432x288 with 1 Axes>"
      ]
     },
     "metadata": {
      "needs_background": "light"
     },
     "output_type": "display_data"
    }
   ],
   "source": [
    "fig, ax = plt.subplots()\n",
    "ax.imshow(img)\n",
    "ax.set_yticks(range(len(exposure_durations)))\n",
    "ax.set_yticklabels(exposure_durations)\n",
    "ax.set_xticks(range(len(times_until_symtoms)))\n",
    "ax.set_xticklabels(times_until_symtoms);"
   ]
  },
  {
   "cell_type": "code",
   "execution_count": 9,
   "id": "familiar-sound",
   "metadata": {},
   "outputs": [
    {
     "name": "stdout",
     "output_type": "stream",
     "text": [
      "best e: [(3.0, 2.5)]\n",
      "best t: [(2.2, 2.0)]\n",
      "best i: [(10.6, 4.0)]\n"
     ]
    }
   ],
   "source": [
    "idx_best = results[\"diff\"].idxmin()\n",
    "best_e_mean = results.loc[idx_best, \"e_mean\"]\n",
    "best_e_std = results.loc[idx_best, \"e_std\"]\n",
    "best_t_mean = results.loc[idx_best, \"t_mean\"]\n",
    "best_t_std = results.loc[idx_best, \"t_std\"]\n",
    "best_i_mean = results.loc[idx_best, \"i_mean\"]\n",
    "best_i_std = results.loc[idx_best, \"i_std\"]\n",
    "\n",
    "print(f\"best e: [{best_e_mean, best_e_std}]\")\n",
    "print(f\"best t: [{best_t_mean, best_t_std}]\")\n",
    "print(f\"best i: [{best_i_mean, best_i_std}]\")"
   ]
  },
  {
   "cell_type": "code",
   "execution_count": 10,
   "id": "filled-hartford",
   "metadata": {},
   "outputs": [
    {
     "data": {
      "text/html": [
       "<div>\n",
       "<style scoped>\n",
       "    .dataframe tbody tr th:only-of-type {\n",
       "        vertical-align: middle;\n",
       "    }\n",
       "\n",
       "    .dataframe tbody tr th {\n",
       "        vertical-align: top;\n",
       "    }\n",
       "\n",
       "    .dataframe thead th {\n",
       "        text-align: right;\n",
       "    }\n",
       "</style>\n",
       "<table border=\"1\" class=\"dataframe\">\n",
       "  <thead>\n",
       "    <tr style=\"text-align: right;\">\n",
       "      <th></th>\n",
       "      <th>e_mean</th>\n",
       "      <th>t_mean</th>\n",
       "      <th>i_mean</th>\n",
       "      <th>e_std</th>\n",
       "      <th>t_std</th>\n",
       "      <th>i_std</th>\n",
       "      <th>true_e_mean</th>\n",
       "      <th>true_e_std</th>\n",
       "      <th>true_t_mean</th>\n",
       "      <th>true_t_std</th>\n",
       "      <th>...</th>\n",
       "      <th>true_i_std</th>\n",
       "      <th>e_mean_diff</th>\n",
       "      <th>e_std_diff</th>\n",
       "      <th>t_mean_diff</th>\n",
       "      <th>t_std_diff</th>\n",
       "      <th>i_mean_diff</th>\n",
       "      <th>i_std_diff</th>\n",
       "      <th>mean_diff</th>\n",
       "      <th>std_diff</th>\n",
       "      <th>diff</th>\n",
       "    </tr>\n",
       "  </thead>\n",
       "  <tbody>\n",
       "    <tr>\n",
       "      <th>153821</th>\n",
       "      <td>3.0</td>\n",
       "      <td>1.2</td>\n",
       "      <td>10.8</td>\n",
       "      <td>2.25</td>\n",
       "      <td>2.00</td>\n",
       "      <td>4.0</td>\n",
       "      <td>1.844</td>\n",
       "      <td>1.244855</td>\n",
       "      <td>3.039</td>\n",
       "      <td>2.235951</td>\n",
       "      <td>...</td>\n",
       "      <td>3.821115</td>\n",
       "      <td>0.024336</td>\n",
       "      <td>0.429215</td>\n",
       "      <td>0.001521</td>\n",
       "      <td>0.112863</td>\n",
       "      <td>0.006561</td>\n",
       "      <td>0.016611</td>\n",
       "      <td>0.032418</td>\n",
       "      <td>0.558690</td>\n",
       "      <td>0.591108</td>\n",
       "    </tr>\n",
       "    <tr>\n",
       "      <th>156614</th>\n",
       "      <td>3.0</td>\n",
       "      <td>1.6</td>\n",
       "      <td>10.8</td>\n",
       "      <td>2.50</td>\n",
       "      <td>2.00</td>\n",
       "      <td>4.0</td>\n",
       "      <td>1.805</td>\n",
       "      <td>1.189527</td>\n",
       "      <td>2.992</td>\n",
       "      <td>2.073629</td>\n",
       "      <td>...</td>\n",
       "      <td>3.874239</td>\n",
       "      <td>0.038025</td>\n",
       "      <td>0.504772</td>\n",
       "      <td>0.000064</td>\n",
       "      <td>0.030147</td>\n",
       "      <td>0.007056</td>\n",
       "      <td>0.005740</td>\n",
       "      <td>0.045145</td>\n",
       "      <td>0.540658</td>\n",
       "      <td>0.585803</td>\n",
       "    </tr>\n",
       "    <tr>\n",
       "      <th>157967</th>\n",
       "      <td>3.0</td>\n",
       "      <td>1.8</td>\n",
       "      <td>10.8</td>\n",
       "      <td>2.25</td>\n",
       "      <td>2.00</td>\n",
       "      <td>4.0</td>\n",
       "      <td>1.862</td>\n",
       "      <td>1.199565</td>\n",
       "      <td>3.181</td>\n",
       "      <td>2.085723</td>\n",
       "      <td>...</td>\n",
       "      <td>3.974665</td>\n",
       "      <td>0.019044</td>\n",
       "      <td>0.490609</td>\n",
       "      <td>0.032761</td>\n",
       "      <td>0.034493</td>\n",
       "      <td>0.000361</td>\n",
       "      <td>0.000608</td>\n",
       "      <td>0.052166</td>\n",
       "      <td>0.525711</td>\n",
       "      <td>0.577877</td>\n",
       "    </tr>\n",
       "    <tr>\n",
       "      <th>160608</th>\n",
       "      <td>3.0</td>\n",
       "      <td>2.2</td>\n",
       "      <td>10.6</td>\n",
       "      <td>2.50</td>\n",
       "      <td>2.00</td>\n",
       "      <td>4.0</td>\n",
       "      <td>1.921</td>\n",
       "      <td>1.234811</td>\n",
       "      <td>3.247</td>\n",
       "      <td>1.931836</td>\n",
       "      <td>...</td>\n",
       "      <td>3.768070</td>\n",
       "      <td>0.006241</td>\n",
       "      <td>0.442476</td>\n",
       "      <td>0.061009</td>\n",
       "      <td>0.001014</td>\n",
       "      <td>0.004489</td>\n",
       "      <td>0.033099</td>\n",
       "      <td>0.071739</td>\n",
       "      <td>0.476588</td>\n",
       "      <td>0.548327</td>\n",
       "    </tr>\n",
       "    <tr>\n",
       "      <th>160699</th>\n",
       "      <td>3.0</td>\n",
       "      <td>2.2</td>\n",
       "      <td>10.8</td>\n",
       "      <td>2.25</td>\n",
       "      <td>1.75</td>\n",
       "      <td>4.0</td>\n",
       "      <td>1.898</td>\n",
       "      <td>1.196493</td>\n",
       "      <td>3.197</td>\n",
       "      <td>1.791142</td>\n",
       "      <td>...</td>\n",
       "      <td>3.898593</td>\n",
       "      <td>0.010404</td>\n",
       "      <td>0.494922</td>\n",
       "      <td>0.038809</td>\n",
       "      <td>0.011850</td>\n",
       "      <td>0.000729</td>\n",
       "      <td>0.002643</td>\n",
       "      <td>0.049942</td>\n",
       "      <td>0.509414</td>\n",
       "      <td>0.559356</td>\n",
       "    </tr>\n",
       "  </tbody>\n",
       "</table>\n",
       "<p>5 rows × 21 columns</p>\n",
       "</div>"
      ],
      "text/plain": [
       "        e_mean  t_mean  i_mean  e_std  t_std  i_std  true_e_mean  true_e_std  \\\n",
       "153821     3.0     1.2    10.8   2.25   2.00    4.0        1.844    1.244855   \n",
       "156614     3.0     1.6    10.8   2.50   2.00    4.0        1.805    1.189527   \n",
       "157967     3.0     1.8    10.8   2.25   2.00    4.0        1.862    1.199565   \n",
       "160608     3.0     2.2    10.6   2.50   2.00    4.0        1.921    1.234811   \n",
       "160699     3.0     2.2    10.8   2.25   1.75    4.0        1.898    1.196493   \n",
       "\n",
       "        true_t_mean  true_t_std  ...  true_i_std  e_mean_diff  e_std_diff  \\\n",
       "153821        3.039    2.235951  ...    3.821115     0.024336    0.429215   \n",
       "156614        2.992    2.073629  ...    3.874239     0.038025    0.504772   \n",
       "157967        3.181    2.085723  ...    3.974665     0.019044    0.490609   \n",
       "160608        3.247    1.931836  ...    3.768070     0.006241    0.442476   \n",
       "160699        3.197    1.791142  ...    3.898593     0.010404    0.494922   \n",
       "\n",
       "        t_mean_diff  t_std_diff  i_mean_diff  i_std_diff  mean_diff  std_diff  \\\n",
       "153821     0.001521    0.112863     0.006561    0.016611   0.032418  0.558690   \n",
       "156614     0.000064    0.030147     0.007056    0.005740   0.045145  0.540658   \n",
       "157967     0.032761    0.034493     0.000361    0.000608   0.052166  0.525711   \n",
       "160608     0.061009    0.001014     0.004489    0.033099   0.071739  0.476588   \n",
       "160699     0.038809    0.011850     0.000729    0.002643   0.049942  0.509414   \n",
       "\n",
       "            diff  \n",
       "153821  0.591108  \n",
       "156614  0.585803  \n",
       "157967  0.577877  \n",
       "160608  0.548327  \n",
       "160699  0.559356  \n",
       "\n",
       "[5 rows x 21 columns]"
      ]
     },
     "execution_count": 10,
     "metadata": {},
     "output_type": "execute_result"
    }
   ],
   "source": [
    "results[results[\"diff\"] < 0.6]"
   ]
  },
  {
   "cell_type": "markdown",
   "id": "critical-travel",
   "metadata": {},
   "source": [
    "### Fine grid search"
   ]
  },
  {
   "cell_type": "code",
   "execution_count": 22,
   "id": "wound-redhead",
   "metadata": {},
   "outputs": [
    {
     "name": "stdout",
     "output_type": "stream",
     "text": [
      "426888 parameter combinations\n"
     ]
    }
   ],
   "source": [
    "step = 0.05\n",
    "window = 0.25\n",
    "exposure_durations = np.arange(best_e_mean - window, best_e_mean + window + step, step)\n",
    "times_until_symtoms = np.arange(best_t_mean - window, best_t_mean + window + step, step)\n",
    "infection_durations = np.arange(best_i_mean - window, best_i_mean + window + step, step)\n",
    "\n",
    "step = 0.1\n",
    "exposure_duration_stds = np.arange(best_e_std - window, best_e_std + window + step, step)\n",
    "times_until_symtoms_stds = np.arange(best_t_std - window, best_t_std + window + step, step)\n",
    "infection_durations_stds = np.arange(best_i_std - window, best_i_std + window + step, step)\n",
    "\n",
    "param_combinations = [(e, t, i, e_std, t_std, i_std) \\\n",
    "                                for e in exposure_durations \\\n",
    "                                for t in times_until_symtoms \\\n",
    "                                for i in infection_durations \\\n",
    "                                for e_std in exposure_duration_stds \\\n",
    "                                for t_std in times_until_symtoms_stds \\\n",
    "                                for i_std in infection_durations_stds]\n",
    "print(f\"{len(param_combinations)} parameter combinations\")"
   ]
  },
  {
   "cell_type": "code",
   "execution_count": 12,
   "id": "suffering-charger",
   "metadata": {},
   "outputs": [
    {
     "name": "stderr",
     "output_type": "stream",
     "text": [
      "100%|███████████████████████████████████████████████████████████████████████████| 426888/426888 [41:06<00:00, 173.04it/s]\n"
     ]
    }
   ],
   "source": [
    "results_fine = pd.DataFrame()\n",
    "\n",
    "pool = Pool(200)\n",
    "for row in tqdm(\n",
    "        pool.imap_unordered(\n",
    "            func=get_true_epi_params, \n",
    "            iterable=param_combinations),\n",
    "            total=len(param_combinations)\n",
    "    ):\n",
    "    results_fine = results_fine.append(row, ignore_index=True)\n",
    "pool.close()"
   ]
  },
  {
   "cell_type": "code",
   "execution_count": 14,
   "id": "stuck-extent",
   "metadata": {},
   "outputs": [],
   "source": [
    "results_fine[\"e_mean_diff\"] = results_fine[\"true_e_mean\"]\\\n",
    "    .apply(lambda x: (x - expected_epi_params[\"exposure_duration\"][\"mean\"]) ** 2)\n",
    "results_fine[\"e_std_diff\"] = results_fine[\"true_e_std\"]\\\n",
    "    .apply(lambda x: (x - expected_epi_params[\"exposure_duration\"][\"std\"]) ** 2)\n",
    "results_fine[\"t_mean_diff\"] = results_fine[\"true_t_mean\"]\\\n",
    "    .apply(lambda x: (x - expected_epi_params[\"time_until_symptoms\"][\"mean\"]) ** 2)\n",
    "results_fine[\"t_std_diff\"] = results_fine[\"true_t_std\"]\\\n",
    "    .apply(lambda x: (x - expected_epi_params[\"time_until_symptoms\"][\"std\"]) ** 2)\n",
    "results_fine[\"i_mean_diff\"] = results_fine[\"true_i_mean\"]\\\n",
    "    .apply(lambda x: (x - expected_epi_params[\"infection_duration\"][\"mean\"]) ** 2)\n",
    "results_fine[\"i_std_diff\"] = results_fine[\"true_i_std\"]\\\n",
    "    .apply(lambda x: (x - expected_epi_params[\"infection_duration\"][\"std\"]) ** 2)\n",
    "\n",
    "results_fine[\"mean_diff\"] = results_fine[\"e_mean_diff\"] + results_fine[\"t_mean_diff\"] + results_fine[\"i_mean_diff\"]\n",
    "results_fine[\"std_diff\"] = results_fine[\"e_std_diff\"] + results_fine[\"t_std_diff\"] + results_fine[\"i_std_diff\"]\n",
    "results_fine[\"diff\"] = results_fine[\"mean_diff\"] + results_fine[\"std_diff\"]\n",
    "\n",
    "results_fine.to_csv(\"results_fine.csv\", index=False)"
   ]
  },
  {
   "cell_type": "code",
   "execution_count": 39,
   "id": "assumed-influence",
   "metadata": {},
   "outputs": [],
   "source": [
    "results_fine = results_fine.reset_index()"
   ]
  },
  {
   "cell_type": "code",
   "execution_count": 40,
   "id": "heavy-vinyl",
   "metadata": {},
   "outputs": [],
   "source": [
    "exposure_durations = [round(e, 3) for e in exposure_durations]\n",
    "times_until_symtoms = [round(t, 3) for t in times_until_symtoms]\n",
    "\n",
    "round_cols = [\"e_mean\", \"e_std\", \"t_mean\", \"t_std\", \"i_mean\", \"i_std\"]\n",
    "for col in round_cols:\n",
    "    results_fine[col] = results_fine[col].apply(lambda x: round(x, 3))\n",
    "    \n",
    "img = np.zeros((len(exposure_durations), len(times_until_symtoms)))\n",
    "\n",
    "results_fine = results_fine.set_index([\"e_mean\", \"t_mean\", \"i_mean\", \"e_std\", \"t_std\", \"i_std\"])\n",
    "for i, e in enumerate(exposure_durations):\n",
    "    for j, t in enumerate(times_until_symtoms):\n",
    "        img[i, j] = results_fine.loc[e, t, 10.6, 2.65, 1.85, 3.75][\"diff\"]\n",
    "results_fine = results_fine.reset_index()"
   ]
  },
  {
   "cell_type": "code",
   "execution_count": 41,
   "id": "humanitarian-particular",
   "metadata": {},
   "outputs": [
    {
     "data": {
      "image/png": "[encoded data removed]",
      "text/plain": [
       "<Figure size 432x288 with 1 Axes>"
      ]
     },
     "metadata": {
      "needs_background": "light"
     },
     "output_type": "display_data"
    }
   ],
   "source": [
    "fig, ax = plt.subplots()\n",
    "ax.imshow(img)\n",
    "ax.set_yticks(range(len(exposure_durations)))\n",
    "ax.set_yticklabels(exposure_durations)\n",
    "ax.set_xticks(range(len(times_until_symtoms)))\n",
    "ax.set_xticklabels(times_until_symtoms);"
   ]
  },
  {
   "cell_type": "code",
   "execution_count": 42,
   "id": "dietary-grove",
   "metadata": {},
   "outputs": [
    {
     "name": "stdout",
     "output_type": "stream",
     "text": [
      "best e: [(3.1, 2.65)]\n",
      "best t: [(2.05, 1.85)]\n",
      "best i: [(10.6, 3.75)]\n",
      "\n",
      "true e: [(1.89, 1.2906974858579372)]\n",
      "true t: [(3.147, 1.9691091894559836)]\n",
      "true i: [(10.935, 3.754300867005733)]\n"
     ]
    }
   ],
   "source": [
    "idx_best = results_fine[\"diff\"].idxmin()\n",
    "best_e_mean = results_fine.loc[idx_best, \"e_mean\"]\n",
    "best_e_std = results_fine.loc[idx_best, \"e_std\"]\n",
    "best_t_mean = results_fine.loc[idx_best, \"t_mean\"]\n",
    "best_t_std = results_fine.loc[idx_best, \"t_std\"]\n",
    "best_i_mean = results_fine.loc[idx_best, \"i_mean\"]\n",
    "best_i_std = results_fine.loc[idx_best, \"i_std\"]\n",
    "\n",
    "true_e_mean = results_fine.loc[idx_best, \"true_e_mean\"]\n",
    "true_e_std = results_fine.loc[idx_best, \"true_e_std\"]\n",
    "true_t_mean = results_fine.loc[idx_best, \"true_t_mean\"]\n",
    "true_t_std = results_fine.loc[idx_best, \"true_t_std\"]\n",
    "true_i_mean = results_fine.loc[idx_best, \"true_i_mean\"]\n",
    "true_i_std = results_fine.loc[idx_best, \"true_i_std\"]\n",
    "\n",
    "print(f\"best e: [{best_e_mean, best_e_std}]\")\n",
    "print(f\"best t: [{best_t_mean, best_t_std}]\")\n",
    "print(f\"best i: [{best_i_mean, best_i_std}]\")\n",
    "print()\n",
    "print(f\"true e: [{true_e_mean, true_e_std}]\")\n",
    "print(f\"true t: [{true_t_mean, true_t_std}]\")\n",
    "print(f\"true i: [{true_i_mean, true_i_std}]\")"
   ]
  },
  {
   "cell_type": "markdown",
   "id": "coordinated-decade",
   "metadata": {},
   "source": [
    "### Epi parameter distribution plot"
   ]
  },
  {
   "cell_type": "code",
   "execution_count": 44,
   "id": "limited-canon",
   "metadata": {},
   "outputs": [],
   "source": [
    "curr_epi_params = {\n",
    "        \"exposure_duration\":{\"mean\":best_e_mean, \"std\":best_e_std},\n",
    "        \"time_until_symptoms\":{\"mean\":best_t_mean, \"std\":best_t_std},\n",
    "        \"infection_duration\":{\"mean\":best_i_mean, \"std\":best_i_std}\n",
    "    }\n",
    "for param_name in curr_epi_params.keys():\n",
    "    mu = curr_epi_params[param_name][\"mean\"]\n",
    "    var = curr_epi_params[param_name][\"std\"]**2\n",
    "    shape = root_scalar(get_weibull_shape, args=(mu, var),\n",
    "                method='toms748', bracket=[0.2, 500]).root\n",
    "    scale = get_weibull_scale(mu, shape)\n",
    "    curr_epi_params[param_name][\"shape\"] = shape\n",
    "    curr_epi_params[param_name][\"scale\"] = scale\n",
    "\n",
    "exposure_duration = []\n",
    "time_until_symptoms = []\n",
    "infection_duration = []\n",
    "for i in range(10000):\n",
    "    tmp_epi_params = {}\n",
    "    while True:\n",
    "        for param_name in curr_epi_params.keys():\n",
    "            tmp_epi_params[param_name] = \\\n",
    "                round(weibull_two_param(curr_epi_params[param_name][\"shape\"],\n",
    "                                        curr_epi_params[param_name][\"scale\"]))\n",
    "\n",
    "        if (tmp_epi_params['exposure_duration'] >= 1) and \\\n",
    "           (tmp_epi_params['time_until_symptoms'] >= \\\n",
    "           tmp_epi_params['exposure_duration']) and\\\n",
    "           (tmp_epi_params['infection_duration'] >= \\\n",
    "           tmp_epi_params['time_until_symptoms']):\n",
    "           break\n",
    "\n",
    "    exposure_duration.append(tmp_epi_params['exposure_duration'])\n",
    "    time_until_symptoms.append(tmp_epi_params['time_until_symptoms'])\n",
    "    infection_duration.append(tmp_epi_params['infection_duration'])\n",
    "\n",
    "exposure_duration = np.asarray(exposure_duration)\n",
    "time_until_symptoms = np.asarray(time_until_symptoms)\n",
    "infection_duration = np.asarray(infection_duration)"
   ]
  },
  {
   "cell_type": "code",
   "execution_count": 46,
   "id": "bizarre-oxide",
   "metadata": {},
   "outputs": [
    {
     "data": {
      "image/png": "[encoded data removed]",
      "text/plain": [
       "<Figure size 792x216 with 3 Axes>"
      ]
     },
     "metadata": {
      "needs_background": "light"
     },
     "output_type": "display_data"
    }
   ],
   "source": [
    "fig, axes = plt.subplots(1, 3, figsize=(11, 3))\n",
    "fig.subplots_adjust(wspace=0.3)\n",
    "max_bins = [11, 11, 26]\n",
    "steps = [1, 1, 2]\n",
    "colors = ['#2471A3', '#C0392B', '#909497']\n",
    "xticks = [range(0, 11, 2), range(0, 11, 2), range(0, 26, 5)]\n",
    "labels = ['exposure duration\\n', 'incubation time\\n', 'infection duration\\n']\n",
    "ymaxes = [0.25, 0.5, 0.12]\n",
    "\n",
    "for ax, max_bin, step, color, xtick, label, ymax, param in zip(axes, max_bins, steps, colors,\\\n",
    "    xticks, labels, ymaxes, [exposure_duration, time_until_symptoms, infection_duration]):\n",
    "    ax.hist(param, bins=range(0, max_bin, step), rwidth=0.8, color=color,\n",
    "            density=True, align='left')\n",
    "    ax.set_xticks(xtick)\n",
    "    ax.spines['right'].set_visible(False)\n",
    "    ax.spines['top'].set_visible(False)\n",
    "    ax.set_title(label)\n",
    "    ax.set_ylabel('pdf')\n",
    "    ax.set_xlabel('days')\n",
    "    ax.set_ylim(0, ymax)\n",
    "\n",
    "fig.tight_layout()\n",
    "fig.text(0.062, 0.9, 'A', fontsize=12, fontweight='bold')\n",
    "fig.text(0.39, 0.9, 'B', fontsize=12, fontweight='bold')\n",
    "fig.text(0.7162, 0.9, 'C', fontsize=12, fontweight='bold')"
   ]
  }
 ],
 "metadata": {
  "kernelspec": {
   "display_name": "Python 3 (ipykernel)",
   "language": "python",
   "name": "python3"
  },
  "language_info": {
   "codemirror_mode": {
    "name": "ipython",
    "version": 3
   },
   "file_extension": ".py",
   "mimetype": "text/x-python",
   "name": "python",
   "nbconvert_exporter": "python",
   "pygments_lexer": "ipython3",
   "version": "3.9.7"
  }
 },
 "nbformat": 4,
 "nbformat_minor": 5
}
