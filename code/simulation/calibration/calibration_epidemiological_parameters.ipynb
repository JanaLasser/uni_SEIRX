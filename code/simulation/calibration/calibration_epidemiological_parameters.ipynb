{
 "cells": [
  {
   "cell_type": "markdown",
   "id": "correct-triumph",
   "metadata": {},
   "source": [
    "# Calibration of epidemiological parameters"
   ]
  },
  {
   "cell_type": "markdown",
   "id": "1c9d3892-f632-4c9e-954c-ce4bd9dfad1b",
   "metadata": {},
   "source": [
    "The values that characterize the distributions of the exposure duration $l$, incubation time $m$ and infection duration $n$ given in the literature assume independent distributions of the three values. Nevertheless, in reality in every individual these values are not independent and are subject to the constraint $1 \\leq l \\leq m \\leq n$. If drawing values for individuals from distributions for $l$, $m$ and $n$ and rejecting value combinations that do not conform to the constraint, the distributions become left-truncated.  \n",
    "\n",
    "To address this issue, we need to fit the values that characterize the distributions for $l$, $m$ and $n$, i.e. the shape and scale of the corresponding weibull distributions such that the shape and scale of the distributions *after* left-truncating them corresponds to the values reported in the literature. \n",
    "\n",
    "In the below script, we do this once for the distributions reported for the wild type variant of the SARS-CoV-2 virus and once for the omicron variant. The values for the wild type are used in the calibration of the contact parameter, since the empirical data used for the calibration stems from infection chains with the wild type variant. The values for the omicron variant are used to run the simulations on the calibrated model."
   ]
  },
  {
   "cell_type": "code",
   "execution_count": 2,
   "id": "jewish-batman",
   "metadata": {},
   "outputs": [],
   "source": [
    "import numpy as np\n",
    "import matplotlib.pyplot as plt\n",
    "import pandas as pd\n",
    "from os.path import join\n",
    "from scipy.optimize import root_scalar\n",
    "from math import gamma\n",
    "\n",
    "# parallelisation functionality\n",
    "from multiprocess import Pool\n",
    "import psutil\n",
    "from tqdm import tqdm"
   ]
  },
  {
   "cell_type": "markdown",
   "id": "5fe2d36d-b5cc-4a0f-a191-80bb7113a99b",
   "metadata": {},
   "source": [
    "**Note:** Somehow the parallelization does not work if the functions are imported from a home-brew library (i.e. `calibration_functions`) and not defined within the notebook. That's why we repeat them here."
   ]
  },
  {
   "cell_type": "code",
   "execution_count": 3,
   "id": "fdb7bff8-0e67-43e8-b8ec-1967edb5c0ae",
   "metadata": {},
   "outputs": [],
   "source": [
    "def weibull_two_param(shape, scale):\n",
    "    '''\n",
    "    A two-parameter Weibull distribution, based on numpy ramdon's single \n",
    "    parameter distribution. We use this distribution in the simulation to draw\n",
    "    random epidemiological parameters for agents from the given distribution\n",
    "    See https://numpy.org/doc/stable/reference/random/generated/numpy.random.weibull.html\n",
    "    '''\n",
    "    return scale * np.random.weibull(shape)\n",
    "\n",
    "\n",
    "def get_weibull_shape(k, mu, var):\n",
    "    '''\n",
    "    Calculates the shape parameter of a Weibull distribution, given its mean\n",
    "    mu and its variance var\n",
    "    '''\n",
    "    return var / mu**2 - gamma(1 + 2/k) / gamma(1+1/k)**2 + 1\n",
    "\n",
    "\n",
    "\n",
    "def get_weibull_scale(mu, k):\n",
    "    '''\n",
    "    Calculates the scale parameter of a Weibull distribution, given its mean\n",
    "    mu and its shape parameter k\n",
    "    '''\n",
    "    return mu / gamma(1 + 1/k)\n",
    "\n",
    "def get_true_epi_params(p):\n",
    "    \n",
    "    N, e, t, i, e_std, t_std, i_std = p\n",
    "    curr_epi_params = {\n",
    "        \"exposure_duration\":{\"mean\":e, \"std\":e_std},\n",
    "        \"time_until_symptoms\":{\"mean\":t, \"std\":t_std},\n",
    "        \"infection_duration\":{\"mean\":i, \"std\":i_std}\n",
    "    }\n",
    "    for param_name in curr_epi_params.keys():\n",
    "        mu = curr_epi_params[param_name][\"mean\"]\n",
    "        var = curr_epi_params[param_name][\"std\"]**2\n",
    "        shape = root_scalar(get_weibull_shape, args=(mu, var),\n",
    "                    method='toms748', bracket=[0.2, 500]).root\n",
    "        scale = get_weibull_scale(mu, shape)\n",
    "        curr_epi_params[param_name][\"shape\"] = shape\n",
    "        curr_epi_params[param_name][\"scale\"] = scale\n",
    "    \n",
    "    exposure_duration = []\n",
    "    time_until_symptoms = []\n",
    "    infection_duration = []\n",
    "    for i in range(N):\n",
    "        tmp_epi_params = {}\n",
    "        while True:\n",
    "            for param_name in curr_epi_params.keys():\n",
    "                tmp_epi_params[param_name] = \\\n",
    "                    round(weibull_two_param(curr_epi_params[param_name][\"shape\"],\n",
    "                                            curr_epi_params[param_name][\"scale\"]))\n",
    "\n",
    "            if (tmp_epi_params['exposure_duration'] >= 1) and \\\n",
    "               (tmp_epi_params['time_until_symptoms'] >= \\\n",
    "               tmp_epi_params['exposure_duration']) and\\\n",
    "               (tmp_epi_params['infection_duration'] >= \\\n",
    "               tmp_epi_params['time_until_symptoms']):\n",
    "               break\n",
    "\n",
    "        exposure_duration.append(tmp_epi_params['exposure_duration'])\n",
    "        time_until_symptoms.append(tmp_epi_params['time_until_symptoms'])\n",
    "        infection_duration.append(tmp_epi_params['infection_duration'])\n",
    "\n",
    "    exposure_duration = np.asarray(exposure_duration)\n",
    "    time_until_symptoms = np.asarray(time_until_symptoms)\n",
    "    infection_duration = np.asarray(infection_duration)\n",
    "    \n",
    "    row = {\n",
    "        'e_mean':curr_epi_params[\"exposure_duration\"][\"mean\"],\n",
    "        'e_std':curr_epi_params[\"exposure_duration\"][\"std\"],\n",
    "        't_mean':curr_epi_params[\"time_until_symptoms\"][\"mean\"],\n",
    "        't_std':curr_epi_params[\"time_until_symptoms\"][\"std\"],\n",
    "        'i_mean':curr_epi_params[\"infection_duration\"][\"mean\"],\n",
    "        'i_std':curr_epi_params[\"infection_duration\"][\"std\"],\n",
    "        'true_e_mean':exposure_duration.mean(),\n",
    "        'true_e_std':exposure_duration.std(),\n",
    "        'true_t_mean':time_until_symptoms.mean(),\n",
    "        'true_t_std':time_until_symptoms.std(),\n",
    "        'true_i_mean':infection_duration.mean(),\n",
    "        'true_i_std':infection_duration.std()\n",
    "    }\n",
    "    return row"
   ]
  },
  {
   "cell_type": "markdown",
   "id": "expressed-moisture",
   "metadata": {},
   "source": [
    "## Wild type"
   ]
  },
  {
   "cell_type": "code",
   "execution_count": 4,
   "id": "infinite-switzerland",
   "metadata": {},
   "outputs": [],
   "source": [
    "expected_epi_params = {\n",
    "    \"exposure_duration\":{\"mean\":5.0, \"std\":1.9},\n",
    "    \"time_until_symptoms\":{\"mean\":6.4, \"std\":0.8},\n",
    "    \"infection_duration\":{\"mean\":10.91, \"std\":3.95}\n",
    "}"
   ]
  },
  {
   "cell_type": "markdown",
   "id": "sealed-count",
   "metadata": {},
   "source": [
    "### Coarse grid search"
   ]
  },
  {
   "cell_type": "code",
   "execution_count": 4,
   "id": "patient-wisconsin",
   "metadata": {},
   "outputs": [
    {
     "name": "stdout",
     "output_type": "stream",
     "text": [
      "194400 parameter combinations\n"
     ]
    }
   ],
   "source": [
    "N = 1000\n",
    "step = 0.2\n",
    "exposure_durations = np.arange(4.5, 7.5 + step, step)\n",
    "times_until_symtoms = np.arange(5.6, 7 + step, step)\n",
    "infection_durations = np.arange(8.5, 10.0 + step, step)\n",
    "\n",
    "step = 0.25\n",
    "exposure_duration_stds = np.arange(1.5, 2.4 + step, step)\n",
    "times_until_symtoms_stds = np.arange(0.2, 1.4 + step, step)\n",
    "infection_durations_stds = np.arange(3, 5 + step * 2, step * 2)\n",
    "\n",
    "param_combinations = [(N, e, t, i, e_std, t_std, i_std) \\\n",
    "                                for e in exposure_durations \\\n",
    "                                for t in times_until_symtoms \\\n",
    "                                for i in infection_durations \\\n",
    "                                for e_std in exposure_duration_stds \\\n",
    "                                for t_std in times_until_symtoms_stds \\\n",
    "                                for i_std in infection_durations_stds]\n",
    "print(f\"{len(param_combinations)} parameter combinations\")"
   ]
  },
  {
   "cell_type": "code",
   "execution_count": null,
   "id": "listed-intake",
   "metadata": {},
   "outputs": [
    {
     "name": "stderr",
     "output_type": "stream",
     "text": [
      "  0%|                                                                                                                                          | 0/194400 [00:00<?, ?it/s]\n"
     ]
    }
   ],
   "source": [
    "results = pd.DataFrame()\n",
    "\n",
    "pool = Pool(10)\n",
    "for row in tqdm(\n",
    "        pool.imap_unordered(\n",
    "            func=get_true_epi_params, \n",
    "            iterable=param_combinations),\n",
    "            total=len(param_combinations)\n",
    "    ):\n",
    "    results = results.append(row, ignore_index=True)\n",
    "pool.close()\n",
    "\n",
    "results[\"e_mean_diff\"] = results[\"true_e_mean\"]\\\n",
    "    .apply(lambda x: (x - expected_epi_params[\"exposure_duration\"][\"mean\"]) ** 2)\n",
    "results[\"e_std_diff\"] = results[\"true_e_std\"]\\\n",
    "    .apply(lambda x: (x - expected_epi_params[\"exposure_duration\"][\"std\"]) ** 2)\n",
    "results[\"t_mean_diff\"] = results[\"true_t_mean\"]\\\n",
    "    .apply(lambda x: (x - expected_epi_params[\"time_until_symptoms\"][\"mean\"]) ** 2)\n",
    "results[\"t_std_diff\"] = results[\"true_t_std\"]\\\n",
    "    .apply(lambda x: (x - expected_epi_params[\"time_until_symptoms\"][\"std\"]) ** 2)\n",
    "results[\"i_mean_diff\"] = results[\"true_i_mean\"]\\\n",
    "    .apply(lambda x: (x - expected_epi_params[\"infection_duration\"][\"mean\"]) ** 2)\n",
    "results[\"i_std_diff\"] = results[\"true_i_std\"]\\\n",
    "    .apply(lambda x: (x - expected_epi_params[\"infection_duration\"][\"std\"]) ** 2)\n",
    "\n",
    "results[\"mean_diff\"] = results[\"e_mean_diff\"] + results[\"t_mean_diff\"] + results[\"i_mean_diff\"]\n",
    "results[\"std_diff\"] = results[\"e_std_diff\"] + results[\"t_std_diff\"] + results[\"i_std_diff\"]\n",
    "results[\"diff\"] = results[\"mean_diff\"] + results[\"std_diff\"]\n",
    "\n",
    "results.to_csv(\"../../../data/simulation_results/calibration/calibration_epidemiological_parameters_results_coarse_wt.csv\", index=False)"
   ]
  },
  {
   "cell_type": "code",
   "execution_count": 6,
   "id": "rubber-bahrain",
   "metadata": {},
   "outputs": [],
   "source": [
    "results = pd.read_csv(\"../../../data/simulation_results/calibration/calibration_epidemiological_parameters_results_coarse_wt.csv\")\n",
    "\n",
    "round_cols = [\"e_mean\", \"e_std\", \"t_mean\", \"t_std\", \"i_mean\", \"i_std\"]\n",
    "for col in round_cols:\n",
    "    results[col] = results[col].apply(lambda x: round(x, 2))"
   ]
  },
  {
   "cell_type": "code",
   "execution_count": 7,
   "id": "remarkable-playback",
   "metadata": {},
   "outputs": [
    {
     "name": "stdout",
     "output_type": "stream",
     "text": [
      "best e: [(6.9, 2.5)]\n",
      "best t: [(6.2, 1.2)]\n",
      "best i: [(8.9, 4.5)]\n"
     ]
    }
   ],
   "source": [
    "idx_best = results[\"diff\"].idxmin()\n",
    "best_e_mean = results.loc[idx_best, \"e_mean\"]\n",
    "best_e_std = results.loc[idx_best, \"e_std\"]\n",
    "best_t_mean = results.loc[idx_best, \"t_mean\"]\n",
    "best_t_std = results.loc[idx_best, \"t_std\"]\n",
    "best_i_mean = results.loc[idx_best, \"i_mean\"]\n",
    "best_i_std = results.loc[idx_best, \"i_std\"]\n",
    "\n",
    "print(f\"best e: [{best_e_mean, best_e_std}]\")\n",
    "print(f\"best t: [{best_t_mean, best_t_std}]\")\n",
    "print(f\"best i: [{best_i_mean, best_i_std}]\")"
   ]
  },
  {
   "cell_type": "code",
   "execution_count": 8,
   "id": "according-producer",
   "metadata": {},
   "outputs": [],
   "source": [
    "exposure_durations = [round(e, 2) for e in exposure_durations]\n",
    "times_until_symtoms = [round(t, 2) for t in times_until_symtoms]\n",
    "\n",
    "selected_infection_durations = [ 8.5,  8.7,  8.9,  9.1,  9.3,  9.5,  9.7,  9.9, 10.1]\n",
    "images = {i:np.zeros((len(exposure_durations), len(times_until_symtoms))) \\\n",
    "          for i in selected_infection_durations}\n",
    "\n",
    "\n",
    "results = results.set_index([\"e_mean\", \"t_mean\", \"i_mean\", \"e_std\", \"t_std\", \"i_std\"])\n",
    "for infection_duration in selected_infection_durations:\n",
    "    for i, e in enumerate(exposure_durations):\n",
    "        for j, t in enumerate(times_until_symtoms):\n",
    "            images[infection_duration][i, j] = \\\n",
    "                results.loc[e, t, infection_duration, best_e_std, best_t_std, best_i_std][\"diff\"]\n",
    "results = results.reset_index()"
   ]
  },
  {
   "cell_type": "code",
   "execution_count": 9,
   "id": "e825020d-9f7a-4ec7-a23e-9c9acb1b2cbe",
   "metadata": {},
   "outputs": [
    {
     "data": {
      "text/plain": [
       "8.279124833476608"
      ]
     },
     "execution_count": 9,
     "metadata": {},
     "output_type": "execute_result"
    }
   ],
   "source": [
    "results[\"diff\"].max()"
   ]
  },
  {
   "cell_type": "code",
   "execution_count": 10,
   "id": "234f5c86-680c-4335-9594-9dc5b5dc1f3f",
   "metadata": {},
   "outputs": [
    {
     "data": {
      "text/plain": [
       "0.2031488097306147"
      ]
     },
     "execution_count": 10,
     "metadata": {},
     "output_type": "execute_result"
    }
   ],
   "source": [
    "results[\"diff\"].min()"
   ]
  },
  {
   "cell_type": "code",
   "execution_count": 11,
   "id": "pediatric-madness",
   "metadata": {},
   "outputs": [
    {
     "data": {
      "image/png": "[encoded data removed]",
      "text/plain": [
       "<Figure size 576x864 with 9 Axes>"
      ]
     },
     "metadata": {
      "needs_background": "light"
     },
     "output_type": "display_data"
    }
   ],
   "source": [
    "fig, axes = plt.subplots(3, 3, figsize=(8, 12))\n",
    "for ax, infection_duration in zip(axes.flatten(), selected_infection_durations):\n",
    "    ax.imshow(images[infection_duration], vmin=0, vmax=3)\n",
    "    ax.set_yticks(range(len(exposure_durations)))\n",
    "    ax.set_yticklabels(exposure_durations, fontsize=8)\n",
    "    ax.set_xticks(range(len(times_until_symtoms)))\n",
    "    ax.set_xticklabels(times_until_symtoms, fontsize=8)\n",
    "    ax.set_xlabel(\"time until symptoms\")\n",
    "    ax.set_ylabel(\"exposure duration\")\n",
    "    ax.set_title(f\"infection duration: {infection_duration}\")\n",
    "fig.tight_layout()"
   ]
  },
  {
   "cell_type": "markdown",
   "id": "fiscal-croatia",
   "metadata": {},
   "source": [
    "### Fine grid search"
   ]
  },
  {
   "cell_type": "code",
   "execution_count": 12,
   "id": "a67da38f-f289-4376-900c-e77adb0693d2",
   "metadata": {},
   "outputs": [],
   "source": [
    "results = pd.read_csv(\"../../../data/simulation_results/calibration/calibration_epidemiological_parameters_results_coarse_wt.csv\")\n",
    "\n",
    "round_cols = [\"e_mean\", \"e_std\", \"t_mean\", \"t_std\", \"i_mean\", \"i_std\"]\n",
    "for col in round_cols:\n",
    "    results[col] = results[col].apply(lambda x: round(x, 2))"
   ]
  },
  {
   "cell_type": "code",
   "execution_count": 13,
   "id": "04a44d04-c0e4-4f39-9804-5bfe953e5f9b",
   "metadata": {},
   "outputs": [
    {
     "name": "stdout",
     "output_type": "stream",
     "text": [
      "best e: [(6.9, 2.5)]\n",
      "best t: [(6.2, 1.2)]\n",
      "best i: [(8.9, 4.5)]\n"
     ]
    }
   ],
   "source": [
    "idx_best = results[\"diff\"].idxmin()\n",
    "best_e_mean = results.loc[idx_best, \"e_mean\"]\n",
    "best_e_std = results.loc[idx_best, \"e_std\"]\n",
    "best_t_mean = results.loc[idx_best, \"t_mean\"]\n",
    "best_t_std = results.loc[idx_best, \"t_std\"]\n",
    "best_i_mean = results.loc[idx_best, \"i_mean\"]\n",
    "best_i_std = results.loc[idx_best, \"i_std\"]\n",
    "\n",
    "print(f\"best e: [{best_e_mean, best_e_std}]\")\n",
    "print(f\"best t: [{best_t_mean, best_t_std}]\")\n",
    "print(f\"best i: [{best_i_mean, best_i_std}]\")"
   ]
  },
  {
   "cell_type": "code",
   "execution_count": 14,
   "id": "north-insertion",
   "metadata": {},
   "outputs": [
    {
     "name": "stdout",
     "output_type": "stream",
     "text": [
      "426888 parameter combinations\n"
     ]
    }
   ],
   "source": [
    "N = 10000\n",
    "step = 0.05\n",
    "window = 0.25\n",
    "exposure_durations = np.arange(best_e_mean - window, best_e_mean + window + step, step)\n",
    "times_until_symtoms = np.arange(best_t_mean - window, best_t_mean + window + step, step)\n",
    "infection_durations = np.arange(best_i_mean - window, best_i_mean + window + step, step)\n",
    "\n",
    "step = 0.1\n",
    "exposure_duration_stds = np.arange(best_e_std - window, best_e_std + window + step, step)\n",
    "times_until_symtoms_stds = np.arange(best_t_std - window, best_t_std + window + step, step)\n",
    "infection_durations_stds = np.arange(best_i_std - window, best_i_std + window + step, step)\n",
    "\n",
    "param_combinations = [(N, e, t, i, e_std, t_std, i_std) \\\n",
    "                                for e in exposure_durations \\\n",
    "                                for t in times_until_symtoms \\\n",
    "                                for i in infection_durations \\\n",
    "                                for e_std in exposure_duration_stds \\\n",
    "                                for t_std in times_until_symtoms_stds \\\n",
    "                                for i_std in infection_durations_stds]\n",
    "print(f\"{len(param_combinations)} parameter combinations\")"
   ]
  },
  {
   "cell_type": "code",
   "execution_count": 8,
   "id": "rental-sacrifice",
   "metadata": {},
   "outputs": [
    {
     "name": "stderr",
     "output_type": "stream",
     "text": [
      "100%|████████████████████████████████████████████████████████████████████████████████████████████████████████████████████████████| 426888/426888 [51:52<00:00, 137.15it/s]\n"
     ]
    }
   ],
   "source": [
    "results_fine = pd.DataFrame()\n",
    "\n",
    "pool = Pool(250)\n",
    "for row in tqdm(\n",
    "        pool.imap_unordered(\n",
    "            func=get_true_epi_params, \n",
    "            iterable=param_combinations),\n",
    "            total=len(param_combinations)\n",
    "    ):\n",
    "    results_fine = results_fine.append(row, ignore_index=True)\n",
    "pool.close()\n",
    "\n",
    "results_fine[\"e_mean_diff\"] = results_fine[\"true_e_mean\"]\\\n",
    "    .apply(lambda x: (x - expected_epi_params[\"exposure_duration\"][\"mean\"]) ** 2)\n",
    "results_fine[\"e_std_diff\"] = results_fine[\"true_e_std\"]\\\n",
    "    .apply(lambda x: (x - expected_epi_params[\"exposure_duration\"][\"std\"]) ** 2)\n",
    "results_fine[\"t_mean_diff\"] = results_fine[\"true_t_mean\"]\\\n",
    "    .apply(lambda x: (x - expected_epi_params[\"time_until_symptoms\"][\"mean\"]) ** 2)\n",
    "results_fine[\"t_std_diff\"] = results_fine[\"true_t_std\"]\\\n",
    "    .apply(lambda x: (x - expected_epi_params[\"time_until_symptoms\"][\"std\"]) ** 2)\n",
    "results_fine[\"i_mean_diff\"] = results_fine[\"true_i_mean\"]\\\n",
    "    .apply(lambda x: (x - expected_epi_params[\"infection_duration\"][\"mean\"]) ** 2)\n",
    "results_fine[\"i_std_diff\"] = results_fine[\"true_i_std\"]\\\n",
    "    .apply(lambda x: (x - expected_epi_params[\"infection_duration\"][\"std\"]) ** 2)\n",
    "\n",
    "results_fine[\"mean_diff\"] = results_fine[\"e_mean_diff\"] + results_fine[\"t_mean_diff\"] + results_fine[\"i_mean_diff\"]\n",
    "results_fine[\"std_diff\"] = results_fine[\"e_std_diff\"] + results_fine[\"t_std_diff\"] + results_fine[\"i_std_diff\"]\n",
    "results_fine[\"diff\"] = results_fine[\"mean_diff\"] + results_fine[\"std_diff\"]\n",
    "\n",
    "results_fine.to_csv(\"../../../data/simulation_results/calibration/calibration_epidemiological_parameters_results_fine_wt.csv\", index=False)"
   ]
  },
  {
   "cell_type": "code",
   "execution_count": 15,
   "id": "veterinary-lighting",
   "metadata": {},
   "outputs": [],
   "source": [
    "results_fine = pd.read_csv(\"../../../data/simulation_results/calibration/calibration_epidemiological_parameters_results_fine_wt.csv\")\n",
    "\n",
    "round_cols = [\"e_mean\", \"e_std\", \"t_mean\", \"t_std\", \"i_mean\", \"i_std\"]\n",
    "for col in round_cols:\n",
    "    results_fine[col] = results_fine[col].apply(lambda x: round(x, 2))"
   ]
  },
  {
   "cell_type": "code",
   "execution_count": 16,
   "id": "roman-warren",
   "metadata": {},
   "outputs": [
    {
     "name": "stdout",
     "output_type": "stream",
     "text": [
      "best e: [(6.8, 2.75)]\n",
      "best t: [(6.3, 0.95)]\n",
      "best i: [(8.65, 4.75)]\n",
      "\n",
      "true e: [(4.8525, 1.559212541637605)]\n",
      "true t: [(6.476, 0.90951855396138)]\n",
      "true i: [(10.9887, 3.868691291638556)]\n"
     ]
    }
   ],
   "source": [
    "idx_best_fine = results_fine[\"diff\"].idxmin()\n",
    "best_e_mean_fine = results_fine.loc[idx_best, \"e_mean\"]\n",
    "best_e_std_fine = results_fine.loc[idx_best_fine, \"e_std\"]\n",
    "best_t_mean_fine = results_fine.loc[idx_best_fine, \"t_mean\"]\n",
    "best_t_std_fine = results_fine.loc[idx_best_fine, \"t_std\"]\n",
    "best_i_mean_fine = results_fine.loc[idx_best_fine, \"i_mean\"]\n",
    "best_i_std_fine = results_fine.loc[idx_best_fine, \"i_std\"]\n",
    "\n",
    "true_e_mean_fine = results_fine.loc[idx_best_fine, \"true_e_mean\"]\n",
    "true_e_std_fine = results_fine.loc[idx_best_fine, \"true_e_std\"]\n",
    "true_t_mean_fine = results_fine.loc[idx_best_fine, \"true_t_mean\"]\n",
    "true_t_std_fine = results_fine.loc[idx_best_fine, \"true_t_std\"]\n",
    "true_i_mean_fine = results_fine.loc[idx_best_fine, \"true_i_mean\"]\n",
    "true_i_std_fine = results_fine.loc[idx_best_fine, \"true_i_std\"]\n",
    "\n",
    "print(f\"best e: [{best_e_mean_fine, best_e_std_fine}]\")\n",
    "print(f\"best t: [{best_t_mean_fine, best_t_std_fine}]\")\n",
    "print(f\"best i: [{best_i_mean_fine, best_i_std_fine}]\")\n",
    "print()\n",
    "print(f\"true e: [{true_e_mean_fine, true_e_std_fine}]\")\n",
    "print(f\"true t: [{true_t_mean_fine, true_t_std_fine}]\")\n",
    "print(f\"true i: [{true_i_mean_fine, true_i_std_fine}]\")"
   ]
  },
  {
   "cell_type": "code",
   "execution_count": 17,
   "id": "98bd7cf3-b588-42a9-940d-42c0ae59e651",
   "metadata": {},
   "outputs": [
    {
     "name": "stdout",
     "output_type": "stream",
     "text": [
      "e: shape: 2.662794506920476, scale: 7.6501507255486025\n",
      "t: shape: 7.862375357983137, scale: 6.695392007737956\n",
      "i: shape: 1.8935596294478323, scale: 9.746904881250568\n"
     ]
    }
   ],
   "source": [
    "for param_name, param, param_std in zip([\"e\", \"t\", \"i\"], \\\n",
    "                [best_e_mean_fine, best_t_mean_fine, best_i_mean_fine],\\\n",
    "                [best_e_std_fine, best_t_std_fine, best_i_std_fine]):\n",
    "    mu = param\n",
    "    var = param_std**2\n",
    "    shape = root_scalar(get_weibull_shape, args=(mu, var),\n",
    "                method='toms748', bracket=[0.2, 500]).root\n",
    "    scale = get_weibull_scale(mu, shape)\n",
    "\n",
    "    print(f\"{param_name}: shape: {shape}, scale: {scale}\")"
   ]
  },
  {
   "cell_type": "code",
   "execution_count": 18,
   "id": "9e94a260-68fa-4563-8901-53261165f2eb",
   "metadata": {},
   "outputs": [],
   "source": [
    "exposure_durations = [round(e, 2) for e in exposure_durations]\n",
    "times_until_symtoms = [round(t, 2) for t in times_until_symtoms]\n",
    "\n",
    "selected_infection_durations = [round(i, 2) for i in infection_durations]\n",
    "images = {i:np.zeros((len(exposure_durations), len(times_until_symtoms))) \\\n",
    "          for i in selected_infection_durations}\n",
    "\n",
    "\n",
    "results_fine = results_fine.set_index([\"e_mean\", \"t_mean\", \"i_mean\", \"e_std\", \"t_std\", \"i_std\"])\n",
    "for infection_duration in selected_infection_durations:\n",
    "    for i, e in enumerate(exposure_durations):\n",
    "        for j, t in enumerate(times_until_symtoms):\n",
    "            images[infection_duration][i, j] = \\\n",
    "                results_fine.loc[e, t, infection_duration, best_e_std_fine, best_t_std_fine, best_i_std_fine][\"diff\"]\n",
    "results_fine = results_fine.reset_index()"
   ]
  },
  {
   "cell_type": "code",
   "execution_count": 19,
   "id": "7ee3db87-fa24-44eb-805f-dbf83ef01ae8",
   "metadata": {},
   "outputs": [
    {
     "data": {
      "text/plain": [
       "1.4394534184114165"
      ]
     },
     "execution_count": 19,
     "metadata": {},
     "output_type": "execute_result"
    }
   ],
   "source": [
    "results_fine[\"diff\"].max()"
   ]
  },
  {
   "cell_type": "code",
   "execution_count": 20,
   "id": "0b911ded-5f8f-4713-b7af-cb3b64c2d72b",
   "metadata": {},
   "outputs": [
    {
     "data": {
      "text/plain": [
       "0.1684674514942989"
      ]
     },
     "execution_count": 20,
     "metadata": {},
     "output_type": "execute_result"
    }
   ],
   "source": [
    "results_fine[\"diff\"].min()"
   ]
  },
  {
   "cell_type": "code",
   "execution_count": 21,
   "id": "85ff7a5d-203e-4a23-b98f-c7e696b73f64",
   "metadata": {},
   "outputs": [
    {
     "data": {
      "image/png": "[encoded data removed]",
      "text/plain": [
       "<Figure size 576x864 with 12 Axes>"
      ]
     },
     "metadata": {
      "needs_background": "light"
     },
     "output_type": "display_data"
    }
   ],
   "source": [
    "fig, axes = plt.subplots(4, 3, figsize=(8, 12))\n",
    "for ax, infection_duration in zip(axes.flatten(), selected_infection_durations):\n",
    "    ax.imshow(images[infection_duration], vmin=0.15, vmax=0.5)\n",
    "    ax.set_yticks(range(len(exposure_durations)))\n",
    "    ax.set_yticklabels(exposure_durations, fontsize=8)\n",
    "    ax.set_xticks(range(len(times_until_symtoms)))\n",
    "    ax.set_xticklabels(times_until_symtoms, fontsize=8)\n",
    "    ax.set_xlabel(\"time until symptoms\")\n",
    "    ax.set_ylabel(\"exposure duration\")\n",
    "    ax.set_title(f\"infection duration: {infection_duration}\")\n",
    "fig.tight_layout()"
   ]
  },
  {
   "cell_type": "markdown",
   "id": "boxed-gibson",
   "metadata": {},
   "source": [
    "### Epi parameter distribution plot"
   ]
  },
  {
   "cell_type": "code",
   "execution_count": 22,
   "id": "short-dragon",
   "metadata": {},
   "outputs": [],
   "source": [
    "curr_epi_params = {\n",
    "        \"exposure_duration\":{\"mean\":best_e_mean_fine, \"std\":best_e_std_fine},\n",
    "        \"time_until_symptoms\":{\"mean\":best_t_mean_fine, \"std\":best_t_std_fine},\n",
    "        \"infection_duration\":{\"mean\":best_i_mean_fine, \"std\":best_i_std_fine}\n",
    "    }\n",
    "for param_name in curr_epi_params.keys():\n",
    "    mu = curr_epi_params[param_name][\"mean\"]\n",
    "    var = curr_epi_params[param_name][\"std\"]**2\n",
    "    shape = root_scalar(get_weibull_shape, args=(mu, var),\n",
    "                method='toms748', bracket=[0.2, 500]).root\n",
    "    scale = get_weibull_scale(mu, shape)\n",
    "    curr_epi_params[param_name][\"shape\"] = shape\n",
    "    curr_epi_params[param_name][\"scale\"] = scale\n",
    "\n",
    "exposure_duration = []\n",
    "time_until_symptoms = []\n",
    "infection_duration = []\n",
    "for i in range(10000):\n",
    "    tmp_epi_params = {}\n",
    "    while True:\n",
    "        for param_name in curr_epi_params.keys():\n",
    "            tmp_epi_params[param_name] = \\\n",
    "                round(weibull_two_param(curr_epi_params[param_name][\"shape\"],\n",
    "                                        curr_epi_params[param_name][\"scale\"]))\n",
    "\n",
    "        if (tmp_epi_params['exposure_duration'] >= 1) and \\\n",
    "           (tmp_epi_params['time_until_symptoms'] >= \\\n",
    "           tmp_epi_params['exposure_duration']) and\\\n",
    "           (tmp_epi_params['infection_duration'] >= \\\n",
    "           tmp_epi_params['time_until_symptoms']):\n",
    "           break\n",
    "\n",
    "    exposure_duration.append(tmp_epi_params['exposure_duration'])\n",
    "    time_until_symptoms.append(tmp_epi_params['time_until_symptoms'])\n",
    "    infection_duration.append(tmp_epi_params['infection_duration'])\n",
    "\n",
    "exposure_duration = np.asarray(exposure_duration)\n",
    "time_until_symptoms = np.asarray(time_until_symptoms)\n",
    "infection_duration = np.asarray(infection_duration)"
   ]
  },
  {
   "cell_type": "code",
   "execution_count": 23,
   "id": "adult-fault",
   "metadata": {},
   "outputs": [
    {
     "data": {
      "text/plain": [
       "Text(0.7162, 0.9, 'C')"
      ]
     },
     "execution_count": 23,
     "metadata": {},
     "output_type": "execute_result"
    },
    {
     "data": {
      "image/png": "[encoded data removed]",
      "text/plain": [
       "<Figure size 792x216 with 3 Axes>"
      ]
     },
     "metadata": {
      "needs_background": "light"
     },
     "output_type": "display_data"
    }
   ],
   "source": [
    "fig, axes = plt.subplots(1, 3, figsize=(11, 3))\n",
    "fig.subplots_adjust(wspace=0.3)\n",
    "max_bins = [11, 11, 26]\n",
    "steps = [1, 1, 2]\n",
    "colors = ['#2471A3', '#C0392B', '#909497']\n",
    "xticks = [range(0, 11, 2), range(0, 11, 2), range(0, 26, 5)]\n",
    "labels = ['exposure duration\\n', 'incubation time\\n', 'infection duration\\n']\n",
    "ymaxes = [0.25, 0.5, 0.12]\n",
    "\n",
    "for ax, max_bin, step, color, xtick, label, ymax, param in zip(axes, max_bins, steps, colors,\\\n",
    "    xticks, labels, ymaxes, [exposure_duration, time_until_symptoms, infection_duration]):\n",
    "    ax.hist(param, bins=range(0, max_bin, step), rwidth=0.8, color=color,\n",
    "            density=True, align='left')\n",
    "    ax.set_xticks(xtick)\n",
    "    ax.spines['right'].set_visible(False)\n",
    "    ax.spines['top'].set_visible(False)\n",
    "    ax.set_title(label)\n",
    "    ax.set_ylabel('pdf')\n",
    "    ax.set_xlabel('days')\n",
    "    ax.set_ylim(0, ymax)\n",
    "\n",
    "fig.tight_layout()\n",
    "fig.text(0.062, 0.9, 'A', fontsize=12, fontweight='bold')\n",
    "fig.text(0.39, 0.9, 'B', fontsize=12, fontweight='bold')\n",
    "fig.text(0.7162, 0.9, 'C', fontsize=12, fontweight='bold')"
   ]
  },
  {
   "cell_type": "markdown",
   "id": "continent-drove",
   "metadata": {},
   "source": [
    "## Omicron"
   ]
  },
  {
   "cell_type": "code",
   "execution_count": 63,
   "id": "featured-bearing",
   "metadata": {},
   "outputs": [],
   "source": [
    "expected_epi_params = {\n",
    "    \"exposure_duration\":{\"mean\":2, \"std\":1.9},\n",
    "    \"time_until_symptoms\":{\"mean\":3, \"std\":1.9},\n",
    "    \"infection_duration\":{\"mean\":10.91, \"std\":3.95}\n",
    "}"
   ]
  },
  {
   "cell_type": "markdown",
   "id": "median-collect",
   "metadata": {},
   "source": [
    "### Coarse grid search"
   ]
  },
  {
   "cell_type": "code",
   "execution_count": 50,
   "id": "under-mayor",
   "metadata": {},
   "outputs": [
    {
     "name": "stdout",
     "output_type": "stream",
     "text": [
      "154000 parameter combinations\n"
     ]
    }
   ],
   "source": [
    "N = 1000\n",
    "step = 0.2\n",
    "exposure_durations = np.arange(1.4, 4 + step, step)\n",
    "times_until_symtoms = np.arange(1, 3 + step, step)\n",
    "infection_durations = np.arange(10, 11.4 + step, step)\n",
    "\n",
    "step = 0.25\n",
    "exposure_duration_stds = np.arange(2.0, 3.0 + step, step)\n",
    "times_until_symtoms_stds = np.arange(1.5, 2.4 + step, step)\n",
    "infection_durations_stds = np.arange(3, 5 + step * 2, step * 2)\n",
    "\n",
    "param_combinations = [(N, e, t, i, e_std, t_std, i_std) \\\n",
    "                                for e in exposure_durations \\\n",
    "                                for t in times_until_symtoms \\\n",
    "                                for i in infection_durations \\\n",
    "                                for e_std in exposure_duration_stds \\\n",
    "                                for t_std in times_until_symtoms_stds \\\n",
    "                                for i_std in infection_durations_stds]\n",
    "print(f\"{len(param_combinations)} parameter combinations\")"
   ]
  },
  {
   "cell_type": "code",
   "execution_count": 51,
   "id": "accurate-bailey",
   "metadata": {},
   "outputs": [
    {
     "name": "stderr",
     "output_type": "stream",
     "text": [
      "100%|████████████████████████████████████████████████████████████████████████████████████████████████████████████████████████████| 154000/154000 [11:12<00:00, 228.98it/s]\n"
     ]
    }
   ],
   "source": [
    "results = pd.DataFrame()\n",
    "\n",
    "pool = Pool(200)\n",
    "for row in tqdm(\n",
    "        pool.imap_unordered(\n",
    "            func=get_true_epi_params, \n",
    "            iterable=param_combinations),\n",
    "            total=len(param_combinations)\n",
    "    ):\n",
    "    results = results.append(row, ignore_index=True)\n",
    "pool.close()\n",
    "\n",
    "results[\"e_mean_diff\"] = results[\"true_e_mean\"]\\\n",
    "    .apply(lambda x: (x - expected_epi_params[\"exposure_duration\"][\"mean\"]) ** 2)\n",
    "results[\"e_std_diff\"] = results[\"true_e_std\"]\\\n",
    "    .apply(lambda x: (x - expected_epi_params[\"exposure_duration\"][\"std\"]) ** 2)\n",
    "results[\"t_mean_diff\"] = results[\"true_t_mean\"]\\\n",
    "    .apply(lambda x: (x - expected_epi_params[\"time_until_symptoms\"][\"mean\"]) ** 2)\n",
    "results[\"t_std_diff\"] = results[\"true_t_std\"]\\\n",
    "    .apply(lambda x: (x - expected_epi_params[\"time_until_symptoms\"][\"std\"]) ** 2)\n",
    "results[\"i_mean_diff\"] = results[\"true_i_mean\"]\\\n",
    "    .apply(lambda x: (x - expected_epi_params[\"infection_duration\"][\"mean\"]) ** 2)\n",
    "results[\"i_std_diff\"] = results[\"true_i_std\"]\\\n",
    "    .apply(lambda x: (x - expected_epi_params[\"infection_duration\"][\"std\"]) ** 2)\n",
    "\n",
    "results[\"mean_diff\"] = results[\"e_mean_diff\"] + results[\"t_mean_diff\"] + results[\"i_mean_diff\"]\n",
    "results[\"std_diff\"] = results[\"e_std_diff\"] + results[\"t_std_diff\"] + results[\"i_std_diff\"]\n",
    "results[\"diff\"] = results[\"mean_diff\"] + results[\"std_diff\"]\n",
    "\n",
    "results.to_csv(\"../../../data/simulation_results/calibration/calibration_epidemiological_parameters_results_coarse.csv\", index=False)"
   ]
  },
  {
   "cell_type": "code",
   "execution_count": 52,
   "id": "unable-hearts",
   "metadata": {},
   "outputs": [],
   "source": [
    "results = pd.read_csv(\"../../../data/simulation_results/calibration/calibration_epidemiological_parameters_results_coarse.csv\")\n",
    "round_cols = [\"e_mean\", \"e_std\", \"t_mean\", \"t_std\", \"i_mean\", \"i_std\"]\n",
    "for col in round_cols:\n",
    "    results[col] = results[col].apply(lambda x: round(x, 2))"
   ]
  },
  {
   "cell_type": "code",
   "execution_count": 53,
   "id": "0abb537d-a7c4-418e-8d86-c7fe1ec38281",
   "metadata": {},
   "outputs": [
    {
     "name": "stdout",
     "output_type": "stream",
     "text": [
      "best e: [(3.6, 3.0)]\n",
      "best t: [(1.8, 2.0)]\n",
      "best i: [(10.8, 4.0)]\n"
     ]
    }
   ],
   "source": [
    "idx_best = results[\"diff\"].idxmin()\n",
    "best_e_mean = results.loc[idx_best, \"e_mean\"]\n",
    "best_e_std = results.loc[idx_best, \"e_std\"]\n",
    "best_t_mean = results.loc[idx_best, \"t_mean\"]\n",
    "best_t_std = results.loc[idx_best, \"t_std\"]\n",
    "best_i_mean = results.loc[idx_best, \"i_mean\"]\n",
    "best_i_std = results.loc[idx_best, \"i_std\"]\n",
    "\n",
    "print(f\"best e: [{best_e_mean, best_e_std}]\")\n",
    "print(f\"best t: [{best_t_mean, best_t_std}]\")\n",
    "print(f\"best i: [{best_i_mean, best_i_std}]\")"
   ]
  },
  {
   "cell_type": "code",
   "execution_count": 54,
   "id": "5807240d-ac82-4b82-93d6-d89260006f6d",
   "metadata": {},
   "outputs": [],
   "source": [
    "exposure_durations = [round(e, 2) for e in exposure_durations]\n",
    "times_until_symtoms = [round(t, 2) for t in times_until_symtoms]\n",
    "\n",
    "selected_infection_durations = [round(i, 2) for i in infection_durations]\n",
    "images = {i:np.zeros((len(exposure_durations), len(times_until_symtoms))) \\\n",
    "          for i in selected_infection_durations}\n",
    "\n",
    "\n",
    "results = results.set_index([\"e_mean\", \"t_mean\", \"i_mean\", \"e_std\", \"t_std\", \"i_std\"])\n",
    "for infection_duration in selected_infection_durations:\n",
    "    for i, e in enumerate(exposure_durations):\n",
    "        for j, t in enumerate(times_until_symtoms):\n",
    "            images[infection_duration][i, j] = \\\n",
    "                results.loc[e, t, infection_duration, best_e_std, best_t_std, best_i_std][\"diff\"]\n",
    "results = results.reset_index()"
   ]
  },
  {
   "cell_type": "code",
   "execution_count": 55,
   "id": "e1d3ad85-b208-479d-8df2-45a053b378c4",
   "metadata": {},
   "outputs": [
    {
     "data": {
      "text/plain": [
       "5.852104715496047"
      ]
     },
     "execution_count": 55,
     "metadata": {},
     "output_type": "execute_result"
    }
   ],
   "source": [
    "results[\"diff\"].max()"
   ]
  },
  {
   "cell_type": "code",
   "execution_count": 56,
   "id": "1c3ea7f0-b0b1-4956-8862-d9a837c2dd80",
   "metadata": {},
   "outputs": [
    {
     "data": {
      "text/plain": [
       "0.1684674514942989"
      ]
     },
     "execution_count": 56,
     "metadata": {},
     "output_type": "execute_result"
    }
   ],
   "source": [
    "results_fine[\"diff\"].min()"
   ]
  },
  {
   "cell_type": "code",
   "execution_count": 59,
   "id": "b1b6587a-31d9-408a-a8bc-9ba2ae761f02",
   "metadata": {},
   "outputs": [
    {
     "data": {
      "image/png": "[encoded data removed]",
      "text/plain": [
       "<Figure size 576x864 with 9 Axes>"
      ]
     },
     "metadata": {
      "needs_background": "light"
     },
     "output_type": "display_data"
    }
   ],
   "source": [
    "fig, axes = plt.subplots(3, 3, figsize=(8, 12))\n",
    "for ax, infection_duration in zip(axes.flatten(), selected_infection_durations):\n",
    "    ax.imshow(images[infection_duration], vmin=0.15, vmax=3)\n",
    "    ax.set_yticks(range(len(exposure_durations)))\n",
    "    ax.set_yticklabels(exposure_durations, fontsize=8)\n",
    "    ax.set_xticks(range(len(times_until_symtoms)))\n",
    "    ax.set_xticklabels(times_until_symtoms, fontsize=8)\n",
    "    ax.set_xlabel(\"time until symptoms\")\n",
    "    ax.set_ylabel(\"exposure duration\")\n",
    "    ax.set_title(f\"infection duration: {infection_duration}\")\n",
    "fig.tight_layout()"
   ]
  },
  {
   "cell_type": "code",
   "execution_count": 60,
   "id": "familiar-sound",
   "metadata": {},
   "outputs": [
    {
     "name": "stdout",
     "output_type": "stream",
     "text": [
      "best e: [(3.6, 3.0)]\n",
      "best t: [(1.8, 2.0)]\n",
      "best i: [(10.8, 4.0)]\n"
     ]
    }
   ],
   "source": [
    "idx_best = results[\"diff\"].idxmin()\n",
    "best_e_mean = results.loc[idx_best, \"e_mean\"]\n",
    "best_e_std = results.loc[idx_best, \"e_std\"]\n",
    "best_t_mean = results.loc[idx_best, \"t_mean\"]\n",
    "best_t_std = results.loc[idx_best, \"t_std\"]\n",
    "best_i_mean = results.loc[idx_best, \"i_mean\"]\n",
    "best_i_std = results.loc[idx_best, \"i_std\"]\n",
    "\n",
    "print(f\"best e: [{best_e_mean, best_e_std}]\")\n",
    "print(f\"best t: [{best_t_mean, best_t_std}]\")\n",
    "print(f\"best i: [{best_i_mean, best_i_std}]\")"
   ]
  },
  {
   "cell_type": "markdown",
   "id": "critical-travel",
   "metadata": {},
   "source": [
    "### Fine grid search"
   ]
  },
  {
   "cell_type": "code",
   "execution_count": 131,
   "id": "3b583145-1c36-45d4-9a79-6ebeecd7a812",
   "metadata": {},
   "outputs": [],
   "source": [
    "results_fine_1 = pd.read_csv(\"../../../data/simulation_results/calibration/calibration_epidemiological_parameters_results_fine.csv\")\n",
    "results_fine_2 = pd.read_csv(\"../../../data/simulation_results/calibration/calibration_epidemiological_parameters_results_fine_2.csv\")\n",
    "results_fine = pd.concat([results_fine_1, results_fine_2]).reset_index(drop=True)\n",
    "\n",
    "round_cols = [\"e_mean\", \"e_std\", \"t_mean\", \"t_std\", \"i_mean\", \"i_std\"]\n",
    "for col in round_cols:\n",
    "    results[col] = results[col].apply(lambda x: round(x, 2))"
   ]
  },
  {
   "cell_type": "code",
   "execution_count": 135,
   "id": "b9f97627-756b-497d-a2db-2345c6bda2b7",
   "metadata": {},
   "outputs": [
    {
     "name": "stdout",
     "output_type": "stream",
     "text": [
      "best e: [(4.1, 2.85)]\n",
      "best t: [(2.05, 1.85)]\n",
      "best i: [(10.65, 4.25)]\n"
     ]
    }
   ],
   "source": [
    "idx_best_fine = results[\"diff\"].idxmin()\n",
    "best_e_mean_fine = results_fine.loc[idx_best_fine, \"e_mean\"]\n",
    "best_e_std_fine = results_fine.loc[idx_best_fine, \"e_std\"]\n",
    "best_t_mean_fine = results_fine.loc[idx_best_fine, \"t_mean\"]\n",
    "best_t_std_fine = results_fine.loc[idx_best_fine, \"t_std\"]\n",
    "best_i_mean_fine = results_fine.loc[idx_best_fine, \"i_mean\"]\n",
    "best_i_std_fine = results_fine.loc[idx_best_fine, \"i_std\"]\n",
    "\n",
    "print(f\"best e: [{best_e_mean_fine, best_e_std_fine}]\")\n",
    "print(f\"best t: [{best_t_mean_fine, best_t_std_fine}]\")\n",
    "print(f\"best i: [{best_i_mean_fine, best_i_std_fine}]\")"
   ]
  },
  {
   "cell_type": "code",
   "execution_count": 114,
   "id": "wound-redhead",
   "metadata": {},
   "outputs": [
    {
     "name": "stdout",
     "output_type": "stream",
     "text": [
      "184338 parameter combinations\n"
     ]
    }
   ],
   "source": [
    "N = 10000\n",
    "step = 0.05\n",
    "window = 0.25\n",
    "exposure_durations = np.arange(best_e_mean_fine - 0.1, best_e_mean_fine + window * 3 + step * 2, step)\n",
    "times_until_symtoms = np.arange(best_t_mean_fine - window, best_t_mean_fine + window + step, step)\n",
    "infection_durations = np.arange(best_i_mean_fine + step, best_i_mean_fine + window + step, step * 2)\n",
    "\n",
    "step = 0.1\n",
    "exposure_duration_stds = np.arange(best_e_std_fine - window, best_e_std_fine + window + step, step)\n",
    "times_until_symtoms_stds = np.arange(best_t_std_fine - window, best_t_std_fine + window + step, step)\n",
    "infection_durations_stds = np.arange(best_i_std_fine - window, best_i_std_fine + window + step, step)\n",
    "\n",
    "param_combinations = [(N, e, t, i, e_std, t_std, i_std) \\\n",
    "                                for e in exposure_durations \\\n",
    "                                for t in times_until_symtoms \\\n",
    "                                for i in infection_durations \\\n",
    "                                for e_std in exposure_duration_stds \\\n",
    "                                for t_std in times_until_symtoms_stds \\\n",
    "                                for i_std in infection_durations_stds]\n",
    "print(f\"{len(param_combinations)} parameter combinations\")"
   ]
  },
  {
   "cell_type": "code",
   "execution_count": 116,
   "id": "suffering-charger",
   "metadata": {},
   "outputs": [
    {
     "name": "stderr",
     "output_type": "stream",
     "text": [
      "100%|██████████████████████████████████████████████████████████████████████████████████████████████| 184338/184338 [21:49<00:00, 140.75it/s]\n"
     ]
    }
   ],
   "source": [
    "results_fine = pd.DataFrame()\n",
    "\n",
    "pool = Pool(200)\n",
    "for row in tqdm(\n",
    "        pool.imap_unordered(\n",
    "            func=get_true_epi_params, \n",
    "            iterable=param_combinations),\n",
    "            total=len(param_combinations)\n",
    "    ):\n",
    "    results_fine = results_fine.append(row, ignore_index=True)\n",
    "pool.close()\n",
    "\n",
    "results_fine[\"e_mean_diff\"] = results_fine[\"true_e_mean\"]\\\n",
    "    .apply(lambda x: (x - expected_epi_params[\"exposure_duration\"][\"mean\"]) ** 2)\n",
    "results_fine[\"e_std_diff\"] = results_fine[\"true_e_std\"]\\\n",
    "    .apply(lambda x: (x - expected_epi_params[\"exposure_duration\"][\"std\"]) ** 2)\n",
    "results_fine[\"t_mean_diff\"] = results_fine[\"true_t_mean\"]\\\n",
    "    .apply(lambda x: (x - expected_epi_params[\"time_until_symptoms\"][\"mean\"]) ** 2)\n",
    "results_fine[\"t_std_diff\"] = results_fine[\"true_t_std\"]\\\n",
    "    .apply(lambda x: (x - expected_epi_params[\"time_until_symptoms\"][\"std\"]) ** 2)\n",
    "results_fine[\"i_mean_diff\"] = results_fine[\"true_i_mean\"]\\\n",
    "    .apply(lambda x: (x - expected_epi_params[\"infection_duration\"][\"mean\"]) ** 2)\n",
    "results_fine[\"i_std_diff\"] = results_fine[\"true_i_std\"]\\\n",
    "    .apply(lambda x: (x - expected_epi_params[\"infection_duration\"][\"std\"]) ** 2)\n",
    "\n",
    "results_fine[\"mean_diff\"] = results_fine[\"e_mean_diff\"] + results_fine[\"t_mean_diff\"] + results_fine[\"i_mean_diff\"]\n",
    "results_fine[\"std_diff\"] = results_fine[\"e_std_diff\"] + results_fine[\"t_std_diff\"] + results_fine[\"i_std_diff\"]\n",
    "results_fine[\"diff\"] = results_fine[\"mean_diff\"] + results_fine[\"std_diff\"]\n",
    "\n",
    "results_fine.to_csv(\"../../../data/simulation_results/calibration/calibration_epidemiological_parameters_results_fine_2.csv\", index=False)"
   ]
  },
  {
   "cell_type": "code",
   "execution_count": 133,
   "id": "c4193333-21af-471d-88cf-43729150b6d9",
   "metadata": {},
   "outputs": [],
   "source": [
    "results_fine_1 = pd.read_csv(\"../../../data/simulation_results/calibration/calibration_epidemiological_parameters_results_fine.csv\")\n",
    "results_fine_2 = pd.read_csv(\"../../../data/simulation_results/calibration/calibration_epidemiological_parameters_results_fine_2.csv\")\n",
    "results_fine = pd.concat([results_fine_1, results_fine_2]).reset_index(drop=True)\n",
    "\n",
    "round_cols = [\"e_mean\", \"e_std\", \"t_mean\", \"t_std\", \"i_mean\", \"i_std\"]\n",
    "for col in round_cols:\n",
    "    results_fine[col] = results_fine[col].apply(lambda x: round(x, 2))"
   ]
  },
  {
   "cell_type": "code",
   "execution_count": 134,
   "id": "7eff9021-b34f-4217-a7bb-8e9ac4af3073",
   "metadata": {},
   "outputs": [
    {
     "name": "stdout",
     "output_type": "stream",
     "text": [
      "best e: [(4.15, 3.05)]\n",
      "best t: [(1.6, 1.85)]\n",
      "best i: [(10.65, 4.05)]\n",
      "\n",
      "true e: [(1.9929, 1.32817528587156)]\n",
      "true t: [(3.1759, 2.0992758727713707)]\n",
      "true i: [(10.9401, 3.937475331986221)]\n"
     ]
    }
   ],
   "source": [
    "idx_best_fine = results_fine[\"diff\"].idxmin()\n",
    "best_e_mean_fine = results_fine.loc[idx_best_fine, \"e_mean\"]\n",
    "best_e_std_fine = results_fine.loc[idx_best_fine, \"e_std\"]\n",
    "best_t_mean_fine = results_fine.loc[idx_best_fine, \"t_mean\"]\n",
    "best_t_std_fine = results_fine.loc[idx_best_fine, \"t_std\"]\n",
    "best_i_mean_fine = results_fine.loc[idx_best_fine, \"i_mean\"]\n",
    "best_i_std_fine = results_fine.loc[idx_best_fine, \"i_std\"]\n",
    "\n",
    "true_e_mean_fine = results_fine.loc[idx_best_fine, \"true_e_mean\"]\n",
    "true_e_std_fine = results_fine.loc[idx_best_fine, \"true_e_std\"]\n",
    "true_t_mean_fine = results_fine.loc[idx_best_fine, \"true_t_mean\"]\n",
    "true_t_std_fine = results_fine.loc[idx_best_fine, \"true_t_std\"]\n",
    "true_i_mean_fine = results_fine.loc[idx_best_fine, \"true_i_mean\"]\n",
    "true_i_std_fine = results_fine.loc[idx_best_fine, \"true_i_std\"]\n",
    "\n",
    "print(f\"best e: [{best_e_mean_fine, best_e_std_fine}]\")\n",
    "print(f\"best t: [{best_t_mean_fine, best_t_std_fine}]\")\n",
    "print(f\"best i: [{best_i_mean_fine, best_i_std_fine}]\")\n",
    "print()\n",
    "print(f\"true e: [{true_e_mean_fine, true_e_std_fine}]\")\n",
    "print(f\"true t: [{true_t_mean_fine, true_t_std_fine}]\")\n",
    "print(f\"true i: [{true_i_mean_fine, true_i_std_fine}]\")"
   ]
  },
  {
   "cell_type": "code",
   "execution_count": 119,
   "id": "f67ba24f-17c3-4ccd-a8ef-86de9a291e11",
   "metadata": {},
   "outputs": [
    {
     "name": "stdout",
     "output_type": "stream",
     "text": [
      "e: shape: 1.3771321157149656, scale: 4.54121146492959\n",
      "t: shape: 0.8676460015047511, scale: 1.4891944517243365\n",
      "i: shape: 2.85217321247462, scale: 11.951658643348956\n"
     ]
    }
   ],
   "source": [
    "for param_name, param, param_std in zip([\"e\", \"t\", \"i\"], \\\n",
    "                [best_e_mean_fine, best_t_mean_fine, best_i_mean_fine],\\\n",
    "                [best_e_std_fine, best_t_std_fine, best_i_std_fine]):\n",
    "    mu = param\n",
    "    var = param_std**2\n",
    "    shape = root_scalar(get_weibull_shape, args=(mu, var),\n",
    "                method='toms748', bracket=[0.2, 500]).root\n",
    "    scale = get_weibull_scale(mu, shape)\n",
    "\n",
    "    print(f\"{param_name}: shape: {shape}, scale: {scale}\")"
   ]
  },
  {
   "cell_type": "code",
   "execution_count": 125,
   "id": "11a1a116-2047-43a8-8e8d-2c880d0dde81",
   "metadata": {},
   "outputs": [],
   "source": [
    "exposure_durations = [round(e, 2) for e in exposure_durations]\n",
    "times_until_symtoms = [round(t, 2) for t in times_until_symtoms]\n",
    "\n",
    "selected_infection_durations = [10.55, 10.65, 10.75, 10.85, 10.95, 11.05]\n",
    "images = {i:np.zeros((len(exposure_durations), len(times_until_symtoms))) \\\n",
    "          for i in selected_infection_durations}\n",
    "\n",
    "\n",
    "results_fine = results_fine.set_index([\"e_mean\", \"t_mean\", \"i_mean\", \"e_std\", \"t_std\", \"i_std\"])\n",
    "for infection_duration in selected_infection_durations:\n",
    "    for i, e in enumerate(exposure_durations):\n",
    "        for j, t in enumerate(times_until_symtoms):\n",
    "            images[infection_duration][i, j] = \\\n",
    "                results_fine.loc[e, t, infection_duration, best_e_std_fine, best_t_std_fine, best_i_std_fine][\"diff\"]\n",
    "results_fine = results_fine.reset_index()"
   ]
  },
  {
   "cell_type": "code",
   "execution_count": 126,
   "id": "12a96d0c-ce39-4975-ab67-e74c70e13bc1",
   "metadata": {},
   "outputs": [
    {
     "data": {
      "text/plain": [
       "2.0652120534849514"
      ]
     },
     "execution_count": 126,
     "metadata": {},
     "output_type": "execute_result"
    }
   ],
   "source": [
    "results_fine[\"diff\"].max()"
   ]
  },
  {
   "cell_type": "code",
   "execution_count": 127,
   "id": "21ab9a37-5dd6-4bc8-b575-59a8f22f32da",
   "metadata": {},
   "outputs": [
    {
     "data": {
      "text/plain": [
       "0.3987484744657188"
      ]
     },
     "execution_count": 127,
     "metadata": {},
     "output_type": "execute_result"
    }
   ],
   "source": [
    "results_fine[\"diff\"].min()"
   ]
  },
  {
   "cell_type": "code",
   "execution_count": 130,
   "id": "34bde4e5-30a6-4e6b-a7c0-efd33d0bd7f7",
   "metadata": {},
   "outputs": [
    {
     "data": {
      "image/png": "[encoded data removed]",
      "text/plain": [
       "<Figure size 576x576 with 6 Axes>"
      ]
     },
     "metadata": {
      "needs_background": "light"
     },
     "output_type": "display_data"
    }
   ],
   "source": [
    "fig, axes = plt.subplots(2, 3, figsize=(8, 8))\n",
    "for ax, infection_duration in zip(axes.flatten(), selected_infection_durations):\n",
    "    ax.imshow(images[infection_duration], vmin=0.35, vmax=0.7)\n",
    "    ax.set_yticks(range(len(exposure_durations)))\n",
    "    ax.set_yticklabels(exposure_durations, fontsize=8)\n",
    "    ax.set_xticks(range(len(times_until_symtoms)))\n",
    "    ax.set_xticklabels(times_until_symtoms, fontsize=8)\n",
    "    ax.set_xlabel(\"time until symptoms\")\n",
    "    ax.set_ylabel(\"exposure duration\")\n",
    "    ax.set_title(f\"infection duration: {infection_duration}\")\n",
    "fig.tight_layout()"
   ]
  },
  {
   "cell_type": "markdown",
   "id": "2663d898-6356-43e9-93c4-d3ee5b440661",
   "metadata": {},
   "source": [
    "### Very fine grid search"
   ]
  },
  {
   "cell_type": "code",
   "execution_count": 138,
   "id": "897d4d13-fc51-4203-8343-ced586c9cf80",
   "metadata": {},
   "outputs": [],
   "source": [
    "results_fine_1 = pd.read_csv(\"../../../data/simulation_results/calibration/calibration_epidemiological_parameters_results_fine.csv\")\n",
    "results_fine_2 = pd.read_csv(\"../../../data/simulation_results/calibration/calibration_epidemiological_parameters_results_fine_2.csv\")\n",
    "results_fine = pd.concat([results_fine_1, results_fine_2]).reset_index(drop=True)\n",
    "\n",
    "round_cols = [\"e_mean\", \"e_std\", \"t_mean\", \"t_std\", \"i_mean\", \"i_std\"]\n",
    "for col in round_cols:\n",
    "    results_fine[col] = results_fine[col].apply(lambda x: round(x, 2))"
   ]
  },
  {
   "cell_type": "code",
   "execution_count": 139,
   "id": "a19728a3-f0a1-4ecf-861b-8169aa322acb",
   "metadata": {},
   "outputs": [
    {
     "name": "stdout",
     "output_type": "stream",
     "text": [
      "best e: [(4.1, 2.85)]\n",
      "best t: [(2.05, 1.85)]\n",
      "best i: [(10.65, 4.25)]\n"
     ]
    }
   ],
   "source": [
    "idx_best_fine = results[\"diff\"].idxmin()\n",
    "best_e_mean_fine = results_fine.loc[idx_best_fine, \"e_mean\"]\n",
    "best_e_std_fine = results_fine.loc[idx_best_fine, \"e_std\"]\n",
    "best_t_mean_fine = results_fine.loc[idx_best_fine, \"t_mean\"]\n",
    "best_t_std_fine = results_fine.loc[idx_best_fine, \"t_std\"]\n",
    "best_i_mean_fine = results_fine.loc[idx_best_fine, \"i_mean\"]\n",
    "best_i_std_fine = results_fine.loc[idx_best_fine, \"i_std\"]\n",
    "\n",
    "print(f\"best e: [{best_e_mean_fine, best_e_std_fine}]\")\n",
    "print(f\"best t: [{best_t_mean_fine, best_t_std_fine}]\")\n",
    "print(f\"best i: [{best_i_mean_fine, best_i_std_fine}]\")"
   ]
  },
  {
   "cell_type": "code",
   "execution_count": 148,
   "id": "6d25e32b-2dcd-41b8-bb67-70927af581f5",
   "metadata": {},
   "outputs": [
    {
     "name": "stdout",
     "output_type": "stream",
     "text": [
      "47616 parameter combinations\n"
     ]
    }
   ],
   "source": [
    "N = 50000\n",
    "step = 0.01\n",
    "window = 0.1\n",
    "exposure_durations = np.arange(best_e_mean_fine - window, best_e_mean_fine + window * 2 + step, step)\n",
    "times_until_symtoms = np.arange(1.4, 1.7, step)\n",
    "infection_durations = [best_i_mean_fine]\n",
    "\n",
    "step = 0.1\n",
    "exposure_duration_stds = np.arange(best_e_std_fine - window, best_e_std_fine + window + step, step)\n",
    "times_until_symtoms_stds = np.arange(best_t_std_fine - window, best_t_std_fine + window + step, step)\n",
    "infection_durations_stds = np.arange(best_i_std_fine - window, best_i_std_fine + window + step, step)\n",
    "\n",
    "param_combinations = [(N, e, t, i, e_std, t_std, i_std) \\\n",
    "                                for e in exposure_durations \\\n",
    "                                for t in times_until_symtoms \\\n",
    "                                for i in infection_durations \\\n",
    "                                for e_std in exposure_duration_stds \\\n",
    "                                for t_std in times_until_symtoms_stds \\\n",
    "                                for i_std in infection_durations_stds]\n",
    "print(f\"{len(param_combinations)} parameter combinations\")"
   ]
  },
  {
   "cell_type": "code",
   "execution_count": 149,
   "id": "7c266081-045c-489c-80f8-a3d6cb4d28d8",
   "metadata": {},
   "outputs": [
    {
     "name": "stderr",
     "output_type": "stream",
     "text": [
      "100%|█████████████████████████████████████████████████████████████████████████████████████████████████| 47616/47616 [30:58<00:00, 25.62it/s]\n"
     ]
    }
   ],
   "source": [
    "results_veryfine = pd.DataFrame()\n",
    "\n",
    "pool = Pool(200)\n",
    "for row in tqdm(\n",
    "        pool.imap_unordered(\n",
    "            func=get_true_epi_params, \n",
    "            iterable=param_combinations),\n",
    "            total=len(param_combinations)\n",
    "    ):\n",
    "    results_veryfine = results_veryfine.append(row, ignore_index=True)\n",
    "pool.close()\n",
    "\n",
    "results_veryfine[\"e_mean_diff\"] = results_veryfine[\"true_e_mean\"]\\\n",
    "    .apply(lambda x: (x - expected_epi_params[\"exposure_duration\"][\"mean\"]) ** 2)\n",
    "results_veryfine[\"e_std_diff\"] = results_veryfine[\"true_e_std\"]\\\n",
    "    .apply(lambda x: (x - expected_epi_params[\"exposure_duration\"][\"std\"]) ** 2)\n",
    "results_veryfine[\"t_mean_diff\"] = results_veryfine[\"true_t_mean\"]\\\n",
    "    .apply(lambda x: (x - expected_epi_params[\"time_until_symptoms\"][\"mean\"]) ** 2)\n",
    "results_veryfine[\"t_std_diff\"] = results_veryfine[\"true_t_std\"]\\\n",
    "    .apply(lambda x: (x - expected_epi_params[\"time_until_symptoms\"][\"std\"]) ** 2)\n",
    "results_veryfine[\"i_mean_diff\"] = results_veryfine[\"true_i_mean\"]\\\n",
    "    .apply(lambda x: (x - expected_epi_params[\"infection_duration\"][\"mean\"]) ** 2)\n",
    "results_veryfine[\"i_std_diff\"] = results_veryfine[\"true_i_std\"]\\\n",
    "    .apply(lambda x: (x - expected_epi_params[\"infection_duration\"][\"std\"]) ** 2)\n",
    "\n",
    "results_veryfine[\"mean_diff\"] = results_veryfine[\"e_mean_diff\"] + results_veryfine[\"t_mean_diff\"] + results_veryfine[\"i_mean_diff\"]\n",
    "results_veryfine[\"std_diff\"] = results_veryfine[\"e_std_diff\"] + results_veryfine[\"t_std_diff\"] + results_veryfine[\"i_std_diff\"]\n",
    "results_veryfine[\"diff\"] = results_veryfine[\"mean_diff\"] + results_veryfine[\"std_diff\"]\n",
    "\n",
    "results_veryfine.to_csv(\"../../../data/simulation_results/calibration/calibration_epidemiological_parameters_results_veryfine.csv\", index=False)"
   ]
  },
  {
   "cell_type": "code",
   "execution_count": 150,
   "id": "592bb4b3-7197-4a0d-b900-d3696da818d9",
   "metadata": {},
   "outputs": [],
   "source": [
    "results_veryfine = pd.read_csv(\"../../../data/simulation_results/calibration/calibration_epidemiological_parameters_results_veryfine.csv\")\n",
    "\n",
    "round_cols = [\"e_mean\", \"e_std\", \"t_mean\", \"t_std\", \"i_mean\", \"i_std\"]\n",
    "for col in round_cols:\n",
    "    results_veryfine[col] = results_veryfine[col].apply(lambda x: round(x, 2))"
   ]
  },
  {
   "cell_type": "code",
   "execution_count": 151,
   "id": "bffca1d2-cafb-4ab2-8501-782028de36d7",
   "metadata": {},
   "outputs": [
    {
     "name": "stdout",
     "output_type": "stream",
     "text": [
      "best e: [(4.31, 3.05)]\n",
      "best t: [(1.49, 1.75)]\n",
      "best i: [(10.65, 4.15)]\n",
      "\n",
      "true e: [(2.01096, 1.300630569531564)]\n",
      "true t: [(3.1608, 2.0635559987555463)]\n",
      "true i: [(10.94196, 4.015877408288256)]\n"
     ]
    }
   ],
   "source": [
    "idx_best_veryfine = results_veryfine[\"diff\"].idxmin()\n",
    "best_e_mean_veryfine = results_veryfine.loc[idx_best_veryfine, \"e_mean\"]\n",
    "best_e_std_veryfine = results_veryfine.loc[idx_best_veryfine, \"e_std\"]\n",
    "best_t_mean_veryfine = results_veryfine.loc[idx_best_veryfine, \"t_mean\"]\n",
    "best_t_std_veryfine = results_veryfine.loc[idx_best_veryfine, \"t_std\"]\n",
    "best_i_mean_veryfine = results_veryfine.loc[idx_best_veryfine, \"i_mean\"]\n",
    "best_i_std_veryfine = results_veryfine.loc[idx_best_veryfine, \"i_std\"]\n",
    "\n",
    "true_e_mean_veryfine = results_veryfine.loc[idx_best_veryfine, \"true_e_mean\"]\n",
    "true_e_std_veryfine = results_veryfine.loc[idx_best_veryfine, \"true_e_std\"]\n",
    "true_t_mean_veryfine = results_veryfine.loc[idx_best_veryfine, \"true_t_mean\"]\n",
    "true_t_std_veryfine = results_veryfine.loc[idx_best_veryfine, \"true_t_std\"]\n",
    "true_i_mean_veryfine = results_veryfine.loc[idx_best_veryfine, \"true_i_mean\"]\n",
    "true_i_std_veryfine = results_veryfine.loc[idx_best_veryfine, \"true_i_std\"]\n",
    "\n",
    "print(f\"best e: [{best_e_mean_veryfine, best_e_std_veryfine}]\")\n",
    "print(f\"best t: [{best_t_mean_veryfine, best_t_std_veryfine}]\")\n",
    "print(f\"best i: [{best_i_mean_veryfine, best_i_std_veryfine}]\")\n",
    "print()\n",
    "print(f\"true e: [{true_e_mean_veryfine, true_e_std_veryfine}]\")\n",
    "print(f\"true t: [{true_t_mean_veryfine, true_t_std_veryfine}]\")\n",
    "print(f\"true i: [{true_i_mean_veryfine, true_i_std_veryfine}]\")"
   ]
  },
  {
   "cell_type": "code",
   "execution_count": 153,
   "id": "f3c9e6d2-eb5c-4a16-b767-0d9bed932642",
   "metadata": {},
   "outputs": [
    {
     "name": "stdout",
     "output_type": "stream",
     "text": [
      "e: shape: 1.4343194192035125, scale: 4.746120286954592\n",
      "t: shape: 0.854806498575083, scale: 1.3743410404570486\n",
      "i: shape: 2.7755438034333118, scale: 11.964168817902408\n"
     ]
    }
   ],
   "source": [
    "for param_name, param, param_std in zip([\"e\", \"t\", \"i\"], \\\n",
    "                [best_e_mean_veryfine, best_t_mean_veryfine, best_i_mean_veryfine],\\\n",
    "                [best_e_std_veryfine, best_t_std_veryfine, best_i_std_veryfine]):\n",
    "    mu = param\n",
    "    var = param_std**2\n",
    "    shape = root_scalar(get_weibull_shape, args=(mu, var),\n",
    "                method='toms748', bracket=[0.2, 500]).root\n",
    "    scale = get_weibull_scale(mu, shape)\n",
    "\n",
    "    print(f\"{param_name}: shape: {shape}, scale: {scale}\")"
   ]
  },
  {
   "cell_type": "code",
   "execution_count": 154,
   "id": "a6deebf8-9ccb-40a2-8fba-1d2b919332f8",
   "metadata": {},
   "outputs": [],
   "source": [
    "exposure_durations = [round(e, 2) for e in exposure_durations]\n",
    "times_until_symtoms = [round(t, 2) for t in times_until_symtoms]\n",
    "\n",
    "selected_infection_durations = [10.65]\n",
    "images = {i:np.zeros((len(exposure_durations), len(times_until_symtoms))) \\\n",
    "          for i in selected_infection_durations}\n",
    "\n",
    "\n",
    "results_veryfine = results_veryfine.set_index([\"e_mean\", \"t_mean\", \"i_mean\", \"e_std\", \"t_std\", \"i_std\"])\n",
    "for infection_duration in selected_infection_durations:\n",
    "    for i, e in enumerate(exposure_durations):\n",
    "        for j, t in enumerate(times_until_symtoms):\n",
    "            images[infection_duration][i, j] = \\\n",
    "                results_veryfine.loc[e, t, infection_duration, best_e_std_fine, best_t_std_fine, best_i_std_fine][\"diff\"]\n",
    "results_veryfine = results_veryfine.reset_index()"
   ]
  },
  {
   "cell_type": "code",
   "execution_count": 155,
   "id": "0496c7c1-1635-43dd-aceb-f662ef568b9a",
   "metadata": {},
   "outputs": [
    {
     "data": {
      "text/plain": [
       "0.9393273782365196"
      ]
     },
     "execution_count": 155,
     "metadata": {},
     "output_type": "execute_result"
    }
   ],
   "source": [
    "results_veryfine[\"diff\"].max()"
   ]
  },
  {
   "cell_type": "code",
   "execution_count": 156,
   "id": "e0f2babc-2aca-4b71-b9b6-d3c4a97fd6d7",
   "metadata": {},
   "outputs": [
    {
     "data": {
      "text/plain": [
       "0.4173323150317592"
      ]
     },
     "execution_count": 156,
     "metadata": {},
     "output_type": "execute_result"
    }
   ],
   "source": [
    "results_veryfine[\"diff\"].min()"
   ]
  },
  {
   "cell_type": "code",
   "execution_count": 163,
   "id": "6e66bc13-13d9-4937-9e03-8cf557cec108",
   "metadata": {},
   "outputs": [
    {
     "data": {
      "image/png": "[encoded data removed]",
      "text/plain": [
       "<Figure size 432x432 with 1 Axes>"
      ]
     },
     "metadata": {
      "needs_background": "light"
     },
     "output_type": "display_data"
    }
   ],
   "source": [
    "fig, ax = plt.subplots(figsize=(6, 6))\n",
    "\n",
    "ax.imshow(images[10.65], vmin=0.45, vmax=0.55)\n",
    "ax.set_yticks(range(len(exposure_durations)))\n",
    "ax.set_yticklabels(exposure_durations, fontsize=8)\n",
    "ax.set_xticks(range(len(times_until_symtoms)))\n",
    "ax.set_xticklabels(times_until_symtoms, fontsize=8)\n",
    "ax.set_xlabel(\"time until symptoms\")\n",
    "ax.set_ylabel(\"exposure duration\")\n",
    "ax.set_title(f\"infection duration: {infection_duration}\")\n",
    "fig.tight_layout()"
   ]
  },
  {
   "cell_type": "markdown",
   "id": "coordinated-decade",
   "metadata": {},
   "source": [
    "### Epi parameter distribution plot"
   ]
  },
  {
   "cell_type": "code",
   "execution_count": 164,
   "id": "limited-canon",
   "metadata": {},
   "outputs": [],
   "source": [
    "curr_epi_params = {\n",
    "        \"exposure_duration\":{\"mean\":best_e_mean_veryfine, \"std\":best_e_std_veryfine},\n",
    "        \"time_until_symptoms\":{\"mean\":best_t_mean_veryfine, \"std\":best_t_std_veryfine},\n",
    "        \"infection_duration\":{\"mean\":best_i_mean_veryfine, \"std\":best_i_std_veryfine}\n",
    "    }\n",
    "for param_name in curr_epi_params.keys():\n",
    "    mu = curr_epi_params[param_name][\"mean\"]\n",
    "    var = curr_epi_params[param_name][\"std\"]**2\n",
    "    shape = root_scalar(get_weibull_shape, args=(mu, var),\n",
    "                method='toms748', bracket=[0.2, 500]).root\n",
    "    scale = get_weibull_scale(mu, shape)\n",
    "    curr_epi_params[param_name][\"shape\"] = shape\n",
    "    curr_epi_params[param_name][\"scale\"] = scale\n",
    "\n",
    "exposure_duration = []\n",
    "time_until_symptoms = []\n",
    "infection_duration = []\n",
    "for i in range(10000):\n",
    "    tmp_epi_params = {}\n",
    "    while True:\n",
    "        for param_name in curr_epi_params.keys():\n",
    "            tmp_epi_params[param_name] = \\\n",
    "                round(weibull_two_param(curr_epi_params[param_name][\"shape\"],\n",
    "                                        curr_epi_params[param_name][\"scale\"]))\n",
    "\n",
    "        if (tmp_epi_params['exposure_duration'] >= 1) and \\\n",
    "           (tmp_epi_params['time_until_symptoms'] >= \\\n",
    "           tmp_epi_params['exposure_duration']) and\\\n",
    "           (tmp_epi_params['infection_duration'] >= \\\n",
    "           tmp_epi_params['time_until_symptoms']):\n",
    "           break\n",
    "\n",
    "    exposure_duration.append(tmp_epi_params['exposure_duration'])\n",
    "    time_until_symptoms.append(tmp_epi_params['time_until_symptoms'])\n",
    "    infection_duration.append(tmp_epi_params['infection_duration'])\n",
    "\n",
    "exposure_duration = np.asarray(exposure_duration)\n",
    "time_until_symptoms = np.asarray(time_until_symptoms)\n",
    "infection_duration = np.asarray(infection_duration)"
   ]
  },
  {
   "cell_type": "code",
   "execution_count": 171,
   "id": "bizarre-oxide",
   "metadata": {},
   "outputs": [
    {
     "data": {
      "image/png": "[encoded data removed]",
      "text/plain": [
       "<Figure size 792x216 with 3 Axes>"
      ]
     },
     "metadata": {
      "needs_background": "light"
     },
     "output_type": "display_data"
    }
   ],
   "source": [
    "fig, axes = plt.subplots(1, 3, figsize=(11, 3))\n",
    "fig.subplots_adjust(wspace=0.3)\n",
    "max_bins = [11, 11, 26]\n",
    "steps = [1, 1, 2]\n",
    "colors = ['#2471A3', '#C0392B', '#909497']\n",
    "xticks = [range(0, 11, 2), range(0, 11, 2), range(0, 26, 5)]\n",
    "labels = ['exposure duration\\n', 'incubation time\\n', 'infection duration\\n']\n",
    "ymaxes = [0.25, 0.5, 0.12]\n",
    "\n",
    "for ax, max_bin, step, color, xtick, label, ymax, param in zip(axes, max_bins, steps, colors,\\\n",
    "    xticks, labels, ymaxes, [exposure_duration, time_until_symptoms, infection_duration]):\n",
    "    ax.hist(param, bins=range(0, max_bin, step), rwidth=0.8, color=color,\n",
    "            density=True, align='left')\n",
    "    ax.set_xticks(xtick)\n",
    "    ax.spines['right'].set_visible(False)\n",
    "    ax.spines['top'].set_visible(False)\n",
    "    ax.set_title(label)\n",
    "    ax.set_ylabel('pdf')\n",
    "    ax.set_xlabel('days')\n",
    "    ax.set_ylim(0, ymax)\n",
    "\n",
    "fig.tight_layout()\n",
    "fig.text(0.062, 0.9, 'A', fontsize=12, fontweight='bold')\n",
    "fig.text(0.39, 0.9, 'B', fontsize=12, fontweight='bold')\n",
    "fig.text(0.7162, 0.9, 'C', fontsize=12, fontweight='bold')\n",
    "plt.savefig(\"../../../plots/epi_param_distributions.pdf\")\n",
    "plt.savefig(\"../../../plots/epi_param_distributions.svg\")\n",
    "plt.savefig(\"../../../plots/epi_param_distributions.png\", dpi=300)"
   ]
  }
 ],
 "metadata": {
  "kernelspec": {
   "display_name": "Python 3 (ipykernel)",
   "language": "python",
   "name": "python3"
  },
  "language_info": {
   "codemirror_mode": {
    "name": "ipython",
    "version": 3
   },
   "file_extension": ".py",
   "mimetype": "text/x-python",
   "name": "python",
   "nbconvert_exporter": "python",
   "pygments_lexer": "ipython3",
   "version": "3.9.7"
  }
 },
 "nbformat": 4,
 "nbformat_minor": 5
}
