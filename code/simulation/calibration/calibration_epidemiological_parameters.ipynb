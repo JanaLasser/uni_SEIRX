{
 "cells": [
  {
   "cell_type": "markdown",
   "id": "norwegian-piece",
   "metadata": {},
   "source": [
    "# Calibration of epidemiological parameters"
   ]
  },
  {
   "cell_type": "markdown",
   "id": "included-phase",
   "metadata": {},
   "source": [
    "The values that characterize the distributions of the exposure duration $l$, incubation time $m$ and infection duration $n$ given in the literature assume independent distributions of the three values. Nevertheless, in reality in every individual these values are not independent and are subject to the constraint $1 \\leq l \\leq m \\leq n$. If drawing values for individuals from distributions for $l$, $m$ and $n$ and rejecting value combinations that do not conform to the constraint, the distributions become left-truncated.  \n",
    "\n",
    "To address this issue, we need to fit the values that characterize the distributions for $l$, $m$ and $n$, i.e. the shape and scale of the corresponding weibull distributions such that the shape and scale of the distributions *after* left-truncating them corresponds to the values reported in the literature. \n",
    "\n",
    "In the below script, we do this once for the distributions reported for the wild type variant of the SARS-CoV-2 virus and once for the omicron variant. The values for the wild type are used in the calibration of the contact parameter, since the empirical data used for the calibration stems from infection chains with the wild type variant. The values for the omicron variant are used to run the simulations on the calibrated model."
   ]
  },
  {
   "cell_type": "code",
   "execution_count": 1,
   "id": "ecological-shock",
   "metadata": {},
   "outputs": [],
   "source": [
    "import numpy as np\n",
    "import matplotlib.pyplot as plt\n",
    "import pandas as pd\n",
    "from os.path import join\n",
    "from scipy.optimize import root_scalar\n",
    "from math import gamma\n",
    "\n",
    "# parallelisation functionality\n",
    "from multiprocess import Pool\n",
    "import psutil\n",
    "from tqdm import tqdm"
   ]
  },
  {
   "cell_type": "code",
   "execution_count": 72,
   "id": "ahead-gregory",
   "metadata": {},
   "outputs": [],
   "source": [
    "dst = \"../../../data/simulation_results/calibration/\""
   ]
  },
  {
   "cell_type": "markdown",
   "id": "atmospheric-brazilian",
   "metadata": {},
   "source": [
    "**Note:** Somehow the parallelization does not work if the functions are imported from a home-brew library (i.e. `calibration_functions`) and not defined within the notebook. That's why we repeat them here."
   ]
  },
  {
   "cell_type": "code",
   "execution_count": 2,
   "id": "lined-change",
   "metadata": {},
   "outputs": [],
   "source": [
    "def weibull_two_param(shape, scale):\n",
    "    '''\n",
    "    A two-parameter Weibull distribution, based on numpy ramdon's single \n",
    "    parameter distribution. We use this distribution in the simulation to draw\n",
    "    random epidemiological parameters for agents from the given distribution\n",
    "    See https://numpy.org/doc/stable/reference/random/generated/numpy.random.weibull.html\n",
    "    '''\n",
    "    return scale * np.random.weibull(shape)\n",
    "\n",
    "\n",
    "def get_weibull_shape(k, mu, var):\n",
    "    '''\n",
    "    Calculates the shape parameter of a Weibull distribution, given its mean\n",
    "    mu and its variance var\n",
    "    '''\n",
    "    return var / mu**2 - gamma(1 + 2/k) / gamma(1+1/k)**2 + 1\n",
    "\n",
    "\n",
    "\n",
    "def get_weibull_scale(mu, k):\n",
    "    '''\n",
    "    Calculates the scale parameter of a Weibull distribution, given its mean\n",
    "    mu and its shape parameter k\n",
    "    '''\n",
    "    return mu / gamma(1 + 1/k)\n",
    "\n",
    "def get_true_epi_params(p):\n",
    "    \n",
    "    N, e, t, i, e_std, t_std, i_std = p\n",
    "    curr_epi_params = {\n",
    "        \"exposure_duration\":{\"mean\":e, \"std\":e_std},\n",
    "        \"time_until_symptoms\":{\"mean\":t, \"std\":t_std},\n",
    "        \"infection_duration\":{\"mean\":i, \"std\":i_std}\n",
    "    }\n",
    "    for param_name in curr_epi_params.keys():\n",
    "        mu = curr_epi_params[param_name][\"mean\"]\n",
    "        var = curr_epi_params[param_name][\"std\"]**2\n",
    "        shape = root_scalar(get_weibull_shape, args=(mu, var),\n",
    "                    method='toms748', bracket=[0.2, 500]).root\n",
    "        scale = get_weibull_scale(mu, shape)\n",
    "        curr_epi_params[param_name][\"shape\"] = shape\n",
    "        curr_epi_params[param_name][\"scale\"] = scale\n",
    "    \n",
    "    exposure_duration = []\n",
    "    time_until_symptoms = []\n",
    "    infection_duration = []\n",
    "    for i in range(N):\n",
    "        tmp_epi_params = {}\n",
    "        while True:\n",
    "            for param_name in curr_epi_params.keys():\n",
    "                tmp_epi_params[param_name] = \\\n",
    "                    round(weibull_two_param(curr_epi_params[param_name][\"shape\"],\n",
    "                                            curr_epi_params[param_name][\"scale\"]))\n",
    "\n",
    "            if (tmp_epi_params['exposure_duration'] >= 1) and \\\n",
    "               (tmp_epi_params['time_until_symptoms'] >= \\\n",
    "               tmp_epi_params['exposure_duration']) and\\\n",
    "               (tmp_epi_params['infection_duration'] >= \\\n",
    "               tmp_epi_params['time_until_symptoms']):\n",
    "               break\n",
    "\n",
    "        exposure_duration.append(tmp_epi_params['exposure_duration'])\n",
    "        time_until_symptoms.append(tmp_epi_params['time_until_symptoms'])\n",
    "        infection_duration.append(tmp_epi_params['infection_duration'])\n",
    "\n",
    "    exposure_duration = np.asarray(exposure_duration)\n",
    "    time_until_symptoms = np.asarray(time_until_symptoms)\n",
    "    infection_duration = np.asarray(infection_duration)\n",
    "    \n",
    "    row = {\n",
    "        'e_mean':curr_epi_params[\"exposure_duration\"][\"mean\"],\n",
    "        'e_std':curr_epi_params[\"exposure_duration\"][\"std\"],\n",
    "        't_mean':curr_epi_params[\"time_until_symptoms\"][\"mean\"],\n",
    "        't_std':curr_epi_params[\"time_until_symptoms\"][\"std\"],\n",
    "        'i_mean':curr_epi_params[\"infection_duration\"][\"mean\"],\n",
    "        'i_std':curr_epi_params[\"infection_duration\"][\"std\"],\n",
    "        'true_e_mean':exposure_duration.mean(),\n",
    "        'true_e_std':exposure_duration.std(),\n",
    "        'true_t_mean':time_until_symptoms.mean(),\n",
    "        'true_t_std':time_until_symptoms.std(),\n",
    "        'true_i_mean':infection_duration.mean(),\n",
    "        'true_i_std':infection_duration.std()\n",
    "    }\n",
    "    return row"
   ]
  },
  {
   "cell_type": "markdown",
   "id": "individual-nepal",
   "metadata": {},
   "source": [
    "## Wild type"
   ]
  },
  {
   "cell_type": "code",
   "execution_count": 3,
   "id": "broad-liquid",
   "metadata": {},
   "outputs": [],
   "source": [
    "expected_epi_params = {\n",
    "    \"exposure_duration\":{\"mean\":5.0, \"std\":1.9},\n",
    "    \"time_until_symptoms\":{\"mean\":6.4, \"std\":0.8},\n",
    "    \"infection_duration\":{\"mean\":10.91, \"std\":3.95}\n",
    "}"
   ]
  },
  {
   "cell_type": "markdown",
   "id": "suited-cathedral",
   "metadata": {},
   "source": [
    "### Coarse grid search"
   ]
  },
  {
   "cell_type": "code",
   "execution_count": 4,
   "id": "pending-stress",
   "metadata": {},
   "outputs": [
    {
     "name": "stdout",
     "output_type": "stream",
     "text": [
      "194400 parameter combinations\n"
     ]
    }
   ],
   "source": [
    "N = 1000\n",
    "step = 0.2\n",
    "exposure_durations = np.arange(4.5, 7.5 + step, step)\n",
    "times_until_symtoms = np.arange(5.6, 7 + step, step)\n",
    "infection_durations = np.arange(8.5, 10.0 + step, step)\n",
    "\n",
    "step = 0.25\n",
    "exposure_duration_stds = np.arange(1.5, 2.4 + step, step)\n",
    "times_until_symtoms_stds = np.arange(0.2, 1.4 + step, step)\n",
    "infection_durations_stds = np.arange(3, 5 + step * 2, step * 2)\n",
    "\n",
    "param_combinations = [(N, e, t, i, e_std, t_std, i_std) \\\n",
    "                                for e in exposure_durations \\\n",
    "                                for t in times_until_symtoms \\\n",
    "                                for i in infection_durations \\\n",
    "                                for e_std in exposure_duration_stds \\\n",
    "                                for t_std in times_until_symtoms_stds \\\n",
    "                                for i_std in infection_durations_stds]\n",
    "print(f\"{len(param_combinations)} parameter combinations\")"
   ]
  },
  {
   "cell_type": "code",
   "execution_count": null,
   "id": "specific-florence",
   "metadata": {},
   "outputs": [
    {
     "name": "stderr",
     "output_type": "stream",
     "text": [
      "  0%|                                                                                                                                          | 0/194400 [00:00<?, ?it/s]\n"
     ]
    }
   ],
   "source": [
    "results = pd.DataFrame()\n",
    "\n",
    "pool = Pool(10)\n",
    "for row in tqdm(\n",
    "        pool.imap_unordered(\n",
    "            func=get_true_epi_params, \n",
    "            iterable=param_combinations),\n",
    "            total=len(param_combinations)\n",
    "    ):\n",
    "    results = results.append(row, ignore_index=True)\n",
    "pool.close()\n",
    "\n",
    "results[\"e_mean_diff\"] = results[\"true_e_mean\"]\\\n",
    "    .apply(lambda x: (x - expected_epi_params[\"exposure_duration\"][\"mean\"]) ** 2)\n",
    "results[\"e_std_diff\"] = results[\"true_e_std\"]\\\n",
    "    .apply(lambda x: (x - expected_epi_params[\"exposure_duration\"][\"std\"]) ** 2)\n",
    "results[\"t_mean_diff\"] = results[\"true_t_mean\"]\\\n",
    "    .apply(lambda x: (x - expected_epi_params[\"time_until_symptoms\"][\"mean\"]) ** 2)\n",
    "results[\"t_std_diff\"] = results[\"true_t_std\"]\\\n",
    "    .apply(lambda x: (x - expected_epi_params[\"time_until_symptoms\"][\"std\"]) ** 2)\n",
    "results[\"i_mean_diff\"] = results[\"true_i_mean\"]\\\n",
    "    .apply(lambda x: (x - expected_epi_params[\"infection_duration\"][\"mean\"]) ** 2)\n",
    "results[\"i_std_diff\"] = results[\"true_i_std\"]\\\n",
    "    .apply(lambda x: (x - expected_epi_params[\"infection_duration\"][\"std\"]) ** 2)\n",
    "\n",
    "results[\"mean_diff\"] = results[\"e_mean_diff\"] + results[\"t_mean_diff\"] + results[\"i_mean_diff\"]\n",
    "results[\"std_diff\"] = results[\"e_std_diff\"] + results[\"t_std_diff\"] + results[\"i_std_diff\"]\n",
    "results[\"diff\"] = results[\"mean_diff\"] + results[\"std_diff\"]\n",
    "\n",
    "fname = \"calibration_epidemiological_parameters_results_coarse_wt.csv.xz\"\n",
    "results.to_csv(join(dst, fname), index=False)"
   ]
  },
  {
   "cell_type": "code",
   "execution_count": 75,
   "id": "fitting-imperial",
   "metadata": {},
   "outputs": [],
   "source": [
    "fname = \"calibration_epidemiological_parameters_results_coarse_wt.csv.xz\"\n",
    "results = pd.read_csv(join(dst, fname), compression=\"xz\")\n",
    "\n",
    "round_cols = [\"e_mean\", \"e_std\", \"t_mean\", \"t_std\", \"i_mean\", \"i_std\"]\n",
    "for col in round_cols:\n",
    "    results[col] = results[col].apply(lambda x: round(x, 2))"
   ]
  },
  {
   "cell_type": "code",
   "execution_count": 76,
   "id": "limiting-update",
   "metadata": {},
   "outputs": [
    {
     "name": "stdout",
     "output_type": "stream",
     "text": [
      "best e: [(6.9, 2.5)]\n",
      "best t: [(6.2, 1.2)]\n",
      "best i: [(8.9, 4.5)]\n"
     ]
    }
   ],
   "source": [
    "idx_best = results[\"diff\"].idxmin()\n",
    "best_e_mean = results.loc[idx_best, \"e_mean\"]\n",
    "best_e_std = results.loc[idx_best, \"e_std\"]\n",
    "best_t_mean = results.loc[idx_best, \"t_mean\"]\n",
    "best_t_std = results.loc[idx_best, \"t_std\"]\n",
    "best_i_mean = results.loc[idx_best, \"i_mean\"]\n",
    "best_i_std = results.loc[idx_best, \"i_std\"]\n",
    "\n",
    "print(f\"best e: [{best_e_mean, best_e_std}]\")\n",
    "print(f\"best t: [{best_t_mean, best_t_std}]\")\n",
    "print(f\"best i: [{best_i_mean, best_i_std}]\")"
   ]
  },
  {
   "cell_type": "code",
   "execution_count": 7,
   "id": "enclosed-companion",
   "metadata": {},
   "outputs": [],
   "source": [
    "exposure_durations = [round(e, 2) for e in exposure_durations]\n",
    "times_until_symtoms = [round(t, 2) for t in times_until_symtoms]\n",
    "\n",
    "selected_infection_durations = [ 8.5,  8.7,  8.9,  9.1,  9.3,  9.5,  9.7,  9.9, 10.1]\n",
    "images = {i:np.zeros((len(exposure_durations), len(times_until_symtoms))) \\\n",
    "          for i in selected_infection_durations}\n",
    "\n",
    "\n",
    "results = results.set_index([\"e_mean\", \"t_mean\", \"i_mean\", \"e_std\", \"t_std\", \"i_std\"])\n",
    "for infection_duration in selected_infection_durations:\n",
    "    for i, e in enumerate(exposure_durations):\n",
    "        for j, t in enumerate(times_until_symtoms):\n",
    "            images[infection_duration][i, j] = \\\n",
    "                results.loc[e, t, infection_duration, best_e_std, best_t_std, best_i_std][\"diff\"]\n",
    "results = results.reset_index()"
   ]
  },
  {
   "cell_type": "code",
   "execution_count": 8,
   "id": "above-frontier",
   "metadata": {},
   "outputs": [
    {
     "data": {
      "text/plain": [
       "8.279124833476608"
      ]
     },
     "execution_count": 8,
     "metadata": {},
     "output_type": "execute_result"
    }
   ],
   "source": [
    "results[\"diff\"].max()"
   ]
  },
  {
   "cell_type": "code",
   "execution_count": 9,
   "id": "assured-brain",
   "metadata": {},
   "outputs": [
    {
     "data": {
      "text/plain": [
       "0.2031488097306147"
      ]
     },
     "execution_count": 9,
     "metadata": {},
     "output_type": "execute_result"
    }
   ],
   "source": [
    "results[\"diff\"].min()"
   ]
  },
  {
   "cell_type": "code",
   "execution_count": 10,
   "id": "contemporary-phrase",
   "metadata": {},
   "outputs": [
    {
     "data": {
      "image/png": "[encoded data removed]",
      "text/plain": [
       "<Figure size 576x864 with 9 Axes>"
      ]
     },
     "metadata": {
      "needs_background": "light"
     },
     "output_type": "display_data"
    }
   ],
   "source": [
    "fig, axes = plt.subplots(3, 3, figsize=(8, 12))\n",
    "for ax, infection_duration in zip(axes.flatten(), selected_infection_durations):\n",
    "    ax.imshow(images[infection_duration], vmin=0, vmax=3)\n",
    "    ax.set_yticks(range(len(exposure_durations)))\n",
    "    ax.set_yticklabels(exposure_durations, fontsize=8)\n",
    "    ax.set_xticks(range(len(times_until_symtoms)))\n",
    "    ax.set_xticklabels(times_until_symtoms, fontsize=8)\n",
    "    ax.set_xlabel(\"time until symptoms\")\n",
    "    ax.set_ylabel(\"exposure duration\")\n",
    "    ax.set_title(f\"infection duration: {infection_duration}\")\n",
    "fig.tight_layout()"
   ]
  },
  {
   "cell_type": "markdown",
   "id": "prostate-connectivity",
   "metadata": {},
   "source": [
    "### Fine grid search"
   ]
  },
  {
   "cell_type": "code",
   "execution_count": 77,
   "id": "elementary-filename",
   "metadata": {},
   "outputs": [],
   "source": [
    "fname = \"calibration_epidemiological_parameters_results_coarse_wt.csv.xz\"\n",
    "results = pd.read_csv(join(dst, fname), compression=\"xz\")\n",
    "\n",
    "round_cols = [\"e_mean\", \"e_std\", \"t_mean\", \"t_std\", \"i_mean\", \"i_std\"]\n",
    "for col in round_cols:\n",
    "    results[col] = results[col].apply(lambda x: round(x, 2))"
   ]
  },
  {
   "cell_type": "code",
   "execution_count": 78,
   "id": "textile-lucas",
   "metadata": {},
   "outputs": [
    {
     "name": "stdout",
     "output_type": "stream",
     "text": [
      "best e: [(6.9, 2.5)]\n",
      "best t: [(6.2, 1.2)]\n",
      "best i: [(8.9, 4.5)]\n"
     ]
    }
   ],
   "source": [
    "idx_best = results[\"diff\"].idxmin()\n",
    "best_e_mean = results.loc[idx_best, \"e_mean\"]\n",
    "best_e_std = results.loc[idx_best, \"e_std\"]\n",
    "best_t_mean = results.loc[idx_best, \"t_mean\"]\n",
    "best_t_std = results.loc[idx_best, \"t_std\"]\n",
    "best_i_mean = results.loc[idx_best, \"i_mean\"]\n",
    "best_i_std = results.loc[idx_best, \"i_std\"]\n",
    "\n",
    "print(f\"best e: [{best_e_mean, best_e_std}]\")\n",
    "print(f\"best t: [{best_t_mean, best_t_std}]\")\n",
    "print(f\"best i: [{best_i_mean, best_i_std}]\")"
   ]
  },
  {
   "cell_type": "code",
   "execution_count": 13,
   "id": "unknown-diameter",
   "metadata": {},
   "outputs": [
    {
     "name": "stdout",
     "output_type": "stream",
     "text": [
      "426888 parameter combinations\n"
     ]
    }
   ],
   "source": [
    "N = 10000\n",
    "step = 0.05\n",
    "window = 0.25\n",
    "exposure_durations = np.arange(best_e_mean - window, best_e_mean + window + step, step)\n",
    "times_until_symtoms = np.arange(best_t_mean - window, best_t_mean + window + step, step)\n",
    "infection_durations = np.arange(best_i_mean - window, best_i_mean + window + step, step)\n",
    "\n",
    "step = 0.1\n",
    "exposure_duration_stds = np.arange(best_e_std - window, best_e_std + window + step, step)\n",
    "times_until_symtoms_stds = np.arange(best_t_std - window, best_t_std + window + step, step)\n",
    "infection_durations_stds = np.arange(best_i_std - window, best_i_std + window + step, step)\n",
    "\n",
    "param_combinations = [(N, e, t, i, e_std, t_std, i_std) \\\n",
    "                                for e in exposure_durations \\\n",
    "                                for t in times_until_symtoms \\\n",
    "                                for i in infection_durations \\\n",
    "                                for e_std in exposure_duration_stds \\\n",
    "                                for t_std in times_until_symtoms_stds \\\n",
    "                                for i_std in infection_durations_stds]\n",
    "print(f\"{len(param_combinations)} parameter combinations\")"
   ]
  },
  {
   "cell_type": "code",
   "execution_count": 8,
   "id": "lesser-symposium",
   "metadata": {},
   "outputs": [
    {
     "name": "stderr",
     "output_type": "stream",
     "text": [
      "100%|████████████████████████████████████████████████████████████████████████████████████████████████████████████████████████████| 426888/426888 [51:52<00:00, 137.15it/s]\n"
     ]
    }
   ],
   "source": [
    "results_fine = pd.DataFrame()\n",
    "\n",
    "pool = Pool(250)\n",
    "for row in tqdm(\n",
    "        pool.imap_unordered(\n",
    "            func=get_true_epi_params, \n",
    "            iterable=param_combinations),\n",
    "            total=len(param_combinations)\n",
    "    ):\n",
    "    results_fine = results_fine.append(row, ignore_index=True)\n",
    "pool.close()\n",
    "\n",
    "results_fine[\"e_mean_diff\"] = results_fine[\"true_e_mean\"]\\\n",
    "    .apply(lambda x: (x - expected_epi_params[\"exposure_duration\"][\"mean\"]) ** 2)\n",
    "results_fine[\"e_std_diff\"] = results_fine[\"true_e_std\"]\\\n",
    "    .apply(lambda x: (x - expected_epi_params[\"exposure_duration\"][\"std\"]) ** 2)\n",
    "results_fine[\"t_mean_diff\"] = results_fine[\"true_t_mean\"]\\\n",
    "    .apply(lambda x: (x - expected_epi_params[\"time_until_symptoms\"][\"mean\"]) ** 2)\n",
    "results_fine[\"t_std_diff\"] = results_fine[\"true_t_std\"]\\\n",
    "    .apply(lambda x: (x - expected_epi_params[\"time_until_symptoms\"][\"std\"]) ** 2)\n",
    "results_fine[\"i_mean_diff\"] = results_fine[\"true_i_mean\"]\\\n",
    "    .apply(lambda x: (x - expected_epi_params[\"infection_duration\"][\"mean\"]) ** 2)\n",
    "results_fine[\"i_std_diff\"] = results_fine[\"true_i_std\"]\\\n",
    "    .apply(lambda x: (x - expected_epi_params[\"infection_duration\"][\"std\"]) ** 2)\n",
    "\n",
    "results_fine[\"mean_diff\"] = results_fine[\"e_mean_diff\"] + results_fine[\"t_mean_diff\"] + results_fine[\"i_mean_diff\"]\n",
    "results_fine[\"std_diff\"] = results_fine[\"e_std_diff\"] + results_fine[\"t_std_diff\"] + results_fine[\"i_std_diff\"]\n",
    "results_fine[\"diff\"] = results_fine[\"mean_diff\"] + results_fine[\"std_diff\"]\n",
    "\n",
    "fname = \"calibration_epidemiological_parameters_results_fine_wt.csv.xz\"\n",
    "results_fine.to_csv(join(dst, fname), index=False)"
   ]
  },
  {
   "cell_type": "code",
   "execution_count": 81,
   "id": "settled-recognition",
   "metadata": {},
   "outputs": [],
   "source": [
    "fname = \"calibration_epidemiological_parameters_results_fine_wt.csv.xz\"\n",
    "results_fine = pd.read_csv(join(dst, fname), compression=\"xz\")\n",
    "\n",
    "round_cols = [\"e_mean\", \"e_std\", \"t_mean\", \"t_std\", \"i_mean\", \"i_std\"]\n",
    "for col in round_cols:\n",
    "    results_fine[col] = results_fine[col].apply(lambda x: round(x, 2))"
   ]
  },
  {
   "cell_type": "code",
   "execution_count": 82,
   "id": "adaptive-mailman",
   "metadata": {},
   "outputs": [
    {
     "name": "stdout",
     "output_type": "stream",
     "text": [
      "best e: [(6.8, 2.75)]\n",
      "best t: [(6.3, 0.95)]\n",
      "best i: [(8.65, 4.75)]\n",
      "\n",
      "true e: [(4.8525, 1.559212541637605)]\n",
      "true t: [(6.476, 0.90951855396138)]\n",
      "true i: [(10.9887, 3.868691291638556)]\n"
     ]
    }
   ],
   "source": [
    "idx_best_fine = results_fine[\"diff\"].idxmin()\n",
    "best_e_mean_fine = results_fine.loc[idx_best, \"e_mean\"]\n",
    "best_e_std_fine = results_fine.loc[idx_best_fine, \"e_std\"]\n",
    "best_t_mean_fine = results_fine.loc[idx_best_fine, \"t_mean\"]\n",
    "best_t_std_fine = results_fine.loc[idx_best_fine, \"t_std\"]\n",
    "best_i_mean_fine = results_fine.loc[idx_best_fine, \"i_mean\"]\n",
    "best_i_std_fine = results_fine.loc[idx_best_fine, \"i_std\"]\n",
    "\n",
    "true_e_mean_fine = results_fine.loc[idx_best_fine, \"true_e_mean\"]\n",
    "true_e_std_fine = results_fine.loc[idx_best_fine, \"true_e_std\"]\n",
    "true_t_mean_fine = results_fine.loc[idx_best_fine, \"true_t_mean\"]\n",
    "true_t_std_fine = results_fine.loc[idx_best_fine, \"true_t_std\"]\n",
    "true_i_mean_fine = results_fine.loc[idx_best_fine, \"true_i_mean\"]\n",
    "true_i_std_fine = results_fine.loc[idx_best_fine, \"true_i_std\"]\n",
    "\n",
    "print(f\"best e: [{best_e_mean_fine, best_e_std_fine}]\")\n",
    "print(f\"best t: [{best_t_mean_fine, best_t_std_fine}]\")\n",
    "print(f\"best i: [{best_i_mean_fine, best_i_std_fine}]\")\n",
    "print()\n",
    "print(f\"true e: [{true_e_mean_fine, true_e_std_fine}]\")\n",
    "print(f\"true t: [{true_t_mean_fine, true_t_std_fine}]\")\n",
    "print(f\"true i: [{true_i_mean_fine, true_i_std_fine}]\")"
   ]
  },
  {
   "cell_type": "code",
   "execution_count": 17,
   "id": "applied-nightlife",
   "metadata": {},
   "outputs": [
    {
     "name": "stdout",
     "output_type": "stream",
     "text": [
      "e: shape: 2.662794506920476, scale: 7.6501507255486025\n",
      "t: shape: 7.862375357983137, scale: 6.695392007737956\n",
      "i: shape: 1.8935596294478323, scale: 9.746904881250568\n"
     ]
    }
   ],
   "source": [
    "for param_name, param, param_std in zip([\"e\", \"t\", \"i\"], \\\n",
    "                [best_e_mean_fine, best_t_mean_fine, best_i_mean_fine],\\\n",
    "                [best_e_std_fine, best_t_std_fine, best_i_std_fine]):\n",
    "    mu = param\n",
    "    var = param_std**2\n",
    "    shape = root_scalar(get_weibull_shape, args=(mu, var),\n",
    "                method='toms748', bracket=[0.2, 500]).root\n",
    "    scale = get_weibull_scale(mu, shape)\n",
    "\n",
    "    print(f\"{param_name}: shape: {shape}, scale: {scale}\")"
   ]
  },
  {
   "cell_type": "code",
   "execution_count": 18,
   "id": "suffering-wrist",
   "metadata": {},
   "outputs": [],
   "source": [
    "exposure_durations = [round(e, 2) for e in exposure_durations]\n",
    "times_until_symtoms = [round(t, 2) for t in times_until_symtoms]\n",
    "\n",
    "selected_infection_durations = [round(i, 2) for i in infection_durations]\n",
    "images = {i:np.zeros((len(exposure_durations), len(times_until_symtoms))) \\\n",
    "          for i in selected_infection_durations}\n",
    "\n",
    "\n",
    "results_fine = results_fine.set_index([\"e_mean\", \"t_mean\", \"i_mean\", \"e_std\", \"t_std\", \"i_std\"])\n",
    "for infection_duration in selected_infection_durations:\n",
    "    for i, e in enumerate(exposure_durations):\n",
    "        for j, t in enumerate(times_until_symtoms):\n",
    "            images[infection_duration][i, j] = \\\n",
    "                results_fine.loc[e, t, infection_duration, best_e_std_fine, best_t_std_fine, best_i_std_fine][\"diff\"]\n",
    "results_fine = results_fine.reset_index()"
   ]
  },
  {
   "cell_type": "code",
   "execution_count": 19,
   "id": "sufficient-consumption",
   "metadata": {},
   "outputs": [
    {
     "data": {
      "text/plain": [
       "1.4394534184114165"
      ]
     },
     "execution_count": 19,
     "metadata": {},
     "output_type": "execute_result"
    }
   ],
   "source": [
    "results_fine[\"diff\"].max()"
   ]
  },
  {
   "cell_type": "code",
   "execution_count": 20,
   "id": "extraordinary-alarm",
   "metadata": {},
   "outputs": [
    {
     "data": {
      "text/plain": [
       "0.1684674514942989"
      ]
     },
     "execution_count": 20,
     "metadata": {},
     "output_type": "execute_result"
    }
   ],
   "source": [
    "results_fine[\"diff\"].min()"
   ]
  },
  {
   "cell_type": "code",
   "execution_count": 21,
   "id": "recorded-ontario",
   "metadata": {},
   "outputs": [
    {
     "data": {
      "image/png": "[encoded data removed]",
      "text/plain": [
       "<Figure size 576x864 with 12 Axes>"
      ]
     },
     "metadata": {
      "needs_background": "light"
     },
     "output_type": "display_data"
    }
   ],
   "source": [
    "fig, axes = plt.subplots(4, 3, figsize=(8, 12))\n",
    "for ax, infection_duration in zip(axes.flatten(), selected_infection_durations):\n",
    "    ax.imshow(images[infection_duration], vmin=0.15, vmax=0.5)\n",
    "    ax.set_yticks(range(len(exposure_durations)))\n",
    "    ax.set_yticklabels(exposure_durations, fontsize=8)\n",
    "    ax.set_xticks(range(len(times_until_symtoms)))\n",
    "    ax.set_xticklabels(times_until_symtoms, fontsize=8)\n",
    "    ax.set_xlabel(\"time until symptoms\")\n",
    "    ax.set_ylabel(\"exposure duration\")\n",
    "    ax.set_title(f\"infection duration: {infection_duration}\")\n",
    "fig.tight_layout()"
   ]
  },
  {
   "cell_type": "markdown",
   "id": "insured-robert",
   "metadata": {},
   "source": [
    "### Epi parameter distribution plot"
   ]
  },
  {
   "cell_type": "code",
   "execution_count": 22,
   "id": "coated-upset",
   "metadata": {},
   "outputs": [],
   "source": [
    "curr_epi_params = {\n",
    "        \"exposure_duration\":{\"mean\":best_e_mean_fine, \"std\":best_e_std_fine},\n",
    "        \"time_until_symptoms\":{\"mean\":best_t_mean_fine, \"std\":best_t_std_fine},\n",
    "        \"infection_duration\":{\"mean\":best_i_mean_fine, \"std\":best_i_std_fine}\n",
    "    }\n",
    "for param_name in curr_epi_params.keys():\n",
    "    mu = curr_epi_params[param_name][\"mean\"]\n",
    "    var = curr_epi_params[param_name][\"std\"]**2\n",
    "    shape = root_scalar(get_weibull_shape, args=(mu, var),\n",
    "                method='toms748', bracket=[0.2, 500]).root\n",
    "    scale = get_weibull_scale(mu, shape)\n",
    "    curr_epi_params[param_name][\"shape\"] = shape\n",
    "    curr_epi_params[param_name][\"scale\"] = scale\n",
    "\n",
    "exposure_duration = []\n",
    "time_until_symptoms = []\n",
    "infection_duration = []\n",
    "for i in range(10000):\n",
    "    tmp_epi_params = {}\n",
    "    while True:\n",
    "        for param_name in curr_epi_params.keys():\n",
    "            tmp_epi_params[param_name] = \\\n",
    "                round(weibull_two_param(curr_epi_params[param_name][\"shape\"],\n",
    "                                        curr_epi_params[param_name][\"scale\"]))\n",
    "\n",
    "        if (tmp_epi_params['exposure_duration'] >= 1) and \\\n",
    "           (tmp_epi_params['time_until_symptoms'] >= \\\n",
    "           tmp_epi_params['exposure_duration']) and\\\n",
    "           (tmp_epi_params['infection_duration'] >= \\\n",
    "           tmp_epi_params['time_until_symptoms']):\n",
    "           break\n",
    "\n",
    "    exposure_duration.append(tmp_epi_params['exposure_duration'])\n",
    "    time_until_symptoms.append(tmp_epi_params['time_until_symptoms'])\n",
    "    infection_duration.append(tmp_epi_params['infection_duration'])\n",
    "\n",
    "exposure_duration = np.asarray(exposure_duration)\n",
    "time_until_symptoms = np.asarray(time_until_symptoms)\n",
    "infection_duration = np.asarray(infection_duration)"
   ]
  },
  {
   "cell_type": "code",
   "execution_count": 23,
   "id": "corresponding-client",
   "metadata": {},
   "outputs": [
    {
     "data": {
      "text/plain": [
       "Text(0.7162, 0.9, 'C')"
      ]
     },
     "execution_count": 23,
     "metadata": {},
     "output_type": "execute_result"
    },
    {
     "data": {
      "image/png": "[encoded data removed]",
      "text/plain": [
       "<Figure size 792x216 with 3 Axes>"
      ]
     },
     "metadata": {
      "needs_background": "light"
     },
     "output_type": "display_data"
    }
   ],
   "source": [
    "fig, axes = plt.subplots(1, 3, figsize=(11, 3))\n",
    "fig.subplots_adjust(wspace=0.3)\n",
    "max_bins = [11, 11, 26]\n",
    "steps = [1, 1, 2]\n",
    "colors = ['#2471A3', '#C0392B', '#909497']\n",
    "xticks = [range(0, 11, 2), range(0, 11, 2), range(0, 26, 5)]\n",
    "labels = ['exposure duration\\n', 'incubation time\\n', 'infection duration\\n']\n",
    "ymaxes = [0.25, 0.5, 0.12]\n",
    "\n",
    "for ax, max_bin, step, color, xtick, label, ymax, param in zip(axes, max_bins, steps, colors,\\\n",
    "    xticks, labels, ymaxes, [exposure_duration, time_until_symptoms, infection_duration]):\n",
    "    ax.hist(param, bins=range(0, max_bin, step), rwidth=0.8, color=color,\n",
    "            density=True, align='left')\n",
    "    ax.set_xticks(xtick)\n",
    "    ax.spines['right'].set_visible(False)\n",
    "    ax.spines['top'].set_visible(False)\n",
    "    ax.set_title(label)\n",
    "    ax.set_ylabel('pdf')\n",
    "    ax.set_xlabel('days')\n",
    "    ax.set_ylim(0, ymax)\n",
    "\n",
    "fig.tight_layout()\n",
    "fig.text(0.062, 0.9, 'A', fontsize=12, fontweight='bold')\n",
    "fig.text(0.39, 0.9, 'B', fontsize=12, fontweight='bold')\n",
    "fig.text(0.7162, 0.9, 'C', fontsize=12, fontweight='bold')"
   ]
  },
  {
   "cell_type": "markdown",
   "id": "recognized-produce",
   "metadata": {},
   "source": [
    "## Omicron"
   ]
  },
  {
   "cell_type": "code",
   "execution_count": 83,
   "id": "crude-airline",
   "metadata": {},
   "outputs": [],
   "source": [
    "expected_epi_params = {\n",
    "    \"exposure_duration\":{\"mean\":2, \"std\":1.9},\n",
    "    \"time_until_symptoms\":{\"mean\":3, \"std\":1.9},\n",
    "    \"infection_duration\":{\"mean\":10.91, \"std\":3.95}\n",
    "}"
   ]
  },
  {
   "cell_type": "markdown",
   "id": "tropical-talent",
   "metadata": {},
   "source": [
    "### Coarse grid search"
   ]
  },
  {
   "cell_type": "code",
   "execution_count": 84,
   "id": "continued-honor",
   "metadata": {},
   "outputs": [
    {
     "name": "stdout",
     "output_type": "stream",
     "text": [
      "154000 parameter combinations\n"
     ]
    }
   ],
   "source": [
    "N = 1000\n",
    "step = 0.2\n",
    "exposure_durations = np.arange(1.4, 4 + step, step)\n",
    "times_until_symtoms = np.arange(1, 3 + step, step)\n",
    "infection_durations = np.arange(10, 11.4 + step, step)\n",
    "\n",
    "step = 0.25\n",
    "exposure_duration_stds = np.arange(2.0, 3.0 + step, step)\n",
    "times_until_symtoms_stds = np.arange(1.5, 2.4 + step, step)\n",
    "infection_durations_stds = np.arange(3, 5 + step * 2, step * 2)\n",
    "\n",
    "param_combinations = [(N, e, t, i, e_std, t_std, i_std) \\\n",
    "                                for e in exposure_durations \\\n",
    "                                for t in times_until_symtoms \\\n",
    "                                for i in infection_durations \\\n",
    "                                for e_std in exposure_duration_stds \\\n",
    "                                for t_std in times_until_symtoms_stds \\\n",
    "                                for i_std in infection_durations_stds]\n",
    "print(f\"{len(param_combinations)} parameter combinations\")"
   ]
  },
  {
   "cell_type": "code",
   "execution_count": 51,
   "id": "communist-general",
   "metadata": {},
   "outputs": [
    {
     "name": "stderr",
     "output_type": "stream",
     "text": [
      "100%|████████████████████████████████████████████████████████████████████████████████████████████████████████████████████████████| 154000/154000 [11:12<00:00, 228.98it/s]\n"
     ]
    }
   ],
   "source": [
    "results = pd.DataFrame()\n",
    "\n",
    "pool = Pool(200)\n",
    "for row in tqdm(\n",
    "        pool.imap_unordered(\n",
    "            func=get_true_epi_params, \n",
    "            iterable=param_combinations),\n",
    "            total=len(param_combinations)\n",
    "    ):\n",
    "    results = results.append(row, ignore_index=True)\n",
    "pool.close()\n",
    "\n",
    "results[\"e_mean_diff\"] = results[\"true_e_mean\"]\\\n",
    "    .apply(lambda x: (x - expected_epi_params[\"exposure_duration\"][\"mean\"]) ** 2)\n",
    "results[\"e_std_diff\"] = results[\"true_e_std\"]\\\n",
    "    .apply(lambda x: (x - expected_epi_params[\"exposure_duration\"][\"std\"]) ** 2)\n",
    "results[\"t_mean_diff\"] = results[\"true_t_mean\"]\\\n",
    "    .apply(lambda x: (x - expected_epi_params[\"time_until_symptoms\"][\"mean\"]) ** 2)\n",
    "results[\"t_std_diff\"] = results[\"true_t_std\"]\\\n",
    "    .apply(lambda x: (x - expected_epi_params[\"time_until_symptoms\"][\"std\"]) ** 2)\n",
    "results[\"i_mean_diff\"] = results[\"true_i_mean\"]\\\n",
    "    .apply(lambda x: (x - expected_epi_params[\"infection_duration\"][\"mean\"]) ** 2)\n",
    "results[\"i_std_diff\"] = results[\"true_i_std\"]\\\n",
    "    .apply(lambda x: (x - expected_epi_params[\"infection_duration\"][\"std\"]) ** 2)\n",
    "\n",
    "results[\"mean_diff\"] = results[\"e_mean_diff\"] + results[\"t_mean_diff\"] + results[\"i_mean_diff\"]\n",
    "results[\"std_diff\"] = results[\"e_std_diff\"] + results[\"t_std_diff\"] + results[\"i_std_diff\"]\n",
    "results[\"diff\"] = results[\"mean_diff\"] + results[\"std_diff\"]\n",
    "\n",
    "fname = \"calibration_epidemiological_parameters_results_coarse.csv.xz\"\n",
    "results.to_csv(join(dst, fname), index=False)"
   ]
  },
  {
   "cell_type": "code",
   "execution_count": 88,
   "id": "blond-microphone",
   "metadata": {},
   "outputs": [],
   "source": [
    "fname = \"calibration_epidemiological_parameters_results_coarse.csv.xz\"\n",
    "results = pd.read_csv(join(dst, fname), compression=\"xz\")\n",
    "round_cols = [\"e_mean\", \"e_std\", \"t_mean\", \"t_std\", \"i_mean\", \"i_std\"]\n",
    "for col in round_cols:\n",
    "    results[col] = results[col].apply(lambda x: round(x, 2))"
   ]
  },
  {
   "cell_type": "code",
   "execution_count": 89,
   "id": "steady-fantasy",
   "metadata": {},
   "outputs": [
    {
     "name": "stdout",
     "output_type": "stream",
     "text": [
      "best e: [(3.6, 3.0)]\n",
      "best t: [(1.8, 2.0)]\n",
      "best i: [(10.8, 4.0)]\n"
     ]
    }
   ],
   "source": [
    "idx_best = results[\"diff\"].idxmin()\n",
    "best_e_mean = results.loc[idx_best, \"e_mean\"]\n",
    "best_e_std = results.loc[idx_best, \"e_std\"]\n",
    "best_t_mean = results.loc[idx_best, \"t_mean\"]\n",
    "best_t_std = results.loc[idx_best, \"t_std\"]\n",
    "best_i_mean = results.loc[idx_best, \"i_mean\"]\n",
    "best_i_std = results.loc[idx_best, \"i_std\"]\n",
    "\n",
    "print(f\"best e: [{best_e_mean, best_e_std}]\")\n",
    "print(f\"best t: [{best_t_mean, best_t_std}]\")\n",
    "print(f\"best i: [{best_i_mean, best_i_std}]\")"
   ]
  },
  {
   "cell_type": "code",
   "execution_count": 28,
   "id": "united-quebec",
   "metadata": {},
   "outputs": [],
   "source": [
    "exposure_durations = [round(e, 2) for e in exposure_durations]\n",
    "times_until_symtoms = [round(t, 2) for t in times_until_symtoms]\n",
    "\n",
    "selected_infection_durations = [round(i, 2) for i in infection_durations]\n",
    "images = {i:np.zeros((len(exposure_durations), len(times_until_symtoms))) \\\n",
    "          for i in selected_infection_durations}\n",
    "\n",
    "\n",
    "results = results.set_index([\"e_mean\", \"t_mean\", \"i_mean\", \"e_std\", \"t_std\", \"i_std\"])\n",
    "for infection_duration in selected_infection_durations:\n",
    "    for i, e in enumerate(exposure_durations):\n",
    "        for j, t in enumerate(times_until_symtoms):\n",
    "            images[infection_duration][i, j] = \\\n",
    "                results.loc[e, t, infection_duration, best_e_std, best_t_std, best_i_std][\"diff\"]\n",
    "results = results.reset_index()"
   ]
  },
  {
   "cell_type": "code",
   "execution_count": 29,
   "id": "incomplete-favor",
   "metadata": {},
   "outputs": [
    {
     "data": {
      "text/plain": [
       "5.852104715496047"
      ]
     },
     "execution_count": 29,
     "metadata": {},
     "output_type": "execute_result"
    }
   ],
   "source": [
    "results[\"diff\"].max()"
   ]
  },
  {
   "cell_type": "code",
   "execution_count": 30,
   "id": "previous-thing",
   "metadata": {},
   "outputs": [
    {
     "data": {
      "text/plain": [
       "0.1684674514942989"
      ]
     },
     "execution_count": 30,
     "metadata": {},
     "output_type": "execute_result"
    }
   ],
   "source": [
    "results_fine[\"diff\"].min()"
   ]
  },
  {
   "cell_type": "code",
   "execution_count": 31,
   "id": "absent-morrison",
   "metadata": {},
   "outputs": [
    {
     "data": {
      "image/png": "[encoded data removed]",
      "text/plain": [
       "<Figure size 576x864 with 9 Axes>"
      ]
     },
     "metadata": {
      "needs_background": "light"
     },
     "output_type": "display_data"
    }
   ],
   "source": [
    "fig, axes = plt.subplots(3, 3, figsize=(8, 12))\n",
    "for ax, infection_duration in zip(axes.flatten(), selected_infection_durations):\n",
    "    ax.imshow(images[infection_duration], vmin=0.15, vmax=3)\n",
    "    ax.set_yticks(range(len(exposure_durations)))\n",
    "    ax.set_yticklabels(exposure_durations, fontsize=8)\n",
    "    ax.set_xticks(range(len(times_until_symtoms)))\n",
    "    ax.set_xticklabels(times_until_symtoms, fontsize=8)\n",
    "    ax.set_xlabel(\"time until symptoms\")\n",
    "    ax.set_ylabel(\"exposure duration\")\n",
    "    ax.set_title(f\"infection duration: {infection_duration}\")\n",
    "fig.tight_layout()"
   ]
  },
  {
   "cell_type": "code",
   "execution_count": 32,
   "id": "grateful-berry",
   "metadata": {},
   "outputs": [
    {
     "name": "stdout",
     "output_type": "stream",
     "text": [
      "best e: [(3.6, 3.0)]\n",
      "best t: [(1.8, 2.0)]\n",
      "best i: [(10.8, 4.0)]\n"
     ]
    }
   ],
   "source": [
    "idx_best = results[\"diff\"].idxmin()\n",
    "best_e_mean = results.loc[idx_best, \"e_mean\"]\n",
    "best_e_std = results.loc[idx_best, \"e_std\"]\n",
    "best_t_mean = results.loc[idx_best, \"t_mean\"]\n",
    "best_t_std = results.loc[idx_best, \"t_std\"]\n",
    "best_i_mean = results.loc[idx_best, \"i_mean\"]\n",
    "best_i_std = results.loc[idx_best, \"i_std\"]\n",
    "\n",
    "print(f\"best e: [{best_e_mean, best_e_std}]\")\n",
    "print(f\"best t: [{best_t_mean, best_t_std}]\")\n",
    "print(f\"best i: [{best_i_mean, best_i_std}]\")"
   ]
  },
  {
   "cell_type": "markdown",
   "id": "chinese-frame",
   "metadata": {},
   "source": [
    "### Fine grid search"
   ]
  },
  {
   "cell_type": "code",
   "execution_count": 92,
   "id": "thirty-psychiatry",
   "metadata": {},
   "outputs": [],
   "source": [
    "fname = \"calibration_epidemiological_parameters_results_coarse.csv.xz\"\n",
    "results = pd.read_csv(join(dst, fname), compression=\"xz\")\n",
    "\n",
    "round_cols = [\"e_mean\", \"e_std\", \"t_mean\", \"t_std\", \"i_mean\", \"i_std\"]\n",
    "for col in round_cols:\n",
    "    results[col] = results[col].apply(lambda x: round(x, 2))"
   ]
  },
  {
   "cell_type": "code",
   "execution_count": 93,
   "id": "hungry-mixture",
   "metadata": {},
   "outputs": [
    {
     "name": "stdout",
     "output_type": "stream",
     "text": [
      "best e: [(3.6, 3.0)]\n",
      "best t: [(1.8, 2.0)]\n",
      "best i: [(10.8, 4.0)]\n"
     ]
    }
   ],
   "source": [
    "idx_best = results[\"diff\"].idxmin()\n",
    "best_e_mean = results.loc[idx_best, \"e_mean\"]\n",
    "best_e_std = results.loc[idx_best, \"e_std\"]\n",
    "best_t_mean = results.loc[idx_best, \"t_mean\"]\n",
    "best_t_std = results.loc[idx_best, \"t_std\"]\n",
    "best_i_mean = results.loc[idx_best, \"i_mean\"]\n",
    "best_i_std = results.loc[idx_best, \"i_std\"]\n",
    "\n",
    "print(f\"best e: [{best_e_mean, best_e_std}]\")\n",
    "print(f\"best t: [{best_t_mean, best_t_std}]\")\n",
    "print(f\"best i: [{best_i_mean, best_i_std}]\")"
   ]
  },
  {
   "cell_type": "code",
   "execution_count": 94,
   "id": "taken-seven",
   "metadata": {},
   "outputs": [
    {
     "name": "stdout",
     "output_type": "stream",
     "text": [
      "184338 parameter combinations\n"
     ]
    }
   ],
   "source": [
    "N = 10000\n",
    "step = 0.05\n",
    "window = 0.25\n",
    "exposure_durations = np.arange(best_e_mean_fine - 0.1, best_e_mean_fine + window * 3 + step * 2, step)\n",
    "times_until_symtoms = np.arange(best_t_mean_fine - window, best_t_mean_fine + window + step, step)\n",
    "infection_durations = np.arange(best_i_mean_fine + step, best_i_mean_fine + window + step, step * 2)\n",
    "\n",
    "step = 0.1\n",
    "exposure_duration_stds = np.arange(best_e_std_fine - window, best_e_std_fine + window + step, step)\n",
    "times_until_symtoms_stds = np.arange(best_t_std_fine - window, best_t_std_fine + window + step, step)\n",
    "infection_durations_stds = np.arange(best_i_std_fine - window, best_i_std_fine + window + step, step)\n",
    "\n",
    "param_combinations = [(N, e, t, i, e_std, t_std, i_std) \\\n",
    "                                for e in exposure_durations \\\n",
    "                                for t in times_until_symtoms \\\n",
    "                                for i in infection_durations \\\n",
    "                                for e_std in exposure_duration_stds \\\n",
    "                                for t_std in times_until_symtoms_stds \\\n",
    "                                for i_std in infection_durations_stds]\n",
    "print(f\"{len(param_combinations)} parameter combinations\")"
   ]
  },
  {
   "cell_type": "code",
   "execution_count": 116,
   "id": "gorgeous-basis",
   "metadata": {},
   "outputs": [
    {
     "name": "stderr",
     "output_type": "stream",
     "text": [
      "100%|██████████████████████████████████████████████████████████████████████████████████████████████| 184338/184338 [21:49<00:00, 140.75it/s]\n"
     ]
    }
   ],
   "source": [
    "results_fine = pd.DataFrame()\n",
    "\n",
    "pool = Pool(200)\n",
    "for row in tqdm(\n",
    "        pool.imap_unordered(\n",
    "            func=get_true_epi_params, \n",
    "            iterable=param_combinations),\n",
    "            total=len(param_combinations)\n",
    "    ):\n",
    "    results_fine = results_fine.append(row, ignore_index=True)\n",
    "pool.close()\n",
    "\n",
    "results_fine[\"e_mean_diff\"] = results_fine[\"true_e_mean\"]\\\n",
    "    .apply(lambda x: (x - expected_epi_params[\"exposure_duration\"][\"mean\"]) ** 2)\n",
    "results_fine[\"e_std_diff\"] = results_fine[\"true_e_std\"]\\\n",
    "    .apply(lambda x: (x - expected_epi_params[\"exposure_duration\"][\"std\"]) ** 2)\n",
    "results_fine[\"t_mean_diff\"] = results_fine[\"true_t_mean\"]\\\n",
    "    .apply(lambda x: (x - expected_epi_params[\"time_until_symptoms\"][\"mean\"]) ** 2)\n",
    "results_fine[\"t_std_diff\"] = results_fine[\"true_t_std\"]\\\n",
    "    .apply(lambda x: (x - expected_epi_params[\"time_until_symptoms\"][\"std\"]) ** 2)\n",
    "results_fine[\"i_mean_diff\"] = results_fine[\"true_i_mean\"]\\\n",
    "    .apply(lambda x: (x - expected_epi_params[\"infection_duration\"][\"mean\"]) ** 2)\n",
    "results_fine[\"i_std_diff\"] = results_fine[\"true_i_std\"]\\\n",
    "    .apply(lambda x: (x - expected_epi_params[\"infection_duration\"][\"std\"]) ** 2)\n",
    "\n",
    "results_fine[\"mean_diff\"] = results_fine[\"e_mean_diff\"] + results_fine[\"t_mean_diff\"] + results_fine[\"i_mean_diff\"]\n",
    "results_fine[\"std_diff\"] = results_fine[\"e_std_diff\"] + results_fine[\"t_std_diff\"] + results_fine[\"i_std_diff\"]\n",
    "results_fine[\"diff\"] = results_fine[\"mean_diff\"] + results_fine[\"std_diff\"]\n",
    "\n",
    "fname = \"calibration_epidemiological_parameters_results_fine.csv.xz\"\n",
    "results_fine.to_csv(join(dst, fname), index=False)"
   ]
  },
  {
   "cell_type": "code",
   "execution_count": 97,
   "id": "internal-aging",
   "metadata": {},
   "outputs": [],
   "source": [
    "fname = \"calibration_epidemiological_parameters_results_fine.csv.xz\"\n",
    "results_fine = pd.read_csv(join(dst, fname), compression=\"xz\")\n",
    "\n",
    "round_cols = [\"e_mean\", \"e_std\", \"t_mean\", \"t_std\", \"i_mean\", \"i_std\"]\n",
    "for col in round_cols:\n",
    "    results_fine[col] = results_fine[col].apply(lambda x: round(x, 2))"
   ]
  },
  {
   "cell_type": "code",
   "execution_count": 98,
   "id": "eligible-conversation",
   "metadata": {},
   "outputs": [
    {
     "name": "stdout",
     "output_type": "stream",
     "text": [
      "best e: [(4.15, 3.05)]\n",
      "best t: [(1.6, 1.85)]\n",
      "best i: [(10.65, 4.05)]\n",
      "\n",
      "true e: [(1.9929, 1.32817528587156)]\n",
      "true t: [(3.1759, 2.0992758727713707)]\n",
      "true i: [(10.9401, 3.937475331986221)]\n"
     ]
    }
   ],
   "source": [
    "idx_best_fine = results_fine[\"diff\"].idxmin()\n",
    "best_e_mean_fine = results_fine.loc[idx_best_fine, \"e_mean\"]\n",
    "best_e_std_fine = results_fine.loc[idx_best_fine, \"e_std\"]\n",
    "best_t_mean_fine = results_fine.loc[idx_best_fine, \"t_mean\"]\n",
    "best_t_std_fine = results_fine.loc[idx_best_fine, \"t_std\"]\n",
    "best_i_mean_fine = results_fine.loc[idx_best_fine, \"i_mean\"]\n",
    "best_i_std_fine = results_fine.loc[idx_best_fine, \"i_std\"]\n",
    "\n",
    "true_e_mean_fine = results_fine.loc[idx_best_fine, \"true_e_mean\"]\n",
    "true_e_std_fine = results_fine.loc[idx_best_fine, \"true_e_std\"]\n",
    "true_t_mean_fine = results_fine.loc[idx_best_fine, \"true_t_mean\"]\n",
    "true_t_std_fine = results_fine.loc[idx_best_fine, \"true_t_std\"]\n",
    "true_i_mean_fine = results_fine.loc[idx_best_fine, \"true_i_mean\"]\n",
    "true_i_std_fine = results_fine.loc[idx_best_fine, \"true_i_std\"]\n",
    "\n",
    "print(f\"best e: [{best_e_mean_fine, best_e_std_fine}]\")\n",
    "print(f\"best t: [{best_t_mean_fine, best_t_std_fine}]\")\n",
    "print(f\"best i: [{best_i_mean_fine, best_i_std_fine}]\")\n",
    "print()\n",
    "print(f\"true e: [{true_e_mean_fine, true_e_std_fine}]\")\n",
    "print(f\"true t: [{true_t_mean_fine, true_t_std_fine}]\")\n",
    "print(f\"true i: [{true_i_mean_fine, true_i_std_fine}]\")"
   ]
  },
  {
   "cell_type": "code",
   "execution_count": 55,
   "id": "activated-bleeding",
   "metadata": {},
   "outputs": [
    {
     "name": "stdout",
     "output_type": "stream",
     "text": [
      "e: shape: 1.3771321157149656, scale: 4.54121146492959\n",
      "t: shape: 0.8676460015047511, scale: 1.4891944517243365\n",
      "i: shape: 2.85217321247462, scale: 11.951658643348956\n"
     ]
    }
   ],
   "source": [
    "for param_name, param, param_std in zip([\"e\", \"t\", \"i\"], \\\n",
    "                [best_e_mean_fine, best_t_mean_fine, best_i_mean_fine],\\\n",
    "                [best_e_std_fine, best_t_std_fine, best_i_std_fine]):\n",
    "    mu = param\n",
    "    var = param_std**2\n",
    "    shape = root_scalar(get_weibull_shape, args=(mu, var),\n",
    "                method='toms748', bracket=[0.2, 500]).root\n",
    "    scale = get_weibull_scale(mu, shape)\n",
    "\n",
    "    print(f\"{param_name}: shape: {shape}, scale: {scale}\")"
   ]
  },
  {
   "cell_type": "code",
   "execution_count": 56,
   "id": "ruled-function",
   "metadata": {},
   "outputs": [],
   "source": [
    "exposure_durations = [round(e, 2) for e in exposure_durations]\n",
    "times_until_symtoms = [round(t, 2) for t in times_until_symtoms]\n",
    "\n",
    "selected_infection_durations = [10.55, 10.65, 10.75, 10.85, 10.95, 11.05]\n",
    "images = {i:np.zeros((len(exposure_durations), len(times_until_symtoms))) \\\n",
    "          for i in selected_infection_durations}\n",
    "\n",
    "exposure_durations = results_fine[\"e_mean\"].unique()\n",
    "times_until_symptoms = results_fine[\"t_mean\"].unique()\n",
    "\n",
    "results_fine = results_fine.set_index([\"e_mean\", \"t_mean\", \"i_mean\", \"e_std\", \"t_std\", \"i_std\"])\n",
    "for infection_duration in selected_infection_durations:\n",
    "    for i, e in enumerate(exposure_durations):\n",
    "        for j, t in enumerate(times_until_symptoms):\n",
    "            images[infection_duration][i, j] = \\\n",
    "                results_fine.loc[e, t, infection_duration, best_e_std_fine, best_t_std_fine, best_i_std_fine][\"diff\"]\n",
    "results_fine = results_fine.reset_index()"
   ]
  },
  {
   "cell_type": "code",
   "execution_count": 57,
   "id": "bound-transfer",
   "metadata": {},
   "outputs": [
    {
     "data": {
      "text/plain": [
       "2.0652120534849514"
      ]
     },
     "execution_count": 57,
     "metadata": {},
     "output_type": "execute_result"
    }
   ],
   "source": [
    "results_fine[\"diff\"].max()"
   ]
  },
  {
   "cell_type": "code",
   "execution_count": 58,
   "id": "computational-theta",
   "metadata": {},
   "outputs": [
    {
     "data": {
      "text/plain": [
       "0.3987484744657188"
      ]
     },
     "execution_count": 58,
     "metadata": {},
     "output_type": "execute_result"
    }
   ],
   "source": [
    "results_fine[\"diff\"].min()"
   ]
  },
  {
   "cell_type": "code",
   "execution_count": 59,
   "id": "weighted-trust",
   "metadata": {},
   "outputs": [
    {
     "data": {
      "image/png": "[encoded data removed]",
      "text/plain": [
       "<Figure size 576x576 with 6 Axes>"
      ]
     },
     "metadata": {
      "needs_background": "light"
     },
     "output_type": "display_data"
    }
   ],
   "source": [
    "fig, axes = plt.subplots(2, 3, figsize=(8, 8))\n",
    "for ax, infection_duration in zip(axes.flatten(), selected_infection_durations):\n",
    "    ax.imshow(images[infection_duration], vmin=0.35, vmax=0.7)\n",
    "    ax.set_yticks(range(len(exposure_durations)))\n",
    "    ax.set_yticklabels(exposure_durations, fontsize=8)\n",
    "    ax.set_xticks(range(len(times_until_symtoms)))\n",
    "    ax.set_xticklabels(times_until_symtoms, fontsize=8)\n",
    "    ax.set_xlabel(\"time until symptoms\")\n",
    "    ax.set_ylabel(\"exposure duration\")\n",
    "    ax.set_title(f\"infection duration: {infection_duration}\")\n",
    "fig.tight_layout()"
   ]
  },
  {
   "cell_type": "markdown",
   "id": "homeless-optics",
   "metadata": {},
   "source": [
    "### Very fine grid search"
   ]
  },
  {
   "cell_type": "code",
   "execution_count": 99,
   "id": "funded-neutral",
   "metadata": {},
   "outputs": [],
   "source": [
    "fname = \"calibration_epidemiological_parameters_results_fine.csv.xz\"\n",
    "results_fine = pd.read_csv(join(dst, fname), compression=\"xz\")\n",
    "\n",
    "round_cols = [\"e_mean\", \"e_std\", \"t_mean\", \"t_std\", \"i_mean\", \"i_std\"]\n",
    "for col in round_cols:\n",
    "    results_fine[col] = results_fine[col].apply(lambda x: round(x, 2))"
   ]
  },
  {
   "cell_type": "code",
   "execution_count": 100,
   "id": "looking-mouth",
   "metadata": {},
   "outputs": [
    {
     "name": "stdout",
     "output_type": "stream",
     "text": [
      "best e: [(4.1, 2.85)]\n",
      "best t: [(2.05, 1.85)]\n",
      "best i: [(10.65, 4.25)]\n"
     ]
    }
   ],
   "source": [
    "idx_best_fine = results[\"diff\"].idxmin()\n",
    "best_e_mean_fine = results_fine.loc[idx_best_fine, \"e_mean\"]\n",
    "best_e_std_fine = results_fine.loc[idx_best_fine, \"e_std\"]\n",
    "best_t_mean_fine = results_fine.loc[idx_best_fine, \"t_mean\"]\n",
    "best_t_std_fine = results_fine.loc[idx_best_fine, \"t_std\"]\n",
    "best_i_mean_fine = results_fine.loc[idx_best_fine, \"i_mean\"]\n",
    "best_i_std_fine = results_fine.loc[idx_best_fine, \"i_std\"]\n",
    "\n",
    "print(f\"best e: [{best_e_mean_fine, best_e_std_fine}]\")\n",
    "print(f\"best t: [{best_t_mean_fine, best_t_std_fine}]\")\n",
    "print(f\"best i: [{best_i_mean_fine, best_i_std_fine}]\")"
   ]
  },
  {
   "cell_type": "code",
   "execution_count": 101,
   "id": "solved-nitrogen",
   "metadata": {},
   "outputs": [
    {
     "name": "stdout",
     "output_type": "stream",
     "text": [
      "47616 parameter combinations\n"
     ]
    }
   ],
   "source": [
    "N = 50000\n",
    "step = 0.01\n",
    "window = 0.1\n",
    "exposure_durations = np.arange(best_e_mean_fine - window, best_e_mean_fine + window * 2 + step, step)\n",
    "times_until_symtoms = np.arange(1.4, 1.7, step)\n",
    "infection_durations = [best_i_mean_fine]\n",
    "\n",
    "step = 0.1\n",
    "exposure_duration_stds = np.arange(best_e_std_fine - window, best_e_std_fine + window + step, step)\n",
    "times_until_symtoms_stds = np.arange(best_t_std_fine - window, best_t_std_fine + window + step, step)\n",
    "infection_durations_stds = np.arange(best_i_std_fine - window, best_i_std_fine + window + step, step)\n",
    "\n",
    "param_combinations = [(N, e, t, i, e_std, t_std, i_std) \\\n",
    "                                for e in exposure_durations \\\n",
    "                                for t in times_until_symtoms \\\n",
    "                                for i in infection_durations \\\n",
    "                                for e_std in exposure_duration_stds \\\n",
    "                                for t_std in times_until_symtoms_stds \\\n",
    "                                for i_std in infection_durations_stds]\n",
    "print(f\"{len(param_combinations)} parameter combinations\")"
   ]
  },
  {
   "cell_type": "code",
   "execution_count": 149,
   "id": "copyrighted-athletics",
   "metadata": {},
   "outputs": [
    {
     "name": "stderr",
     "output_type": "stream",
     "text": [
      "100%|█████████████████████████████████████████████████████████████████████████████████████████████████| 47616/47616 [30:58<00:00, 25.62it/s]\n"
     ]
    }
   ],
   "source": [
    "results_veryfine = pd.DataFrame()\n",
    "\n",
    "pool = Pool(200)\n",
    "for row in tqdm(\n",
    "        pool.imap_unordered(\n",
    "            func=get_true_epi_params, \n",
    "            iterable=param_combinations),\n",
    "            total=len(param_combinations)\n",
    "    ):\n",
    "    results_veryfine = results_veryfine.append(row, ignore_index=True)\n",
    "pool.close()\n",
    "\n",
    "results_veryfine[\"e_mean_diff\"] = results_veryfine[\"true_e_mean\"]\\\n",
    "    .apply(lambda x: (x - expected_epi_params[\"exposure_duration\"][\"mean\"]) ** 2)\n",
    "results_veryfine[\"e_std_diff\"] = results_veryfine[\"true_e_std\"]\\\n",
    "    .apply(lambda x: (x - expected_epi_params[\"exposure_duration\"][\"std\"]) ** 2)\n",
    "results_veryfine[\"t_mean_diff\"] = results_veryfine[\"true_t_mean\"]\\\n",
    "    .apply(lambda x: (x - expected_epi_params[\"time_until_symptoms\"][\"mean\"]) ** 2)\n",
    "results_veryfine[\"t_std_diff\"] = results_veryfine[\"true_t_std\"]\\\n",
    "    .apply(lambda x: (x - expected_epi_params[\"time_until_symptoms\"][\"std\"]) ** 2)\n",
    "results_veryfine[\"i_mean_diff\"] = results_veryfine[\"true_i_mean\"]\\\n",
    "    .apply(lambda x: (x - expected_epi_params[\"infection_duration\"][\"mean\"]) ** 2)\n",
    "results_veryfine[\"i_std_diff\"] = results_veryfine[\"true_i_std\"]\\\n",
    "    .apply(lambda x: (x - expected_epi_params[\"infection_duration\"][\"std\"]) ** 2)\n",
    "\n",
    "results_veryfine[\"mean_diff\"] = results_veryfine[\"e_mean_diff\"] + results_veryfine[\"t_mean_diff\"] + results_veryfine[\"i_mean_diff\"]\n",
    "results_veryfine[\"std_diff\"] = results_veryfine[\"e_std_diff\"] + results_veryfine[\"t_std_diff\"] + results_veryfine[\"i_std_diff\"]\n",
    "results_veryfine[\"diff\"] = results_veryfine[\"mean_diff\"] + results_veryfine[\"std_diff\"]\n",
    "\n",
    "fname = \"calibration_epidemiological_parameters_results_veryfine.csv.xz\"\n",
    "results_veryfine.to_csv(join(dst, fname), index=False)"
   ]
  },
  {
   "cell_type": "code",
   "execution_count": 104,
   "id": "annoying-drinking",
   "metadata": {},
   "outputs": [],
   "source": [
    "fname = \"calibration_epidemiological_parameters_results_veryfine.csv.xz\"\n",
    "results_veryfine = pd.read_csv(join(dst, fname), compression=\"xz\")\n",
    "\n",
    "round_cols = [\"e_mean\", \"e_std\", \"t_mean\", \"t_std\", \"i_mean\", \"i_std\"]\n",
    "for col in round_cols:\n",
    "    results_veryfine[col] = results_veryfine[col].apply(lambda x: round(x, 2))"
   ]
  },
  {
   "cell_type": "code",
   "execution_count": 105,
   "id": "sudden-juvenile",
   "metadata": {},
   "outputs": [
    {
     "name": "stdout",
     "output_type": "stream",
     "text": [
      "best e: [(4.31, 3.05)]\n",
      "best t: [(1.49, 1.75)]\n",
      "best i: [(10.65, 4.15)]\n",
      "\n",
      "true e: [(2.01096, 1.300630569531564)]\n",
      "true t: [(3.1608, 2.0635559987555463)]\n",
      "true i: [(10.94196, 4.015877408288256)]\n"
     ]
    }
   ],
   "source": [
    "idx_best_veryfine = results_veryfine[\"diff\"].idxmin()\n",
    "best_e_mean_veryfine = results_veryfine.loc[idx_best_veryfine, \"e_mean\"]\n",
    "best_e_std_veryfine = results_veryfine.loc[idx_best_veryfine, \"e_std\"]\n",
    "best_t_mean_veryfine = results_veryfine.loc[idx_best_veryfine, \"t_mean\"]\n",
    "best_t_std_veryfine = results_veryfine.loc[idx_best_veryfine, \"t_std\"]\n",
    "best_i_mean_veryfine = results_veryfine.loc[idx_best_veryfine, \"i_mean\"]\n",
    "best_i_std_veryfine = results_veryfine.loc[idx_best_veryfine, \"i_std\"]\n",
    "\n",
    "true_e_mean_veryfine = results_veryfine.loc[idx_best_veryfine, \"true_e_mean\"]\n",
    "true_e_std_veryfine = results_veryfine.loc[idx_best_veryfine, \"true_e_std\"]\n",
    "true_t_mean_veryfine = results_veryfine.loc[idx_best_veryfine, \"true_t_mean\"]\n",
    "true_t_std_veryfine = results_veryfine.loc[idx_best_veryfine, \"true_t_std\"]\n",
    "true_i_mean_veryfine = results_veryfine.loc[idx_best_veryfine, \"true_i_mean\"]\n",
    "true_i_std_veryfine = results_veryfine.loc[idx_best_veryfine, \"true_i_std\"]\n",
    "\n",
    "print(f\"best e: [{best_e_mean_veryfine, best_e_std_veryfine}]\")\n",
    "print(f\"best t: [{best_t_mean_veryfine, best_t_std_veryfine}]\")\n",
    "print(f\"best i: [{best_i_mean_veryfine, best_i_std_veryfine}]\")\n",
    "print()\n",
    "print(f\"true e: [{true_e_mean_veryfine, true_e_std_veryfine}]\")\n",
    "print(f\"true t: [{true_t_mean_veryfine, true_t_std_veryfine}]\")\n",
    "print(f\"true i: [{true_i_mean_veryfine, true_i_std_veryfine}]\")"
   ]
  },
  {
   "cell_type": "code",
   "execution_count": 65,
   "id": "infrared-weekly",
   "metadata": {},
   "outputs": [
    {
     "name": "stdout",
     "output_type": "stream",
     "text": [
      "e: shape: 1.4343194192035125, scale: 4.746120286954592\n",
      "t: shape: 0.854806498575083, scale: 1.3743410404570486\n",
      "i: shape: 2.7755438034333118, scale: 11.964168817902408\n"
     ]
    }
   ],
   "source": [
    "for param_name, param, param_std in zip([\"e\", \"t\", \"i\"], \\\n",
    "                [best_e_mean_veryfine, best_t_mean_veryfine, best_i_mean_veryfine],\\\n",
    "                [best_e_std_veryfine, best_t_std_veryfine, best_i_std_veryfine]):\n",
    "    mu = param\n",
    "    var = param_std**2\n",
    "    shape = root_scalar(get_weibull_shape, args=(mu, var),\n",
    "                method='toms748', bracket=[0.2, 500]).root\n",
    "    scale = get_weibull_scale(mu, shape)\n",
    "\n",
    "    print(f\"{param_name}: shape: {shape}, scale: {scale}\")"
   ]
  },
  {
   "cell_type": "code",
   "execution_count": 66,
   "id": "studied-separation",
   "metadata": {},
   "outputs": [],
   "source": [
    "exposure_durations = [round(e, 2) for e in exposure_durations]\n",
    "times_until_symtoms = [round(t, 2) for t in times_until_symtoms]\n",
    "\n",
    "selected_infection_durations = [10.65]\n",
    "images = {i:np.zeros((len(exposure_durations), len(times_until_symtoms))) \\\n",
    "          for i in selected_infection_durations}\n",
    "\n",
    "\n",
    "results_veryfine = results_veryfine.set_index([\"e_mean\", \"t_mean\", \"i_mean\", \"e_std\", \"t_std\", \"i_std\"])\n",
    "for infection_duration in selected_infection_durations:\n",
    "    for i, e in enumerate(exposure_durations):\n",
    "        for j, t in enumerate(times_until_symtoms):\n",
    "            images[infection_duration][i, j] = \\\n",
    "                results_veryfine.loc[e, t, infection_duration, best_e_std_fine, best_t_std_fine, best_i_std_fine][\"diff\"]\n",
    "results_veryfine = results_veryfine.reset_index()"
   ]
  },
  {
   "cell_type": "code",
   "execution_count": 67,
   "id": "aging-christian",
   "metadata": {},
   "outputs": [
    {
     "data": {
      "text/plain": [
       "0.9393273782365196"
      ]
     },
     "execution_count": 67,
     "metadata": {},
     "output_type": "execute_result"
    }
   ],
   "source": [
    "results_veryfine[\"diff\"].max()"
   ]
  },
  {
   "cell_type": "code",
   "execution_count": 68,
   "id": "sorted-electronics",
   "metadata": {},
   "outputs": [
    {
     "data": {
      "text/plain": [
       "0.4173323150317592"
      ]
     },
     "execution_count": 68,
     "metadata": {},
     "output_type": "execute_result"
    }
   ],
   "source": [
    "results_veryfine[\"diff\"].min()"
   ]
  },
  {
   "cell_type": "code",
   "execution_count": 69,
   "id": "younger-python",
   "metadata": {},
   "outputs": [
    {
     "data": {
      "image/png": "[encoded data removed]",
      "text/plain": [
       "<Figure size 432x432 with 1 Axes>"
      ]
     },
     "metadata": {
      "needs_background": "light"
     },
     "output_type": "display_data"
    }
   ],
   "source": [
    "fig, ax = plt.subplots(figsize=(6, 6))\n",
    "\n",
    "ax.imshow(images[10.65], vmin=0.45, vmax=0.55)\n",
    "ax.set_yticks(range(len(exposure_durations)))\n",
    "ax.set_yticklabels(exposure_durations, fontsize=8)\n",
    "ax.set_xticks(range(len(times_until_symtoms)))\n",
    "ax.set_xticklabels(times_until_symtoms, fontsize=8)\n",
    "ax.set_xlabel(\"time until symptoms\")\n",
    "ax.set_ylabel(\"exposure duration\")\n",
    "ax.set_title(f\"infection duration: {infection_duration}\")\n",
    "fig.tight_layout()"
   ]
  },
  {
   "cell_type": "markdown",
   "id": "improved-oracle",
   "metadata": {},
   "source": [
    "### Epi parameter distribution plot"
   ]
  },
  {
   "cell_type": "code",
   "execution_count": 70,
   "id": "dependent-given",
   "metadata": {},
   "outputs": [],
   "source": [
    "curr_epi_params = {\n",
    "        \"exposure_duration\":{\"mean\":best_e_mean_veryfine, \"std\":best_e_std_veryfine},\n",
    "        \"time_until_symptoms\":{\"mean\":best_t_mean_veryfine, \"std\":best_t_std_veryfine},\n",
    "        \"infection_duration\":{\"mean\":best_i_mean_veryfine, \"std\":best_i_std_veryfine}\n",
    "    }\n",
    "for param_name in curr_epi_params.keys():\n",
    "    mu = curr_epi_params[param_name][\"mean\"]\n",
    "    var = curr_epi_params[param_name][\"std\"]**2\n",
    "    shape = root_scalar(get_weibull_shape, args=(mu, var),\n",
    "                method='toms748', bracket=[0.2, 500]).root\n",
    "    scale = get_weibull_scale(mu, shape)\n",
    "    curr_epi_params[param_name][\"shape\"] = shape\n",
    "    curr_epi_params[param_name][\"scale\"] = scale\n",
    "\n",
    "exposure_duration = []\n",
    "time_until_symptoms = []\n",
    "infection_duration = []\n",
    "for i in range(10000):\n",
    "    tmp_epi_params = {}\n",
    "    while True:\n",
    "        for param_name in curr_epi_params.keys():\n",
    "            tmp_epi_params[param_name] = \\\n",
    "                round(weibull_two_param(curr_epi_params[param_name][\"shape\"],\n",
    "                                        curr_epi_params[param_name][\"scale\"]))\n",
    "\n",
    "        if (tmp_epi_params['exposure_duration'] >= 1) and \\\n",
    "           (tmp_epi_params['time_until_symptoms'] >= \\\n",
    "           tmp_epi_params['exposure_duration']) and\\\n",
    "           (tmp_epi_params['infection_duration'] >= \\\n",
    "           tmp_epi_params['time_until_symptoms']):\n",
    "           break\n",
    "\n",
    "    exposure_duration.append(tmp_epi_params['exposure_duration'])\n",
    "    time_until_symptoms.append(tmp_epi_params['time_until_symptoms'])\n",
    "    infection_duration.append(tmp_epi_params['infection_duration'])\n",
    "\n",
    "exposure_duration = np.asarray(exposure_duration)\n",
    "time_until_symptoms = np.asarray(time_until_symptoms)\n",
    "infection_duration = np.asarray(infection_duration)"
   ]
  },
  {
   "cell_type": "code",
   "execution_count": 71,
   "id": "compliant-evolution",
   "metadata": {},
   "outputs": [
    {
     "data": {
      "image/png": "[encoded data removed]",
      "text/plain": [
       "<Figure size 792x216 with 3 Axes>"
      ]
     },
     "metadata": {
      "needs_background": "light"
     },
     "output_type": "display_data"
    }
   ],
   "source": [
    "fig, axes = plt.subplots(1, 3, figsize=(11, 3))\n",
    "fig.subplots_adjust(wspace=0.3)\n",
    "max_bins = [11, 11, 26]\n",
    "steps = [1, 1, 2]\n",
    "colors = ['#2471A3', '#C0392B', '#909497']\n",
    "xticks = [range(0, 11, 2), range(0, 11, 2), range(0, 26, 5)]\n",
    "labels = ['exposure duration\\n', 'incubation time\\n', 'infection duration\\n']\n",
    "ymaxes = [0.25, 0.5, 0.12]\n",
    "\n",
    "for ax, max_bin, step, color, xtick, label, ymax, param in zip(axes, max_bins, steps, colors,\\\n",
    "    xticks, labels, ymaxes, [exposure_duration, time_until_symptoms, infection_duration]):\n",
    "    ax.hist(param, bins=range(0, max_bin, step), rwidth=0.8, color=color,\n",
    "            density=True, align='left')\n",
    "    ax.set_xticks(xtick)\n",
    "    ax.spines['right'].set_visible(False)\n",
    "    ax.spines['top'].set_visible(False)\n",
    "    ax.set_title(label)\n",
    "    ax.set_ylabel('pdf')\n",
    "    ax.set_xlabel('days')\n",
    "    ax.set_ylim(0, ymax)\n",
    "\n",
    "fig.tight_layout()\n",
    "fig.text(0.062, 0.9, 'A', fontsize=12, fontweight='bold')\n",
    "fig.text(0.39, 0.9, 'B', fontsize=12, fontweight='bold')\n",
    "fig.text(0.7162, 0.9, 'C', fontsize=12, fontweight='bold')\n",
    "plt.savefig(\"../../../plots/epi_param_distributions.pdf\")\n",
    "plt.savefig(\"../../../plots/epi_param_distributions.svg\")\n",
    "plt.savefig(\"../../../plots/epi_param_distributions.png\", dpi=300)"
   ]
  },
  {
   "cell_type": "code",
   "execution_count": null,
   "id": "protected-detector",
   "metadata": {},
   "outputs": [],
   "source": []
  }
 ],
 "metadata": {
  "kernelspec": {
   "display_name": "Python 3",
   "language": "python",
   "name": "python3"
  },
  "language_info": {
   "codemirror_mode": {
    "name": "ipython",
    "version": 3
   },
   "file_extension": ".py",
   "mimetype": "text/x-python",
   "name": "python",
   "nbconvert_exporter": "python",
   "pygments_lexer": "ipython3",
   "version": "3.8.8"
  }
 },
 "nbformat": 4,
 "nbformat_minor": 5
}
