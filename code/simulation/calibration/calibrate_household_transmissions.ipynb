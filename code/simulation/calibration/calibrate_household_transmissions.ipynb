{
 "cells": [
  {
   "cell_type": "markdown",
   "metadata": {},
   "source": [
    "# Calibration of household transmissions"
   ]
  },
  {
   "cell_type": "code",
   "execution_count": 1,
   "metadata": {},
   "outputs": [],
   "source": [
    "import numpy as np\n",
    "import matplotlib.pyplot as plt\n",
    "import pandas as pd\n",
    "import scipy as sp\n",
    "from scipy.special import gamma\n",
    "from os.path import join\n",
    "\n",
    "# custom functions\n",
    "import calibration_functions as cf"
   ]
  },
  {
   "cell_type": "code",
   "execution_count": 7,
   "metadata": {},
   "outputs": [],
   "source": [
    "dst = '../../../data/simulation_results/calibration'"
   ]
  },
  {
   "cell_type": "markdown",
   "metadata": {},
   "source": [
    "According to a [meta study](https://jamanetwork.com/journals/jamanetworkopen/fullarticle/2774102), household transmissions risk between adults (secondary attack rate) is $\\text{SAR}_\\text{literature}=28.3$ % for the wild type of the SARS-CoV-2 virus. To calibrate the base transmission risk $r_b$ between two adults in a household, we simulate household transmissions for our setting in which the transmission risk is declining with infection duration."
   ]
  },
  {
   "cell_type": "markdown",
   "metadata": {},
   "source": [
    "## Transmission risk modification due to infection progression"
   ]
  },
  {
   "cell_type": "markdown",
   "metadata": {},
   "source": [
    "In our simulation, the base transmission risk is multiplied with a modifier $m(\\text{day})$, which is 1 until symptom onset and then linearly decreases until it reaches zero at the time that corresponds to the infection duration (as depicted below)."
   ]
  },
  {
   "cell_type": "code",
   "execution_count": 3,
   "metadata": {},
   "outputs": [],
   "source": [
    "def get_transmission_risk_time_modifier(exposure_duration, time_until_symptoms,\n",
    "                                       infection_duration, days_since_exposure):\n",
    "    '''\n",
    "    Given an agents exposure duration, time until symptom onset and infection\n",
    "    duration, returns the modifier to the transmission risk, based on the \n",
    "    progression of the infection (days since exposure).\n",
    "    '''\n",
    "    asymptomatic_infectious = time_until_symptoms - exposure_duration\n",
    "    \n",
    "    try:\n",
    "        modifier = 1 - max(0, days_since_exposure - asymptomatic_infectious) / \\\n",
    "                    (infection_duration - asymptomatic_infectious)\n",
    "    except ZeroDivisionError:\n",
    "        return 1\n",
    "    return modifier"
   ]
  },
  {
   "cell_type": "code",
   "execution_count": 4,
   "metadata": {},
   "outputs": [
    {
     "data": {
      "image/png": "[encoded data removed]",
      "text/plain": [
       "<Figure size 576x288 with 1 Axes>"
      ]
     },
     "metadata": {
      "needs_background": "light"
     },
     "output_type": "display_data"
    }
   ],
   "source": [
    "# illustration of the decline of transmission risk with infection progression\n",
    "infection_duration = 10\n",
    "exposure_duration = 5\n",
    "time_until_symptoms = 6\n",
    "asymptomatic_infectious = time_until_symptoms - exposure_duration\n",
    "\n",
    "x = np.arange(0, infection_duration + 1)\n",
    "y = [get_transmission_risk_time_modifier(exposure_duration, time_until_symptoms,\n",
    "                                         infection_duration, i) for i in x]\n",
    "\n",
    "fig, ax = plt.subplots(figsize=(8, 4))\n",
    "ax.plot(x, y)\n",
    "ax.plot([asymptomatic_infectious, asymptomatic_infectious], [0, 1],\n",
    "        '--', color='grey')\n",
    "ax.text(asymptomatic_infectious + 0.2, 0.1, 'symptom onset')\n",
    "ax.set_xticks(x)\n",
    "ax.set_yticks(np.arange(0, 1.1, 0.2))\n",
    "ax.set_ylabel('transmission risk modifier $m$')\n",
    "ax.set_xlabel('days since becoming infectious')\n",
    "ax.set_ylim(0, 1.1);"
   ]
  },
  {
   "cell_type": "markdown",
   "metadata": {},
   "source": [
    "## Base transmission risk calibration"
   ]
  },
  {
   "cell_type": "markdown",
   "metadata": {},
   "source": [
    "To the base transmission risk calibrate $r_b$, we implement the following steps:\n",
    "1. We create two agents with epidemiological parameters (exposure time, time until symptoms, infection duration) drawn from the random distributions used for the simulation study. \n",
    "2. We define one of the two individuals as the index case and simulate a number of days equal to the infection duration of the index case. On every day, the other agent has a chance of $r_b \\cdot m(\\text{day})$ of becoming infected.\n",
    "3. We repeat this simulation a number of times and calculate the secondary attack rate $\\text{SAR}_\\text{simulation}$ as the average of the number of times the second agent has become infected.\n",
    "\n",
    "We vary $r_b$ for a range of realistic values and repeat steps 1-3. We then chose the value for $r_b$ that minimizes $|\\text{SAR}_\\text{literature} - \\text{SAR}_\\text{simulation}|$."
   ]
  },
  {
   "cell_type": "code",
   "execution_count": 8,
   "metadata": {
    "tags": []
   },
   "outputs": [],
   "source": [
    "### household transmission simulation\n",
    "runs = range(0, 10000)\n",
    "\n",
    "# grid from which base transmission risks are sampled\n",
    "base_transmission_risks = np.arange(0.04, 0.08, 0.001)\n",
    "results = pd.DataFrame()\n",
    "results['transmission'] = [np.nan] * len(runs) * len(base_transmission_risks)\n",
    "iterables = [base_transmission_risks, runs]\n",
    "index = pd.MultiIndex.from_product(iterables, \\\n",
    "                    names=['base_transmission_risk', 'run'])\n",
    "results.index = index\n",
    "\n",
    "for base_transmission_risk in base_transmission_risks:\n",
    "    for run in runs:\n",
    "        infected = cf.get_epi_params()\n",
    "        transmission_occured = 0\n",
    "        \n",
    "        # Note: starts at day 1, to reflect the simulation implementation\n",
    "        for day in range(1, infected['infection_duration'] + 1):\n",
    "            modifier = get_transmission_risk_time_modifier(\\\n",
    "                infected['exposure_duration'], infected['time_until_symptoms'],\n",
    "                infected['infection_duration'], day)\n",
    "            modified_transmission_risk = 1 - base_transmission_risk * modifier\n",
    "            transmission = np.random.random()\n",
    "            if transmission > modified_transmission_risk:\n",
    "                transmission_occured = 1\n",
    "                break\n",
    "            \n",
    "        results.loc[base_transmission_risk, run]['transmission'] = \\\n",
    "        transmission_occured\n",
    "\n",
    "# save simulation results\n",
    "results = results.reset_index()\n",
    "results.to_csv(join(dst,'household_transmission_base_risk_scan.csv'),\n",
    "              index=False)"
   ]
  },
  {
   "cell_type": "code",
   "execution_count": 9,
   "metadata": {},
   "outputs": [
    {
     "data": {
      "text/html": [
       "<div>\n",
       "<style scoped>\n",
       "    .dataframe tbody tr th:only-of-type {\n",
       "        vertical-align: middle;\n",
       "    }\n",
       "\n",
       "    .dataframe tbody tr th {\n",
       "        vertical-align: top;\n",
       "    }\n",
       "\n",
       "    .dataframe thead tr th {\n",
       "        text-align: left;\n",
       "    }\n",
       "\n",
       "    .dataframe thead tr:last-of-type th {\n",
       "        text-align: right;\n",
       "    }\n",
       "</style>\n",
       "<table border=\"1\" class=\"dataframe\">\n",
       "  <thead>\n",
       "    <tr>\n",
       "      <th></th>\n",
       "      <th colspan=\"2\" halign=\"left\">transmission</th>\n",
       "    </tr>\n",
       "    <tr>\n",
       "      <th></th>\n",
       "      <th>mean</th>\n",
       "      <th>std</th>\n",
       "    </tr>\n",
       "    <tr>\n",
       "      <th>base_transmission_risk</th>\n",
       "      <th></th>\n",
       "      <th></th>\n",
       "    </tr>\n",
       "  </thead>\n",
       "  <tbody>\n",
       "    <tr>\n",
       "      <th>0.040</th>\n",
       "      <td>0.2075</td>\n",
       "      <td>0.405537</td>\n",
       "    </tr>\n",
       "    <tr>\n",
       "      <th>0.041</th>\n",
       "      <td>0.2069</td>\n",
       "      <td>0.405103</td>\n",
       "    </tr>\n",
       "    <tr>\n",
       "      <th>0.042</th>\n",
       "      <td>0.2157</td>\n",
       "      <td>0.411328</td>\n",
       "    </tr>\n",
       "  </tbody>\n",
       "</table>\n",
       "</div>"
      ],
      "text/plain": [
       "                       transmission          \n",
       "                               mean       std\n",
       "base_transmission_risk                       \n",
       "0.040                        0.2075  0.405537\n",
       "0.041                        0.2069  0.405103\n",
       "0.042                        0.2157  0.411328"
      ]
     },
     "execution_count": 9,
     "metadata": {},
     "output_type": "execute_result"
    }
   ],
   "source": [
    "# load and aggregate simulation results\n",
    "results = pd.read_csv(join(dst, 'household_transmission_base_risk_scan.csv'))\n",
    "results_mean = results[['base_transmission_risk', 'transmission']]\\\n",
    "    .groupby('base_transmission_risk')\\\n",
    "    .agg({'transmission':['mean', 'std']})\n",
    "results_mean.head(3)"
   ]
  },
  {
   "cell_type": "code",
   "execution_count": 24,
   "metadata": {},
   "outputs": [
    {
     "data": {
      "image/png": "[encoded data removed]",
      "text/plain": [
       "<Figure size 720x360 with 1 Axes>"
      ]
     },
     "metadata": {
      "needs_background": "light"
     },
     "output_type": "display_data"
    }
   ],
   "source": [
    "fig, ax = plt.subplots(figsize=(10, 5))\n",
    "ax.plot(results_mean.index, results_mean['transmission']['mean'], 'o-', color='b')\n",
    "\n",
    "# regression with zero intercept\n",
    "x = results_mean.index.values\n",
    "x = x[:, np.newaxis]\n",
    "y = results_mean['transmission']['mean'].values\n",
    "slope, _, _, _ = np.linalg.lstsq(x, y, rcond=None)\n",
    "slope = slope[0]\n",
    "\n",
    "ax.plot(results_mean.index, slope * results_mean.index, '--', color='k')\n",
    "ax.set_xlabel('base transmission risk $r_b$', fontsize=16)\n",
    "ax.set_ylabel('secondary attack rate (SAR)', fontsize=16)\n",
    "ax.text(0.059, 0.33, 'slope: {:1.4f}'.format(slope), fontsize=16)\n",
    "ax.set_title('household transmission calibration', fontsize=20)\n",
    "\n",
    "target_attack_rate = 0.283\n",
    "target_base_transmission_risk = float(target_attack_rate / slope)\n",
    "ax.plot([0.04, 0.08],[target_attack_rate, target_attack_rate], \\\n",
    "        '--', color='grey', alpha=0.5)\n",
    "ax.text(0.059, 0.383, f'target SAR = {target_attack_rate}', color='grey', fontsize=14)\n",
    "\n",
    "ax.plot([target_base_transmission_risk, target_base_transmission_risk],\n",
    "        [0.20, 0.41], '--', color='grey', alpha=0.5)\n",
    "ax.text(0.0676, 0.29, '$r_b({})$ = {:1.6f}'\\\n",
    "        .format(target_attack_rate, target_base_transmission_risk), color='grey', fontsize=14);"
   ]
  },
  {
   "cell_type": "markdown",
   "metadata": {},
   "source": [
    "## Estimation of uncertainty"
   ]
  },
  {
   "cell_type": "code",
   "execution_count": 25,
   "metadata": {},
   "outputs": [],
   "source": [
    "N_bootstrap = 1000\n",
    "x = results_mean.index.values\n",
    "x = x[:, np.newaxis]\n",
    "slopes = pd.DataFrame()\n",
    "    \n",
    "for i in range(N_bootstrap):\n",
    "    tmp_results = results[['base_transmission_risk', 'transmission']].sample(5000)\\\n",
    "    .groupby('base_transmission_risk')\\\n",
    "    .agg({'transmission':['mean', 'std']})\n",
    "    \n",
    "\n",
    "    y = tmp_results['transmission']['mean'].values\n",
    "    slope, _, _, _ = np.linalg.lstsq(x, y, rcond=None)\n",
    "    slope = slope[0]\n",
    "    target_base_transmission_risk = float(target_attack_rate / slope)\n",
    "    slopes = slopes.append({\n",
    "        'r_b':target_base_transmission_risk,\n",
    "        'bootstrap_run':i\n",
    "    }, ignore_index=True)"
   ]
  },
  {
   "cell_type": "code",
   "execution_count": 26,
   "metadata": {},
   "outputs": [
    {
     "name": "stdout",
     "output_type": "stream",
     "text": [
      "optimal r_b for household transmissions is: 0.058555 +- 0.001311\n"
     ]
    }
   ],
   "source": [
    "print('optimal r_b for household transmissions is: {:1.6f} +- {:1.6f}'\\\n",
    "      .format(slopes['r_b'].mean(), slopes['r_b'].std()))"
   ]
  },
  {
   "cell_type": "code",
   "execution_count": 27,
   "metadata": {},
   "outputs": [
    {
     "name": "stdout",
     "output_type": "stream",
     "text": [
      "transmission risk of delta: 0.131748\n"
     ]
    }
   ],
   "source": [
    "print('transmission risk of delta: {:1.6f}'\\\n",
    "      .format(slopes['r_b'].mean() * 2.25))"
   ]
  },
  {
   "cell_type": "code",
   "execution_count": 28,
   "metadata": {},
   "outputs": [
    {
     "name": "stdout",
     "output_type": "stream",
     "text": [
      "transmission risk of omicron: 0.395244\n"
     ]
    }
   ],
   "source": [
    "print('transmission risk of omicron: {:1.6f}'\\\n",
    "      .format(slopes['r_b'].mean() * 2.25 * 3))"
   ]
  }
 ],
 "metadata": {
  "kernelspec": {
   "display_name": "Python 3 (ipykernel)",
   "language": "python",
   "name": "python3"
  },
  "language_info": {
   "codemirror_mode": {
    "name": "ipython",
    "version": 3
   },
   "file_extension": ".py",
   "mimetype": "text/x-python",
   "name": "python",
   "nbconvert_exporter": "python",
   "pygments_lexer": "ipython3",
   "version": "3.9.7"
  }
 },
 "nbformat": 4,
 "nbformat_minor": 4
}
