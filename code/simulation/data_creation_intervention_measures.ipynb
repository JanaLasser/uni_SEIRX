{
 "cells": [
  {
   "cell_type": "markdown",
   "id": "above-gender",
   "metadata": {},
   "source": [
    "# SEIRX model runs for prevention measures investigation in universities"
   ]
  },
  {
   "cell_type": "code",
   "execution_count": 1,
   "id": "wound-recorder",
   "metadata": {},
   "outputs": [],
   "source": [
    "import pandas as pd\n",
    "import numpy as np\n",
    "from os.path import join\n",
    "import os\n",
    "import sys\n",
    "import json\n",
    "import seaborn as sns\n",
    "\n",
    "from scseirx import analysis_functions as af\n",
    "\n",
    "import data_creation_functions as dcf\n",
    "\n",
    "# parallelisation functionality\n",
    "from multiprocess import Pool\n",
    "import psutil\n",
    "from tqdm import tqdm\n",
    "\n",
    "from importlib import reload"
   ]
  },
  {
   "cell_type": "markdown",
   "id": "romance-cooperation",
   "metadata": {},
   "source": [
    "* Vaccination fraction of [students in Austria](https://www.statistik.at/web_de/presse/126794.html)\n",
    "* [Omicron incubation period](https://www.eurosurveillance.org/content/10.2807/1560-7917.ES.2021.26.50.2101147?TRACK=RSS): 3 days\n",
    "* [Omicron SAR](https://www.medrxiv.org/content/10.1101/2021.12.27.21268278v1.full.pdf+html): 0.31"
   ]
  },
  {
   "cell_type": "code",
   "execution_count": 5,
   "id": "former-agency",
   "metadata": {},
   "outputs": [
    {
     "name": "stdout",
     "output_type": "stream",
     "text": [
      "there are 64 different parameter combinations\n"
     ]
    }
   ],
   "source": [
    "# number of runs in the ensemble (set to a low number so runs complete quickly\n",
    "# for demonstration purposes)\n",
    "N_runs = 28\n",
    "\n",
    "# load the other screening parameters from file\n",
    "screening_params = pd.read_csv(join('screening_params', 'measure_packages.csv'))\n",
    "\n",
    "network_types = ['all'] # can also be 'TU' or 'NaWi'\n",
    "\n",
    "params = [(N_runs, \n",
    "           row['u_mask'],\n",
    "           row['l_mask'], \n",
    "           row['u_vaccination_ratio'],\n",
    "           row['l_vaccination_ratio'],\n",
    "           row['presence_fraction'],\n",
    "           contact_network_type)\n",
    "           for i, row in screening_params.iterrows()\\\n",
    "           for contact_network_type in network_types]\n",
    "\n",
    "print('there are {} different parameter combinations'.format(len(params)))"
   ]
  },
  {
   "cell_type": "code",
   "execution_count": 6,
   "id": "smoking-silver",
   "metadata": {},
   "outputs": [],
   "source": [
    "mode = 'intervention_screening'\n",
    "with open('params/{}_measures.json'.format(mode), 'r') as fp:\n",
    "    measures = json.load(fp)"
   ]
  },
  {
   "cell_type": "code",
   "execution_count": 11,
   "id": "curious-stock",
   "metadata": {},
   "outputs": [
    {
     "name": "stdout",
     "output_type": "stream",
     "text": [
      "running on T14s, using 14 cores\n"
     ]
    },
    {
     "name": "stderr",
     "output_type": "stream",
     "text": [
      "100%|██████████| 28/28 [14:59<00:00, 32.13s/it]  \n"
     ]
    },
    {
     "name": "stdout",
     "output_type": "stream",
     "text": [
      "CPU times: user 816 ms, sys: 176 ms, total: 992 ms\n",
      "Wall time: 14min 59s\n"
     ]
    }
   ],
   "source": [
    "%%time\n",
    "reload(dcf)\n",
    "\n",
    "mode = 'intervention_screening'\n",
    "testing = False\n",
    "\n",
    "# paths for data I/O\n",
    "contact_network_src = '../../data/networks'\n",
    "\n",
    "results = pd.DataFrame()\n",
    "for p in params[0:1]:\n",
    "    N_runs, u_mask, l_mask, u_vaccination_ratio,\\\n",
    "    l_vaccination_ratio, presence_fraction, contact_network_type = p\n",
    "    \n",
    "    dst = '../../data/simulation_results/testing/ensembles_{}_{}'\\\n",
    "        .format(mode, contact_network_type)\n",
    "    \n",
    "    dcf.run_ensemble(mode, N_runs, contact_network_src, contact_network_type, dst, \n",
    "            u_mask=u_mask, l_mask=l_mask,\n",
    "            u_vaccination_ratio=u_vaccination_ratio,\n",
    "            l_vaccination_ratio=l_vaccination_ratio,\n",
    "            presence_fraction=presence_fraction, testing=testing)"
   ]
  }
 ],
 "metadata": {
  "kernelspec": {
   "display_name": "Python 3",
   "language": "python",
   "name": "python3"
  },
  "language_info": {
   "codemirror_mode": {
    "name": "ipython",
    "version": 3
   },
   "file_extension": ".py",
   "mimetype": "text/x-python",
   "name": "python",
   "nbconvert_exporter": "python",
   "pygments_lexer": "ipython3",
   "version": "3.8.8"
  }
 },
 "nbformat": 4,
 "nbformat_minor": 5
}
