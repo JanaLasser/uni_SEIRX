{
 "cells": [
  {
   "cell_type": "markdown",
   "metadata": {},
   "source": [
    "# Create the university network from student and lecturer data"
   ]
  },
  {
   "cell_type": "code",
   "execution_count": 1,
   "metadata": {},
   "outputs": [],
   "source": [
    "import pandas as pd\n",
    "import networkx as nx\n",
    "import numpy as np\n",
    "import matplotlib.pyplot as plt\n",
    "from os.path import join\n",
    "import datetime\n",
    "import network_creation_functions as ncf\n",
    "from importlib import reload"
   ]
  },
  {
   "cell_type": "code",
   "execution_count": 2,
   "metadata": {},
   "outputs": [],
   "source": [
    "src = '../data/raw/Grunddaten-Simulation'"
   ]
  },
  {
   "cell_type": "code",
   "execution_count": 14,
   "metadata": {},
   "outputs": [
    {
     "name": "stdout",
     "output_type": "stream",
     "text": [
      " Bedienstete_mit_DV_an_Org.csv\t Prüfungstermine.csv\n",
      " Lehrende.csv\t\t\t Räume.csv\n",
      " LV.csv\t\t\t\t Studiendaten.csv\n",
      " LV.xlsx\t\t\t Studierende_pro_LV.csv\n",
      " Prüfungen.csv\t\t\t'Termine_mit_LV Bezug.csv'\n"
     ]
    }
   ],
   "source": [
    "! ls ../data/raw/Grunddaten-Simulation"
   ]
  },
  {
   "cell_type": "code",
   "execution_count": 44,
   "metadata": {},
   "outputs": [],
   "source": [
    "semester_start = ncf.semester_start\n",
    "semester_end = ncf.semester_end"
   ]
  },
  {
   "cell_type": "markdown",
   "metadata": {},
   "source": [
    "## Load the relevant data"
   ]
  },
  {
   "cell_type": "code",
   "execution_count": 114,
   "metadata": {},
   "outputs": [
    {
     "name": "stdout",
     "output_type": "stream",
     "text": [
      "there were 12711 unique sutdents in WiSe 2019/20\n",
      "dropped 92 students because they don't have an assigned study\n",
      "1801/6334 available lectures were visited by the students\n",
      "10823/13212 lecturers are active in courses that are visited by students\n",
      "lecturers are from 228 organisations\n",
      "there are 2702 unique groups for the 1801 lectures\n",
      "26010/29147 dates are associated with lectures that are visited by the students\n",
      "381/2288 rooms are associated with lectures that are visited by the students\n"
     ]
    }
   ],
   "source": [
    "studies = pd.read_csv(join(src, 'Studiendaten.csv'))\n",
    "studies = studies.rename(columns={\n",
    "    'ST_PERSON_NR':'student_id',\n",
    "    'STUDIENIDENTIFIKATOR':'study_id',\n",
    "    'STUDIENBEZEICHNUNG':'study_name',\n",
    "    'SEMESTERANZAHL':'term_number'\n",
    "})\n",
    "\n",
    "\n",
    "students = pd.read_csv(join(src, 'Studierende_pro_LV.csv'))\n",
    "students = students.rename(columns={\n",
    "    'ST_PERSON_NR':'student_id',\n",
    "    'STP_SP_NR':'lecture_id',\n",
    "    'LV_GRP_NR':'group_id'})\n",
    "N = len(students['student_id'].unique())\n",
    "students = students[students['student_id'].isin(studies['student_id'])]\n",
    "print('there were {} unique sutdents in WiSe 2019/20'\\\n",
    "      .format(N))\n",
    "print(\"dropped {} students because they don't have an assigned study\"\\\n",
    "      .format(N - len(students['student_id'].unique())))\n",
    "\n",
    "\n",
    "# all students should have a study and all students in the \"study\" data set \n",
    "# should exist in the \"students\" data set\n",
    "assert len(set(students['student_id'].unique())\\\n",
    "           .difference(set(studies['student_id'].unique()))) == 0\n",
    "\n",
    "lectures = pd.read_excel(join(src, 'LV.xlsx')) # throws a parser error if read as csv\n",
    "lectures = lectures.rename(columns={\n",
    "    'STP_SP_NR':'lecture_id',\n",
    "    'STP_SP_TITEL':'lecture_name_ger',\n",
    "    'STP_SP_TITEL_ENGL':'lecture_name'\n",
    "})\n",
    "N = len(lectures)\n",
    "lectures = lectures[lectures['lecture_id'].isin(students['lecture_id'])]\n",
    "print('{}/{} available lectures were visited by the students'\\\n",
    "      .format(len(lectures), N))\n",
    "\n",
    "lecturers = pd.read_csv(join(src, 'Lehrende.csv'))\n",
    "lecturers = lecturers.rename(columns={\n",
    "    'PERSON_NR':'lecturer_id',\n",
    "    'STP_SP_NR':'lecture_id',\n",
    "    'LV_GRP_NR':'group_id'\n",
    "})\n",
    "N = len(lecturers)\n",
    "lecturers = lecturers[lecturers['lecture_id'].isin(students['lecture_id'])]\n",
    "print('{}/{} lecturers are active in courses that are visited by students'\\\n",
    "      .format(len(lecturers), N))\n",
    "\n",
    "\n",
    "organisations = pd.read_csv(join(src, 'Bedienstete_mit_DV_an_Org.csv'))\n",
    "organisations = organisations.rename(columns={\n",
    "    'PERSON_NR':'lecturer_id',\n",
    "    'ORG_NR':'organisation_id',\n",
    "    'TUG_NEW.PUORG.GETNAME(A.ORG_NR)':'organisation_name'\n",
    "})\n",
    "# some lecturers have more than one affiliation. We keep a random affiliation\n",
    "# and drop the others to keep things simple\n",
    "#organisations = organisations.sample(frac=1, random_state=42)\n",
    "#organisations = organisations.drop_duplicates(subset=['lecturer_id'])\n",
    "print('lecturers are from {} organisations'\\\n",
    "      .format(len(organisations['organisation_id'].unique())))\n",
    "\n",
    "\n",
    "# mapping of lecture group IDs to lecture IDs\n",
    "groups = students[['lecture_id', 'group_id']].drop_duplicates().copy()\n",
    "print('there are {} unique groups for the {} lectures'\\\n",
    "      .format(len(groups['group_id'].unique()), \n",
    "              len(groups['lecture_id'].unique())))\n",
    "\n",
    "assert len(groups) == len(groups['group_id'].unique())\n",
    "\n",
    "\n",
    "semester_start = '2019-10-01'\n",
    "semester_end = '2020-02-28'\n",
    "dates = pd.read_csv(join(src, 'Termine_mit_LV Bezug.csv'),\n",
    "                parse_dates=['DATUM_AM', 'ZEIT_VON', 'ZEIT_BIS'], dayfirst=True)\n",
    "dates = dates.rename(columns={\n",
    "    'RES_NR':'room_id',\n",
    "    'DATUM_AM':'date',\n",
    "    'ZEIT_VON':'start_time',\n",
    "    'ZEIT_BIS':'end_time',\n",
    "    'STP_SP_NR':'lecture_id',\n",
    "    'LV_GRP_NR':'group_id'\n",
    "})\n",
    "dates['start_time'] = dates['start_time'].apply(lambda x: x.time())\n",
    "dates['end_time'] = dates['end_time'].apply(lambda x: x.time())\n",
    "\n",
    "assert len(dates) == len(dates[dates['date'] >= pd.to_datetime(semester_start)])\n",
    "assert len(dates) == len(dates[dates['date'] <= pd.to_datetime(semester_end)])\n",
    "\n",
    "N = len(dates)\n",
    "dates = dates[dates['lecture_id'].isin(lectures['lecture_id'])]\n",
    "print('{}/{} dates are associated with lectures that are visited by the students'\\\n",
    "      .format(len(dates), N))\n",
    "\n",
    "# note: manually filled in room information from rooms at KFU\n",
    "rooms = pd.read_csv(join('../data/cleaned', 'Räume_cleaned.csv'), \n",
    "                    usecols=['RES_NR', 'RAUM_CODE', 'RAUM_SITZPLAETZE',\n",
    "                            'QUADRATMETER', 'RAUM_GEBAEUDE_BEREICH_NAME'])\n",
    "rooms = rooms.rename(columns={\n",
    "    'RES_NR':'room_id',\n",
    "    'RAUM_CODE':'room_code',\n",
    "    'RAUM_SITZPLAETZE':'seats',\n",
    "    'QUADRATMETER':'area',\n",
    "    'RAUM_GEBAEUDE_BEREICH_NAME':'campus'\n",
    "    \n",
    "})\n",
    "N = len(rooms)\n",
    "rooms = rooms[rooms['room_id'].isin(dates['room_id'])]\n",
    "print('{}/{} rooms are associated with lectures that are visited by the students'\\\n",
    "     .format(len(rooms), N))"
   ]
  },
  {
   "cell_type": "code",
   "execution_count": 9,
   "metadata": {},
   "outputs": [
    {
     "data": {
      "text/html": [
       "<div>\n",
       "<style scoped>\n",
       "    .dataframe tbody tr th:only-of-type {\n",
       "        vertical-align: middle;\n",
       "    }\n",
       "\n",
       "    .dataframe tbody tr th {\n",
       "        vertical-align: top;\n",
       "    }\n",
       "\n",
       "    .dataframe thead th {\n",
       "        text-align: right;\n",
       "    }\n",
       "</style>\n",
       "<table border=\"1\" class=\"dataframe\">\n",
       "  <thead>\n",
       "    <tr style=\"text-align: right;\">\n",
       "      <th></th>\n",
       "      <th>lecturer_id</th>\n",
       "      <th>organisation_id</th>\n",
       "      <th>organisation_name</th>\n",
       "    </tr>\n",
       "  </thead>\n",
       "  <tbody>\n",
       "    <tr>\n",
       "      <th>0</th>\n",
       "      <td>12973</td>\n",
       "      <td>2913</td>\n",
       "      <td>Institut f�r Health Care Engineering mit Europ...</td>\n",
       "    </tr>\n",
       "    <tr>\n",
       "      <th>1</th>\n",
       "      <td>234</td>\n",
       "      <td>677</td>\n",
       "      <td>Institut f�r St�dtebau</td>\n",
       "    </tr>\n",
       "  </tbody>\n",
       "</table>\n",
       "</div>"
      ],
      "text/plain": [
       "   lecturer_id  organisation_id  \\\n",
       "0        12973             2913   \n",
       "1          234              677   \n",
       "\n",
       "                                   organisation_name  \n",
       "0  Institut f�r Health Care Engineering mit Europ...  \n",
       "1                             Institut f�r St�dtebau  "
      ]
     },
     "execution_count": 9,
     "metadata": {},
     "output_type": "execute_result"
    }
   ],
   "source": [
    "organisations.head(2)"
   ]
  },
  {
   "cell_type": "code",
   "execution_count": 10,
   "metadata": {},
   "outputs": [
    {
     "data": {
      "text/html": [
       "<div>\n",
       "<style scoped>\n",
       "    .dataframe tbody tr th:only-of-type {\n",
       "        vertical-align: middle;\n",
       "    }\n",
       "\n",
       "    .dataframe tbody tr th {\n",
       "        vertical-align: top;\n",
       "    }\n",
       "\n",
       "    .dataframe thead th {\n",
       "        text-align: right;\n",
       "    }\n",
       "</style>\n",
       "<table border=\"1\" class=\"dataframe\">\n",
       "  <thead>\n",
       "    <tr style=\"text-align: right;\">\n",
       "      <th></th>\n",
       "      <th>student_id</th>\n",
       "      <th>lecture_id</th>\n",
       "      <th>group_id</th>\n",
       "    </tr>\n",
       "  </thead>\n",
       "  <tbody>\n",
       "    <tr>\n",
       "      <th>0</th>\n",
       "      <td>183662</td>\n",
       "      <td>223024</td>\n",
       "      <td>255170</td>\n",
       "    </tr>\n",
       "    <tr>\n",
       "      <th>1</th>\n",
       "      <td>172878</td>\n",
       "      <td>226073</td>\n",
       "      <td>254793</td>\n",
       "    </tr>\n",
       "    <tr>\n",
       "      <th>2</th>\n",
       "      <td>193960</td>\n",
       "      <td>226598</td>\n",
       "      <td>260636</td>\n",
       "    </tr>\n",
       "  </tbody>\n",
       "</table>\n",
       "</div>"
      ],
      "text/plain": [
       "   student_id  lecture_id  group_id\n",
       "0      183662      223024    255170\n",
       "1      172878      226073    254793\n",
       "2      193960      226598    260636"
      ]
     },
     "execution_count": 10,
     "metadata": {},
     "output_type": "execute_result"
    }
   ],
   "source": [
    "students.head(3)"
   ]
  },
  {
   "cell_type": "code",
   "execution_count": 11,
   "metadata": {},
   "outputs": [
    {
     "data": {
      "text/html": [
       "<div>\n",
       "<style scoped>\n",
       "    .dataframe tbody tr th:only-of-type {\n",
       "        vertical-align: middle;\n",
       "    }\n",
       "\n",
       "    .dataframe tbody tr th {\n",
       "        vertical-align: top;\n",
       "    }\n",
       "\n",
       "    .dataframe thead th {\n",
       "        text-align: right;\n",
       "    }\n",
       "</style>\n",
       "<table border=\"1\" class=\"dataframe\">\n",
       "  <thead>\n",
       "    <tr style=\"text-align: right;\">\n",
       "      <th></th>\n",
       "      <th>lecture_id</th>\n",
       "      <th>STP_SP_LVNR</th>\n",
       "      <th>SJ_NAME</th>\n",
       "      <th>SEMESTER_KB</th>\n",
       "      <th>lecture_name_ger</th>\n",
       "      <th>lecture_name</th>\n",
       "      <th>STP_SP_SST</th>\n",
       "      <th>STP_LV_ART_KURZ</th>\n",
       "      <th>STP_LV_ART_NAME</th>\n",
       "      <th>BETREUENDE_ORG_NR</th>\n",
       "      <th>BETREUENDE_ORG_NAME</th>\n",
       "      <th>Unnamed: 11</th>\n",
       "    </tr>\n",
       "  </thead>\n",
       "  <tbody>\n",
       "    <tr>\n",
       "      <th>0</th>\n",
       "      <td>223321</td>\n",
       "      <td>710.095</td>\n",
       "      <td>2019/20</td>\n",
       "      <td>W</td>\n",
       "      <td>Bildverstehen</td>\n",
       "      <td>Image Understanding</td>\n",
       "      <td>1</td>\n",
       "      <td>KU</td>\n",
       "      <td>Konstruktions�bung</td>\n",
       "      <td>2376</td>\n",
       "      <td>Institut f�r Maschinelles Sehen und Darstellen</td>\n",
       "      <td>NaN</td>\n",
       "    </tr>\n",
       "    <tr>\n",
       "      <th>1</th>\n",
       "      <td>223319</td>\n",
       "      <td>710.085</td>\n",
       "      <td>2019/20</td>\n",
       "      <td>W</td>\n",
       "      <td>AK Computer Vision</td>\n",
       "      <td>Selected Topics Computer Vision</td>\n",
       "      <td>1</td>\n",
       "      <td>KU</td>\n",
       "      <td>Konstruktions�bung</td>\n",
       "      <td>2376</td>\n",
       "      <td>Institut f�r Maschinelles Sehen und Darstellen</td>\n",
       "      <td>NaN</td>\n",
       "    </tr>\n",
       "    <tr>\n",
       "      <th>2</th>\n",
       "      <td>225639</td>\n",
       "      <td>373.381</td>\n",
       "      <td>2019/20</td>\n",
       "      <td>W</td>\n",
       "      <td>Buchhaltung und Bilanzierung</td>\n",
       "      <td>Accounting and Balancing</td>\n",
       "      <td>1</td>\n",
       "      <td>UE</td>\n",
       "      <td>�bung</td>\n",
       "      <td>11072</td>\n",
       "      <td>Institut f�r Betriebswirtschaftslehre und Betr...</td>\n",
       "      <td>NaN</td>\n",
       "    </tr>\n",
       "  </tbody>\n",
       "</table>\n",
       "</div>"
      ],
      "text/plain": [
       "   lecture_id STP_SP_LVNR  SJ_NAME SEMESTER_KB              lecture_name_ger  \\\n",
       "0      223321     710.095  2019/20           W                 Bildverstehen   \n",
       "1      223319     710.085  2019/20           W            AK Computer Vision   \n",
       "2      225639     373.381  2019/20           W  Buchhaltung und Bilanzierung   \n",
       "\n",
       "                      lecture_name  STP_SP_SST STP_LV_ART_KURZ  \\\n",
       "0              Image Understanding           1              KU   \n",
       "1  Selected Topics Computer Vision           1              KU   \n",
       "2         Accounting and Balancing           1              UE   \n",
       "\n",
       "      STP_LV_ART_NAME BETREUENDE_ORG_NR  \\\n",
       "0  Konstruktions�bung              2376   \n",
       "1  Konstruktions�bung              2376   \n",
       "2               �bung             11072   \n",
       "\n",
       "                                 BETREUENDE_ORG_NAME Unnamed: 11  \n",
       "0     Institut f�r Maschinelles Sehen und Darstellen         NaN  \n",
       "1     Institut f�r Maschinelles Sehen und Darstellen         NaN  \n",
       "2  Institut f�r Betriebswirtschaftslehre und Betr...         NaN  "
      ]
     },
     "execution_count": 11,
     "metadata": {},
     "output_type": "execute_result"
    }
   ],
   "source": [
    "lectures.head(3)"
   ]
  },
  {
   "cell_type": "code",
   "execution_count": 12,
   "metadata": {},
   "outputs": [
    {
     "data": {
      "text/html": [
       "<div>\n",
       "<style scoped>\n",
       "    .dataframe tbody tr th:only-of-type {\n",
       "        vertical-align: middle;\n",
       "    }\n",
       "\n",
       "    .dataframe tbody tr th {\n",
       "        vertical-align: top;\n",
       "    }\n",
       "\n",
       "    .dataframe thead th {\n",
       "        text-align: right;\n",
       "    }\n",
       "</style>\n",
       "<table border=\"1\" class=\"dataframe\">\n",
       "  <thead>\n",
       "    <tr style=\"text-align: right;\">\n",
       "      <th></th>\n",
       "      <th>lecturer_id</th>\n",
       "      <th>lecture_id</th>\n",
       "      <th>group_id</th>\n",
       "    </tr>\n",
       "  </thead>\n",
       "  <tbody>\n",
       "    <tr>\n",
       "      <th>1</th>\n",
       "      <td>23030</td>\n",
       "      <td>221435</td>\n",
       "      <td>258144</td>\n",
       "    </tr>\n",
       "    <tr>\n",
       "      <th>2</th>\n",
       "      <td>71025</td>\n",
       "      <td>228594</td>\n",
       "      <td>263699</td>\n",
       "    </tr>\n",
       "    <tr>\n",
       "      <th>3</th>\n",
       "      <td>109917</td>\n",
       "      <td>225445</td>\n",
       "      <td>257591</td>\n",
       "    </tr>\n",
       "  </tbody>\n",
       "</table>\n",
       "</div>"
      ],
      "text/plain": [
       "   lecturer_id  lecture_id  group_id\n",
       "1        23030      221435    258144\n",
       "2        71025      228594    263699\n",
       "3       109917      225445    257591"
      ]
     },
     "execution_count": 12,
     "metadata": {},
     "output_type": "execute_result"
    }
   ],
   "source": [
    "lecturers.head(3)"
   ]
  },
  {
   "cell_type": "code",
   "execution_count": 13,
   "metadata": {},
   "outputs": [
    {
     "data": {
      "text/html": [
       "<div>\n",
       "<style scoped>\n",
       "    .dataframe tbody tr th:only-of-type {\n",
       "        vertical-align: middle;\n",
       "    }\n",
       "\n",
       "    .dataframe tbody tr th {\n",
       "        vertical-align: top;\n",
       "    }\n",
       "\n",
       "    .dataframe thead th {\n",
       "        text-align: right;\n",
       "    }\n",
       "</style>\n",
       "<table border=\"1\" class=\"dataframe\">\n",
       "  <thead>\n",
       "    <tr style=\"text-align: right;\">\n",
       "      <th></th>\n",
       "      <th>student_id</th>\n",
       "      <th>study_id</th>\n",
       "      <th>study_name</th>\n",
       "      <th>term_number</th>\n",
       "    </tr>\n",
       "  </thead>\n",
       "  <tbody>\n",
       "    <tr>\n",
       "      <th>0</th>\n",
       "      <td>163460</td>\n",
       "      <td>UB 198 407 417 01</td>\n",
       "      <td>Bachelorstudium Lehramt Sek (AB); UF Englisch;...</td>\n",
       "      <td>7</td>\n",
       "    </tr>\n",
       "    <tr>\n",
       "      <th>1</th>\n",
       "      <td>208510</td>\n",
       "      <td>UB 198 410 411 01</td>\n",
       "      <td>Bachelorstudium Lehramt Sek (AB); UF Geographi...</td>\n",
       "      <td>1</td>\n",
       "    </tr>\n",
       "    <tr>\n",
       "      <th>2</th>\n",
       "      <td>187361</td>\n",
       "      <td>UB 198 420 414 01</td>\n",
       "      <td>Bachelorstudium Lehramt Sek (AB); UF Mathemati...</td>\n",
       "      <td>6</td>\n",
       "    </tr>\n",
       "  </tbody>\n",
       "</table>\n",
       "</div>"
      ],
      "text/plain": [
       "   student_id           study_id  \\\n",
       "0      163460  UB 198 407 417 01   \n",
       "1      208510  UB 198 410 411 01   \n",
       "2      187361  UB 198 420 414 01   \n",
       "\n",
       "                                          study_name  term_number  \n",
       "0  Bachelorstudium Lehramt Sek (AB); UF Englisch;...            7  \n",
       "1  Bachelorstudium Lehramt Sek (AB); UF Geographi...            1  \n",
       "2  Bachelorstudium Lehramt Sek (AB); UF Mathemati...            6  "
      ]
     },
     "execution_count": 13,
     "metadata": {},
     "output_type": "execute_result"
    }
   ],
   "source": [
    "studies.head(3)"
   ]
  },
  {
   "cell_type": "code",
   "execution_count": 14,
   "metadata": {},
   "outputs": [
    {
     "data": {
      "text/html": [
       "<div>\n",
       "<style scoped>\n",
       "    .dataframe tbody tr th:only-of-type {\n",
       "        vertical-align: middle;\n",
       "    }\n",
       "\n",
       "    .dataframe tbody tr th {\n",
       "        vertical-align: top;\n",
       "    }\n",
       "\n",
       "    .dataframe thead th {\n",
       "        text-align: right;\n",
       "    }\n",
       "</style>\n",
       "<table border=\"1\" class=\"dataframe\">\n",
       "  <thead>\n",
       "    <tr style=\"text-align: right;\">\n",
       "      <th></th>\n",
       "      <th>lecture_id</th>\n",
       "      <th>group_id</th>\n",
       "    </tr>\n",
       "  </thead>\n",
       "  <tbody>\n",
       "    <tr>\n",
       "      <th>0</th>\n",
       "      <td>223024</td>\n",
       "      <td>255170</td>\n",
       "    </tr>\n",
       "    <tr>\n",
       "      <th>1</th>\n",
       "      <td>226073</td>\n",
       "      <td>254793</td>\n",
       "    </tr>\n",
       "    <tr>\n",
       "      <th>2</th>\n",
       "      <td>226598</td>\n",
       "      <td>260636</td>\n",
       "    </tr>\n",
       "  </tbody>\n",
       "</table>\n",
       "</div>"
      ],
      "text/plain": [
       "   lecture_id  group_id\n",
       "0      223024    255170\n",
       "1      226073    254793\n",
       "2      226598    260636"
      ]
     },
     "execution_count": 14,
     "metadata": {},
     "output_type": "execute_result"
    }
   ],
   "source": [
    "groups.head(3)"
   ]
  },
  {
   "cell_type": "code",
   "execution_count": 24,
   "metadata": {},
   "outputs": [
    {
     "data": {
      "text/html": [
       "<div>\n",
       "<style scoped>\n",
       "    .dataframe tbody tr th:only-of-type {\n",
       "        vertical-align: middle;\n",
       "    }\n",
       "\n",
       "    .dataframe tbody tr th {\n",
       "        vertical-align: top;\n",
       "    }\n",
       "\n",
       "    .dataframe thead th {\n",
       "        text-align: right;\n",
       "    }\n",
       "</style>\n",
       "<table border=\"1\" class=\"dataframe\">\n",
       "  <thead>\n",
       "    <tr style=\"text-align: right;\">\n",
       "      <th></th>\n",
       "      <th>room_id</th>\n",
       "      <th>date</th>\n",
       "      <th>start_time</th>\n",
       "      <th>end_time</th>\n",
       "      <th>lecture_id</th>\n",
       "      <th>group_id</th>\n",
       "    </tr>\n",
       "  </thead>\n",
       "  <tbody>\n",
       "    <tr>\n",
       "      <th>0</th>\n",
       "      <td>27716</td>\n",
       "      <td>2019-10-25</td>\n",
       "      <td>10:15:00</td>\n",
       "      <td>11:00:00</td>\n",
       "      <td>227979</td>\n",
       "      <td>269598</td>\n",
       "    </tr>\n",
       "    <tr>\n",
       "      <th>1</th>\n",
       "      <td>27716</td>\n",
       "      <td>2020-01-31</td>\n",
       "      <td>10:15:00</td>\n",
       "      <td>11:00:00</td>\n",
       "      <td>227979</td>\n",
       "      <td>269598</td>\n",
       "    </tr>\n",
       "    <tr>\n",
       "      <th>4</th>\n",
       "      <td>1406</td>\n",
       "      <td>2019-12-17</td>\n",
       "      <td>09:00:00</td>\n",
       "      <td>12:00:00</td>\n",
       "      <td>228962</td>\n",
       "      <td>264420</td>\n",
       "    </tr>\n",
       "  </tbody>\n",
       "</table>\n",
       "</div>"
      ],
      "text/plain": [
       "   room_id       date start_time  end_time  lecture_id  group_id\n",
       "0    27716 2019-10-25   10:15:00  11:00:00      227979    269598\n",
       "1    27716 2020-01-31   10:15:00  11:00:00      227979    269598\n",
       "4     1406 2019-12-17   09:00:00  12:00:00      228962    264420"
      ]
     },
     "execution_count": 24,
     "metadata": {},
     "output_type": "execute_result"
    }
   ],
   "source": [
    "dates.head(3)"
   ]
  },
  {
   "cell_type": "code",
   "execution_count": 116,
   "metadata": {},
   "outputs": [
    {
     "data": {
      "text/html": [
       "<div>\n",
       "<style scoped>\n",
       "    .dataframe tbody tr th:only-of-type {\n",
       "        vertical-align: middle;\n",
       "    }\n",
       "\n",
       "    .dataframe tbody tr th {\n",
       "        vertical-align: top;\n",
       "    }\n",
       "\n",
       "    .dataframe thead th {\n",
       "        text-align: right;\n",
       "    }\n",
       "</style>\n",
       "<table border=\"1\" class=\"dataframe\">\n",
       "  <thead>\n",
       "    <tr style=\"text-align: right;\">\n",
       "      <th></th>\n",
       "      <th>room_id</th>\n",
       "      <th>room_code</th>\n",
       "      <th>seats</th>\n",
       "      <th>area</th>\n",
       "      <th>campus</th>\n",
       "    </tr>\n",
       "  </thead>\n",
       "  <tbody>\n",
       "    <tr>\n",
       "      <th>10</th>\n",
       "      <td>5543</td>\n",
       "      <td>HFEG109</td>\n",
       "      <td>92.0</td>\n",
       "      <td>9</td>\n",
       "      <td>Inffeldgasse</td>\n",
       "    </tr>\n",
       "    <tr>\n",
       "      <th>12</th>\n",
       "      <td>1142</td>\n",
       "      <td>NA01158F</td>\n",
       "      <td>49.0</td>\n",
       "      <td>23</td>\n",
       "      <td>Alte Technik</td>\n",
       "    </tr>\n",
       "    <tr>\n",
       "      <th>21</th>\n",
       "      <td>485</td>\n",
       "      <td>PH02112</td>\n",
       "      <td>47.0</td>\n",
       "      <td>60</td>\n",
       "      <td>Neue Technik</td>\n",
       "    </tr>\n",
       "  </tbody>\n",
       "</table>\n",
       "</div>"
      ],
      "text/plain": [
       "    room_id room_code  seats area        campus\n",
       "10     5543   HFEG109   92.0    9  Inffeldgasse\n",
       "12     1142  NA01158F   49.0   23  Alte Technik\n",
       "21      485   PH02112   47.0   60  Neue Technik"
      ]
     },
     "execution_count": 116,
     "metadata": {},
     "output_type": "execute_result"
    }
   ],
   "source": [
    "rooms.head(3)"
   ]
  },
  {
   "cell_type": "markdown",
   "metadata": {},
   "source": [
    "## Create a sample network from a subset of students"
   ]
  },
  {
   "cell_type": "code",
   "execution_count": 50,
   "metadata": {},
   "outputs": [],
   "source": [
    "# Bachelorstudium Molekularbiologie\n",
    "sample_study_id = 'UF 033 665'\n",
    "\n",
    "# Bachelorstudium Maschinenbau\n",
    "sample_study_id = 'UF 033 245'\n",
    "\n",
    "# Bachelorstudium Informatik\n",
    "sample_study_id = 'UF 033 521'"
   ]
  },
  {
   "cell_type": "code",
   "execution_count": 74,
   "metadata": {},
   "outputs": [
    {
     "data": {
      "text/html": [
       "<div>\n",
       "<style scoped>\n",
       "    .dataframe tbody tr th:only-of-type {\n",
       "        vertical-align: middle;\n",
       "    }\n",
       "\n",
       "    .dataframe tbody tr th {\n",
       "        vertical-align: top;\n",
       "    }\n",
       "\n",
       "    .dataframe thead th {\n",
       "        text-align: right;\n",
       "    }\n",
       "</style>\n",
       "<table border=\"1\" class=\"dataframe\">\n",
       "  <thead>\n",
       "    <tr style=\"text-align: right;\">\n",
       "      <th></th>\n",
       "      <th>student_id</th>\n",
       "      <th>study_id</th>\n",
       "      <th>study_name</th>\n",
       "      <th>term_number</th>\n",
       "    </tr>\n",
       "  </thead>\n",
       "  <tbody>\n",
       "    <tr>\n",
       "      <th>0</th>\n",
       "      <td>163460</td>\n",
       "      <td>UB 198 407 417 01</td>\n",
       "      <td>Bachelorstudium Lehramt Sek (AB); UF Englisch;...</td>\n",
       "      <td>7</td>\n",
       "    </tr>\n",
       "    <tr>\n",
       "      <th>1</th>\n",
       "      <td>208510</td>\n",
       "      <td>UB 198 410 411 01</td>\n",
       "      <td>Bachelorstudium Lehramt Sek (AB); UF Geographi...</td>\n",
       "      <td>1</td>\n",
       "    </tr>\n",
       "  </tbody>\n",
       "</table>\n",
       "</div>"
      ],
      "text/plain": [
       "   student_id           study_id  \\\n",
       "0      163460  UB 198 407 417 01   \n",
       "1      208510  UB 198 410 411 01   \n",
       "\n",
       "                                          study_name  term_number  \n",
       "0  Bachelorstudium Lehramt Sek (AB); UF Englisch;...            7  \n",
       "1  Bachelorstudium Lehramt Sek (AB); UF Geographi...            1  "
      ]
     },
     "execution_count": 74,
     "metadata": {},
     "output_type": "execute_result"
    }
   ],
   "source": [
    "studies.head(2)"
   ]
  },
  {
   "cell_type": "code",
   "execution_count": 91,
   "metadata": {},
   "outputs": [
    {
     "name": "stdout",
     "output_type": "stream",
     "text": [
      "data for study UF 033 521 (Bachelorstudium; Informatik)\n",
      "\tthe study has 904/12619 students\n",
      "\tthe students participate in 472/1801 available lectures\n",
      "\tthe lectures have 912 groups and the sample students participate in 637 of them\n",
      "\tthe groups are taught by 652/1520 of the available lecturers\n",
      "\n",
      "298 lectures took place on 2019-10-28\n",
      "100 of the lectures on 2019-10-28 were from the sample study\n",
      "\n",
      "1722 of the sample students attended lectures on 2019-10-28\n",
      "\n",
      "358 groups took place on 2019-10-28\n",
      "113 of the groups on 2019-10-28 were from the sample study\n",
      "\n",
      "467 lecturers were teaching on 2019-10-28\n",
      "195 of the lecturers were teaching groups visited by the sample students on 2019-10-28\n"
     ]
    }
   ],
   "source": [
    "sample_day = '2019-10-28' # a monday early in the semester\n",
    "sample_dates = dates[dates['date'] == pd.to_datetime(sample_day)]\n",
    "\n",
    "sample_student_ids, sample_students, sample_lecture_ids, sample_group_ids, \\\n",
    "    sample_lecturers, sample_lecturer_ids = \\\n",
    "    ncf.get_study_data(sample_study_id, studies, students, lecturers, groups)\n",
    "print()\n",
    "\n",
    "# Note: these are the lectures and groups that students of the sample study\n",
    "# participated in. They are not necessarily part of the sample study plan\n",
    "\n",
    "# lectures of the sample study that took place on the sample day\n",
    "print('{} lectures took place on {}'\\\n",
    "      .format(len(sample_dates['lecture_id'].unique()), sample_day))\n",
    "\n",
    "sample_lectures_on_sample_day_ids = set(sample_lecture_ids)\\\n",
    "    .intersection(set(sample_dates['lecture_id']))\n",
    "print('{} of the lectures on {} were from the sample study'\\\n",
    "      .format(len(sample_lectures_on_sample_day_ids), sample_day))\n",
    "print()\n",
    "\n",
    "# students of the sample study that attended lectures on the sample day\n",
    "students_at_uni_on_sample_day_ids = \\\n",
    "    sample_students[sample_students['lecture_id']\\\n",
    "    .isin(sample_lectures_on_sample_day_ids)]['student_id']\n",
    "print('{} of the sample students attended lectures on {}'\\\n",
    "     .format(len(students_at_uni_on_sample_day_ids), sample_day))\n",
    "print()\n",
    "\n",
    "\n",
    "# groups of the sample study that took place on the sample day\n",
    "print('{} groups took place on {}'\\\n",
    "      .format(len(sample_dates['group_id'].unique()), sample_day))\n",
    "\n",
    "sample_groups_on_sample_day_ids = set(sample_group_ids)\\\n",
    "    .intersection(set(sample_dates['group_id']))\n",
    "print('{} of the groups on {} were from the sample study'\\\n",
    "      .format(len(sample_groups_on_sample_day_ids), sample_day))\n",
    "print()\n",
    "\n",
    "# lecturers that taught groups of the sample study that took place on the\n",
    "# sample day\n",
    "print('{} lecturers were teaching on {}'\\\n",
    "      .format(len(lecturers[lecturers['group_id']\\\n",
    "        .isin(sample_dates['group_id'])]['lecturer_id'].unique()), sample_day))\n",
    "\n",
    "lecturers_lecturing_on_sample_day_ids = \\\n",
    "    sample_lecturers[sample_lecturers['group_id']\\\n",
    "    .isin(sample_groups_on_sample_day_ids)]['lecturer_id'].unique()\n",
    "print('{} of the lecturers were teaching groups visited by the sample students on {}'\\\n",
    "     .format(len(lecturers_lecturing_on_sample_day_ids), sample_day))\n"
   ]
  },
  {
   "cell_type": "code",
   "execution_count": 55,
   "metadata": {},
   "outputs": [
    {
     "name": "stdout",
     "output_type": "stream",
     "text": [
      "Tuesday\n",
      "Wednesday\n",
      "Thursday\n",
      "Friday\n",
      "Saturday\n",
      "Sunday\n",
      "Monday\n"
     ]
    },
    {
     "data": {
      "text/plain": [
       "<Figure size 720x720 with 0 Axes>"
      ]
     },
     "metadata": {},
     "output_type": "display_data"
    },
    {
     "data": {
      "text/plain": [
       "<Figure size 720x720 with 0 Axes>"
      ]
     },
     "metadata": {},
     "output_type": "display_data"
    },
    {
     "data": {
      "text/plain": [
       "<Figure size 720x720 with 0 Axes>"
      ]
     },
     "metadata": {},
     "output_type": "display_data"
    },
    {
     "data": {
      "text/plain": [
       "<Figure size 720x720 with 0 Axes>"
      ]
     },
     "metadata": {},
     "output_type": "display_data"
    },
    {
     "data": {
      "text/plain": [
       "<Figure size 720x720 with 0 Axes>"
      ]
     },
     "metadata": {},
     "output_type": "display_data"
    },
    {
     "data": {
      "text/plain": [
       "<Figure size 720x720 with 0 Axes>"
      ]
     },
     "metadata": {},
     "output_type": "display_data"
    },
    {
     "data": {
      "text/plain": [
       "<Figure size 720x720 with 0 Axes>"
      ]
     },
     "metadata": {},
     "output_type": "display_data"
    }
   ],
   "source": [
    "reload(ncf)\n",
    "\n",
    "plot_dst = '../plots/sample_networks'\n",
    "network_dst = '../data/networks/sample_networks'\n",
    "all_days = list(dates['date'].unique())\n",
    "all_days = [pd.to_datetime(sd) for sd in all_days]\n",
    "all_days.sort()\n",
    "sample_days = all_days[0:7]\n",
    "\n",
    "\n",
    "contact_map = {\n",
    "    'student_lecturer_group':'far', \n",
    "    'student_student_group':'far',\n",
    "}\n",
    "\n",
    "for sample_day in sample_days: \n",
    "    G = ncf.create_single_day_network(sample_students, sample_lecturers, studies,\n",
    "                                  organisations, dates, sample_day)\n",
    "    ncf.draw_uni_network(G, sample_students, sample_lecturers, sample_day, \n",
    "                         sample_study_id, plot_dst)\n",
    "    \n",
    "G = ncf.create_network(sample_students, sample_lecturers, studies, organisations, \n",
    "                              dates, sample_days)\n",
    "\n",
    "G.remove_nodes_from(list(nx.isolates(G)))\n",
    "ncf.map_contacts(G, contact_map)\n",
    "nx.readwrite.gpickle.write_gpickle(G, join(network_dst,'{}_{}_to_{}.bz2'\\\n",
    "        .format(sample_study_id.replace(' ', '-'),\n",
    "                str(sample_days[0].date()), \n",
    "                str(sample_days[-1].date()))), protocol=4)"
   ]
  },
  {
   "cell_type": "markdown",
   "metadata": {},
   "source": [
    "## Create networks for all studies individually"
   ]
  },
  {
   "cell_type": "code",
   "execution_count": 67,
   "metadata": {},
   "outputs": [
    {
     "data": {
      "text/html": [
       "<div>\n",
       "<style scoped>\n",
       "    .dataframe tbody tr th:only-of-type {\n",
       "        vertical-align: middle;\n",
       "    }\n",
       "\n",
       "    .dataframe tbody tr th {\n",
       "        vertical-align: top;\n",
       "    }\n",
       "\n",
       "    .dataframe thead th {\n",
       "        text-align: right;\n",
       "    }\n",
       "</style>\n",
       "<table border=\"1\" class=\"dataframe\">\n",
       "  <thead>\n",
       "    <tr style=\"text-align: right;\">\n",
       "      <th></th>\n",
       "      <th>study_name</th>\n",
       "      <th>study_id</th>\n",
       "      <th>student_count</th>\n",
       "    </tr>\n",
       "  </thead>\n",
       "  <tbody>\n",
       "    <tr>\n",
       "      <th>0</th>\n",
       "      <td>Bachelorstudium; Informatik</td>\n",
       "      <td>UF 033 521</td>\n",
       "      <td>1023</td>\n",
       "    </tr>\n",
       "    <tr>\n",
       "      <th>1</th>\n",
       "      <td>Bachelorstudium; Maschinenbau</td>\n",
       "      <td>UF 033 245</td>\n",
       "      <td>967</td>\n",
       "    </tr>\n",
       "    <tr>\n",
       "      <th>2</th>\n",
       "      <td>Bachelorstudium; Biomedical Engineering</td>\n",
       "      <td>UF 033 253</td>\n",
       "      <td>862</td>\n",
       "    </tr>\n",
       "    <tr>\n",
       "      <th>3</th>\n",
       "      <td>Bachelorstudium; Molekularbiologie</td>\n",
       "      <td>UB 033 665</td>\n",
       "      <td>854</td>\n",
       "    </tr>\n",
       "    <tr>\n",
       "      <th>4</th>\n",
       "      <td>Bachelorstudium; Bauingenieurwiss.u.Wirtschaft...</td>\n",
       "      <td>UF 033 264</td>\n",
       "      <td>849</td>\n",
       "    </tr>\n",
       "    <tr>\n",
       "      <th>5</th>\n",
       "      <td>Bachelorstudium; Architektur</td>\n",
       "      <td>UF 033 243</td>\n",
       "      <td>808</td>\n",
       "    </tr>\n",
       "    <tr>\n",
       "      <th>6</th>\n",
       "      <td>Bachelorstudium; Elektrotechnik</td>\n",
       "      <td>UF 033 235</td>\n",
       "      <td>766</td>\n",
       "    </tr>\n",
       "    <tr>\n",
       "      <th>7</th>\n",
       "      <td>Bachelorstudium; Wirtschaftsingenieurwesen-Mas...</td>\n",
       "      <td>UF 033 282</td>\n",
       "      <td>738</td>\n",
       "    </tr>\n",
       "    <tr>\n",
       "      <th>8</th>\n",
       "      <td>Bachelorstudium; Physik</td>\n",
       "      <td>UF 033 678</td>\n",
       "      <td>661</td>\n",
       "    </tr>\n",
       "    <tr>\n",
       "      <th>9</th>\n",
       "      <td>Bachelorstudium; Information and Computer Engi...</td>\n",
       "      <td>UF 033 211</td>\n",
       "      <td>653</td>\n",
       "    </tr>\n",
       "  </tbody>\n",
       "</table>\n",
       "</div>"
      ],
      "text/plain": [
       "                                          study_name    study_id  \\\n",
       "0                        Bachelorstudium; Informatik  UF 033 521   \n",
       "1                      Bachelorstudium; Maschinenbau  UF 033 245   \n",
       "2            Bachelorstudium; Biomedical Engineering  UF 033 253   \n",
       "3                 Bachelorstudium; Molekularbiologie  UB 033 665   \n",
       "4  Bachelorstudium; Bauingenieurwiss.u.Wirtschaft...  UF 033 264   \n",
       "5                       Bachelorstudium; Architektur  UF 033 243   \n",
       "6                    Bachelorstudium; Elektrotechnik  UF 033 235   \n",
       "7  Bachelorstudium; Wirtschaftsingenieurwesen-Mas...  UF 033 282   \n",
       "8                            Bachelorstudium; Physik  UF 033 678   \n",
       "9  Bachelorstudium; Information and Computer Engi...  UF 033 211   \n",
       "\n",
       "   student_count  \n",
       "0           1023  \n",
       "1            967  \n",
       "2            862  \n",
       "3            854  \n",
       "4            849  \n",
       "5            808  \n",
       "6            766  \n",
       "7            738  \n",
       "8            661  \n",
       "9            653  "
      ]
     },
     "execution_count": 67,
     "metadata": {},
     "output_type": "execute_result"
    }
   ],
   "source": [
    "students_per_study = studies[['study_name', 'study_id', 'student_id']]\\\n",
    "    .groupby(['study_name', 'study_id'])\\\n",
    "    .count()\\\n",
    "    .sort_values(by=['student_id'], ascending=False)\\\n",
    "    .reset_index()\\\n",
    "    .rename(columns={'student_id':'student_count'})\n",
    "\n",
    "students_per_study = students_per_study[students_per_study['student_count'] >= 20]\n",
    "students_per_study.head(10)"
   ]
  },
  {
   "cell_type": "code",
   "execution_count": 55,
   "metadata": {},
   "outputs": [
    {
     "name": "stdout",
     "output_type": "stream",
     "text": [
      "Tuesday\n",
      "Wednesday\n",
      "Thursday\n",
      "Friday\n",
      "Saturday\n",
      "Sunday\n",
      "Monday\n"
     ]
    },
    {
     "data": {
      "text/plain": [
       "<Figure size 720x720 with 0 Axes>"
      ]
     },
     "metadata": {},
     "output_type": "display_data"
    },
    {
     "data": {
      "text/plain": [
       "<Figure size 720x720 with 0 Axes>"
      ]
     },
     "metadata": {},
     "output_type": "display_data"
    },
    {
     "data": {
      "text/plain": [
       "<Figure size 720x720 with 0 Axes>"
      ]
     },
     "metadata": {},
     "output_type": "display_data"
    },
    {
     "data": {
      "text/plain": [
       "<Figure size 720x720 with 0 Axes>"
      ]
     },
     "metadata": {},
     "output_type": "display_data"
    },
    {
     "data": {
      "text/plain": [
       "<Figure size 720x720 with 0 Axes>"
      ]
     },
     "metadata": {},
     "output_type": "display_data"
    },
    {
     "data": {
      "text/plain": [
       "<Figure size 720x720 with 0 Axes>"
      ]
     },
     "metadata": {},
     "output_type": "display_data"
    },
    {
     "data": {
      "text/plain": [
       "<Figure size 720x720 with 0 Axes>"
      ]
     },
     "metadata": {},
     "output_type": "display_data"
    }
   ],
   "source": [
    "reload(ncf)\n",
    "\n",
    "plot_dst = '../plots/sample_networks'\n",
    "network_dst = '../data/networks/sample_networks'\n",
    "all_days = list(dates['date'].unique())\n",
    "all_days = [pd.to_datetime(sd) for sd in all_days]\n",
    "all_days.sort()\n",
    "sample_days = all_days[0:7]\n",
    "\n",
    "contact_map = {\n",
    "    'student_lecturer_group':'far', \n",
    "    'student_student_group':'far',\n",
    "}\n",
    "\n",
    "for study in students_per_study['study_id']:\n",
    "    for sample_day in sample_days: \n",
    "        G = ncf.create_single_day_network(sample_students, sample_lecturers, studies,\n",
    "                                      organisations, dates, sample_day)\n",
    "        ncf.draw_uni_network(G, sample_students, sample_lecturers, sample_day, \n",
    "                             sample_study_id, plot_dst)\n",
    "\n",
    "    G = ncf.create_network(sample_students, sample_lecturers, studies, organisations, \n",
    "                                  dates, sample_days)\n",
    "\n",
    "    G.remove_nodes_from(list(nx.isolates(G)))\n",
    "    ncf.map_contacts(G, contact_map)\n",
    "    nx.readwrite.gpickle.write_gpickle(G, join(network_dst,'{}_{}_to_{}.bz2'\\\n",
    "            .format(sample_study_id.replace(' ', '-'),\n",
    "                    str(sample_days[0].date()), \n",
    "                    str(sample_days[-1].date()))), protocol=4)"
   ]
  },
  {
   "cell_type": "markdown",
   "metadata": {},
   "source": [
    "## Create full university network\n"
   ]
  },
  {
   "cell_type": "code",
   "execution_count": 117,
   "metadata": {},
   "outputs": [
    {
     "name": "stdout",
     "output_type": "stream",
     "text": [
      "removed 1785 disconnected nodes\n"
     ]
    }
   ],
   "source": [
    "reload(ncf)\n",
    "\n",
    "plot_dst = '../plots/sample_networks'\n",
    "network_dst = '../data/networks/sample_networks'\n",
    "all_days = list(dates['date'].unique())\n",
    "all_days = [pd.to_datetime(sd) for sd in all_days]\n",
    "all_days.sort()\n",
    "sample_days = all_days[0:7]\n",
    "\n",
    "\n",
    "contact_map = {\n",
    "    'student_lecturer_group':'far', \n",
    "    'student_student_group':'far',\n",
    "}\n",
    "\n",
    "# create the full contact network for the whole university\n",
    "G = ncf.create_network(students, lecturers, studies, organisations, \n",
    "                              dates, sample_days)\n",
    "\n",
    "# remove disconnected\n",
    "N = len(G.nodes())\n",
    "G.remove_nodes_from(list(nx.isolates(G)))\n",
    "print('removed {} disconnected nodes'.format(N - len(G.nodes())))\n",
    "\n",
    "# map link types to contact strengths\n",
    "ncf.map_contacts(G, contact_map)\n",
    "\n",
    "# save the graph\n",
    "nx.readwrite.gpickle.write_gpickle(G, join(network_dst,'university_{}_to_{}.bz2'\\\n",
    "        .format(str(sample_days[0].date()), \n",
    "                str(sample_days[-1].date()))), protocol=4)"
   ]
  },
  {
   "cell_type": "markdown",
   "metadata": {},
   "source": [
    "### Network statistics"
   ]
  },
  {
   "cell_type": "code",
   "execution_count": 124,
   "metadata": {},
   "outputs": [],
   "source": [
    "N_students = len([n for n in G.nodes(data='type') if n[1] == 'unistudent'])\n",
    "N_lecturers = len([n for n in G.nodes(data='type') if n[1] == 'lecturer'])"
   ]
  },
  {
   "cell_type": "code",
   "execution_count": 126,
   "metadata": {},
   "outputs": [
    {
     "data": {
      "text/plain": [
       "11494"
      ]
     },
     "execution_count": 126,
     "metadata": {},
     "output_type": "execute_result"
    }
   ],
   "source": [
    "N_students"
   ]
  },
  {
   "cell_type": "code",
   "execution_count": 127,
   "metadata": {},
   "outputs": [
    {
     "data": {
      "text/plain": [
       "839"
      ]
     },
     "execution_count": 127,
     "metadata": {},
     "output_type": "execute_result"
    }
   ],
   "source": [
    "N_lecturers"
   ]
  },
  {
   "cell_type": "code",
   "execution_count": 128,
   "metadata": {},
   "outputs": [
    {
     "data": {
      "text/plain": [
       "0.9319711343549826"
      ]
     },
     "execution_count": 128,
     "metadata": {},
     "output_type": "execute_result"
    }
   ],
   "source": [
    "N_students / (N_students + N_lecturers)"
   ]
  },
  {
   "cell_type": "code",
   "execution_count": 129,
   "metadata": {},
   "outputs": [
    {
     "data": {
      "text/plain": [
       "0.06802886564501744"
      ]
     },
     "execution_count": 129,
     "metadata": {},
     "output_type": "execute_result"
    }
   ],
   "source": [
    "N_lecturers / (N_students + N_lecturers)"
   ]
  },
  {
   "cell_type": "markdown",
   "metadata": {},
   "source": [
    "## Create university networks with reduced lecture sizes"
   ]
  },
  {
   "cell_type": "code",
   "execution_count": 144,
   "metadata": {},
   "outputs": [
    {
     "name": "stdout",
     "output_type": "stream",
     "text": [
      "removed 1785 disconnected nodes\n",
      "removed 1785 disconnected nodes\n",
      "removed 1785 disconnected nodes\n"
     ]
    }
   ],
   "source": [
    "reload(ncf)\n",
    "fractions = [0.25, 0.5, 1.0]\n",
    "network_dst = '../data/networks'\n",
    "all_days = list(dates['date'].unique())\n",
    "all_days = [pd.to_datetime(sd) for sd in all_days]\n",
    "all_days.sort()\n",
    "sample_days = all_days[0:7]\n",
    "\n",
    "contact_map = {\n",
    "    'student_lecturer_group':'far', \n",
    "    'student_student_group':'far',\n",
    "}\n",
    "\n",
    "for frac in fractions:\n",
    "\n",
    "    # create the full contact network for the whole university with a given\n",
    "    # fraction of studence in presence\n",
    "    G = ncf.create_network(students, lecturers, studies, organisations, \n",
    "                                  dates, sample_days, half=True, frac=frac)\n",
    "\n",
    "    # remove disconnected\n",
    "    N = len(G.nodes())\n",
    "    G.remove_nodes_from(list(nx.isolates(G)))\n",
    "    print('removed {} disconnected nodes'.format(N - len(G.nodes())))\n",
    "\n",
    "    # map link types to contact strengths\n",
    "    ncf.map_contacts(G, contact_map)\n",
    "\n",
    "    # save the graph\n",
    "    nx.readwrite.gpickle.write_gpickle(G, join(network_dst,\n",
    "        'university_{}_to_{}_fraction-{}.bz2'\\\n",
    "        .format(str(sample_days[0].date()), str(sample_days[-1].date()), frac)),\n",
    "        protocol=4)"
   ]
  },
  {
   "cell_type": "markdown",
   "metadata": {},
   "source": [
    "### Network statistics"
   ]
  },
  {
   "cell_type": "code",
   "execution_count": 133,
   "metadata": {},
   "outputs": [
    {
     "name": "stdout",
     "output_type": "stream",
     "text": [
      "lecturers: 829, students: 1085\n",
      "lecturers: 829, students: 1079\n",
      "lecturers: 830, students: 1079\n"
     ]
    }
   ],
   "source": [
    "for frac in fractions:\n",
    "    G = nx.readwrite.gpickle.read_gpickle(join(network_dst, \n",
    "        'university_{}_to_{}_fraction-{}.bz2'\\\n",
    "        .format(str(sample_days[0].date()), str(sample_days[-1].date()), frac)))\n",
    "    \n",
    "    N_students = len([n for n in G.nodes(data='type') if n[1] == 'unistudent'])\n",
    "    N_lecturers = len([n for n in G.nodes(data='type') if n[1] == 'lecturer'])\n",
    "    \n",
    "    print('lecturers: {}, students: {}'.format(N_lecturers, N_students))"
   ]
  },
  {
   "cell_type": "code",
   "execution_count": 128,
   "metadata": {},
   "outputs": [
    {
     "data": {
      "text/plain": [
       "0.9319711343549826"
      ]
     },
     "execution_count": 128,
     "metadata": {},
     "output_type": "execute_result"
    }
   ],
   "source": [
    "N_students / (N_students + N_lecturers)"
   ]
  },
  {
   "cell_type": "code",
   "execution_count": 129,
   "metadata": {},
   "outputs": [
    {
     "data": {
      "text/plain": [
       "0.06802886564501744"
      ]
     },
     "execution_count": 129,
     "metadata": {},
     "output_type": "execute_result"
    }
   ],
   "source": [
    "N_lecturers / (N_students + N_lecturers)"
   ]
  },
  {
   "cell_type": "code",
   "execution_count": null,
   "metadata": {},
   "outputs": [],
   "source": []
  }
 ],
 "metadata": {
  "kernelspec": {
   "display_name": "Python 3",
   "language": "python",
   "name": "python3"
  },
  "language_info": {
   "codemirror_mode": {
    "name": "ipython",
    "version": 3
   },
   "file_extension": ".py",
   "mimetype": "text/x-python",
   "name": "python",
   "nbconvert_exporter": "python",
   "pygments_lexer": "ipython3",
   "version": "3.8.8"
  }
 },
 "nbformat": 4,
 "nbformat_minor": 4
}
