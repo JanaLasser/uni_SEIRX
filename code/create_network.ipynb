{
 "cells": [
  {
   "cell_type": "markdown",
   "metadata": {},
   "source": [
    "# Create the university network from student and lecturer data"
   ]
  },
  {
   "cell_type": "code",
   "execution_count": 2,
   "metadata": {},
   "outputs": [],
   "source": [
    "import pandas as pd\n",
    "import networkx as nx\n",
    "import numpy as np\n",
    "import matplotlib.pyplot as plt\n",
    "from os.path import join\n",
    "import datetime\n",
    "import string\n",
    "import network_creation_functions as ncf\n",
    "from importlib import reload"
   ]
  },
  {
   "cell_type": "code",
   "execution_count": 3,
   "metadata": {},
   "outputs": [],
   "source": [
    "src = '../data/processed'"
   ]
  },
  {
   "cell_type": "code",
   "execution_count": 4,
   "metadata": {},
   "outputs": [],
   "source": [
    "semester_start = ncf.semester_start # date of the semester start\n",
    "semester_end = ncf.semester_end # date of the semester end\n",
    "study_map = ncf.study_map # mapping of studies to degree levels"
   ]
  },
  {
   "cell_type": "markdown",
   "metadata": {},
   "source": [
    "## Load the relevant data"
   ]
  },
  {
   "cell_type": "code",
   "execution_count": 5,
   "metadata": {},
   "outputs": [],
   "source": [
    "students = pd.read_csv(join(src, 'students_processed.csv'))\n",
    "lecturers = pd.read_csv(join(src, 'lecturers_processed.csv'))\n",
    "lectures = pd.read_csv(join(src, 'lectures_processed.csv'))\n",
    "studies = pd.read_csv(join(src, 'studies_processed.csv'))\n",
    "organisations = pd.read_csv(join(src, 'organisations_processed.csv'))\n",
    "groups = pd.read_csv(join(src, 'groups_processed.csv'))\n",
    "dates = pd.read_csv(join(src, 'dates_processed.csv'))\n",
    "rooms = pd.read_csv(join(src, 'rooms_processed.csv'))\n",
    "estudents = pd.read_csv(join(src, 'exam_students_processed.csv'))\n",
    "electurers = pd.read_csv(join(src, 'exam_lecturers_processed'))\n",
    "exams = pd.read_csv(join(src, 'exams.csv'))\n",
    "edates = pd.read_csv(join(src, 'exam_dates.csv'))"
   ]
  },
  {
   "cell_type": "code",
   "execution_count": 11,
   "metadata": {},
   "outputs": [
    {
     "data": {
      "text/plain": [
       "1.9061659968248592"
      ]
     },
     "execution_count": 11,
     "metadata": {},
     "output_type": "execute_result"
    }
   ],
   "source": [
    "# mean area per seat in lecture rooms\n",
    "clean_rooms = rooms.dropna(subset=['seats', 'area']).copy()\n",
    "clean_rooms['area_per_seat'] = clean_rooms['area'] / clean_rooms['seats']\n",
    "clean_rooms['area_per_seat'].mean()"
   ]
  },
  {
   "cell_type": "code",
   "execution_count": 9,
   "metadata": {},
   "outputs": [
    {
     "data": {
      "text/plain": [
       "11861"
      ]
     },
     "execution_count": 9,
     "metadata": {},
     "output_type": "execute_result"
    }
   ],
   "source": [
    "len(students['student_id'].unique())"
   ]
  },
  {
   "cell_type": "code",
   "execution_count": 10,
   "metadata": {},
   "outputs": [
    {
     "data": {
      "text/plain": [
       "1623"
      ]
     },
     "execution_count": 10,
     "metadata": {},
     "output_type": "execute_result"
    }
   ],
   "source": [
    "len(lectures['lecture_id'].unique())"
   ]
  },
  {
   "cell_type": "code",
   "execution_count": 11,
   "metadata": {},
   "outputs": [
    {
     "data": {
      "text/plain": [
       "1475"
      ]
     },
     "execution_count": 11,
     "metadata": {},
     "output_type": "execute_result"
    }
   ],
   "source": [
    "len(lecturers['lecturer_id'].unique())"
   ]
  },
  {
   "cell_type": "code",
   "execution_count": 12,
   "metadata": {},
   "outputs": [
    {
     "data": {
      "text/plain": [
       "5557"
      ]
     },
     "execution_count": 12,
     "metadata": {},
     "output_type": "execute_result"
    }
   ],
   "source": [
    "len(exams['exam_id'].unique())"
   ]
  },
  {
   "cell_type": "code",
   "execution_count": 13,
   "metadata": {},
   "outputs": [
    {
     "data": {
      "text/plain": [
       "24983"
      ]
     },
     "execution_count": 13,
     "metadata": {},
     "output_type": "execute_result"
    }
   ],
   "source": [
    "len(dates)"
   ]
  },
  {
   "cell_type": "code",
   "execution_count": 16,
   "metadata": {},
   "outputs": [
    {
     "data": {
      "text/plain": [
       "[Timestamp('2019-10-16 00:00:00'),\n",
       " Timestamp('2019-10-17 00:00:00'),\n",
       " Timestamp('2019-10-18 00:00:00'),\n",
       " Timestamp('2019-10-19 00:00:00'),\n",
       " Timestamp('2019-10-21 00:00:00'),\n",
       " Timestamp('2019-10-22 00:00:00'),\n",
       " Timestamp('2019-10-23 00:00:00')]"
      ]
     },
     "execution_count": 16,
     "metadata": {},
     "output_type": "execute_result"
    }
   ],
   "source": [
    "all_days = list(dates['date'].unique())\n",
    "all_days = [pd.to_datetime(sd) for sd in all_days]\n",
    "all_days.sort()\n",
    "sample_days = all_days[13:20]\n",
    "sample_days"
   ]
  },
  {
   "cell_type": "markdown",
   "metadata": {},
   "source": [
    "## Create university networks with reduced lecture sizes"
   ]
  },
  {
   "cell_type": "markdown",
   "metadata": {},
   "source": [
    "### All students"
   ]
  },
  {
   "cell_type": "code",
   "execution_count": null,
   "metadata": {},
   "outputs": [],
   "source": [
    "reload(ncf)\n",
    "fractions = [0.25, 0.5, 1.0, 'overbooked']\n",
    "network_dst = '../data/networks'\n",
    "all_days = list(dates['date'].unique())\n",
    "all_days = [pd.to_datetime(sd) for sd in all_days]\n",
    "all_days.sort()\n",
    "sample_days = all_days[13:20]\n",
    "\n",
    "contact_map = {\n",
    "    'student_lecturer':'far', \n",
    "    'student_student':'far',\n",
    "    'lecturer_lecturer':'far',\n",
    "}\n",
    "\n",
    "for frac in fractions:\n",
    "\n",
    "    # create the full contact network for the whole university with a given\n",
    "    # fraction of studence in presence\n",
    "    G = ncf.create_network(students, lecturers, studies, organisations, groups,\n",
    "                           dates, rooms, sample_days, estudents, electurers,\n",
    "                           exams, edates, frac=frac)\n",
    "\n",
    "    # remove disconnected\n",
    "    N = len(G.nodes())\n",
    "    G.remove_nodes_from(list(nx.isolates(G)))\n",
    "    print('removed {} disconnected nodes'.format(N - len(G.nodes())))\n",
    "    \n",
    "    # keep only biggest connected component\n",
    "    N = len(G.nodes())\n",
    "    Gcc = sorted(nx.connected_components(G), key=len, reverse=True)\n",
    "    G = G.subgraph(Gcc[0])\n",
    "    print('removed {} nodes which were not in the biggest component'\\\n",
    "          .format(N - len(G.nodes())))\n",
    "\n",
    "    # map link types to contact strengths\n",
    "    ncf.map_contacts(G, contact_map)\n",
    "\n",
    "    # save the graph\n",
    "    nx.readwrite.gpickle.write_gpickle(G, join(network_dst,\n",
    "        'university_{}_to_{}_fraction-{}_all.bz2'\\\n",
    "        .format(str(sample_days[0].date()), str(sample_days[-1].date()), frac)),\n",
    "        protocol=4)"
   ]
  },
  {
   "cell_type": "markdown",
   "metadata": {},
   "source": [
    "### Separate data into TU and NaWi"
   ]
  },
  {
   "cell_type": "code",
   "execution_count": 120,
   "metadata": {},
   "outputs": [
    {
     "name": "stdout",
     "output_type": "stream",
     "text": [
      "there are 8660 TU students\n",
      "there are 3298 NaWi students\n"
     ]
    }
   ],
   "source": [
    "TU_students = students[students['study_label'] == 't']\n",
    "NaWi_students = students[students['study_label'] == 'n']\n",
    "\n",
    "print('there are {} TU students'\\\n",
    "        .format(len(TU_students['student_id'].unique())))\n",
    "print('there are {} NaWi students'\\\n",
    "      .format(len(NaWi_students['student_id'].unique())))"
   ]
  },
  {
   "cell_type": "code",
   "execution_count": 123,
   "metadata": {},
   "outputs": [
    {
     "name": "stdout",
     "output_type": "stream",
     "text": [
      "there are 8035 TU exam students\n",
      "there are 3030 NaWi exam students\n"
     ]
    }
   ],
   "source": [
    "TU_estudents = estudents[estudents['study_label'] == 't']\n",
    "NaWi_estudents = estudents[estudents['study_label'] == 'n']\n",
    "\n",
    "print('there are {} TU exam students'\\\n",
    "        .format(len(TU_estudents['student_id'].unique())))\n",
    "print('there are {} NaWi exam students'\\\n",
    "      .format(len(NaWi_estudents['student_id'].unique())))"
   ]
  },
  {
   "cell_type": "code",
   "execution_count": 124,
   "metadata": {},
   "outputs": [
    {
     "name": "stdout",
     "output_type": "stream",
     "text": [
      "there are 91 TU-only studies\n",
      "there are 82 NaWi-only studies\n"
     ]
    }
   ],
   "source": [
    "TU_studies = studies[studies['student_id'].isin(TU_students['student_id'])]\n",
    "NaWi_studies = studies[studies['student_id'].isin(NaWi_students['student_id'])]\n",
    "\n",
    "print('there are {} TU-only studies'\\\n",
    "        .format(len(TU_studies['study_id'].unique())))\n",
    "print('there are {} NaWi-only studies'\\\n",
    "      .format(len(NaWi_studies['study_id'].unique())))"
   ]
  },
  {
   "cell_type": "code",
   "execution_count": 125,
   "metadata": {},
   "outputs": [
    {
     "name": "stdout",
     "output_type": "stream",
     "text": [
      "there are 1453 TU-only lectures\n",
      "there are 790 NaWi-only lectures\n"
     ]
    }
   ],
   "source": [
    "TU_lectures = lectures[lectures['lecture_id'].isin(TU_students['lecture_id'])]\n",
    "NaWi_lectures = lectures[lectures['lecture_id'].isin(NaWi_students['lecture_id'])]\n",
    "\n",
    "print('there are {} TU-only lectures'\\\n",
    "        .format(len(TU_lectures['lecture_id'].unique())))\n",
    "print('there are {} NaWi-only lectures'\\\n",
    "      .format(len(NaWi_lectures['lecture_id'].unique())))"
   ]
  },
  {
   "cell_type": "code",
   "execution_count": 126,
   "metadata": {},
   "outputs": [
    {
     "name": "stdout",
     "output_type": "stream",
     "text": [
      "there are 1376 TU-only lecturers\n",
      "there are 901 NaWi-only lecturers\n"
     ]
    }
   ],
   "source": [
    "TU_lecturers = lecturers[lecturers['lecture_id'].isin(TU_lectures['lecture_id'])]\n",
    "NaWi_lecturers = lecturers[lecturers['lecture_id'].isin(NaWi_lectures['lecture_id'])]\n",
    "\n",
    "print('there are {} TU-only lecturers'\\\n",
    "        .format(len(TU_lecturers['lecturer_id'].unique())))\n",
    "print('there are {} NaWi-only lecturers'\\\n",
    "      .format(len(NaWi_lecturers['lecturer_id'].unique())))"
   ]
  },
  {
   "cell_type": "code",
   "execution_count": 127,
   "metadata": {},
   "outputs": [
    {
     "name": "stdout",
     "output_type": "stream",
     "text": [
      "there are 121 TU-only organisations\n",
      "there are 102 NaWi-only organisations\n"
     ]
    }
   ],
   "source": [
    "TU_organisations = organisations[organisations['lecturer_id'].isin(TU_lecturers['lecturer_id'])]\n",
    "NaWi_organisations = organisations[organisations['lecturer_id'].isin(NaWi_lecturers['lecturer_id'])]\n",
    "\n",
    "print('there are {} TU-only organisations'\\\n",
    "        .format(len(TU_organisations['organisation_id'].unique())))\n",
    "print('there are {} NaWi-only organisations'\\\n",
    "      .format(len(NaWi_organisations['organisation_id'].unique())))"
   ]
  },
  {
   "cell_type": "code",
   "execution_count": 128,
   "metadata": {},
   "outputs": [
    {
     "name": "stdout",
     "output_type": "stream",
     "text": [
      "there are 22436 TU-only dates\n",
      "there are 14035 NaWi-only dates\n"
     ]
    }
   ],
   "source": [
    "TU_dates = dates[dates['lecture_id'].isin(TU_lectures['lecture_id'])]\n",
    "NaWi_dates = dates[dates['lecture_id'].isin(NaWi_lectures['lecture_id'])]\n",
    "\n",
    "print('there are {} TU-only dates'.format(len(TU_dates)))\n",
    "print('there are {} NaWi-only dates'.format(len(NaWi_dates)))"
   ]
  },
  {
   "cell_type": "code",
   "execution_count": 129,
   "metadata": {},
   "outputs": [
    {
     "name": "stdout",
     "output_type": "stream",
     "text": [
      "there are 4308 TU-only exam dates\n",
      "there are 1686 NaWi-only exam dates\n"
     ]
    }
   ],
   "source": [
    "TU_edates = edates[edates['exam_id'].isin(TU_estudents['exam_id'])]\n",
    "NaWi_edates = edates[edates['exam_id'].isin(NaWi_estudents['exam_id'])]\n",
    "\n",
    "print('there are {} TU-only exam dates'.format(len(TU_edates)))\n",
    "print('there are {} NaWi-only exam dates'.format(len(NaWi_edates)))"
   ]
  },
  {
   "cell_type": "code",
   "execution_count": 130,
   "metadata": {},
   "outputs": [
    {
     "name": "stdout",
     "output_type": "stream",
     "text": [
      "there are 352 TU-only rooms\n",
      "there are 239 NaWi-only rooms\n"
     ]
    }
   ],
   "source": [
    "TU_rooms = rooms[rooms['room_id'].isin(TU_dates['room_id'])]\n",
    "NaWi_rooms = rooms[rooms['room_id'].isin(NaWi_dates['room_id'])]\n",
    "\n",
    "print('there are {} TU-only rooms'.format(len(TU_rooms)))\n",
    "print('there are {} NaWi-only rooms'.format(len(NaWi_rooms)))"
   ]
  },
  {
   "cell_type": "code",
   "execution_count": 131,
   "metadata": {},
   "outputs": [
    {
     "name": "stdout",
     "output_type": "stream",
     "text": [
      "there are 1850 TU-only groups\n",
      "there are 866 NaWi-only groups\n"
     ]
    }
   ],
   "source": [
    "TU_groups = groups[groups['group_id'].isin(TU_students['group_id'])]\n",
    "NaWi_groups = groups[groups['group_id'].isin(NaWi_students['group_id'])]\n",
    "\n",
    "print('there are {} TU-only groups'.format(len(TU_groups['group_id'].unique())))\n",
    "print('there are {} NaWi-only groups'.format(len(NaWi_groups['group_id'].unique())))"
   ]
  },
  {
   "cell_type": "code",
   "execution_count": 133,
   "metadata": {},
   "outputs": [
    {
     "name": "stdout",
     "output_type": "stream",
     "text": [
      "there are 4233 TU-only exams\n",
      "there are 1673 NaWi-only exams\n"
     ]
    }
   ],
   "source": [
    "TU_exams = TU_edates[['exam_id', 'lecture_id']].drop_duplicates()\n",
    "NaWi_exams = NaWi_edates[['exam_id', 'lecture_id']].drop_duplicates()\n",
    "\n",
    "print('there are {} TU-only exams'.format(len(TU_exams)))\n",
    "print('there are {} NaWi-only exams'.format(len(NaWi_exams)))"
   ]
  },
  {
   "cell_type": "code",
   "execution_count": 134,
   "metadata": {},
   "outputs": [
    {
     "name": "stdout",
     "output_type": "stream",
     "text": [
      "there are 789 TU-only exam lecturers\n",
      "there are 366 NaWi-only exam lecturers\n"
     ]
    }
   ],
   "source": [
    "TU_electurers = TU_edates[['exam_id', 'lecturer_id']].copy()\n",
    "NaWi_electurers = NaWi_edates[['exam_id', 'lecturer_id']].copy()\n",
    "\n",
    "print('there are {} TU-only exam lecturers'\\\n",
    "      .format(len(TU_electurers['lecturer_id'].unique())))\n",
    "print('there are {} NaWi-only exam lecturers'\\\n",
    "      .format(len(NaWi_electurers['lecturer_id'].unique())))"
   ]
  },
  {
   "cell_type": "markdown",
   "metadata": {},
   "source": [
    "### Create TU student only networks"
   ]
  },
  {
   "cell_type": "code",
   "execution_count": null,
   "metadata": {},
   "outputs": [],
   "source": [
    "reload(ncf)\n",
    "fractions = [0.25, 0.5, 1.0, 'overbooked']\n",
    "network_dst = '../data/networks'\n",
    "all_days = list(dates['date'].unique())\n",
    "all_days = [pd.to_datetime(sd) for sd in all_days]\n",
    "all_days.sort()\n",
    "sample_days = all_days[13:20]\n",
    "\n",
    "contact_map = {\n",
    "    'student_lecturer':'far', \n",
    "    'student_student':'far',\n",
    "    'lecturer_lecturer':'far',\n",
    "}\n",
    "\n",
    "for frac in fractions:\n",
    "\n",
    "    # create the full contact network for the whole university with a given\n",
    "    # fraction of studence in presence\n",
    "    G = ncf.create_network(TU_students, TU_lecturers, TU_studies, \n",
    "                           TU_organisations, TU_groups, TU_dates, \n",
    "                           TU_rooms, sample_days, TU_estudents, \n",
    "                           TU_electurers, TU_exams, TU_edates,\n",
    "                           frac=frac)\n",
    "\n",
    "    # remove disconnected\n",
    "    N = len(G.nodes())\n",
    "    G.remove_nodes_from(list(nx.isolates(G)))\n",
    "    print('removed {} disconnected nodes'.format(N - len(G.nodes())))\n",
    "    \n",
    "    # keep only biggest connected component\n",
    "    N = len(G.nodes())\n",
    "    Gcc = sorted(nx.connected_components(G), key=len, reverse=True)\n",
    "    G = G.subgraph(Gcc[0])\n",
    "    print('removed {} nodes which were not in the biggest component'\\\n",
    "          .format(N - len(G.nodes())))\n",
    "\n",
    "    # map link types to contact strengths\n",
    "    ncf.map_contacts(G, contact_map)\n",
    "\n",
    "    # save the graph\n",
    "    nx.readwrite.gpickle.write_gpickle(G, join(network_dst,\n",
    "        'university_{}_to_{}_fraction-{}_TU.bz2'\\\n",
    "        .format(str(sample_days[0].date()), str(sample_days[-1].date()), frac)),\n",
    "        protocol=4)"
   ]
  },
  {
   "cell_type": "markdown",
   "metadata": {},
   "source": [
    "### Create NaWi Students only network"
   ]
  },
  {
   "cell_type": "code",
   "execution_count": null,
   "metadata": {},
   "outputs": [],
   "source": [
    "reload(ncf)\n",
    "fractions = [0.25, 0.5, 1.0, 'overbooked']\n",
    "network_dst = '../data/networks'\n",
    "all_days = list(dates['date'].unique())\n",
    "all_days = [pd.to_datetime(sd) for sd in all_days]\n",
    "all_days.sort()\n",
    "sample_days = all_days[13:20]\n",
    "\n",
    "contact_map = {\n",
    "    'student_lecturer':'far', \n",
    "    'student_student':'far',\n",
    "    'lecturer_lecturer':'far',\n",
    "}\n",
    "\n",
    "for frac in fractions:\n",
    "\n",
    "    # create the full contact network for the whole university with a given\n",
    "    # fraction of studence in presence\n",
    "    G = ncf.create_network(NaWi_students, NaWi_lecturers, NaWi_studies,\n",
    "                           NaWi_organisations, NaWi_groups, NaWi_dates,\n",
    "                           NaWi_rooms, sample_days, NaWi_estudents,\n",
    "                           NaWi_electurers, NaWi_exams, NaWi_edates,\n",
    "                           frac=frac)\n",
    "\n",
    "    # remove disconnected\n",
    "    N = len(G.nodes())\n",
    "    G.remove_nodes_from(list(nx.isolates(G)))\n",
    "    print('removed {} disconnected nodes'.format(N - len(G.nodes())))\n",
    "    \n",
    "    # keep only biggest connected component\n",
    "    N = len(G.nodes())\n",
    "    Gcc = sorted(nx.connected_components(G), key=len, reverse=True)\n",
    "    G = G.subgraph(Gcc[0])\n",
    "    print('removed {} nodes which were not in the biggest component'\\\n",
    "          .format(N - len(G.nodes())))\n",
    "\n",
    "    # map link types to contact strengths\n",
    "    ncf.map_contacts(G, contact_map)\n",
    "\n",
    "    # save the graph\n",
    "    nx.readwrite.gpickle.write_gpickle(G, join(network_dst,\n",
    "        'university_{}_to_{}_fraction-{}_NaWi.bz2'\\\n",
    "        .format(str(sample_days[0].date()), str(sample_days[-1].date()), frac)),\n",
    "        protocol=4)"
   ]
  }
 ],
 "metadata": {
  "kernelspec": {
   "display_name": "Python 3",
   "language": "python",
   "name": "python3"
  },
  "language_info": {
   "codemirror_mode": {
    "name": "ipython",
    "version": 3
   },
   "file_extension": ".py",
   "mimetype": "text/x-python",
   "name": "python",
   "nbconvert_exporter": "python",
   "pygments_lexer": "ipython3",
   "version": "3.8.8"
  }
 },
 "nbformat": 4,
 "nbformat_minor": 4
}
