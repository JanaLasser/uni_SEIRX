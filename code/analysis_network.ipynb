{
 "cells": [
  {
   "cell_type": "markdown",
   "id": "chemical-directive",
   "metadata": {},
   "source": [
    "# Analyse university contact networks"
   ]
  },
  {
   "cell_type": "code",
   "execution_count": 1,
   "id": "auburn-survey",
   "metadata": {},
   "outputs": [],
   "source": [
    "import networkx as nx\n",
    "from os.path import join\n",
    "import numpy as np\n",
    "import matplotlib.pyplot as plt\n",
    "import pandas as pd\n",
    "import seaborn as sns"
   ]
  },
  {
   "cell_type": "code",
   "execution_count": 2,
   "id": "simplified-marks",
   "metadata": {},
   "outputs": [],
   "source": [
    "src = '../data/networks'"
   ]
  },
  {
   "cell_type": "code",
   "execution_count": 3,
   "id": "biological-reaction",
   "metadata": {},
   "outputs": [],
   "source": [
    "G_all = nx.readwrite.gpickle.read_gpickle(\\\n",
    "        join(src, 'university_2019-10-16_to_2019-10-23_fraction-1_all.bz2')) \n",
    "G_TU = nx.readwrite.gpickle.read_gpickle(\\\n",
    "        join(src, 'university_2019-10-16_to_2019-10-23_fraction-1_TU.bz2'))\n",
    "G_NaWi = nx.readwrite.gpickle.read_gpickle(\\\n",
    "        join(src, 'university_2019-10-16_to_2019-10-23_fraction-1_NaWi.bz2'))"
   ]
  },
  {
   "cell_type": "markdown",
   "id": "nuclear-siemens",
   "metadata": {},
   "source": [
    "## Number of agents"
   ]
  },
  {
   "cell_type": "code",
   "execution_count": 6,
   "id": "designing-corpus",
   "metadata": {},
   "outputs": [
    {
     "name": "stdout",
     "output_type": "stream",
     "text": [
      "Full network: 10755 students, 974 lecturers\n"
     ]
    }
   ],
   "source": [
    "N_students_all = len([n for n in G_all.nodes(data=True) if n[1]['type'] == 'unistudent'])\n",
    "N_lecturers_all = len([n for n in G_all.nodes(data=True) if n[1]['type'] == 'lecturer'])\n",
    "print('Full network: {} students, {} lecturers'.format(N_students_all, N_lecturers_all))"
   ]
  },
  {
   "cell_type": "code",
   "execution_count": 7,
   "id": "traditional-shark",
   "metadata": {},
   "outputs": [
    {
     "name": "stdout",
     "output_type": "stream",
     "text": [
      "TU only network: 8103 students, 923 lecturers\n"
     ]
    }
   ],
   "source": [
    "N_students_TU = len([n for n in G_TU.nodes(data=True) if n[1]['type'] == 'unistudent'])\n",
    "N_lecturers_TU = len([n for n in G_TU.nodes(data=True) if n[1]['type'] == 'lecturer'])\n",
    "print('TU only network: {} students, {} lecturers'.format(N_students_TU, N_lecturers_TU))"
   ]
  },
  {
   "cell_type": "code",
   "execution_count": 8,
   "id": "political-community",
   "metadata": {},
   "outputs": [
    {
     "name": "stdout",
     "output_type": "stream",
     "text": [
      "NaWi only network: 2675 students, 533 lecturers\n"
     ]
    }
   ],
   "source": [
    "N_students_NaWi = len([n for n in G_NaWi.nodes(data=True) if n[1]['type'] == 'unistudent'])\n",
    "N_lecturers_NaWi = len([n for n in G_NaWi.nodes(data=True) if n[1]['type'] == 'lecturer'])\n",
    "print('NaWi only network: {} students, {} lecturers'.format(N_students_NaWi, N_lecturers_NaWi))"
   ]
  },
  {
   "cell_type": "markdown",
   "id": "alpine-entrance",
   "metadata": {},
   "source": [
    "## Average node degree"
   ]
  },
  {
   "cell_type": "code",
   "execution_count": 9,
   "id": "christian-south",
   "metadata": {},
   "outputs": [],
   "source": [
    "weekdays = {1:'Monday', 2:'Tuesday', 3:'Wednesday', 4:'Thursday',\n",
    "            5:'Friday', 6:'Saturday', 7:'Sunday'}"
   ]
  },
  {
   "cell_type": "code",
   "execution_count": 10,
   "id": "stopped-connectivity",
   "metadata": {},
   "outputs": [
    {
     "name": "stderr",
     "output_type": "stream",
     "text": [
      "<ipython-input-10-ca7d4cd14656>:12: RuntimeWarning: Mean of empty slice.\n",
      "  student_degree = np.asarray([G_wd.degree(s) for s in students]).mean()\n",
      "/home/jana/anaconda3/envs/covid/lib/python3.8/site-packages/numpy/core/_methods.py:170: RuntimeWarning: invalid value encountered in double_scalars\n",
      "  ret = ret.dtype.type(ret / rcount)\n",
      "<ipython-input-10-ca7d4cd14656>:13: RuntimeWarning: Mean of empty slice.\n",
      "  lecturer_degree = np.asarray([G_wd.degree(t) for t in lecturers]).mean()\n"
     ]
    }
   ],
   "source": [
    "degree_df_all = pd.DataFrame()\n",
    "weekday_connections = {}\n",
    "all_edges = G_all.edges(keys=True, data='weekday')\n",
    "\n",
    "for j in range(1, 8):\n",
    "    wd_edges = [(u, v, k) for (u, v, k, wd) in all_edges if wd == j]\n",
    "    G_wd = G_all.edge_subgraph(wd_edges).copy()\n",
    "\n",
    "    students = [x for x,y in G_wd.nodes(data=True) if y['type'] == 'unistudent']\n",
    "    lecturers = [x for x,y in G_wd.nodes(data=True) if y['type'] == 'lecturer']\n",
    "\n",
    "    student_degree = np.asarray([G_wd.degree(s) for s in students]).mean()\n",
    "    lecturer_degree = np.asarray([G_wd.degree(t) for t in lecturers]).mean()\n",
    "\n",
    "    degree_df_all = degree_df_all.append({\n",
    "        'weekday':weekdays[j],\n",
    "        'student_degree':student_degree,\n",
    "        'lecturer_degree':lecturer_degree,\n",
    "    }, ignore_index=True)\n",
    "            "
   ]
  },
  {
   "cell_type": "code",
   "execution_count": 11,
   "id": "sunrise-edmonton",
   "metadata": {},
   "outputs": [
    {
     "data": {
      "text/plain": [
       "19.81620442857372"
      ]
     },
     "execution_count": 11,
     "metadata": {},
     "output_type": "execute_result"
    }
   ],
   "source": [
    "degree_df_all.drop([5, 6])['student_degree'].mean()"
   ]
  },
  {
   "cell_type": "code",
   "execution_count": 12,
   "id": "hidden-guidance",
   "metadata": {},
   "outputs": [
    {
     "data": {
      "text/plain": [
       "35.403474556988854"
      ]
     },
     "execution_count": 12,
     "metadata": {},
     "output_type": "execute_result"
    }
   ],
   "source": [
    "degree_df_all.drop([5, 6])['lecturer_degree'].mean()"
   ]
  },
  {
   "cell_type": "code",
   "execution_count": 13,
   "id": "traditional-render",
   "metadata": {},
   "outputs": [
    {
     "name": "stderr",
     "output_type": "stream",
     "text": [
      "<ipython-input-13-914ee03f3e81>:12: RuntimeWarning: Mean of empty slice.\n",
      "  student_degree = np.asarray([G_wd.degree(s) for s in students]).mean()\n",
      "<ipython-input-13-914ee03f3e81>:13: RuntimeWarning: Mean of empty slice.\n",
      "  lecturer_degree = np.asarray([G_wd.degree(t) for t in lecturers]).mean()\n"
     ]
    }
   ],
   "source": [
    "degree_df_TU = pd.DataFrame()\n",
    "weekday_connections = {}\n",
    "all_edges = G_TU.edges(keys=True, data='weekday')\n",
    "\n",
    "for j in range(1, 8):\n",
    "    wd_edges = [(u, v, k) for (u, v, k, wd) in all_edges if wd == j]\n",
    "    G_wd = G_TU.edge_subgraph(wd_edges).copy()\n",
    "\n",
    "    students = [x for x,y in G_wd.nodes(data=True) if y['type'] == 'unistudent']\n",
    "    lecturers = [x for x,y in G_wd.nodes(data=True) if y['type'] == 'lecturer']\n",
    "\n",
    "    student_degree = np.asarray([G_wd.degree(s) for s in students]).mean()\n",
    "    lecturer_degree = np.asarray([G_wd.degree(t) for t in lecturers]).mean()\n",
    "\n",
    "    degree_df_TU = degree_df_TU.append({\n",
    "        'weekday':weekdays[j],\n",
    "        'student_degree':student_degree,\n",
    "        'lecturer_degree':lecturer_degree,\n",
    "    }, ignore_index=True)\n",
    "            "
   ]
  },
  {
   "cell_type": "code",
   "execution_count": 14,
   "id": "difficult-sponsorship",
   "metadata": {},
   "outputs": [
    {
     "data": {
      "text/plain": [
       "20.735638749215457"
      ]
     },
     "execution_count": 14,
     "metadata": {},
     "output_type": "execute_result"
    }
   ],
   "source": [
    "degree_df_TU.drop([5, 6])['student_degree'].mean()"
   ]
  },
  {
   "cell_type": "code",
   "execution_count": 15,
   "id": "spatial-centre",
   "metadata": {},
   "outputs": [
    {
     "data": {
      "text/plain": [
       "32.364364042254195"
      ]
     },
     "execution_count": 15,
     "metadata": {},
     "output_type": "execute_result"
    }
   ],
   "source": [
    "degree_df_TU.drop([5, 6])['lecturer_degree'].mean()"
   ]
  },
  {
   "cell_type": "code",
   "execution_count": 16,
   "id": "arranged-sharp",
   "metadata": {},
   "outputs": [
    {
     "name": "stderr",
     "output_type": "stream",
     "text": [
      "<ipython-input-16-4f6dc0484a71>:12: RuntimeWarning: Mean of empty slice.\n",
      "  student_degree = np.asarray([G_wd.degree(s) for s in students]).mean()\n",
      "<ipython-input-16-4f6dc0484a71>:13: RuntimeWarning: Mean of empty slice.\n",
      "  lecturer_degree = np.asarray([G_wd.degree(t) for t in lecturers]).mean()\n"
     ]
    }
   ],
   "source": [
    "degree_df_NaWi = pd.DataFrame()\n",
    "weekday_connections = {}\n",
    "all_edges = G_NaWi.edges(keys=True, data='weekday')\n",
    "\n",
    "for j in range(1, 8):\n",
    "    wd_edges = [(u, v, k) for (u, v, k, wd) in all_edges if wd == j]\n",
    "    G_wd = G_NaWi.edge_subgraph(wd_edges).copy()\n",
    "\n",
    "    students = [x for x,y in G_wd.nodes(data=True) if y['type'] == 'unistudent']\n",
    "    lecturers = [x for x,y in G_wd.nodes(data=True) if y['type'] == 'lecturer']\n",
    "\n",
    "    student_degree = np.asarray([G_wd.degree(s) for s in students]).mean()\n",
    "    lecturer_degree = np.asarray([G_wd.degree(t) for t in lecturers]).mean()\n",
    "\n",
    "    degree_df_NaWi = degree_df_NaWi.append({\n",
    "        'weekday':weekdays[j],\n",
    "        'student_degree':student_degree,\n",
    "        'lecturer_degree':lecturer_degree,\n",
    "    }, ignore_index=True)\n",
    "            "
   ]
  },
  {
   "cell_type": "code",
   "execution_count": 17,
   "id": "specialized-plasma",
   "metadata": {},
   "outputs": [
    {
     "data": {
      "text/plain": [
       "13.748206455010575"
      ]
     },
     "execution_count": 17,
     "metadata": {},
     "output_type": "execute_result"
    }
   ],
   "source": [
    "degree_df_NaWi.drop([5, 6])['student_degree'].mean()"
   ]
  },
  {
   "cell_type": "code",
   "execution_count": 18,
   "id": "fluid-search",
   "metadata": {},
   "outputs": [
    {
     "data": {
      "text/plain": [
       "12.553249363124744"
      ]
     },
     "execution_count": 18,
     "metadata": {},
     "output_type": "execute_result"
    }
   ],
   "source": [
    "degree_df_NaWi.drop([5, 6])['lecturer_degree'].mean()"
   ]
  },
  {
   "cell_type": "markdown",
   "id": "thermal-toyota",
   "metadata": {},
   "source": [
    "## Degree distributions"
   ]
  },
  {
   "cell_type": "code",
   "execution_count": 27,
   "id": "basic-masters",
   "metadata": {},
   "outputs": [],
   "source": [
    "# get each node's degree on Monday\n",
    "all_edges = G_all.edges(keys=True, data='weekday')\n",
    "wd_edges = [(u, v, k) for (u, v, k, wd) in all_edges if wd == 1]\n",
    "G_wd = G_all.edge_subgraph(wd_edges).copy()\n",
    "students_all = np.asarray([G_wd.degree(x) for x,y in G_wd.nodes(data=True) if y['type'] == 'unistudent'])\n",
    "lecturers_all = np.asarray([G_wd.degree(x) for x,y in G_wd.nodes(data=True) if y['type'] == 'lecturer'])\n",
    "\n",
    "all_edges = G_TU.edges(keys=True, data='weekday')\n",
    "wd_edges = [(u, v, k) for (u, v, k, wd) in all_edges if wd == 1]\n",
    "G_wd = G_TU.edge_subgraph(wd_edges).copy()\n",
    "students_TU = np.asarray([G_wd.degree(x) for x,y in G_wd.nodes(data=True) if y['type'] == 'unistudent'])\n",
    "lecturers_TU = np.asarray([G_wd.degree(x) for x,y in G_wd.nodes(data=True) if y['type'] == 'lecturer'])\n",
    "\n",
    "all_edges = G_NaWi.edges(keys=True, data='weekday')\n",
    "wd_edges = [(u, v, k) for (u, v, k, wd) in all_edges if wd == 1]\n",
    "G_wd = G_NaWi.edge_subgraph(wd_edges).copy()\n",
    "students_NaWi = np.asarray([G_wd.degree(x) for x,y in G_wd.nodes(data=True) if y['type'] == 'unistudent'])\n",
    "lecturers_NaWi = np.asarray([G_wd.degree(x) for x,y in G_wd.nodes(data=True) if y['type'] == 'lecturer'])"
   ]
  },
  {
   "cell_type": "code",
   "execution_count": 60,
   "id": "stainless-cylinder",
   "metadata": {},
   "outputs": [
    {
     "data": {
      "image/png": "[encoded data removed]",
      "text/plain": [
       "<Figure size 864x360 with 6 Axes>"
      ]
     },
     "metadata": {
      "needs_background": "light"
     },
     "output_type": "display_data"
    }
   ],
   "source": [
    "dst = '../plots'\n",
    "\n",
    "fig, axes = plt.subplots(2, 3, figsize=(12, 5))\n",
    "cutoff = 100\n",
    "cmap = sns.color_palette(\"mako\", as_cmap=True)\n",
    "c1 = cmap(0.75)\n",
    "c2 = cmap(0.25)\n",
    "\n",
    "ax = axes[0][0]\n",
    "degrees_all_masked = np.where(students_all > cutoff, cutoff, students_all)\n",
    "ax.hist(degrees_all_masked, bins=range(0, cutoff + 1, 2), density=True, color=c1)\n",
    "ax.set_ylabel('density')\n",
    "ax.set_title('all students')\n",
    "\n",
    "ax = axes[0][1]\n",
    "degrees_TU_masked = np.where(students_TU > cutoff, cutoff, students_TU)\n",
    "ax.hist(degrees_TU_masked, bins=range(0, cutoff + 1, 2), density=True, color=c1)\n",
    "ax.set_title('only TU students')\n",
    "\n",
    "ax = axes[0][2]\n",
    "degrees_NaWi_masked = np.where(students_NaWi > cutoff, cutoff, students_NaWi)\n",
    "ax.hist(degrees_NaWi_masked, bins=range(0, cutoff + 1, 2), density=True, color=c1)\n",
    "ax.set_title('only NaWi students')\n",
    "\n",
    "for ax in axes[0]:\n",
    "    ax.set_xticks([])\n",
    "    ax.set_ylim(0, 0.12)\n",
    "    ax.text(75, 0.1, 'students', fontsize=12)\n",
    "\n",
    "ax = axes[1][0]\n",
    "degrees_all_masked = np.where(lecturers_all > cutoff, cutoff, lecturers_all)\n",
    "ax.hist(degrees_all_masked, bins=range(0, cutoff + 1, 2), density=True, color=c2)\n",
    "ax.set_ylabel('density')\n",
    "\n",
    "ax = axes[1][1]\n",
    "degrees_TU_masked = np.where(lecturers_TU > cutoff, cutoff, lecturers_TU)\n",
    "ax.hist(degrees_TU_masked, bins=range(0, cutoff + 1, 2), density=True, color=c2)\n",
    "\n",
    "ax = axes[1][2]\n",
    "degrees_NaWi_masked = np.where(lecturers_NaWi > cutoff, cutoff, lecturers_NaWi)\n",
    "ax.hist(degrees_NaWi_masked, bins=range(0, cutoff + 1, 2), density=True, color=c2)\n",
    "\n",
    "\n",
    "for ax in axes[1]:\n",
    "    ax.set_xticks(range(0, cutoff + 1, 20))\n",
    "    ax.set_xticklabels([0, 20, 40, 60, 80, '>=100'])\n",
    "    ax.set_xlabel('node degree')\n",
    "    ax.set_ylim(0, 0.12)\n",
    "    ax.text(75, 0.10, 'faculty', fontsize=12)\n",
    "    \n",
    "for ax in axes[0][1:]:\n",
    "    ax.set_yticks([])\n",
    "for ax in axes[1][1:]:\n",
    "    ax.set_yticks([])\n",
    "\n",
    "\n",
    "fig.tight_layout()\n",
    "plt.savefig(join(dst, 'degree_distributios.eps'))"
   ]
  },
  {
   "cell_type": "markdown",
   "id": "copyrighted-illinois",
   "metadata": {},
   "source": [
    "## Percentage of agents and dates"
   ]
  },
  {
   "cell_type": "code",
   "execution_count": 123,
   "id": "heard-aquarium",
   "metadata": {},
   "outputs": [],
   "source": [
    "src = '../data/processed'\n",
    "students = pd.read_csv('../data/processed/students_processed.csv')\n",
    "students_raw = pd.read_csv('../data/raw/Grunddaten-Simulation/Studierende_pro_LV_mit_Idf.csv')\n",
    "students_raw = students_raw.rename(columns={\n",
    "    'ST_PERSON_NR':'student_id', # unique student identifier\n",
    "    'STP_SP_NR':'lecture_id', # unique lecture identifier\n",
    "    'LV_GRP_NR':'group_id', # (almost) unique group identifier \n",
    "    'STUDIENIDENTIFIKATOR':'study_id'}) # unique study identifier"
   ]
  },
  {
   "cell_type": "code",
   "execution_count": 118,
   "id": "choice-ceiling",
   "metadata": {},
   "outputs": [
    {
     "name": "stdout",
     "output_type": "stream",
     "text": [
      "12710 unique students were active in WiSe 2019/20\n",
      "10755 (84.62%) unique students remain in the network\n"
     ]
    }
   ],
   "source": [
    "N_students_raw = len(students_raw['student_id'].unique())\n",
    "print('{} unique students were active in WiSe 2019/20'.format(N1))\n",
    "\n",
    "print('{} ({:1.2f}%) unique students remain in the network'\\\n",
    "      .format(N_students_all, N_students_all/N_students_raw * 100))"
   ]
  },
  {
   "cell_type": "code",
   "execution_count": 136,
   "id": "moved-transcription",
   "metadata": {},
   "outputs": [
    {
     "name": "stdout",
     "output_type": "stream",
     "text": [
      "25379/24924 (98.21%) dates remain in the network\n"
     ]
    }
   ],
   "source": [
    "dates = pd.read_csv('../data/processed/dates_all_students.csv')\n",
    "N_dates_raw = len(dates[dates['lecture_id'].isin(students_raw['lecture_id'])])\n",
    "students_all = [n[0] for n in G_all.nodes(data=True) if n[1]['type'] == 'unistudent']\n",
    "students_processed = students[students['student_id'].isin(students_all)]\n",
    "N_dates_processed = len(dates[dates['lecture_id'].isin(students_processed['lecture_id'])])\n",
    "print('{}/{} ({:1.2f}%) dates remain in the network'\\\n",
    "    .format(N_dates_raw, N_dates_processed, N_dates_processed/N_dates_raw * 100))"
   ]
  },
  {
   "cell_type": "markdown",
   "id": "proprietary-colorado",
   "metadata": {},
   "source": [
    "## Network modularity"
   ]
  },
  {
   "cell_type": "code",
   "execution_count": 65,
   "id": "driven-theme",
   "metadata": {},
   "outputs": [],
   "source": [
    "from networkx.algorithms.community.modularity_max import greedy_modularity_communities\n",
    "from networkx.algorithms.community.quality import modularity"
   ]
  },
  {
   "cell_type": "code",
   "execution_count": 63,
   "id": "guided-exposure",
   "metadata": {},
   "outputs": [],
   "source": [
    "partition = greedy_modularity_communities(G_all)"
   ]
  },
  {
   "cell_type": "code",
   "execution_count": 67,
   "id": "velvet-wound",
   "metadata": {},
   "outputs": [
    {
     "data": {
      "text/plain": [
       "0.5981080609254139"
      ]
     },
     "execution_count": 67,
     "metadata": {},
     "output_type": "execute_result"
    }
   ],
   "source": [
    "modularity(G_all, partition)"
   ]
  },
  {
   "cell_type": "markdown",
   "id": "floating-television",
   "metadata": {},
   "source": [
    "## Export network as node- and edgelist"
   ]
  },
  {
   "cell_type": "code",
   "execution_count": 5,
   "id": "chinese-bahamas",
   "metadata": {},
   "outputs": [],
   "source": [
    "nx.readwrite.edgelist.write_edgelist(G_all, \"../data/networks/university_2019-10-16_to_2019-10-23_fraction-1_all_edgelist.csv\")"
   ]
  },
  {
   "cell_type": "code",
   "execution_count": 14,
   "id": "fitting-bowling",
   "metadata": {},
   "outputs": [],
   "source": [
    "nodelist = pd.DataFrame()\n",
    "for n in G_all.nodes(data=True):\n",
    "    node_data = {\"ID\":n[0]}\n",
    "    node_data.update(n[1])\n",
    "    nodelist = nodelist.append(node_data, ignore_index=True)\n",
    "    \n",
    "nodelist = nodelist.drop(columns=[\"unit\"])\n",
    "nodelist[\"ID\"] = nodelist[\"ID\"].astype(int)\n",
    "nodelist.to_csv(\"../data/networks/university_2019-10-16_to_2019-10-23_fraction-1_all_nodelist.csv\")"
   ]
  }
 ],
 "metadata": {
  "kernelspec": {
   "display_name": "Python 3",
   "language": "python",
   "name": "python3"
  },
  "language_info": {
   "codemirror_mode": {
    "name": "ipython",
    "version": 3
   },
   "file_extension": ".py",
   "mimetype": "text/x-python",
   "name": "python",
   "nbconvert_exporter": "python",
   "pygments_lexer": "ipython3",
   "version": "3.8.8"
  }
 },
 "nbformat": 4,
 "nbformat_minor": 5
}
