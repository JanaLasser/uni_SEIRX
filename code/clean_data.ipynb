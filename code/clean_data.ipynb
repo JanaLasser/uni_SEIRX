{
 "cells": [
  {
   "cell_type": "markdown",
   "metadata": {},
   "source": [
    "# Load and clean the raw data"
   ]
  },
  {
   "cell_type": "code",
   "execution_count": 1,
   "metadata": {},
   "outputs": [],
   "source": [
    "import pandas as pd\n",
    "import networkx as nx\n",
    "import numpy as np\n",
    "import matplotlib.pyplot as plt\n",
    "from os.path import join\n",
    "import datetime\n",
    "import string\n",
    "import network_creation_functions as ncf\n",
    "from importlib import reload"
   ]
  },
  {
   "cell_type": "code",
   "execution_count": 2,
   "metadata": {},
   "outputs": [],
   "source": [
    "src = '../data/raw/Grunddaten-Simulation'"
   ]
  },
  {
   "cell_type": "code",
   "execution_count": 3,
   "metadata": {},
   "outputs": [
    {
     "name": "stdout",
     "output_type": "stream",
     "text": [
      " Bedienstete_mit_DV_an_Org.csv\t Prüfungstermine_mit_Räumen.csv\n",
      " Lehrende.csv\t\t\t Räume.csv\n",
      " LV.csv\t\t\t\t Studiendaten.csv\n",
      " Prüfungen-2.csv\t\t Studierende_pro_LV.csv\n",
      " Prüfungen.csv\t\t\t Studierende_pro_LV_mit_Idf.csv\n",
      " Prüfungstermine.csv\t\t'Termine_mit_LV Bezug.csv'\n"
     ]
    }
   ],
   "source": [
    "! ls ../data/raw/Grunddaten-Simulation"
   ]
  },
  {
   "cell_type": "code",
   "execution_count": 4,
   "metadata": {},
   "outputs": [],
   "source": [
    "semester_start = ncf.semester_start # date of the semester start\n",
    "semester_end = ncf.semester_end # date of the semester end\n",
    "study_map = ncf.study_map # mapping of studies to degree levels"
   ]
  },
  {
   "cell_type": "markdown",
   "metadata": {},
   "source": [
    "## Studies"
   ]
  },
  {
   "cell_type": "code",
   "execution_count": 5,
   "metadata": {},
   "outputs": [
    {
     "data": {
      "text/html": [
       "<div>\n",
       "<style scoped>\n",
       "    .dataframe tbody tr th:only-of-type {\n",
       "        vertical-align: middle;\n",
       "    }\n",
       "\n",
       "    .dataframe tbody tr th {\n",
       "        vertical-align: top;\n",
       "    }\n",
       "\n",
       "    .dataframe thead th {\n",
       "        text-align: right;\n",
       "    }\n",
       "</style>\n",
       "<table border=\"1\" class=\"dataframe\">\n",
       "  <thead>\n",
       "    <tr style=\"text-align: right;\">\n",
       "      <th></th>\n",
       "      <th>student_id</th>\n",
       "      <th>study_id</th>\n",
       "      <th>study_name</th>\n",
       "      <th>term_number</th>\n",
       "      <th>study_level</th>\n",
       "    </tr>\n",
       "  </thead>\n",
       "  <tbody>\n",
       "    <tr>\n",
       "      <th>0</th>\n",
       "      <td>163460</td>\n",
       "      <td>UB 198 407 417 01</td>\n",
       "      <td>Bachelorstudium Lehramt Sek (AB); UF Englisch;...</td>\n",
       "      <td>7</td>\n",
       "      <td>bachelor</td>\n",
       "    </tr>\n",
       "    <tr>\n",
       "      <th>1</th>\n",
       "      <td>208510</td>\n",
       "      <td>UB 198 410 411 01</td>\n",
       "      <td>Bachelorstudium Lehramt Sek (AB); UF Geographi...</td>\n",
       "      <td>1</td>\n",
       "      <td>bachelor</td>\n",
       "    </tr>\n",
       "  </tbody>\n",
       "</table>\n",
       "</div>"
      ],
      "text/plain": [
       "   student_id           study_id  \\\n",
       "0      163460  UB 198 407 417 01   \n",
       "1      208510  UB 198 410 411 01   \n",
       "\n",
       "                                          study_name  term_number study_level  \n",
       "0  Bachelorstudium Lehramt Sek (AB); UF Englisch;...            7    bachelor  \n",
       "1  Bachelorstudium Lehramt Sek (AB); UF Geographi...            1    bachelor  "
      ]
     },
     "execution_count": 5,
     "metadata": {},
     "output_type": "execute_result"
    }
   ],
   "source": [
    "# List of studies for every student. A student can have more than one study,\n",
    "# which will show up as separate entries (row) for the same student_id. Each\n",
    "# study also has a term number, i.e. the number of semesters the student has\n",
    "# been enrolled in the given study.\n",
    "studies = pd.read_csv(join(src, 'Studiendaten.csv'), encoding='latin_1')\n",
    "studies = studies.rename(columns={\n",
    "    'ST_PERSON_NR':'student_id', # unique student identifier\n",
    "    'STUDIENIDENTIFIKATOR':'study_id', # unique study identifier\n",
    "    'STUDIENBEZEICHNUNG':'study_name', # (german) name of the study\n",
    "    'SEMESTERANZAHL':'term_number' # number of terms a student has been enrolled\n",
    "})\n",
    "\n",
    "# the text before the semicolon in the study_name field describes (approximately) \n",
    "# the degree and is mapped to a unified pre / post graduate degree scheme that was\n",
    "# informed by Timotheus Hell\n",
    "studies['study_level'] = studies['study_name'].apply(lambda x: x.split(';')[0])\n",
    "studies['study_level'] = studies['study_level'].replace(study_map)\n",
    "\n",
    "studies.head(2)"
   ]
  },
  {
   "cell_type": "markdown",
   "metadata": {},
   "source": [
    "## Students"
   ]
  },
  {
   "cell_type": "markdown",
   "metadata": {},
   "source": [
    "### Load and describe data"
   ]
  },
  {
   "cell_type": "code",
   "execution_count": 6,
   "metadata": {},
   "outputs": [
    {
     "name": "stdout",
     "output_type": "stream",
     "text": [
      "12710/21184 unique students were active in WiSe 2019/20\n",
      "92 students don't have an assigned study\n",
      "\n",
      "students are enrolled in 336 unique studies\n",
      "3 studies are not contained in the study df\n"
     ]
    },
    {
     "data": {
      "text/html": [
       "<div>\n",
       "<style scoped>\n",
       "    .dataframe tbody tr th:only-of-type {\n",
       "        vertical-align: middle;\n",
       "    }\n",
       "\n",
       "    .dataframe tbody tr th {\n",
       "        vertical-align: top;\n",
       "    }\n",
       "\n",
       "    .dataframe thead th {\n",
       "        text-align: right;\n",
       "    }\n",
       "</style>\n",
       "<table border=\"1\" class=\"dataframe\">\n",
       "  <thead>\n",
       "    <tr style=\"text-align: right;\">\n",
       "      <th></th>\n",
       "      <th>student_id</th>\n",
       "      <th>study_id</th>\n",
       "      <th>lecture_id</th>\n",
       "      <th>group_id</th>\n",
       "    </tr>\n",
       "  </thead>\n",
       "  <tbody>\n",
       "    <tr>\n",
       "      <th>0</th>\n",
       "      <td>194228</td>\n",
       "      <td>UF 033 245</td>\n",
       "      <td>225442</td>\n",
       "      <td>263409</td>\n",
       "    </tr>\n",
       "    <tr>\n",
       "      <th>1</th>\n",
       "      <td>182296</td>\n",
       "      <td>UF 033 273</td>\n",
       "      <td>226073</td>\n",
       "      <td>254793</td>\n",
       "    </tr>\n",
       "    <tr>\n",
       "      <th>2</th>\n",
       "      <td>193960</td>\n",
       "      <td>UF 033 253</td>\n",
       "      <td>226598</td>\n",
       "      <td>260636</td>\n",
       "    </tr>\n",
       "  </tbody>\n",
       "</table>\n",
       "</div>"
      ],
      "text/plain": [
       "   student_id    study_id  lecture_id  group_id\n",
       "0      194228  UF 033 245      225442    263409\n",
       "1      182296  UF 033 273      226073    254793\n",
       "2      193960  UF 033 253      226598    260636"
      ]
     },
     "execution_count": 6,
     "metadata": {},
     "output_type": "execute_result"
    }
   ],
   "source": [
    "# List of enrolled lectures of the WiSe 2019/20 for every student. A lecture\n",
    "# can have several groups (for example for tutorial parts). The group\n",
    "# identifier is also listed for every student. It is not completely unique\n",
    "# as there are a number of overlapping groups (for example same time, \n",
    "# different rooms). These are disambiguated at a later point in the data\n",
    "# cleaning process.\n",
    "# The data also includes the identifier of the study through which the \n",
    "# student enrolled in a given lecture. \n",
    "students = pd.read_csv(join(src, 'Studierende_pro_LV_mit_Idf.csv'))\n",
    "students = students.rename(columns={\n",
    "    'ST_PERSON_NR':'student_id', # unique student identifier\n",
    "    'STP_SP_NR':'lecture_id', # unique lecture identifier\n",
    "    'LV_GRP_NR':'group_id', # (almost) unique group identifier \n",
    "    'STUDIENIDENTIFIKATOR':'study_id'}) # unique study identifier\n",
    "\n",
    "N = len(students['student_id'].unique())\n",
    "print('{}/{} unique students were active in WiSe 2019/20'\\\n",
    "      .format(N, len(studies['student_id'].unique())))\n",
    "nostudy = students[~students['student_id'].isin(studies['student_id'])]\n",
    "print(\"{} students don't have an assigned study\"\\\n",
    "      .format(len(nostudy['student_id'].unique())))\n",
    "\n",
    "print()\n",
    "print('students are enrolled in {} unique studies'\\\n",
    "      .format(len(students['study_id'].unique())))\n",
    "print('{} studies are not contained in the study df'\\\n",
    "      .format(len(set(students['study_id']).difference(set(studies['study_id'])))))\n",
    "\n",
    "students.head(3)"
   ]
  },
  {
   "cell_type": "markdown",
   "metadata": {},
   "source": [
    "### Manually add missing studies"
   ]
  },
  {
   "cell_type": "code",
   "execution_count": 7,
   "metadata": {},
   "outputs": [],
   "source": [
    "# a number of studies (three) that students from the student df are enrolled in\n",
    "# are not contained in the study df. We manually searched for the names of these\n",
    "# studies and add them to the study df. Since we don't know the term numbers for\n",
    "# the students in these studies, we set them to NaN. \n",
    "diff = set(students['study_id']).difference(set(studies['study_id']))\n",
    "missing_studies = students[students['study_id'].isin(diff)]\\\n",
    "    .drop_duplicates(subset=['study_id'])\\\n",
    "    .drop(columns=['lecture_id', 'group_id'])\n",
    "\n",
    "# manually searched study names\n",
    "missing_studies_names = {\n",
    "    'UF 066 434':'Masterstudium; Advanced Materials Science',\n",
    "    'UB 190 406 482':'Lehramtsstudium; UF Mathematik; UF Bewegung und Sport',\n",
    "    'UF 199 505 520 01':'Masterstudium; Lehramt Sek (AB) UF Darstellende Geometrie UF Mathematik'\n",
    "}\n",
    "missing_studies['study_name'] = missing_studies['study_id'].replace(missing_studies_names)\n",
    "missing_studies['study_level'] = missing_studies['study_name'].apply(lambda x: x.split(';')[0])\n",
    "missing_studies['study_level'] = missing_studies['study_level'].replace(study_map)\n",
    "missing_studies['term_number'] = np.nan\n",
    "\n",
    "# add missing studies to the study df and ensure that all studies of all students\n",
    "# are now contained in both the students and the studies df\n",
    "studies = pd.concat([studies, missing_studies]).reset_index(drop=True)\n",
    "assert len(set(students['study_id']).difference(set(studies['study_id']))) == 0\n",
    "del missing_studies"
   ]
  },
  {
   "cell_type": "markdown",
   "metadata": {},
   "source": [
    "### Assign study labels (TU & NAWI)"
   ]
  },
  {
   "cell_type": "code",
   "execution_count": 8,
   "metadata": {},
   "outputs": [
    {
     "name": "stdout",
     "output_type": "stream",
     "text": [
      "dropped 744/12710 students that do not have a TU or NaWi Graz study\n"
     ]
    }
   ],
   "source": [
    "# TU Graz offers a wide variety of studies. Some of them in cooperation with\n",
    "# other local universities, such as Uni Graz, the university of arts and\n",
    "# teaching studies (organised Austria-wide). The vast majority of these\n",
    "# collaborative studies are organised under the umbrella of \"NaWi Graz\"\n",
    "# (NaturWissenschaften Graz), in cooperation with Uni Graz. \n",
    "\n",
    "# Students who are enrolled in one of these collaboratively organised studies\n",
    "# have a high chance of having the majority of their classes at the premises \n",
    "# of other universities. We therefore assign the studies to a total of 6\n",
    "# labels, indicating which university they belong to. This will later enable\n",
    "# us to filter by study and exclude students which are not enrolled in \n",
    "# native TU Graz studies.\n",
    "\n",
    "# study labels (supplied by Timotheus Hell):\n",
    "# \"t\": TU Graz study\n",
    "# \"n\": NaWi Graz study (study with uni Graz)\n",
    "# \"l\": teaching study (study with 8 other universities)\n",
    "# \"k\": study with university of arts\n",
    "# \"w\": further training courses\n",
    "# \"a\": other university\n",
    "study_labels = pd.read_csv(join('../data/cleaned', 'study_labels.csv'))\n",
    "label_map = {row['study_id']:row['study_label'] for i, row in \\\n",
    "            study_labels.iterrows()}\n",
    "studies['study_label'] = studies['study_id'].replace(label_map)\n",
    "students['study_label'] = students['study_id'].replace(label_map)\n",
    "\n",
    "# we only keep students who are enrolled in either a native TU or a NaWi\n",
    "# study. These students are the vast majority, only 744 students are \n",
    "# dropped because they are enrolled in another study.\n",
    "N = len(students['student_id'].unique())\n",
    "students = students[students['study_label'].isin(['t', 'n'])]\n",
    "print('dropped {}/{} students that do not have a TU or NaWi Graz study'\\\n",
    "    .format(N - len(students['student_id'].unique()), N))\n",
    "\n",
    "# remove entries in the studies-df that correspond to students or studies\n",
    "# which are not active in WiSe 2019/20 or not enrolled in native TU Graz \n",
    "# or NaWi studies\n",
    "studies = studies[studies['study_label'].isin(['t', 'n'])]\n",
    "studies = studies[studies['student_id'].isin(students['student_id'].unique())]"
   ]
  },
  {
   "cell_type": "markdown",
   "metadata": {},
   "source": [
    "### Determine a student's main study"
   ]
  },
  {
   "cell_type": "markdown",
   "metadata": {},
   "source": [
    "**Note**: this is performed at the graph creation step when student nodes are added in `network_creation_functions.add_students()`."
   ]
  },
  {
   "cell_type": "code",
   "execution_count": 9,
   "metadata": {},
   "outputs": [
    {
     "data": {
      "text/plain": [
       "\"\\n# count the number of lectures a student visits from each distinct study\\nlecture_counts = students[['student_id', 'study_id', 'lecture_id']]    .groupby(['student_id', 'study_id'])    .count()    .rename(columns={'lecture_id':'lecture_count'}).copy()\\n\""
      ]
     },
     "execution_count": 9,
     "metadata": {},
     "output_type": "execute_result"
    }
   ],
   "source": [
    "'''\n",
    "# count the number of lectures a student visits from each distinct study\n",
    "lecture_counts = students[['student_id', 'study_id', 'lecture_id']]\\\n",
    "    .groupby(['student_id', 'study_id'])\\\n",
    "    .count()\\\n",
    "    .rename(columns={'lecture_id':'lecture_count'}).copy()\n",
    "'''"
   ]
  },
  {
   "cell_type": "code",
   "execution_count": 10,
   "metadata": {},
   "outputs": [
    {
     "data": {
      "text/plain": [
       "\"\\nstudents = students.set_index('student_id')\\nstudents['main_study'] = np.nan\\n\\nfor student_id in lecture_counts.index.get_level_values(0):\\n    student_data = lecture_counts.loc[student_id]\\n    # student has lectures from more than one study?\\n    if len(student_data) > 1:\\n        # pick the study with the most lectures as the main study\\n        max_lectures = lecture_counts.loc[student_id]['lecture_count'].max()\\n        student_data = student_data[student_data['lecture_count'] == max_lectures]\\n        # student has the same amount of lectures from multiple studies?\\n        if len(student_data) > 1:\\n            # pick a random study as main study\\n            student_data = student_data.sample(1, random_state=42)\\n    \\n    assert len(student_data) == 1\\n    students.loc[student_id, 'main_study'] = student_data.index[0]\\n\\nstudents = students.reset_index()\\nassert len(students) == len(students.dropna(subset=['main_study']))\\n\""
      ]
     },
     "execution_count": 10,
     "metadata": {},
     "output_type": "execute_result"
    }
   ],
   "source": [
    "'''\n",
    "students = students.set_index('student_id')\n",
    "students['main_study'] = np.nan\n",
    "\n",
    "for student_id in lecture_counts.index.get_level_values(0):\n",
    "    student_data = lecture_counts.loc[student_id]\n",
    "    # student has lectures from more than one study?\n",
    "    if len(student_data) > 1:\n",
    "        # pick the study with the most lectures as the main study\n",
    "        max_lectures = lecture_counts.loc[student_id]['lecture_count'].max()\n",
    "        student_data = student_data[student_data['lecture_count'] == max_lectures]\n",
    "        # student has the same amount of lectures from multiple studies?\n",
    "        if len(student_data) > 1:\n",
    "            # pick a random study as main study\n",
    "            student_data = student_data.sample(1, random_state=42)\n",
    "    \n",
    "    assert len(student_data) == 1\n",
    "    students.loc[student_id, 'main_study'] = student_data.index[0]\n",
    "\n",
    "students = students.reset_index()\n",
    "assert len(students) == len(students.dropna(subset=['main_study']))\n",
    "'''"
   ]
  },
  {
   "cell_type": "markdown",
   "metadata": {},
   "source": [
    "## Lectures"
   ]
  },
  {
   "cell_type": "code",
   "execution_count": 11,
   "metadata": {},
   "outputs": [
    {
     "name": "stdout",
     "output_type": "stream",
     "text": [
      "1747/6334 available lectures were visited by the students\n"
     ]
    },
    {
     "data": {
      "text/html": [
       "<div>\n",
       "<style scoped>\n",
       "    .dataframe tbody tr th:only-of-type {\n",
       "        vertical-align: middle;\n",
       "    }\n",
       "\n",
       "    .dataframe tbody tr th {\n",
       "        vertical-align: top;\n",
       "    }\n",
       "\n",
       "    .dataframe thead th {\n",
       "        text-align: right;\n",
       "    }\n",
       "</style>\n",
       "<table border=\"1\" class=\"dataframe\">\n",
       "  <thead>\n",
       "    <tr style=\"text-align: right;\">\n",
       "      <th></th>\n",
       "      <th>lecture_id</th>\n",
       "      <th>module_id</th>\n",
       "      <th>lecture_name_ger</th>\n",
       "      <th>lecture_name</th>\n",
       "      <th>lecture_type</th>\n",
       "      <th>organisation_id</th>\n",
       "      <th>organisaton_name</th>\n",
       "    </tr>\n",
       "  </thead>\n",
       "  <tbody>\n",
       "    <tr>\n",
       "      <th>0</th>\n",
       "      <td>223321</td>\n",
       "      <td>710.095</td>\n",
       "      <td>Bildverstehen</td>\n",
       "      <td>Image Understanding</td>\n",
       "      <td>KU</td>\n",
       "      <td>2376</td>\n",
       "      <td>Institut f�r Maschinelles Sehen und Darstellen</td>\n",
       "    </tr>\n",
       "    <tr>\n",
       "      <th>1</th>\n",
       "      <td>223319</td>\n",
       "      <td>710.085</td>\n",
       "      <td>AK Computer Vision</td>\n",
       "      <td>Selected Topics Computer Vision</td>\n",
       "      <td>KU</td>\n",
       "      <td>2376</td>\n",
       "      <td>Institut f�r Maschinelles Sehen und Darstellen</td>\n",
       "    </tr>\n",
       "    <tr>\n",
       "      <th>2</th>\n",
       "      <td>225639</td>\n",
       "      <td>373.381</td>\n",
       "      <td>Buchhaltung und Bilanzierung</td>\n",
       "      <td>Accounting and Balancing</td>\n",
       "      <td>UE</td>\n",
       "      <td>11072</td>\n",
       "      <td>Institut f�r Betriebswirtschaftslehre und Betr...</td>\n",
       "    </tr>\n",
       "  </tbody>\n",
       "</table>\n",
       "</div>"
      ],
      "text/plain": [
       "   lecture_id module_id              lecture_name_ger  \\\n",
       "0      223321   710.095                 Bildverstehen   \n",
       "1      223319   710.085            AK Computer Vision   \n",
       "2      225639   373.381  Buchhaltung und Bilanzierung   \n",
       "\n",
       "                      lecture_name lecture_type organisation_id  \\\n",
       "0              Image Understanding           KU            2376   \n",
       "1  Selected Topics Computer Vision           KU            2376   \n",
       "2         Accounting and Balancing           UE           11072   \n",
       "\n",
       "                                    organisaton_name  \n",
       "0     Institut f�r Maschinelles Sehen und Darstellen  \n",
       "1     Institut f�r Maschinelles Sehen und Darstellen  \n",
       "2  Institut f�r Betriebswirtschaftslehre und Betr...  "
      ]
     },
     "execution_count": 11,
     "metadata": {},
     "output_type": "execute_result"
    }
   ],
   "source": [
    "# list of lectures was manually cleaned, since for some rows, the entries starting\n",
    "# from the column STP_LV_ART_KURZ were shifted to the right by one column\n",
    "\n",
    "# list of lectures with information about their type, their name, their module\n",
    "# (this is only relevant for how studies are composed at TU Graz) and the \n",
    "# organisational unit (institute, faculty) which is responsible for the lecture.\n",
    "lectures = pd.read_csv(join('../data/cleaned', 'LV_cleaned.csv'))\n",
    "lectures = lectures.rename(columns={\n",
    "    'STP_SP_NR':'lecture_id', # unique lecture id\n",
    "    'STP_SP_TITEL':'lecture_name_ger', # german lecture name\n",
    "    'STP_SP_TITEL_ENGL':'lecture_name', # english lecture name\n",
    "    'STP_LV_ART_KURZ':'lecture_type', # type of the lecture (tutorial, lab, ...)\n",
    "    'BETREUENDE_ORG_NR':'organisation_id', # id of the organisation (institute) responsible for the lecture\n",
    "    'BETREUENDE_ORG_NAME':'organisaton_name', # name of the responsible organisation\n",
    "    'STP_SP_LVNR':'module_id' # unique id of the module \n",
    "})\n",
    "\n",
    "# drop unneccesary columns\n",
    "lectures = lectures.drop(columns=['Unnamed: 11', 'STP_LV_ART_NAME', 'SJ_NAME',\n",
    "                                  'SEMESTER_KB', 'STP_SP_SST'])\n",
    "# drop all lectures that are not visited by students in WiSe 2019/20\n",
    "N = len(lectures)\n",
    "lectures = lectures[lectures['lecture_id'].isin(students['lecture_id'])]\n",
    "print('{}/{} available lectures were visited by the students'\\\n",
    "      .format(len(lectures), N))\n",
    "lectures.head(3)"
   ]
  },
  {
   "cell_type": "markdown",
   "metadata": {},
   "source": [
    "## Lecturers"
   ]
  },
  {
   "cell_type": "code",
   "execution_count": 12,
   "metadata": {},
   "outputs": [
    {
     "name": "stdout",
     "output_type": "stream",
     "text": [
      "1502/1853 lecturers are active in courses that were visited by students\n"
     ]
    },
    {
     "data": {
      "text/html": [
       "<div>\n",
       "<style scoped>\n",
       "    .dataframe tbody tr th:only-of-type {\n",
       "        vertical-align: middle;\n",
       "    }\n",
       "\n",
       "    .dataframe tbody tr th {\n",
       "        vertical-align: top;\n",
       "    }\n",
       "\n",
       "    .dataframe thead th {\n",
       "        text-align: right;\n",
       "    }\n",
       "</style>\n",
       "<table border=\"1\" class=\"dataframe\">\n",
       "  <thead>\n",
       "    <tr style=\"text-align: right;\">\n",
       "      <th></th>\n",
       "      <th>lecturer_id</th>\n",
       "      <th>lecture_id</th>\n",
       "      <th>group_id</th>\n",
       "    </tr>\n",
       "  </thead>\n",
       "  <tbody>\n",
       "    <tr>\n",
       "      <th>1</th>\n",
       "      <td>23030</td>\n",
       "      <td>221435</td>\n",
       "      <td>258144</td>\n",
       "    </tr>\n",
       "    <tr>\n",
       "      <th>2</th>\n",
       "      <td>71025</td>\n",
       "      <td>228594</td>\n",
       "      <td>263699</td>\n",
       "    </tr>\n",
       "    <tr>\n",
       "      <th>3</th>\n",
       "      <td>109917</td>\n",
       "      <td>225445</td>\n",
       "      <td>257591</td>\n",
       "    </tr>\n",
       "  </tbody>\n",
       "</table>\n",
       "</div>"
      ],
      "text/plain": [
       "   lecturer_id  lecture_id  group_id\n",
       "1        23030      221435    258144\n",
       "2        71025      228594    263699\n",
       "3       109917      225445    257591"
      ]
     },
     "execution_count": 12,
     "metadata": {},
     "output_type": "execute_result"
    }
   ],
   "source": [
    "# list of lecturers which are responsible for lectures and groups within\n",
    "# lectures. Similar to the list of students, the group_id is disambiguated\n",
    "# later in the data cleaning process\n",
    "lecturers = pd.read_csv(join(src, 'Lehrende.csv'))\n",
    "lecturers = lecturers.rename(columns={\n",
    "    'PERSON_NR':'lecturer_id', # unique lecturer id\n",
    "    'STP_SP_NR':'lecture_id', # unique lecture id\n",
    "    'LV_GRP_NR':'group_id'# (almost) unique group id\n",
    "})\n",
    "N = len(lecturers['lecturer_id'].unique())\n",
    "lecturers = lecturers[lecturers['lecture_id'].isin(students['lecture_id'])]\n",
    "print('{}/{} lecturers are active in courses that were visited by students'\\\n",
    "      .format(len(lecturers['lecturer_id'].unique()), N))\n",
    "lecturers.head(3)"
   ]
  },
  {
   "cell_type": "markdown",
   "metadata": {},
   "source": [
    "## Organisations"
   ]
  },
  {
   "cell_type": "code",
   "execution_count": 13,
   "metadata": {},
   "outputs": [
    {
     "name": "stdout",
     "output_type": "stream",
     "text": [
      "lecturers are from 220 organisations\n"
     ]
    },
    {
     "data": {
      "text/html": [
       "<div>\n",
       "<style scoped>\n",
       "    .dataframe tbody tr th:only-of-type {\n",
       "        vertical-align: middle;\n",
       "    }\n",
       "\n",
       "    .dataframe tbody tr th {\n",
       "        vertical-align: top;\n",
       "    }\n",
       "\n",
       "    .dataframe thead th {\n",
       "        text-align: right;\n",
       "    }\n",
       "</style>\n",
       "<table border=\"1\" class=\"dataframe\">\n",
       "  <thead>\n",
       "    <tr style=\"text-align: right;\">\n",
       "      <th></th>\n",
       "      <th>lecturer_id</th>\n",
       "      <th>organisation_id</th>\n",
       "      <th>organisation_name</th>\n",
       "    </tr>\n",
       "  </thead>\n",
       "  <tbody>\n",
       "    <tr>\n",
       "      <th>2273</th>\n",
       "      <td>3261</td>\n",
       "      <td>2376</td>\n",
       "      <td>Institut für Maschinelles Sehen und Darstellen</td>\n",
       "    </tr>\n",
       "    <tr>\n",
       "      <th>1094</th>\n",
       "      <td>1743</td>\n",
       "      <td>34886</td>\n",
       "      <td>Veränderungsprozesse und Umsetzung</td>\n",
       "    </tr>\n",
       "    <tr>\n",
       "      <th>3095</th>\n",
       "      <td>102143</td>\n",
       "      <td>13706</td>\n",
       "      <td>Institut für Maschinenbau- und Betriebsinformatik</td>\n",
       "    </tr>\n",
       "  </tbody>\n",
       "</table>\n",
       "</div>"
      ],
      "text/plain": [
       "      lecturer_id  organisation_id  \\\n",
       "2273         3261             2376   \n",
       "1094         1743            34886   \n",
       "3095       102143            13706   \n",
       "\n",
       "                                      organisation_name  \n",
       "2273     Institut für Maschinelles Sehen und Darstellen  \n",
       "1094                 Veränderungsprozesse und Umsetzung  \n",
       "3095  Institut für Maschinenbau- und Betriebsinformatik  "
      ]
     },
     "execution_count": 13,
     "metadata": {},
     "output_type": "execute_result"
    }
   ],
   "source": [
    "# Mapping of lecturers to organisations (institute, faculty). A lecturer can\n",
    "# be associated with more than one organisation.\n",
    "organisations = pd.read_csv(join(src, 'Bedienstete_mit_DV_an_Org.csv'),\n",
    "                            encoding='latin_1')\n",
    "organisations = organisations.rename(columns={\n",
    "    'PERSON_NR':'lecturer_id', # unique lecturer id\n",
    "    'ORG_NR':'organisation_id', # unique organisation id\n",
    "    'TUG_NEW.PUORG.GETNAME(A.ORG_NR)':'organisation_name' # German organisation name\n",
    "})\n",
    "# some lecturers have more than one affiliation. We keep a random affiliation\n",
    "# and drop the others to keep things simple\n",
    "organisations = organisations.sample(frac=1, random_state=42)\n",
    "organisations = organisations.drop_duplicates(subset=['lecturer_id'])\n",
    "print('lecturers are from {} organisations'\\\n",
    "      .format(len(organisations['organisation_id'].unique())))\n",
    "organisations.head(3)"
   ]
  },
  {
   "cell_type": "markdown",
   "metadata": {},
   "source": [
    "## Dates & rooms"
   ]
  },
  {
   "cell_type": "code",
   "execution_count": 14,
   "metadata": {},
   "outputs": [],
   "source": [
    "# events (start time, end time, room) for every lecture and group in WiSe 2019/20\n",
    "dates = pd.read_csv(join(src, 'Termine_mit_LV Bezug.csv'),\n",
    "                parse_dates=['DATUM_AM', 'ZEIT_VON', 'ZEIT_BIS'], dayfirst=True)\n",
    "dates = dates.rename(columns={\n",
    "    'RES_NR':'room_id', # unique room id\n",
    "    'DATUM_AM':'date', # date\n",
    "    'ZEIT_VON':'start_time', # start time\n",
    "    'ZEIT_BIS':'end_time', # end time\n",
    "    'STP_SP_NR':'lecture_id', # unique lecture id\n",
    "    'LV_GRP_NR':'group_id'# (almost) unique group id\n",
    "})\n",
    "\n",
    "# List of rooms and information about them (number of seats, square meters).\n",
    "# TU Graz has three campuses: Alte Technik, Neue Technik and Inffeldgasse. The\n",
    "# mapping of every room to a campus is also stored.\n",
    "\n",
    "# Information for rooms outside TU Graz premises was missing. Jana Lasser \n",
    "# manually searched for and filled in room information for rooms at Uni Graz \n",
    "# and added the information to the file /data/raw/Räume.csv. The updated file \n",
    "# is stored in /data/cleaned/Räume_cleaned.csv. These rooms are excluded from\n",
    "# the further analysis anyways though.\n",
    "\n",
    "rooms = pd.read_csv(join('../data/cleaned', 'Räume_cleaned.csv'), \n",
    "                    usecols=['RES_NR', 'RAUM_CODE', 'RAUM_SITZPLAETZE',\n",
    "                            'QUADRATMETER', 'RAUM_GEBAEUDE_BEREICH_NAME'],\n",
    "                    encoding='latin_1')\n",
    "rooms = rooms.rename(columns={\n",
    "    'RES_NR':'room_id', # unique room id\n",
    "    'RAUM_CODE':'room_code', # room code (only relevant to look the room up in the online system)\n",
    "    'RAUM_SITZPLAETZE':'seats', # number of seats in the room\n",
    "    'QUADRATMETER':'area', # number of square meters in the room\n",
    "    'RAUM_GEBAEUDE_BEREICH_NAME':'campus' # campus where the room is located\n",
    "})"
   ]
  },
  {
   "cell_type": "markdown",
   "metadata": {},
   "source": [
    "### Drop rooms and dates that are not on TU Graz premises"
   ]
  },
  {
   "cell_type": "code",
   "execution_count": 15,
   "metadata": {},
   "outputs": [
    {
     "name": "stdout",
     "output_type": "stream",
     "text": [
      "dropped 72/2288 rooms that are not on TU Graz premises\n",
      "dropped 640/29147 events that occured in rooms outside TU Graz premises\n"
     ]
    }
   ],
   "source": [
    "# drop all rooms which are not on TU Graz premises\n",
    "N = len(rooms)\n",
    "rooms = rooms[rooms['campus'].isin(['Inffeldgasse', 'Alte Technik',\n",
    "                                    'Neue Technik'])]\n",
    "print('dropped {}/{} rooms that are not on TU Graz premises'\\\n",
    "      .format(N - len(rooms), N))\n",
    "\n",
    "# drop all events that ocurred in rooms outside TU Graz premises\n",
    "N = len(dates)\n",
    "dates = dates[dates['room_id'].isin(rooms['room_id'].unique())]\n",
    "print('dropped {}/{} events that occured in rooms outside TU Graz premises'\\\n",
    "      .format(N - len(dates), N))"
   ]
  },
  {
   "cell_type": "markdown",
   "metadata": {},
   "source": [
    "### Drop events that occured outside normal lecture hours"
   ]
  },
  {
   "cell_type": "code",
   "execution_count": 16,
   "metadata": {},
   "outputs": [
    {
     "name": "stdout",
     "output_type": "stream",
     "text": [
      "dropped 29/28507 events with a start time later than 8:00 PM\n",
      "dropped 109/28478 events with a start time earlier than 7:00 AM\n",
      "dropped 0/28369 events with a start time at 00:00\n"
     ]
    }
   ],
   "source": [
    "# convert the start and end datetime to a time and drop all events\n",
    "# which occured outside normal lecture hours, i.e. had a start time\n",
    "# before 7:00 AM, after 8:00 PM or at exactly midnight (not covered\n",
    "# by either of the two conditions). We assume these events are either\n",
    "# erroneous entries or placeholder events.\n",
    "dates['datetime'] = dates['start_time'].copy() \n",
    "dates['start_time'] = dates['start_time'].apply(lambda x: x.time())\n",
    "dates['end_time'] = dates['end_time'].apply(lambda x: x.time())\n",
    "N = len(dates)\n",
    "dates = dates[dates['start_time'] <= datetime.time(20, 0)]\n",
    "print('dropped {}/{} events with a start time later than 8:00 PM'\\\n",
    "      .format(N - len(dates), N))\n",
    "N = len(dates)\n",
    "dates = dates[dates['start_time'] >= datetime.time(7, 0)]\n",
    "print('dropped {}/{} events with a start time earlier than 7:00 AM'\\\n",
    "      .format(N - len(dates), N))\n",
    "N = len(dates)\n",
    "dates = dates[dates['start_time'] >= datetime.time(0, 0)]\n",
    "print('dropped {}/{} events with a start time at 00:00'\\\n",
    "      .format(N - len(dates), N))\n",
    "\n",
    "# Make sure all events take place within the time specified by the semester\n",
    "# start (2019-10-01) and semester end (2020-02-28).\n",
    "assert len(dates) == len(dates[dates['date'] >= pd.to_datetime(semester_start)])\n",
    "assert len(dates) == len(dates[dates['date'] <= pd.to_datetime(semester_end)])"
   ]
  },
  {
   "cell_type": "markdown",
   "metadata": {},
   "source": [
    "### Calculate event durations"
   ]
  },
  {
   "cell_type": "code",
   "execution_count": 17,
   "metadata": {},
   "outputs": [],
   "source": [
    "# Calculate the duration of events and drop all events that have a duration\n",
    "# of more than 13 hours. We assume these events are either erroneous entries \n",
    "# or placeholder events.\n",
    "dates['duration'] = dates.apply(ncf.calculate_duration, axis=1)\n",
    "dates = dates[dates['duration'] <= 780]"
   ]
  },
  {
   "cell_type": "code",
   "execution_count": 18,
   "metadata": {},
   "outputs": [],
   "source": [
    "dates.to_csv('../data/processed/dates_all_students.csv', index=False)"
   ]
  },
  {
   "cell_type": "markdown",
   "metadata": {},
   "source": [
    "### Drop all events and rooms that are not visited by students"
   ]
  },
  {
   "cell_type": "code",
   "execution_count": 19,
   "metadata": {},
   "outputs": [
    {
     "name": "stdout",
     "output_type": "stream",
     "text": [
      "dropped 3386/28369 events that are not visited by TU Graz or NaWi students on TU premises during the WiSe 2019/20\n",
      "dropped 1846/2216 rooms that are associated with events that are not visited\n",
      "0/370 relevant rooms have no seat information\n"
     ]
    },
    {
     "data": {
      "text/html": [
       "<div>\n",
       "<style scoped>\n",
       "    .dataframe tbody tr th:only-of-type {\n",
       "        vertical-align: middle;\n",
       "    }\n",
       "\n",
       "    .dataframe tbody tr th {\n",
       "        vertical-align: top;\n",
       "    }\n",
       "\n",
       "    .dataframe thead th {\n",
       "        text-align: right;\n",
       "    }\n",
       "</style>\n",
       "<table border=\"1\" class=\"dataframe\">\n",
       "  <thead>\n",
       "    <tr style=\"text-align: right;\">\n",
       "      <th></th>\n",
       "      <th>room_id</th>\n",
       "      <th>room_code</th>\n",
       "      <th>seats</th>\n",
       "      <th>area</th>\n",
       "      <th>campus</th>\n",
       "    </tr>\n",
       "  </thead>\n",
       "  <tbody>\n",
       "    <tr>\n",
       "      <th>10</th>\n",
       "      <td>5543</td>\n",
       "      <td>HFEG109</td>\n",
       "      <td>92</td>\n",
       "      <td>9</td>\n",
       "      <td>Inffeldgasse</td>\n",
       "    </tr>\n",
       "    <tr>\n",
       "      <th>12</th>\n",
       "      <td>1142</td>\n",
       "      <td>NA01158F</td>\n",
       "      <td>49</td>\n",
       "      <td>23</td>\n",
       "      <td>Alte Technik</td>\n",
       "    </tr>\n",
       "    <tr>\n",
       "      <th>21</th>\n",
       "      <td>485</td>\n",
       "      <td>PH02112</td>\n",
       "      <td>47</td>\n",
       "      <td>60</td>\n",
       "      <td>Neue Technik</td>\n",
       "    </tr>\n",
       "  </tbody>\n",
       "</table>\n",
       "</div>"
      ],
      "text/plain": [
       "    room_id room_code  seats area        campus\n",
       "10     5543   HFEG109     92    9  Inffeldgasse\n",
       "12     1142  NA01158F     49   23  Alte Technik\n",
       "21      485   PH02112     47   60  Neue Technik"
      ]
     },
     "execution_count": 19,
     "metadata": {},
     "output_type": "execute_result"
    }
   ],
   "source": [
    "# drop all events that are not visited by students in WiSe 2019/20\n",
    "N = len(dates)\n",
    "dates = dates[dates['lecture_id'].isin(students['lecture_id'])]\n",
    "print('dropped {}/{} events that are not visited by'\\\n",
    "      .format(N - len(dates), N) + \\\n",
    "      ' TU Graz or NaWi students on TU premises during the WiSe 2019/20')\n",
    "\n",
    "# drop all rooms that are associated with events that are not visited by\n",
    "# students in WiSe 2019/20\n",
    "N = len(rooms)\n",
    "rooms = rooms[rooms['room_id'].isin(dates['room_id'])]\n",
    "print('dropped {}/{} rooms that are associated with events that are not visited'\\\n",
    "     .format(N - len(rooms), N))\n",
    "\n",
    "N = len(rooms[rooms['room_id'].isin(dates['room_id'])])\n",
    "print('{}/{} relevant rooms have no seat information'\\\n",
    "      .format( N -\\\n",
    "              len(rooms[rooms['room_id'].isin(dates['room_id'])]\\\n",
    "                      .dropna(subset=['seats'])), N))\n",
    "\n",
    "rooms['seats'] = rooms['seats'].astype(int)\n",
    "rooms.head(3)"
   ]
  },
  {
   "cell_type": "markdown",
   "metadata": {},
   "source": [
    "### Visualize event durations"
   ]
  },
  {
   "cell_type": "code",
   "execution_count": 20,
   "metadata": {},
   "outputs": [
    {
     "data": {
      "text/html": [
       "<div>\n",
       "<style scoped>\n",
       "    .dataframe tbody tr th:only-of-type {\n",
       "        vertical-align: middle;\n",
       "    }\n",
       "\n",
       "    .dataframe tbody tr th {\n",
       "        vertical-align: top;\n",
       "    }\n",
       "\n",
       "    .dataframe thead th {\n",
       "        text-align: right;\n",
       "    }\n",
       "</style>\n",
       "<table border=\"1\" class=\"dataframe\">\n",
       "  <thead>\n",
       "    <tr style=\"text-align: right;\">\n",
       "      <th></th>\n",
       "      <th>room_id</th>\n",
       "      <th>date</th>\n",
       "      <th>start_time</th>\n",
       "      <th>end_time</th>\n",
       "      <th>lecture_id</th>\n",
       "      <th>group_id</th>\n",
       "      <th>datetime</th>\n",
       "      <th>duration</th>\n",
       "    </tr>\n",
       "  </thead>\n",
       "  <tbody>\n",
       "    <tr>\n",
       "      <th>0</th>\n",
       "      <td>963</td>\n",
       "      <td>2019-10-01</td>\n",
       "      <td>12:15:00</td>\n",
       "      <td>15:00:00</td>\n",
       "      <td>225453</td>\n",
       "      <td>257599</td>\n",
       "      <td>2019-10-01 12:15:00</td>\n",
       "      <td>165.0</td>\n",
       "    </tr>\n",
       "    <tr>\n",
       "      <th>1</th>\n",
       "      <td>2185</td>\n",
       "      <td>2019-10-01</td>\n",
       "      <td>10:00:00</td>\n",
       "      <td>11:30:00</td>\n",
       "      <td>226849</td>\n",
       "      <td>259479</td>\n",
       "      <td>2019-10-01 10:00:00</td>\n",
       "      <td>90.0</td>\n",
       "    </tr>\n",
       "    <tr>\n",
       "      <th>2</th>\n",
       "      <td>2661</td>\n",
       "      <td>2019-10-01</td>\n",
       "      <td>08:30:00</td>\n",
       "      <td>10:00:00</td>\n",
       "      <td>226790</td>\n",
       "      <td>259420</td>\n",
       "      <td>2019-10-01 08:30:00</td>\n",
       "      <td>90.0</td>\n",
       "    </tr>\n",
       "  </tbody>\n",
       "</table>\n",
       "</div>"
      ],
      "text/plain": [
       "   room_id       date start_time  end_time  lecture_id  group_id  \\\n",
       "0      963 2019-10-01   12:15:00  15:00:00      225453    257599   \n",
       "1     2185 2019-10-01   10:00:00  11:30:00      226849    259479   \n",
       "2     2661 2019-10-01   08:30:00  10:00:00      226790    259420   \n",
       "\n",
       "             datetime  duration  \n",
       "0 2019-10-01 12:15:00     165.0  \n",
       "1 2019-10-01 10:00:00      90.0  \n",
       "2 2019-10-01 08:30:00      90.0  "
      ]
     },
     "execution_count": 20,
     "metadata": {},
     "output_type": "execute_result"
    },
    {
     "data": {
      "image/png": "[encoded data removed]",
      "text/plain": [
       "<Figure size 360x180 with 1 Axes>"
      ]
     },
     "metadata": {
      "needs_background": "light"
     },
     "output_type": "display_data"
    }
   ],
   "source": [
    "fig, ax = plt.subplots(figsize=(5, 2.5))\n",
    "ax.hist(dates['duration'], rwidth=0.8, bins=range(0, 800, 60), align='left')\n",
    "ax.set_xticks(range(0, 800, 60))\n",
    "ax.set_xlabel('date duration [min]')\n",
    "ax.set_xlabel('date count')\n",
    "\n",
    "dates = dates.sort_values(by='date').reset_index(drop=True)\n",
    "dates.head(3)"
   ]
  },
  {
   "cell_type": "code",
   "execution_count": 21,
   "metadata": {},
   "outputs": [
    {
     "name": "stdout",
     "output_type": "stream",
     "text": [
      "dropped 124/1747 lectures that happened outside TU Graz premises or outside the semester\n"
     ]
    }
   ],
   "source": [
    "# remove lectures that happened outside TU Graz premises\n",
    "N = len(lectures)\n",
    "lectures = lectures[lectures['lecture_id'].isin(dates['lecture_id'].unique())]\n",
    "print('dropped {}/{} lectures that happened outside TU Graz premises or outside the semester'\\\n",
    "      .format(N - len(lectures), N))"
   ]
  },
  {
   "cell_type": "code",
   "execution_count": 22,
   "metadata": {},
   "outputs": [
    {
     "name": "stdout",
     "output_type": "stream",
     "text": [
      "dropped 27/1502 lecturers that taught lectures that happened outside TU Graz premises or outside the semester\n"
     ]
    }
   ],
   "source": [
    "# remove lecturers that teach lectures outside TU Graz premises\n",
    "N = len(lecturers['lecturer_id'].unique())\n",
    "lecturers = lecturers[lecturers['lecture_id'].isin(dates['lecture_id'].unique())]\n",
    "print('dropped {}/{} lecturers that taught lectures that happened outside TU Graz premises or outside the semester'\\\n",
    "      .format(N - len(lecturers['lecturer_id'].unique()), N))"
   ]
  },
  {
   "cell_type": "code",
   "execution_count": 23,
   "metadata": {},
   "outputs": [
    {
     "name": "stdout",
     "output_type": "stream",
     "text": [
      "dropped 1653/82716 student visits to lectures that happened outside TU Graz premises or outside the semester\n"
     ]
    }
   ],
   "source": [
    "# remove student enrollments in lectures that happened outside TU Graz premises\n",
    "N = len(students)\n",
    "students = students[students['lecture_id'].isin(dates['lecture_id'].unique())]\n",
    "print('dropped {}/{} student visits to lectures that happened outside TU Graz premises or outside the semester'\\\n",
    "      .format(N - len(students), N))"
   ]
  },
  {
   "cell_type": "markdown",
   "metadata": {},
   "source": [
    "### Visualize term and student counts"
   ]
  },
  {
   "cell_type": "code",
   "execution_count": 24,
   "metadata": {},
   "outputs": [
    {
     "name": "stdout",
     "output_type": "stream",
     "text": [
      "there are 106 unique TU Graz or NaWi studies\n",
      "11861 unique TU Graz or NaWi students are registered at TU Graz\n",
      "\n",
      "number of studies per student\n",
      "1    10387\n",
      "2     1360\n",
      "3      122\n",
      "4        7\n",
      "5        3\n",
      "7        2\n",
      "6        1\n",
      "Name: n_studies, dtype: int64\n",
      "\n",
      "number of students per study\n",
      "36    904\n",
      "30    802\n",
      "32    755\n",
      "31    748\n",
      "37    687\n",
      "29    681\n",
      "28    643\n",
      "34    619\n",
      "42    566\n",
      "26    529\n",
      "Name: n_students, dtype: int64\n",
      "the mean and median term number was 4.98 and 4.0, respectively\n",
      "the mean and median number of students per study was 126.50 and 49.0, respectively\n"
     ]
    },
    {
     "data": {
      "text/html": [
       "<div>\n",
       "<style scoped>\n",
       "    .dataframe tbody tr th:only-of-type {\n",
       "        vertical-align: middle;\n",
       "    }\n",
       "\n",
       "    .dataframe tbody tr th {\n",
       "        vertical-align: top;\n",
       "    }\n",
       "\n",
       "    .dataframe thead th {\n",
       "        text-align: right;\n",
       "    }\n",
       "</style>\n",
       "<table border=\"1\" class=\"dataframe\">\n",
       "  <thead>\n",
       "    <tr style=\"text-align: right;\">\n",
       "      <th></th>\n",
       "      <th>student_id</th>\n",
       "      <th>study_id</th>\n",
       "      <th>study_name</th>\n",
       "      <th>term_number</th>\n",
       "      <th>study_level</th>\n",
       "      <th>study_label</th>\n",
       "    </tr>\n",
       "  </thead>\n",
       "  <tbody>\n",
       "    <tr>\n",
       "      <th>10</th>\n",
       "      <td>163041</td>\n",
       "      <td>UF 066 465</td>\n",
       "      <td>Masterstudium; Bauing.wiss.-Konstruktiver Inge...</td>\n",
       "      <td>1.0</td>\n",
       "      <td>master</td>\n",
       "      <td>t</td>\n",
       "    </tr>\n",
       "    <tr>\n",
       "      <th>11</th>\n",
       "      <td>207552</td>\n",
       "      <td>UF 033 245</td>\n",
       "      <td>Bachelorstudium; Maschinenbau</td>\n",
       "      <td>1.0</td>\n",
       "      <td>bachelor</td>\n",
       "      <td>t</td>\n",
       "    </tr>\n",
       "    <tr>\n",
       "      <th>15</th>\n",
       "      <td>149959</td>\n",
       "      <td>UF 033 282</td>\n",
       "      <td>Bachelorstudium; Wirtschaftsingenieurwesen-Mas...</td>\n",
       "      <td>11.0</td>\n",
       "      <td>bachelor</td>\n",
       "      <td>t</td>\n",
       "    </tr>\n",
       "  </tbody>\n",
       "</table>\n",
       "</div>"
      ],
      "text/plain": [
       "    student_id    study_id                                         study_name  \\\n",
       "10      163041  UF 066 465  Masterstudium; Bauing.wiss.-Konstruktiver Inge...   \n",
       "11      207552  UF 033 245                      Bachelorstudium; Maschinenbau   \n",
       "15      149959  UF 033 282  Bachelorstudium; Wirtschaftsingenieurwesen-Mas...   \n",
       "\n",
       "    term_number study_level study_label  \n",
       "10          1.0      master           t  \n",
       "11          1.0    bachelor           t  \n",
       "15         11.0    bachelor           t  "
      ]
     },
     "execution_count": 24,
     "metadata": {},
     "output_type": "execute_result"
    },
    {
     "data": {
      "image/png": "[encoded data removed]",
      "text/plain": [
       "<Figure size 720x180 with 2 Axes>"
      ]
     },
     "metadata": {
      "needs_background": "light"
     },
     "output_type": "display_data"
    }
   ],
   "source": [
    "print('there are {} unique TU Graz or NaWi studies'\\\n",
    "      .format(len(students['study_id'].unique())))\n",
    "print('{} unique TU Graz or NaWi students are registered at TU Graz'\\\n",
    "      .format(len(students['student_id'].unique())))\n",
    "\n",
    "n_studies = studies[['student_id', 'study_id']]\\\n",
    "    .groupby('student_id')\\\n",
    "    .count()\\\n",
    "    .rename(columns={'study_id':'n_studies'})\\\n",
    "    .reset_index()\n",
    "print('\\nnumber of studies per student')\n",
    "print(n_studies['n_studies'].value_counts())\n",
    "\n",
    "n_students = studies[['student_id', 'study_id']]\\\n",
    "    .groupby('study_id')\\\n",
    "    .count()\\\n",
    "    .rename(columns={'student_id':'n_students'})\\\n",
    "    .reset_index()\\\n",
    "    .sort_values(by='n_students', ascending=False)\n",
    "print('\\nnumber of students per study')\n",
    "print(n_students['n_students'][0:10])\n",
    "\n",
    "fig, axes = plt.subplots(1, 2, figsize=(10, 2.5))\n",
    "axes[0].hist(studies['term_number'], rwidth=0.8, bins=range(0, 31, 1), align='left')\n",
    "axes[0].set_xlabel('term number')\n",
    "axes[0].set_ylabel('student count')\n",
    "\n",
    "axes[1].hist(n_students['n_students'], rwidth=0.8, bins=range(0, 1000, 50),\n",
    "             align='left')\n",
    "axes[1].set_xlabel('n students')\n",
    "axes[1].set_ylabel('study count')\n",
    "\n",
    "print('the mean and median term number was {:1.2f} and {}, respectively'\\\n",
    "      .format(studies['term_number'].mean(), studies['term_number'].median()))\n",
    "\n",
    "print('the mean and median number of students per study was {:1.2f} and {}, respectively'\\\n",
    "      .format(n_students['n_students'].mean(), n_students['n_students'].median()))\n",
    "\n",
    "\n",
    "studies.head(3)"
   ]
  },
  {
   "cell_type": "markdown",
   "metadata": {},
   "source": [
    "## Groups"
   ]
  },
  {
   "cell_type": "markdown",
   "metadata": {},
   "source": [
    "### Map lecture group IDs to lecture IDs"
   ]
  },
  {
   "cell_type": "markdown",
   "metadata": {},
   "source": [
    "A lecture group is usually the tutorial that takes place alongside the lecture (especially for the lecture type \"VU\", lecture + tutorial)."
   ]
  },
  {
   "cell_type": "code",
   "execution_count": 25,
   "metadata": {},
   "outputs": [
    {
     "name": "stdout",
     "output_type": "stream",
     "text": [
      "there are 27 groups that have no assigned lecturer\n",
      "dropped 381/2459 groups that had no assigned date in the range 2019-10-01 - 2020-02-28\n",
      "there are 2078 unique groups and 1526 lectures left\n"
     ]
    },
    {
     "data": {
      "text/html": [
       "<div>\n",
       "<style scoped>\n",
       "    .dataframe tbody tr th:only-of-type {\n",
       "        vertical-align: middle;\n",
       "    }\n",
       "\n",
       "    .dataframe tbody tr th {\n",
       "        vertical-align: top;\n",
       "    }\n",
       "\n",
       "    .dataframe thead th {\n",
       "        text-align: right;\n",
       "    }\n",
       "</style>\n",
       "<table border=\"1\" class=\"dataframe\">\n",
       "  <thead>\n",
       "    <tr style=\"text-align: right;\">\n",
       "      <th></th>\n",
       "      <th>lecture_id</th>\n",
       "      <th>group_id</th>\n",
       "    </tr>\n",
       "  </thead>\n",
       "  <tbody>\n",
       "    <tr>\n",
       "      <th>0</th>\n",
       "      <td>226073</td>\n",
       "      <td>254793</td>\n",
       "    </tr>\n",
       "    <tr>\n",
       "      <th>1</th>\n",
       "      <td>226598</td>\n",
       "      <td>260636</td>\n",
       "    </tr>\n",
       "    <tr>\n",
       "      <th>2</th>\n",
       "      <td>221416</td>\n",
       "      <td>258125</td>\n",
       "    </tr>\n",
       "  </tbody>\n",
       "</table>\n",
       "</div>"
      ],
      "text/plain": [
       "   lecture_id  group_id\n",
       "0      226073    254793\n",
       "1      226598    260636\n",
       "2      221416    258125"
      ]
     },
     "execution_count": 25,
     "metadata": {},
     "output_type": "execute_result"
    }
   ],
   "source": [
    "# mapping of lecture group IDs to lecture IDs\n",
    "groups = students[['lecture_id', 'group_id']].drop_duplicates().copy()\n",
    "assert len(groups) == len(groups['group_id'].unique())\n",
    "\n",
    "groups2 = lecturers[['lecture_id', 'group_id']].drop_duplicates().copy()\n",
    "diff = list(set(groups['group_id']).difference(set(groups2['group_id'])))\n",
    "print('there are {} groups that have no assigned lecturer'.format(len(diff)))\n",
    "\n",
    "N = len(groups)\n",
    "groups = groups[groups['group_id'].isin(dates['group_id'].unique())]\n",
    "print('dropped {}/{} groups that had no assigned date in the range {} - {}'\\\n",
    "      .format(N - len(groups), N, semester_start, semester_end))\n",
    "\n",
    "print('there are {} unique groups and {} lectures left'\\\n",
    "      .format(len(groups['group_id'].unique()), \n",
    "              len(groups['lecture_id'].unique())))\n",
    "\n",
    "groups = groups.reset_index(drop=True)\n",
    "\n",
    "groups.head(3)"
   ]
  },
  {
   "cell_type": "markdown",
   "metadata": {},
   "source": [
    "### Disambiguate group IDs"
   ]
  },
  {
   "cell_type": "code",
   "execution_count": 26,
   "metadata": {},
   "outputs": [],
   "source": [
    "letter_list = list(string.ascii_lowercase)\n",
    "dates['new_group_id'] = np.nan\n",
    "for date in dates['date'].unique():\n",
    "    #print(date)\n",
    "    for group_id in groups['group_id']:\n",
    "        # dates that happen at the same time for the same group\n",
    "        group_dates = dates[(dates['group_id'] == group_id) & \\\n",
    "                            (dates['date'] == date)]\n",
    "        # is there more than one date for the same group id on a given day?\n",
    "        # do the duplicate dates start at the same time?\n",
    "        if (len(group_dates) > 1) and \\\n",
    "           (len(group_dates['start_time'].drop_duplicates()) < len(group_dates)):\n",
    "            \n",
    "            # de-duplicate group ids stat start at the same time by adding a \n",
    "            # letter at the end of the id\n",
    "            for dt in group_dates['datetime']:\n",
    "                group_datetimes = group_dates[group_dates['datetime'] == dt]\n",
    "                assert len(group_datetimes) <= len(letter_list)\n",
    "                #print('\\t{}: entries {}'.format(group_id, len(group_datetimes)))\n",
    "                \n",
    "                for index, letter in zip(group_datetimes.index, letter_list):\n",
    "                    dates.loc[index, 'new_group_id'] = '{}{}'.format(group_id, letter)"
   ]
  },
  {
   "cell_type": "code",
   "execution_count": 27,
   "metadata": {},
   "outputs": [
    {
     "name": "stdout",
     "output_type": "stream",
     "text": [
      "116 groups had more than one date on the same day and at the same time and were split into 277 new groups\n"
     ]
    }
   ],
   "source": [
    "splits = dates[['group_id', 'new_group_id']].dropna().drop_duplicates()\n",
    "print('{} groups had more than one date on the same day and at the same time and were split into {} new groups'\\\n",
    "      .format(len(splits['group_id'].unique()), len(splits)))"
   ]
  },
  {
   "cell_type": "markdown",
   "metadata": {},
   "source": [
    "### Assign new group IDs to students"
   ]
  },
  {
   "cell_type": "code",
   "execution_count": 28,
   "metadata": {},
   "outputs": [],
   "source": [
    "students['new_group_id'] = np.nan\n",
    "for group_id in splits['group_id'].unique():\n",
    "    students_in_group = students[students['group_id']  == group_id]\n",
    "    new_group_ids = splits[splits['group_id'] == group_id]['new_group_id'].values\n",
    "    new_group_size = int(len(students_in_group) / len(new_group_ids))\n",
    "    assert new_group_size >= 1\n",
    "    \n",
    "    for i, ID in enumerate(new_group_ids[0:-1]):\n",
    "        students.loc[students_in_group[\\\n",
    "            i * new_group_size:(i + 1) * new_group_size].index]['new_group_id']\\\n",
    "            = ID\n",
    "    students.loc[students_in_group[(i + 1) * new_group_size:].index]['new_group_id']\\\n",
    "            = new_group_ids[-1]"
   ]
  },
  {
   "cell_type": "markdown",
   "metadata": {},
   "source": [
    "### Assign new group IDs to lecturers"
   ]
  },
  {
   "cell_type": "code",
   "execution_count": 29,
   "metadata": {},
   "outputs": [
    {
     "name": "stdout",
     "output_type": "stream",
     "text": [
      "38 split groups have no lecturer now\n"
     ]
    }
   ],
   "source": [
    "lonely_groups = 0\n",
    "lecturers['new_group_id'] = np.nan\n",
    "for group_id in splits['group_id'].unique():\n",
    "    lecturers_in_group = lecturers[lecturers['group_id']  == group_id]\n",
    "    new_group_ids = splits[splits['group_id'] == group_id]['new_group_id'].values\n",
    "    new_group_size = int(len(lecturers_in_group) / len(new_group_ids))\n",
    "    \n",
    "    #since we are not cloning lecturers, if there is just one lecturer but two\n",
    "    # groups at the same time, the lecturer will go to only one of the groups\n",
    "    if new_group_size == 1:\n",
    "        lonely_groups += 1\n",
    "        \n",
    "    for i, ID in enumerate(new_group_ids[0:-1]):\n",
    "        lecturers.loc[lecturers_in_group[\\\n",
    "            i * new_group_size:(i + 1) * new_group_size].index, 'new_group_id']\\\n",
    "            = ID\n",
    "    lecturers.loc[lecturers_in_group[(i + 1) * new_group_size:].index, 'new_group_id']\\\n",
    "            = new_group_ids[-1]\n",
    "    \n",
    "print('{} split groups have no lecturer now'.format(lonely_groups))"
   ]
  },
  {
   "cell_type": "markdown",
   "metadata": {},
   "source": [
    "### Add lecture type information to groups"
   ]
  },
  {
   "cell_type": "code",
   "execution_count": 33,
   "metadata": {},
   "outputs": [],
   "source": [
    "groups = groups.set_index(\"lecture_id\")\n",
    "lectures = lectures.set_index(\"lecture_id\")\n",
    "groups = groups.join(lectures[\"lecture_type\"]).reset_index()\n",
    "lectures = lectures.reset_index()"
   ]
  },
  {
   "cell_type": "markdown",
   "metadata": {},
   "source": [
    "## Exams"
   ]
  },
  {
   "cell_type": "code",
   "execution_count": 35,
   "metadata": {},
   "outputs": [],
   "source": [
    "def fix_dates(datestring):\n",
    "    datestring = datestring.replace('Okt','10')\n",
    "    datestring = datestring.replace('Nov','11')\n",
    "    datestring = datestring.replace('Dez','12')\n",
    "    datestring = datestring.replace('Jän','01')\n",
    "    datestring = datestring.replace('Feb','02')\n",
    "    return pd.to_datetime(datestring, dayfirst=True)"
   ]
  },
  {
   "cell_type": "code",
   "execution_count": 36,
   "metadata": {},
   "outputs": [
    {
     "data": {
      "text/html": [
       "<div>\n",
       "<style scoped>\n",
       "    .dataframe tbody tr th:only-of-type {\n",
       "        vertical-align: middle;\n",
       "    }\n",
       "\n",
       "    .dataframe tbody tr th {\n",
       "        vertical-align: top;\n",
       "    }\n",
       "\n",
       "    .dataframe thead th {\n",
       "        text-align: right;\n",
       "    }\n",
       "</style>\n",
       "<table border=\"1\" class=\"dataframe\">\n",
       "  <thead>\n",
       "    <tr style=\"text-align: right;\">\n",
       "      <th></th>\n",
       "      <th>exam_id</th>\n",
       "      <th>date</th>\n",
       "      <th>student_id</th>\n",
       "      <th>study_id</th>\n",
       "      <th>lecture_id</th>\n",
       "      <th>study_label</th>\n",
       "    </tr>\n",
       "  </thead>\n",
       "  <tbody>\n",
       "    <tr>\n",
       "      <th>0</th>\n",
       "      <td>1278904</td>\n",
       "      <td>2019-12-13</td>\n",
       "      <td>183153</td>\n",
       "      <td>UB 033 662</td>\n",
       "      <td>213079</td>\n",
       "      <td>n</td>\n",
       "    </tr>\n",
       "    <tr>\n",
       "      <th>1</th>\n",
       "      <td>1278904</td>\n",
       "      <td>2019-12-13</td>\n",
       "      <td>183491</td>\n",
       "      <td>UF 033 662</td>\n",
       "      <td>213079</td>\n",
       "      <td>n</td>\n",
       "    </tr>\n",
       "    <tr>\n",
       "      <th>2</th>\n",
       "      <td>1278904</td>\n",
       "      <td>2019-12-13</td>\n",
       "      <td>194797</td>\n",
       "      <td>UB 033 662</td>\n",
       "      <td>213079</td>\n",
       "      <td>n</td>\n",
       "    </tr>\n",
       "  </tbody>\n",
       "</table>\n",
       "</div>"
      ],
      "text/plain": [
       "   exam_id       date  student_id    study_id  lecture_id study_label\n",
       "0  1278904 2019-12-13      183153  UB 033 662      213079           n\n",
       "1  1278904 2019-12-13      183491  UF 033 662      213079           n\n",
       "2  1278904 2019-12-13      194797  UB 033 662      213079           n"
      ]
     },
     "execution_count": 36,
     "metadata": {},
     "output_type": "execute_result"
    }
   ],
   "source": [
    "estudents = pd.read_csv(join(src, 'Prüfungen-2.csv'), encoding='latin_1')\n",
    "estudents = estudents.rename(columns={\n",
    "    'PV_TERM_NR':'exam_id',\n",
    "    'ST_PERSON_NR':'student_id',\n",
    "    'STP_SP_NR':'lecture_id',\n",
    "    'PRUEFUNGSDATUM':'date',\n",
    "    'STUDIENIDENTIFIKATOR':'study_id'})\n",
    "estudents['study_label'] = estudents['study_id'].replace(label_map)\n",
    "estudents['date'] = estudents['date'].apply(fix_dates)\n",
    "estudents.head(3)"
   ]
  },
  {
   "cell_type": "markdown",
   "metadata": {},
   "source": [
    "## Exam dates"
   ]
  },
  {
   "cell_type": "code",
   "execution_count": 37,
   "metadata": {},
   "outputs": [],
   "source": [
    "def get_time(timestring):\n",
    "    if timestring != timestring:\n",
    "        return np.nan\n",
    "    else:\n",
    "        hour, minute = timestring.split(':')\n",
    "        return datetime.time(int(hour), int(minute))"
   ]
  },
  {
   "cell_type": "code",
   "execution_count": 38,
   "metadata": {},
   "outputs": [
    {
     "name": "stdout",
     "output_type": "stream",
     "text": [
      "3661/5633 exam dates have no room information\n"
     ]
    }
   ],
   "source": [
    "edates = pd.read_csv(join(src, 'Prüfungstermine_mit_Räumen.csv'), encoding='latin_1',\n",
    "                     parse_dates=['DATUM'], dayfirst=True)\n",
    "edates = edates.rename(columns={\n",
    "    'PV_TERM_NR':'exam_id',\n",
    "    'PERSON_NR':'lecturer_id',\n",
    "    'STP_SP_NR':'lecture_id',\n",
    "    'DATUM':'date',\n",
    "    'RES_NR':'room_id',\n",
    "    'BEGINNZEIT':'start_time',\n",
    "    'ENDEZEIT':'end_time'})\n",
    "\n",
    "print('{}/{} exam dates have no room information'\\\n",
    "      .format(len(edates) - len(edates.dropna(subset=['room_id'])),\n",
    "              len(edates)))"
   ]
  },
  {
   "cell_type": "markdown",
   "metadata": {},
   "source": [
    "### Disambiguate exam IDs"
   ]
  },
  {
   "cell_type": "code",
   "execution_count": 39,
   "metadata": {},
   "outputs": [
    {
     "name": "stdout",
     "output_type": "stream",
     "text": [
      "45 exams had more than one date on the same day and at the same time and were split into 121 new exam groups\n"
     ]
    }
   ],
   "source": [
    "# disambiguate exam IDs\n",
    "letter_list = list(string.ascii_lowercase)\n",
    "edates['new_exam_id'] = np.nan\n",
    "for exam_id in edates['exam_id'].unique():\n",
    "    exam_info = edates[edates['exam_id'] == exam_id]\n",
    "    if len(exam_info) > 1:\n",
    "        assert len(exam_info) <= len(letter_list)\n",
    "        for index, letter in zip(exam_info.index, letter_list):\n",
    "            edates.loc[index, 'new_exam_id'] = '{}{}'.format(exam_id, letter)\n",
    "            \n",
    "esplits = edates[['exam_id', 'new_exam_id']].dropna().drop_duplicates()\n",
    "print('{} exams had more than one date on the same day and at the same time and were split into {} new exam groups'\\\n",
    "      .format(len(esplits['exam_id'].unique()), len(esplits)))"
   ]
  },
  {
   "cell_type": "markdown",
   "metadata": {},
   "source": [
    "### Assign new exam IDs to students"
   ]
  },
  {
   "cell_type": "code",
   "execution_count": 40,
   "metadata": {},
   "outputs": [],
   "source": [
    "estudents['new_exam_id'] = np.nan\n",
    "for exam_id in esplits['exam_id'].unique():\n",
    "    students_in_exam = estudents[estudents['exam_id']  == exam_id]\n",
    "    new_exam_ids = esplits[esplits['exam_id'] == exam_id]['new_exam_id'].values\n",
    "    new_exam_size = int(len(students_in_exam) / len(new_exam_ids))\n",
    "    \n",
    "    # only a single student in the exam\n",
    "    if new_exam_size == 1:\n",
    "        estudents.loc[students_in_exam.index[0], 'new_exam_id'] = new_exam_ids[0]\n",
    "        \n",
    "    # more than one student in the exam: split them between the different rooms\n",
    "    else:\n",
    "        for i, ID in enumerate(new_exam_ids[0:-1]):\n",
    "            estudents.loc[students_in_exam[\\\n",
    "                i * new_exam_size:(i + 1) * new_exam_size].index, 'new_exam_id']\\\n",
    "                = ID\n",
    "        estudents.loc[students_in_exam[(i + 1) * new_exam_size:].index, 'new_exam_id']\\\n",
    "                = new_exam_ids[-1]"
   ]
  },
  {
   "cell_type": "markdown",
   "metadata": {},
   "source": [
    "### Assign new exam IDs to lecturers"
   ]
  },
  {
   "cell_type": "code",
   "execution_count": 41,
   "metadata": {},
   "outputs": [
    {
     "name": "stdout",
     "output_type": "stream",
     "text": [
      "45 split exams have no lecturer now\n"
     ]
    }
   ],
   "source": [
    "electurers = edates[['exam_id', 'lecturer_id']].copy()\n",
    "lonely_exams = 0\n",
    "electurers['new_group_id'] = np.nan\n",
    "for exam_id in esplits['exam_id'].unique():\n",
    "    lecturers_in_exam = electurers[electurers['exam_id']  == exam_id]\n",
    "    new_exam_ids = esplits[esplits['exam_id'] == exam_id]['new_exam_id'].values\n",
    "    new_exam_size = int(len(lecturers_in_exam) / len(new_exam_ids))\n",
    "    \n",
    "    #since we are not cloning lecturers, if there is just one lecturer but two\n",
    "    # groups at the same time, the lecturer will go to only one of the groups\n",
    "    if new_exam_size == 1:\n",
    "        lonely_exams += 1\n",
    "        \n",
    "    for i, ID in enumerate(new_exam_ids[0:-1]):\n",
    "        electurers.loc[lecturers_in_exam[\\\n",
    "            i * new_exam_size:(i + 1) * new_exam_size].index, 'new_exam_id']\\\n",
    "            = ID\n",
    "    electurers.loc[lecturers_in_exam[(i + 1) * new_exam_size:].index, 'new_exam_id']\\\n",
    "            = new_exam_ids[-1]\n",
    "    \n",
    "print('{} split exams have no lecturer now'.format(lonely_exams))"
   ]
  },
  {
   "cell_type": "markdown",
   "metadata": {},
   "source": [
    "### Calculate exam durations & set duration defaults"
   ]
  },
  {
   "cell_type": "code",
   "execution_count": 42,
   "metadata": {},
   "outputs": [
    {
     "name": "stdout",
     "output_type": "stream",
     "text": [
      "2889/5633 exams don't specify a duration\n",
      "the default duration (median) is 120.0 minutes\n",
      "there are 49 exams with a duration of > 600 min -> replaced with 120.0 min\n",
      "there are 24 exams with a duration of < 30 min -> replaced with 120.0 min\n"
     ]
    },
    {
     "data": {
      "text/html": [
       "<div>\n",
       "<style scoped>\n",
       "    .dataframe tbody tr th:only-of-type {\n",
       "        vertical-align: middle;\n",
       "    }\n",
       "\n",
       "    .dataframe tbody tr th {\n",
       "        vertical-align: top;\n",
       "    }\n",
       "\n",
       "    .dataframe thead th {\n",
       "        text-align: right;\n",
       "    }\n",
       "</style>\n",
       "<table border=\"1\" class=\"dataframe\">\n",
       "  <thead>\n",
       "    <tr style=\"text-align: right;\">\n",
       "      <th></th>\n",
       "      <th>exam_id</th>\n",
       "      <th>lecturer_id</th>\n",
       "      <th>date</th>\n",
       "      <th>start_time</th>\n",
       "      <th>end_time</th>\n",
       "      <th>room_id</th>\n",
       "      <th>lecture_id</th>\n",
       "      <th>new_exam_id</th>\n",
       "      <th>duration</th>\n",
       "    </tr>\n",
       "  </thead>\n",
       "  <tbody>\n",
       "    <tr>\n",
       "      <th>0</th>\n",
       "      <td>1280079</td>\n",
       "      <td>1773</td>\n",
       "      <td>2019-12-02</td>\n",
       "      <td>10:15:00</td>\n",
       "      <td>12:00:00</td>\n",
       "      <td>2661.0</td>\n",
       "      <td>227402</td>\n",
       "      <td>NaN</td>\n",
       "      <td>105.0</td>\n",
       "    </tr>\n",
       "    <tr>\n",
       "      <th>1</th>\n",
       "      <td>1269842</td>\n",
       "      <td>44990</td>\n",
       "      <td>2020-02-28</td>\n",
       "      <td>14:00:00</td>\n",
       "      <td>NaN</td>\n",
       "      <td>2541.0</td>\n",
       "      <td>226034</td>\n",
       "      <td>NaN</td>\n",
       "      <td>120.0</td>\n",
       "    </tr>\n",
       "    <tr>\n",
       "      <th>2</th>\n",
       "      <td>1276611</td>\n",
       "      <td>107131</td>\n",
       "      <td>2019-10-16</td>\n",
       "      <td>16:30:00</td>\n",
       "      <td>17:30:00</td>\n",
       "      <td>261.0</td>\n",
       "      <td>212311</td>\n",
       "      <td>NaN</td>\n",
       "      <td>60.0</td>\n",
       "    </tr>\n",
       "  </tbody>\n",
       "</table>\n",
       "</div>"
      ],
      "text/plain": [
       "   exam_id  lecturer_id       date start_time  end_time  room_id  lecture_id  \\\n",
       "0  1280079         1773 2019-12-02   10:15:00  12:00:00   2661.0      227402   \n",
       "1  1269842        44990 2020-02-28   14:00:00       NaN   2541.0      226034   \n",
       "2  1276611       107131 2019-10-16   16:30:00  17:30:00    261.0      212311   \n",
       "\n",
       "  new_exam_id  duration  \n",
       "0         NaN     105.0  \n",
       "1         NaN     120.0  \n",
       "2         NaN      60.0  "
      ]
     },
     "execution_count": 42,
     "metadata": {},
     "output_type": "execute_result"
    }
   ],
   "source": [
    "edates['start_time'] = edates['start_time'].apply(get_time)\n",
    "edates['end_time'] = edates['end_time'].apply(get_time)\n",
    "edates['duration'] = edates.apply(ncf.calculate_duration, axis=1)\n",
    "\n",
    "N = len(edates)\n",
    "print(\"{}/{} exams don't specify a duration\"\\\n",
    "      .format(N - len(edates.dropna(subset=['duration'])), N))\n",
    "duration_default = edates['duration'].median()\n",
    "print(\"the default duration (median) is {} minutes\".format(duration_default))\n",
    "edates['duration'] = edates['duration'].fillna(duration_default)\n",
    "\n",
    "print('there are {} exams with a duration of > 600 min -> replaced with {} min'\\\n",
    "      .format(len(edates[edates['duration'] > 360]), duration_default))\n",
    "print('there are {} exams with a duration of < 30 min -> replaced with {} min'\\\n",
    "      .format(len(edates[edates['duration'] < 30]), duration_default))\n",
    "edates.loc[edates[edates['duration'] > 360].index, 'duration'] = duration_default\n",
    "edates.loc[edates[edates['duration'] < 30].index, 'duration'] = duration_default\n",
    "edates.head(3)"
   ]
  },
  {
   "cell_type": "code",
   "execution_count": 43,
   "metadata": {},
   "outputs": [],
   "source": [
    "exams = edates[['exam_id', 'lecture_id']].drop_duplicates()"
   ]
  },
  {
   "cell_type": "code",
   "execution_count": 50,
   "metadata": {},
   "outputs": [],
   "source": [
    "exams = exams.set_index(\"lecture_id\")\n",
    "lectures = lectures.set_index(\"lecture_id\")\n",
    "exams = exams.join(lectures[\"lecture_type\"]).reset_index()\n",
    "lectures = lectures.reset_index()"
   ]
  },
  {
   "cell_type": "markdown",
   "metadata": {},
   "source": [
    "### Visualize exam durations"
   ]
  },
  {
   "cell_type": "code",
   "execution_count": 56,
   "metadata": {},
   "outputs": [
    {
     "data": {
      "image/png": "[encoded data removed]",
      "text/plain": [
       "<Figure size 720x288 with 1 Axes>"
      ]
     },
     "metadata": {
      "needs_background": "light"
     },
     "output_type": "display_data"
    }
   ],
   "source": [
    "duration_counts = edates['duration']\\\n",
    "    .value_counts()\\\n",
    "    .reset_index()\\\n",
    "    .rename(columns={'duration':'count', 'index':'duration'})\\\n",
    "    .sort_values(by='duration', ascending=False)\n",
    "\n",
    "fig, ax = plt.subplots(figsize=(10, 4))\n",
    "ax.hist(edates['duration'], bins=range(30, 361, 30), rwidth=0.8, align='left')\n",
    "ax.set_xticks(range(0, 361, 30))\n",
    "ax.set_ylabel('count [exams]')\n",
    "ax.set_xlabel('duration [min]');"
   ]
  },
  {
   "cell_type": "markdown",
   "metadata": {},
   "source": [
    "### Visualize timeline of exam-active students"
   ]
  },
  {
   "cell_type": "code",
   "execution_count": 57,
   "metadata": {},
   "outputs": [],
   "source": [
    "exam_counts = edates[['date', 'exam_id']]\\\n",
    "    .drop_duplicates()\\\n",
    "    .groupby('date')\\\n",
    "    .count()\\\n",
    "    .reset_index()\\\n",
    "    .rename(columns={'exam_id':'exam_count'})\\\n",
    "    .sort_values(by='date')"
   ]
  },
  {
   "cell_type": "code",
   "execution_count": 58,
   "metadata": {},
   "outputs": [],
   "source": [
    "exam_active_students_counts = estudents[['date', 'student_id']]\\\n",
    "    .drop_duplicates()\\\n",
    "    .groupby('date')\\\n",
    "    .count()\\\n",
    "    .reset_index()\\\n",
    "    .rename(columns={'student_id':'student_count'})\\\n",
    "    .sort_values(by='date')"
   ]
  },
  {
   "cell_type": "code",
   "execution_count": 59,
   "metadata": {},
   "outputs": [
    {
     "data": {
      "text/plain": [
       "[<matplotlib.lines.Line2D at 0x7f2061ffafd0>]"
      ]
     },
     "execution_count": 59,
     "metadata": {},
     "output_type": "execute_result"
    },
    {
     "data": {
      "image/png": "[encoded data removed]",
      "text/plain": [
       "<Figure size 720x216 with 2 Axes>"
      ]
     },
     "metadata": {
      "needs_background": "light"
     },
     "output_type": "display_data"
    }
   ],
   "source": [
    "fig, ax = plt.subplots(figsize=(10, 3))\n",
    "ax2 = ax.twinx()\n",
    "ax.plot(exam_counts['date'], exam_counts['exam_count'])\n",
    "ax2.plot(exam_active_students_counts['date'], \n",
    "        exam_active_students_counts['student_count'], color='r')"
   ]
  },
  {
   "cell_type": "markdown",
   "metadata": {},
   "source": [
    "## Save the processed data"
   ]
  },
  {
   "cell_type": "code",
   "execution_count": 60,
   "metadata": {},
   "outputs": [],
   "source": [
    "processed_dst = '../data/processed'\n",
    "students.to_csv(join(processed_dst, 'students_processed.csv'), index=False)\n",
    "lecturers.to_csv(join(processed_dst, 'lecturers_processed.csv'), index=False)\n",
    "lectures.to_csv(join(processed_dst, 'lectures_processed.csv'), index=False)\n",
    "studies.to_csv(join(processed_dst, 'studies_processed.csv'), index=False)\n",
    "organisations.to_csv(join(processed_dst, 'organisations_processed.csv'), index=False)\n",
    "groups.to_csv(join(processed_dst, 'groups_processed.csv'), index=False)\n",
    "dates.to_csv(join(processed_dst, 'dates_processed.csv'), index=False)\n",
    "rooms.to_csv(join(processed_dst, 'rooms_processed.csv'), index=False)\n",
    "estudents.to_csv(join(processed_dst, 'exam_students_processed.csv'), index=False)\n",
    "electurers.to_csv(join(processed_dst, 'exam_lecturers_processed'), index=False)\n",
    "exams.to_csv(join(processed_dst, 'exams.csv'), index=False)\n",
    "edates.to_csv(join(processed_dst, 'exam_dates.csv'), index=False)"
   ]
  }
 ],
 "metadata": {
  "kernelspec": {
   "display_name": "Python 3",
   "language": "python",
   "name": "python3"
  },
  "language_info": {
   "codemirror_mode": {
    "name": "ipython",
    "version": 3
   },
   "file_extension": ".py",
   "mimetype": "text/x-python",
   "name": "python",
   "nbconvert_exporter": "python",
   "pygments_lexer": "ipython3",
   "version": "3.8.8"
  }
 },
 "nbformat": 4,
 "nbformat_minor": 4
}
