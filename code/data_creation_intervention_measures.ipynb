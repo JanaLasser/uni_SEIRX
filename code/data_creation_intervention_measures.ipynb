{
 "cells": [
  {
   "cell_type": "markdown",
   "id": "moving-mathematics",
   "metadata": {},
   "source": [
    "# SEIRX model runs for prevention measures investigation in universities"
   ]
  },
  {
   "cell_type": "code",
   "execution_count": 35,
   "id": "whole-support",
   "metadata": {},
   "outputs": [],
   "source": [
    "import pandas as pd\n",
    "import numpy as np\n",
    "from os.path import join\n",
    "import os\n",
    "import sys\n",
    "import json\n",
    "\n",
    "from scseirx import analysis_functions as af\n",
    "\n",
    "import data_creation_functions as dcf\n",
    "\n",
    "# parallelisation functionality\n",
    "from multiprocess import Pool\n",
    "import psutil\n",
    "from tqdm import tqdm\n",
    "\n",
    "from importlib import reload"
   ]
  },
  {
   "cell_type": "code",
   "execution_count": 8,
   "id": "italic-russell",
   "metadata": {},
   "outputs": [],
   "source": [
    "# basic prevention measures in place. Additional measures will be added\n",
    "# throughout the measure screening simulations\n",
    "with open('params/intervention_screening_measures.json', 'r') as fp:\n",
    "    measures = json.load(fp)\n",
    "# simulation parameters, specifically the\n",
    "# - base transmission risk (calibrated from household transmissions)\n",
    "# - subclinical transmission modifier (literature value)\n",
    "# - exposure duration, time until symtpoms and infection duration (lit. values)\n",
    "# - age symptom discount (fit to empirical observations)\n",
    "# - age transmission discount (from the calibration)\n",
    "# - weights of transmission risks for intermediate & far contacts (calibration)\n",
    "with open('params/intervention_screening_simulation_parameters.json', 'r') as fp:\n",
    "    simulation_params = json.load(fp)"
   ]
  },
  {
   "cell_type": "code",
   "execution_count": 9,
   "id": "characteristic-frank",
   "metadata": {},
   "outputs": [
    {
     "data": {
      "text/plain": [
       "{'testing': 'preventive',\n",
       " 'preventive_screening_test_type': 'same_day_antigen',\n",
       " 'diagnostic_test_type': 'two_day_PCR',\n",
       " 'K1_contact_types': ['close'],\n",
       " 'quarantine_duration': 10,\n",
       " 'unistudent_mask': None,\n",
       " 'lecturer_mask': None,\n",
       " 'unistudent_screen_interval': None,\n",
       " 'lecturer_screen_interval': None,\n",
       " 'follow_up_testing_interval': None,\n",
       " 'liberating_testing': False,\n",
       " 'transmission_risk_ventilation_modifier': None,\n",
       " 'unistudent_vaccination_ratio': 0.8,\n",
       " 'lecturer_vaccination_ratio': 0.7}"
      ]
     },
     "execution_count": 9,
     "metadata": {},
     "output_type": "execute_result"
    }
   ],
   "source": [
    "measures"
   ]
  },
  {
   "cell_type": "code",
   "execution_count": 10,
   "id": "extended-american",
   "metadata": {},
   "outputs": [
    {
     "data": {
      "text/plain": [
       "{'verbosity': 0,\n",
       " 'base_transmission_risk': 0.16598,\n",
       " 'subclinical_modifier': 0.6,\n",
       " 'exposure_duration': [3.0, 1.9],\n",
       " 'time_until_symptoms': [4.4, 1.9],\n",
       " 'infection_duration': [10.91, 3.95],\n",
       " 'unistudent_index_probability': 0.9319711343549826,\n",
       " 'lecturer_index_probability': 0.06802886564501744,\n",
       " 'infection_risk_contact_type_weights': {'very_far': 0,\n",
       "  'far': 0.26,\n",
       "  'intermediate': 0.26,\n",
       "  'close': 1},\n",
       " 'age_transmission_discount': {'slope': 0, 'intercept': 1},\n",
       " 'age_symptom_discount': {'slope': 0, 'intercept': 0.6},\n",
       " 'mask_filter_efficiency': {'exhale': 0.5, 'inhale': 0.7},\n",
       " 'vaccination_modification': {'reception': 0.6, 'transmission': 0.0}}"
      ]
     },
     "execution_count": 10,
     "metadata": {},
     "output_type": "execute_result"
    }
   ],
   "source": [
    "simulation_params"
   ]
  },
  {
   "cell_type": "code",
   "execution_count": 81,
   "id": "accredited-honor",
   "metadata": {},
   "outputs": [
    {
     "name": "stdout",
     "output_type": "stream",
     "text": [
      "there are 12 different parameter combinations\n"
     ]
    }
   ],
   "source": [
    "# number of runs in the ensemble (set to a low number so runs complete quickly\n",
    "# for demonstration purposes)\n",
    "N_runs = 14\n",
    "\n",
    "# load the other screening parameters from file\n",
    "screening_params = pd.read_csv(join('screening_params', 'measure_packages.csv'))\n",
    "\n",
    "params = [(N_runs, \n",
    "           row['u_mask'],\n",
    "           row['l_mask'], \n",
    "           row['presence_fraction'])\n",
    "           for i, row in screening_params.iterrows()]\n",
    "\n",
    "print('there are {} different parameter combinations'.format(len(params)))"
   ]
  },
  {
   "cell_type": "code",
   "execution_count": 82,
   "id": "invalid-pierce",
   "metadata": {},
   "outputs": [
    {
     "data": {
      "text/plain": [
       "[(14, True, False, 0.25)]"
      ]
     },
     "execution_count": 82,
     "metadata": {},
     "output_type": "execute_result"
    }
   ],
   "source": [
    "params[-2:-1]"
   ]
  },
  {
   "cell_type": "code",
   "execution_count": 84,
   "id": "refined-tobago",
   "metadata": {},
   "outputs": [
    {
     "name": "stdout",
     "output_type": "stream",
     "text": [
      "running on T14s, using 14 cores\n"
     ]
    },
    {
     "name": "stderr",
     "output_type": "stream",
     "text": [
      "100%|██████████| 14/14 [09:20<00:00, 40.07s/it]\n"
     ]
    },
    {
     "name": "stdout",
     "output_type": "stream",
     "text": [
      "CPU times: user 8min 44s, sys: 7.99 s, total: 8min 52s\n",
      "Wall time: 9min 26s\n"
     ]
    }
   ],
   "source": [
    "%%time\n",
    "reload(dcf)\n",
    "reload(af)\n",
    "\n",
    "# paths for data I/O\n",
    "contact_network_src = '../data/networks'\n",
    "dst = '../data/simulation_results/ensembles'\n",
    "\n",
    "results = pd.DataFrame()\n",
    "for p in params[-2:-1]:\n",
    "    N_runs, unistudent_mask, lecturer_mask, presence_fraction = p\n",
    "    \n",
    "    dcf.run_ensemble(N_runs, measures,\\\n",
    "            simulation_params, contact_network_src, dst, \n",
    "            unistudent_mask=unistudent_mask, lecturer_mask=lecturer_mask,\n",
    "            presence_fraction=presence_fraction, testing=False)"
   ]
  },
  {
   "cell_type": "code",
   "execution_count": null,
   "id": "determined-investigation",
   "metadata": {},
   "outputs": [],
   "source": []
  }
 ],
 "metadata": {
  "kernelspec": {
   "display_name": "Python 3",
   "language": "python",
   "name": "python3"
  },
  "language_info": {
   "codemirror_mode": {
    "name": "ipython",
    "version": 3
   },
   "file_extension": ".py",
   "mimetype": "text/x-python",
   "name": "python",
   "nbconvert_exporter": "python",
   "pygments_lexer": "ipython3",
   "version": "3.8.8"
  }
 },
 "nbformat": 4,
 "nbformat_minor": 5
}
