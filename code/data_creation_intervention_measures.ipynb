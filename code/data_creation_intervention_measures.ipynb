{
 "cells": [
  {
   "cell_type": "markdown",
   "id": "religious-technique",
   "metadata": {},
   "source": [
    "# SEIRX model runs for prevention measures investigation in universities"
   ]
  },
  {
   "cell_type": "code",
   "execution_count": 1,
   "id": "related-massage",
   "metadata": {},
   "outputs": [],
   "source": [
    "import pandas as pd\n",
    "import numpy as np\n",
    "from os.path import join\n",
    "import os\n",
    "import sys\n",
    "import json\n",
    "import seaborn as sns\n",
    "\n",
    "from scseirx import analysis_functions as af\n",
    "\n",
    "import data_creation_functions as dcf\n",
    "\n",
    "# parallelisation functionality\n",
    "from multiprocess import Pool\n",
    "import psutil\n",
    "from tqdm import tqdm\n",
    "\n",
    "from importlib import reload"
   ]
  },
  {
   "cell_type": "markdown",
   "id": "stable-arthur",
   "metadata": {},
   "source": [
    "* Vaccination fraction of [students in Austria](https://www.statistik.at/web_de/presse/126794.html)"
   ]
  },
  {
   "cell_type": "code",
   "execution_count": 12,
   "id": "congressional-facial",
   "metadata": {},
   "outputs": [
    {
     "name": "stdout",
     "output_type": "stream",
     "text": [
      "there are 12 different parameter combinations\n"
     ]
    }
   ],
   "source": [
    "# number of runs in the ensemble (set to a low number so runs complete quickly\n",
    "# for demonstration purposes)\n",
    "N_runs = 28\n",
    "\n",
    "# load the other screening parameters from file\n",
    "screening_params = pd.read_csv(join('screening_params', 'measure_packages.csv'))\n",
    "\n",
    "params = [(N_runs, \n",
    "           row['u_mask'],\n",
    "           row['l_mask'], \n",
    "           row['presence_fraction'])\n",
    "           for i, row in screening_params.iterrows()]\n",
    "\n",
    "print('there are {} different parameter combinations'.format(len(params)))"
   ]
  },
  {
   "cell_type": "code",
   "execution_count": null,
   "id": "japanese-management",
   "metadata": {},
   "outputs": [
    {
     "name": "stdout",
     "output_type": "stream",
     "text": [
      "running on T14s, using 14 cores\n"
     ]
    },
    {
     "name": "stderr",
     "output_type": "stream",
     "text": [
      "  0%|          | 0/28 [00:00<?, ?it/s]"
     ]
    },
    {
     "name": "stdout",
     "output_type": "stream",
     "text": [
      "here!\n",
      "here!\n",
      "here!here!here!here!here!\n",
      "here!\n",
      "\n"
     ]
    },
    {
     "name": "stderr",
     "output_type": "stream",
     "text": [
      "  0%|          | 0/28 [00:00<?, ?it/s]"
     ]
    },
    {
     "name": "stdout",
     "output_type": "stream",
     "text": [
      "\n",
      "here!\n",
      "\n",
      "here!here!here!here!"
     ]
    }
   ],
   "source": [
    "%%time\n",
    "reload(dcf)\n",
    "\n",
    "# paths for data I/O\n",
    "contact_network_src = '../data/networks'\n",
    "dst = '../data/simulation_results/ensembles'\n",
    "\n",
    "results = pd.DataFrame()\n",
    "for p in params[0:1]:\n",
    "    N_runs, unistudent_mask, lecturer_mask, presence_fraction = p\n",
    "    \n",
    "    dcf.run_ensemble(N_runs, contact_network_src, dst, \n",
    "            unistudent_mask=unistudent_mask, lecturer_mask=lecturer_mask,\n",
    "            presence_fraction=presence_fraction, testing=False)"
   ]
  }
 ],
 "metadata": {
  "kernelspec": {
   "display_name": "Python 3",
   "language": "python",
   "name": "python3"
  },
  "language_info": {
   "codemirror_mode": {
    "name": "ipython",
    "version": 3
   },
   "file_extension": ".py",
   "mimetype": "text/x-python",
   "name": "python",
   "nbconvert_exporter": "python",
   "pygments_lexer": "ipython3",
   "version": "3.8.8"
  }
 },
 "nbformat": 4,
 "nbformat_minor": 5
}
