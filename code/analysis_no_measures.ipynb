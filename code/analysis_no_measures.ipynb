{
 "cells": [
  {
   "cell_type": "markdown",
   "id": "satellite-holmes",
   "metadata": {},
   "source": [
    "# Analysis no intervention measures"
   ]
  },
  {
   "cell_type": "markdown",
   "id": "announced-submission",
   "metadata": {},
   "source": [
    "Scenario without any vaccinations or intervention measures."
   ]
  },
  {
   "cell_type": "code",
   "execution_count": 2,
   "id": "awful-starter",
   "metadata": {},
   "outputs": [],
   "source": [
    "import pandas as pd\n",
    "import matplotlib.pyplot as plt\n",
    "import matplotlib.patches as mpatches\n",
    "from os.path import join\n",
    "from os import listdir\n",
    "import numpy as np\n",
    "import seaborn as sns"
   ]
  },
  {
   "cell_type": "markdown",
   "id": "fluid-surveillance",
   "metadata": {},
   "source": [
    "## Delta"
   ]
  },
  {
   "cell_type": "code",
   "execution_count": 3,
   "id": "damaged-export",
   "metadata": {},
   "outputs": [],
   "source": [
    "src = '../data/simulation_results/delta/ensembles_no_intervention_delta_all'\n",
    "\n",
    "results = pd.DataFrame()\n",
    "for f in listdir(src):\n",
    "    tmp = pd.read_csv(join(src, f))\n",
    "    results = pd.concat([results, tmp])\n",
    "    \n",
    "results = results.reset_index(drop=True)\n",
    "# subtract the index case\n",
    "results['infected_agents'] = results['infected_agents'] - 1"
   ]
  },
  {
   "cell_type": "code",
   "execution_count": 4,
   "id": "adjusted-tracy",
   "metadata": {},
   "outputs": [
    {
     "name": "stdout",
     "output_type": "stream",
     "text": [
      "17.5% of index cases to not lead to an outbreak\n"
     ]
    }
   ],
   "source": [
    "print('{:1.1f}% of index cases to not lead to an outbreak'\\\n",
    "      .format(len(results[results['infected_agents'] == 0]) / len(results) * 100))"
   ]
  },
  {
   "cell_type": "code",
   "execution_count": 5,
   "id": "extra-coverage",
   "metadata": {},
   "outputs": [
    {
     "data": {
      "text/plain": [
       "8339.9846"
      ]
     },
     "execution_count": 5,
     "metadata": {},
     "output_type": "execute_result"
    }
   ],
   "source": [
    "results['infected_agents'].mean()"
   ]
  },
  {
   "cell_type": "code",
   "execution_count": 6,
   "id": "another-commerce",
   "metadata": {},
   "outputs": [
    {
     "data": {
      "text/plain": [
       "10360.0"
      ]
     },
     "execution_count": 6,
     "metadata": {},
     "output_type": "execute_result"
    }
   ],
   "source": [
    "results['infected_agents'].quantile(0.90)"
   ]
  },
  {
   "cell_type": "code",
   "execution_count": 7,
   "id": "vital-trick",
   "metadata": {},
   "outputs": [
    {
     "data": {
      "text/plain": [
       "10409.0"
      ]
     },
     "execution_count": 7,
     "metadata": {},
     "output_type": "execute_result"
    }
   ],
   "source": [
    "results['infected_agents'].quantile(0.99)"
   ]
  },
  {
   "cell_type": "code",
   "execution_count": 8,
   "id": "adverse-detection",
   "metadata": {},
   "outputs": [
    {
     "data": {
      "text/plain": [
       "10450.0"
      ]
     },
     "execution_count": 8,
     "metadata": {},
     "output_type": "execute_result"
    }
   ],
   "source": [
    "results['infected_agents'].max()"
   ]
  },
  {
   "cell_type": "code",
   "execution_count": 9,
   "id": "ranking-dietary",
   "metadata": {},
   "outputs": [
    {
     "data": {
      "image/png": "[encoded data removed]",
      "text/plain": [
       "<Figure size 432x288 with 1 Axes>"
      ]
     },
     "metadata": {
      "needs_background": "light"
     },
     "output_type": "display_data"
    }
   ],
   "source": [
    "fig, ax = plt.subplots()\n",
    "ax.hist(results[results['infected_agents'] > 0]['infected_agents'], rwidth=0.8,\n",
    "        bins=range(10100, 10500, 10));"
   ]
  },
  {
   "cell_type": "markdown",
   "id": "controlling-superior",
   "metadata": {},
   "source": [
    "## Omicron"
   ]
  },
  {
   "cell_type": "code",
   "execution_count": 11,
   "id": "meaningful-export",
   "metadata": {},
   "outputs": [],
   "source": [
    "src = '../data/simulation_results/omicron/ensembles_no_intervention_omicron_all'\n",
    "\n",
    "results = pd.DataFrame()\n",
    "for f in listdir(src):\n",
    "    tmp = pd.read_csv(join(src, f))\n",
    "    results = pd.concat([results, tmp])\n",
    "    \n",
    "results = results.reset_index(drop=True)\n",
    "# subtract the index case\n",
    "results['infected_agents'] = results['infected_agents'] - 1"
   ]
  },
  {
   "cell_type": "code",
   "execution_count": 12,
   "id": "packed-cabin",
   "metadata": {},
   "outputs": [
    {
     "name": "stdout",
     "output_type": "stream",
     "text": [
      "9.6% of index cases to not lead to an outbreak\n"
     ]
    }
   ],
   "source": [
    "print('{:1.1f}% of index cases to not lead to an outbreak'\\\n",
    "      .format(len(results[results['infected_agents'] == 0]) / len(results) * 100))"
   ]
  },
  {
   "cell_type": "code",
   "execution_count": 13,
   "id": "composite-galaxy",
   "metadata": {},
   "outputs": [
    {
     "data": {
      "text/plain": [
       "9972.512857142858"
      ]
     },
     "execution_count": 13,
     "metadata": {},
     "output_type": "execute_result"
    }
   ],
   "source": [
    "results['infected_agents'].mean()"
   ]
  },
  {
   "cell_type": "code",
   "execution_count": 14,
   "id": "joined-thinking",
   "metadata": {},
   "outputs": [
    {
     "data": {
      "text/plain": [
       "11167.0"
      ]
     },
     "execution_count": 14,
     "metadata": {},
     "output_type": "execute_result"
    }
   ],
   "source": [
    "results['infected_agents'].quantile(0.90)"
   ]
  },
  {
   "cell_type": "code",
   "execution_count": 15,
   "id": "therapeutic-nowhere",
   "metadata": {},
   "outputs": [
    {
     "data": {
      "text/plain": [
       "11194.0"
      ]
     },
     "execution_count": 15,
     "metadata": {},
     "output_type": "execute_result"
    }
   ],
   "source": [
    "results['infected_agents'].quantile(0.99)"
   ]
  },
  {
   "cell_type": "code",
   "execution_count": 16,
   "id": "daily-nicholas",
   "metadata": {},
   "outputs": [
    {
     "data": {
      "text/plain": [
       "11218.0"
      ]
     },
     "execution_count": 16,
     "metadata": {},
     "output_type": "execute_result"
    }
   ],
   "source": [
    "results['infected_agents'].max()"
   ]
  },
  {
   "cell_type": "code",
   "execution_count": 24,
   "id": "strong-right",
   "metadata": {},
   "outputs": [
    {
     "data": {
      "image/png": "[encoded data removed]",
      "text/plain": [
       "<Figure size 432x288 with 1 Axes>"
      ]
     },
     "metadata": {
      "needs_background": "light"
     },
     "output_type": "display_data"
    }
   ],
   "source": [
    "fig, ax = plt.subplots()\n",
    "ax.hist(results[results['infected_agents'] > 0]['infected_agents'], rwidth=0.8,\n",
    "        bins=range(11000, 11300, 10));"
   ]
  }
 ],
 "metadata": {
  "kernelspec": {
   "display_name": "Python 3",
   "language": "python",
   "name": "python3"
  },
  "language_info": {
   "codemirror_mode": {
    "name": "ipython",
    "version": 3
   },
   "file_extension": ".py",
   "mimetype": "text/x-python",
   "name": "python",
   "nbconvert_exporter": "python",
   "pygments_lexer": "ipython3",
   "version": "3.8.8"
  }
 },
 "nbformat": 4,
 "nbformat_minor": 5
}
