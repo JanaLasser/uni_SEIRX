{
 "cells": [
  {
   "cell_type": "markdown",
   "id": "assisted-massachusetts",
   "metadata": {},
   "source": [
    "# Analysis no intervention measures"
   ]
  },
  {
   "cell_type": "markdown",
   "id": "hispanic-mystery",
   "metadata": {},
   "source": [
    "Scenario without any vaccinations or intervention measures."
   ]
  },
  {
   "cell_type": "code",
   "execution_count": 19,
   "id": "middle-alexander",
   "metadata": {},
   "outputs": [],
   "source": [
    "import pandas as pd\n",
    "import matplotlib.pyplot as plt\n",
    "import matplotlib.patches as mpatches\n",
    "from os.path import join\n",
    "from os import listdir\n",
    "import numpy as np\n",
    "import seaborn as sns"
   ]
  },
  {
   "cell_type": "code",
   "execution_count": 20,
   "id": "handy-terrorist",
   "metadata": {},
   "outputs": [],
   "source": [
    "src = '../data/simulation_results/ensembles_no_intervention_all'\n",
    "\n",
    "results = pd.DataFrame()\n",
    "for f in listdir(src):\n",
    "    tmp = pd.read_csv(join(src, f))\n",
    "    results = pd.concat([results, tmp])\n",
    "    \n",
    "results = results.reset_index(drop=True)\n",
    "# subtract the index case\n",
    "results['infected_agents'] = results['infected_agents'] - 1"
   ]
  },
  {
   "cell_type": "code",
   "execution_count": 21,
   "id": "alone-capitol",
   "metadata": {},
   "outputs": [
    {
     "name": "stdout",
     "output_type": "stream",
     "text": [
      "17.5% of index cases to not lead to an outbreak\n"
     ]
    }
   ],
   "source": [
    "print('{:1.1f}% of index cases to not lead to an outbreak'\\\n",
    "      .format(len(results[results['infected_agents'] == 0]) / len(results) * 100))"
   ]
  },
  {
   "cell_type": "code",
   "execution_count": 22,
   "id": "tutorial-brake",
   "metadata": {},
   "outputs": [
    {
     "data": {
      "text/plain": [
       "8339.9846"
      ]
     },
     "execution_count": 22,
     "metadata": {},
     "output_type": "execute_result"
    }
   ],
   "source": [
    "results['infected_agents'].mean()"
   ]
  },
  {
   "cell_type": "code",
   "execution_count": 23,
   "id": "persistent-collect",
   "metadata": {},
   "outputs": [
    {
     "data": {
      "text/plain": [
       "10360.0"
      ]
     },
     "execution_count": 23,
     "metadata": {},
     "output_type": "execute_result"
    }
   ],
   "source": [
    "results['infected_agents'].quantile(0.90)"
   ]
  },
  {
   "cell_type": "code",
   "execution_count": 24,
   "id": "pending-guyana",
   "metadata": {},
   "outputs": [
    {
     "data": {
      "text/plain": [
       "10409.0"
      ]
     },
     "execution_count": 24,
     "metadata": {},
     "output_type": "execute_result"
    }
   ],
   "source": [
    "results['infected_agents'].quantile(0.99)"
   ]
  },
  {
   "cell_type": "code",
   "execution_count": 25,
   "id": "sweet-attempt",
   "metadata": {},
   "outputs": [
    {
     "data": {
      "text/plain": [
       "10450.0"
      ]
     },
     "execution_count": 25,
     "metadata": {},
     "output_type": "execute_result"
    }
   ],
   "source": [
    "results['infected_agents'].max()"
   ]
  },
  {
   "cell_type": "code",
   "execution_count": 31,
   "id": "protective-nancy",
   "metadata": {},
   "outputs": [
    {
     "data": {
      "image/png": "[encoded data removed]",
      "text/plain": [
       "<Figure size 432x288 with 1 Axes>"
      ]
     },
     "metadata": {
      "needs_background": "light"
     },
     "output_type": "display_data"
    }
   ],
   "source": [
    "fig, ax = plt.subplots()\n",
    "ax.hist(results[results['infected_agents'] > 0]['infected_agents'], rwidth=0.8,\n",
    "        bins=range(10100, 10500, 10));"
   ]
  }
 ],
 "metadata": {
  "kernelspec": {
   "display_name": "Python 3",
   "language": "python",
   "name": "python3"
  },
  "language_info": {
   "codemirror_mode": {
    "name": "ipython",
    "version": 3
   },
   "file_extension": ".py",
   "mimetype": "text/x-python",
   "name": "python",
   "nbconvert_exporter": "python",
   "pygments_lexer": "ipython3",
   "version": "3.8.8"
  }
 },
 "nbformat": 4,
 "nbformat_minor": 5
}
